{
 "cells": [
  {
   "cell_type": "markdown",
   "id": "6de49d5e-d725-45f6-92e1-6831e18d8891",
   "metadata": {},
   "source": [
    "# Load libraries and Themes"
   ]
  },
  {
   "cell_type": "code",
   "execution_count": 3,
   "id": "35d7dba7-aec1-4e24-9702-d0eb6d41a8e3",
   "metadata": {
    "tags": []
   },
   "outputs": [],
   "source": [
    "suppressPackageStartupMessages({\n",
    "    suppressWarnings({\n",
    "        library(Seurat)\n",
    "        library(ggplot2)\n",
    "        library(tidyverse)\n",
    "        library(SeuratDisk)\n",
    "        library(SingleCellExperiment)\n",
    "        library(DESeq2)\n",
    "        library(dplyr)\n",
    "        library(EnhancedVolcano)\n",
    "        library(Rsamtools)\n",
    "        library(svglite)\n",
    "        library(viridis)\n",
    "        library(harmony)\n",
    "        library(patchwork)\n",
    "        library(ggpubr)\n",
    "        library(pals)\n",
    "        library(RCurl)\n",
    "        library(AnnotationHub)\n",
    "        library(ensembldb)\n",
    "        library(networkD3)\n",
    "            })})"
   ]
  },
  {
   "cell_type": "code",
   "execution_count": null,
   "id": "39ea3e8b-4e9f-4694-a0dc-58f4c95dd9af",
   "metadata": {},
   "outputs": [],
   "source": [
    "#Color Palettes\n",
    "palette.3 <- c(\n",
    "    \"#440154\", #G1\n",
    "    \"#21908d\", #S\n",
    "    \"#fde725\" #G2M\n",
    ")\n",
    "\n",
    "palette.12 <- DiscretePalette(12, palette = \"stepped\", shuffle = TRUE)\n",
    "\n",
    "palette.15 <- DiscretePalette(15, palette = \"stepped\", shuffle = TRUE)\n",
    "\n",
    "palette.17 <- DiscretePalette(17, palette = \"stepped\", shuffle = TRUE)\n",
    "\n",
    "palette.CMcomb <- c(\n",
    "    \"#aad902\", #BC \n",
    "    \"#990902\", #CM\n",
    "    \"#aba790\", #CYC\n",
    "    \"#005f99\", #ECart   \n",
    "    \"#05b1eb\", #ECcap\n",
    "    \"#0303a3\", #ECend\n",
    "    \"#003ae8\", #EClym    \n",
    "    \"#ebe6c7\", #FB\n",
    "    \"#077a01\", #MP\n",
    "    \"#422c00\", #PER\n",
    "    \"#FFD100\", #SC\n",
    "    \"#ffab00\", #SMC\n",
    "    \"#56B400\"  #TC\n",
    ")\n",
    "\n",
    "palette.treatment <- c(\n",
    "    \"#C1C1C1\", # CTRL\n",
    "    \"#AF0000\", # ALDO\n",
    "    \"#006AF3\"  # REC\n",
    ")\n",
    "\n",
    "palette.treatmentid <- c(\n",
    "    \"#C1C1C1\", # CTRL\n",
    "    \"#C1C1C1\", # CTRL\n",
    "    \"#AF0000\", # ALDO\n",
    "    \"#AF0000\", # ALDO\n",
    "    \"#AF0000\", # ALDO\n",
    "    \"#AF0000\", # ALDO\n",
    "    \"#C1C1C1\", # CTRL\n",
    "    \"#C1C1C1\", # CTRL\n",
    "    \"#006AF3\",  # REC\n",
    "    \"#006AF3\",  # REC\n",
    "    \"#006AF3\",  # REC\n",
    "    \"#006AF3\"  # REC\n",
    ")\n",
    "\n",
    "palette.sex <- c(\n",
    "    \"#006AF3\", \n",
    "    \"#AF0000\" ) #female"
   ]
  },
  {
   "cell_type": "code",
   "execution_count": null,
   "id": "594f95d6-1f38-411c-aed5-ad8b70d5a04f",
   "metadata": {},
   "outputs": [],
   "source": [
    "umap_theme <- theme(\n",
    "  axis.line=element_blank(),\n",
    "  axis.text.x=element_blank(),\n",
    "  axis.text.y=element_blank(),\n",
    "  axis.ticks=element_blank(),\n",
    "  axis.title.x=element_blank(),\n",
    "  axis.title.y=element_blank(),\n",
    "  panel.background=element_blank(),\n",
    "  panel.border=element_blank(),\n",
    "  panel.grid.major=element_blank(),\n",
    "  panel.grid.minor=element_blank()\n",
    ")"
   ]
  },
  {
   "cell_type": "code",
   "execution_count": null,
   "id": "4c5dd502-239e-4284-a041-5e787e6f7d0f",
   "metadata": {
    "tags": []
   },
   "outputs": [],
   "source": [
    "setwd(\"/media/daten/dmeral/scseq_analysis/2024_LV_CTRL_ALDO_REC\")"
   ]
  },
  {
   "cell_type": "code",
   "execution_count": null,
   "id": "c62ec305-3d87-45f4-b528-826bd9e4675f",
   "metadata": {},
   "outputs": [],
   "source": [
    "set.seed(1234)"
   ]
  },
  {
   "cell_type": "markdown",
   "id": "cb7dd5ca-fc19-46cb-9eac-7179148453cb",
   "metadata": {},
   "source": [
    "# Identify viable clusters and cell types"
   ]
  },
  {
   "cell_type": "code",
   "execution_count": null,
   "id": "7e2999d8-7a60-4145-a635-a12306919f0c",
   "metadata": {
    "scrolled": true,
    "tags": []
   },
   "outputs": [],
   "source": [
    "obj_harmony_addmodule <- LoadH5Seurat(\"seurat_objects/obj_seu_merge_harmony_sgl_addmodule.h5seurat\")"
   ]
  },
  {
   "cell_type": "code",
   "execution_count": null,
   "id": "c99c30d9-4c23-44f0-b4ad-49c509022e11",
   "metadata": {},
   "outputs": [],
   "source": [
    "# Remove doublet cluster 15\n",
    "options(repr.plot.width = 5, repr.plot.height = 4, repr.plot.res = 300) \n",
    "\n",
    "VlnPlot1 <- VlnPlot(obj_harmony, group.by = \"seurat_clusters\", \n",
    "                      features = c(\"scDblFinder.weighted\"),\n",
    "                      pt.size = 0, raster = TRUE, ncol = 2, cols = palette.21) & NoLegend()\n",
    "\n",
    "\n",
    "VlnPlot1"
   ]
  },
  {
   "cell_type": "code",
   "execution_count": null,
   "id": "9d3059ec-54dc-4e18-ae36-b1dc23e48661",
   "metadata": {},
   "outputs": [],
   "source": [
    "# manually exclude cluster#15 due to high dbl score and uneven sample composition\n",
    "obj <- subset(obj_harmony_addmodule, seurat_clusters %in% c(15) == FALSE)"
   ]
  },
  {
   "cell_type": "markdown",
   "id": "40afc039-d19f-42da-ac91-9dbf34f4b7d2",
   "metadata": {},
   "source": [
    "## FindAllMarkers"
   ]
  },
  {
   "cell_type": "code",
   "execution_count": null,
   "id": "4dd3690d-e093-465f-bf80-68f312658a6b",
   "metadata": {},
   "outputs": [],
   "source": [
    "# Sanity check\n",
    "options(repr.plot.width = 8, repr.plot.height = 3, repr.plot.res = 300)\n",
    "\n",
    "DimPlot(obj, reduction = \"umap\", label = TRUE, label.size = 5, shuffle = TRUE, group.by = \"seurat_clusters\", cols = palette.15) + umap_theme + NoLegend() + theme(text = element_text(size = 10))|\n",
    "DimPlot(obj, reduction = \"umap\", label = FALSE, label.size = 5, shuffle = TRUE, group.by = \"treatment\", cols = palette.treatment) + umap_theme + theme(text = element_text(size = 10))"
   ]
  },
  {
   "cell_type": "code",
   "execution_count": null,
   "id": "d39bb85a-87af-4644-a437-a185fe58502c",
   "metadata": {
    "scrolled": true,
    "tags": []
   },
   "outputs": [],
   "source": [
    "all.markers <- FindAllMarkers(obj, only.pos = TRUE, min.pct = 0.50, logfc.threshold = 0.58, test.use = \"wilcox\")\n",
    "\n",
    "write.csv(all.markers, file = \"DEGs/all.markers_wilcox.csv\")"
   ]
  },
  {
   "cell_type": "markdown",
   "id": "0f1be47f-ab49-45d1-aa35-9eedf83143d1",
   "metadata": {},
   "source": [
    "## Rename Cluster annotations"
   ]
  },
  {
   "cell_type": "code",
   "execution_count": null,
   "id": "7138f301-e004-4b84-814e-c58fe5ef3559",
   "metadata": {},
   "outputs": [],
   "source": [
    "cluster_annotations <- list(\n",
    "    \"0\" = \"CM_0\",\n",
    "    \"1\" = \"EC-cap\",\n",
    "    \"2\" = \"FB\",\n",
    "    \"3\" = \"PER\",\n",
    "    \"4\" = \"MΦ\",\n",
    "    \"5\" = \"EC-art\",\n",
    "    \"6\" = \"EC-end\",\n",
    "    \"7\" = \"SMC\",\n",
    "    \"8\" = \"CM_1\",\n",
    "    \"9\" = \"EC-lym\",\n",
    "    \"10\" = \"CYC\",\n",
    "    \"11\" = \"CM_2\",\n",
    "    \"12\" = \"BC\",\n",
    "    \"13\" = \"SC\",\n",
    "    \"14\" = \"TC\")"
   ]
  },
  {
   "cell_type": "code",
   "execution_count": null,
   "id": "6d947f83-894d-4109-b341-04e2b1e219d6",
   "metadata": {
    "tags": []
   },
   "outputs": [],
   "source": [
    "cluster_annotations <- unlist(cluster_annotations, use.names = FALSE)\n",
    "\n",
    "obj@meta.data$Ident_numerical <- Idents(obj)\n",
    "names(cluster_annotations) <- levels(obj)\n",
    "obj <- RenameIdents(obj, cluster_annotations)\n",
    "obj@meta.data$cell_type <- Idents(obj)\n",
    "Idents(obj) <- obj@meta.data$\"Ident_numerical\"\n",
    "\n",
    "SaveH5Seurat(obj, \"seurat_objects/obj_seu_merge_harmony_sgl_addmodule_rename\")"
   ]
  },
  {
   "cell_type": "code",
   "execution_count": null,
   "id": "926f8635-721d-48f1-87aa-5bc808b5456b",
   "metadata": {},
   "outputs": [],
   "source": [
    "# Cellnumbers after rename\n",
    "number <- table(obj@meta.data$sample_id, \n",
    "                          obj@meta.data$seurat_clusters)\n",
    "write.csv(number, file = \"cellnumbers/number_perCluster_sample_id_sgl_rename.csv\")\n",
    "\n",
    "number <- table(obj@meta.data$treatment, \n",
    "                          obj@meta.data$seurat_clusters)\n",
    "write.csv(number, file = \"cellnumbers/number_perCluster_teatment_sgl_rename.csv\")"
   ]
  },
  {
   "cell_type": "code",
   "execution_count": null,
   "id": "5ee722a1-03d2-4eb7-88e1-057f4247dcff",
   "metadata": {},
   "outputs": [],
   "source": [
    "# Combine CM clusters \n",
    "cluster_annotations_CMcomb <- list(\n",
    "    \"0\" = \"CM\",\n",
    "    \"1\" = \"EC-cap\",\n",
    "    \"2\" = \"FB\",\n",
    "    \"3\" = \"PER\",\n",
    "    \"4\" = \"MΦ\",\n",
    "    \"5\" = \"EC-art\",\n",
    "    \"6\" = \"EC-end\",\n",
    "    \"7\" = \"SMC\",\n",
    "    \"8\" = \"CM\",\n",
    "    \"9\" = \"EC-lym\",\n",
    "    \"10\" = \"CYC\",\n",
    "    \"11\" = \"CM\",\n",
    "    \"12\" = \"BC\",\n",
    "    \"13\" = \"SC\",\n",
    "    \"14\" = \"TC\")"
   ]
  },
  {
   "cell_type": "code",
   "execution_count": null,
   "id": "63cc48cf-09a5-4284-96db-b4f2bdeae14b",
   "metadata": {},
   "outputs": [],
   "source": [
    "names(cluster_annotations_CMcomb) <- levels(obj)\n",
    "obj <- RenameIdents(obj, cluster_annotations_CMcomb)\n",
    "\n",
    "obj$\"cell_type_CMcomb\" <- Idents(obj)"
   ]
  },
  {
   "cell_type": "code",
   "execution_count": null,
   "id": "695a5530-03ca-47f4-ae2b-d2a02b28c4b9",
   "metadata": {},
   "outputs": [],
   "source": [
    "# Reorder cell types (levels) \n",
    "new_levels <- c(\n",
    "    \"BC\",      \n",
    "    \"CM\",    \n",
    "    \"CYC\", \n",
    "    \"EC-art\", \n",
    "    \"EC-cap\",\n",
    "    \"EC-end\", \n",
    "    \"EC-lym\", \n",
    "    \"FB\",     \n",
    "    \"MΦ\",  \n",
    "    \"PER\",   \n",
    "    \"SC\",    \n",
    "    \"SMC\",   \n",
    "    \"TC\"   \n",
    ")\n",
    "\n",
    "# Reorder the levels in the cell_type_CMcomb column\n",
    "obj@meta.data$cell_type_CMcomb <- factor(\n",
    "    obj@meta.data$cell_type_CMcomb, \n",
    "    levels = new_levels\n",
    ")\n",
    "\n",
    "# Verify the new order of levels\n",
    "levels(obj@meta.data$cell_type_CMcomb)\n",
    "\n",
    "obj_CMcomb <- obj"
   ]
  },
  {
   "cell_type": "code",
   "execution_count": null,
   "id": "4ce5de39-46f3-44a0-a8be-deb3a9a76d2c",
   "metadata": {
    "scrolled": true
   },
   "outputs": [],
   "source": [
    "SaveH5Seurat(obj, \"seurat_objects/obj_seu_merge_harmony_sgl_addmodule_rename_CMcomb\")"
   ]
  },
  {
   "cell_type": "markdown",
   "id": "74e3d143-9f65-4439-a44c-d39a59303b83",
   "metadata": {
    "tags": []
   },
   "source": [
    "## Plots of markers"
   ]
  },
  {
   "cell_type": "code",
   "execution_count": null,
   "id": "7d252e9c-d2d0-4a0c-800e-cdf718888f47",
   "metadata": {},
   "outputs": [],
   "source": [
    "Top5_markers_CMcomb <- list(\n",
    "      \"12\" = c(\"Bank1\", \"Aff3\", \"Dock2\", \"Prkcb\", \"Pax5\"),\n",
    "      \"0\" = c(\"Ttn\", \"Rbm20\", \"Fhod3\", \"Ryr2\", \"Pde4dip\"),\n",
    "      \"10\" = c(\"Diaph3\", \"Rad51b\", \"Top2a\", \"Mki67\", \"Knl1\"),\n",
    "      \"5\" = c(\"St6galnac3\", \"Ldb2\", \"Vegfc\", \"Mecom\", \"Rasgrf2\"),\n",
    "      \"1\" = c(\"Flt1\", \"Cyyr1\", \"Adgrl4\", \"Plcb1\", \"Ptprb\"),\n",
    "      \"6\" = c(\"Tmem108\", \"Chrm3\", \"Npr3\", \"Cgnl1\", \"Cdh11\"),\n",
    "      \"9\" = c(\"Reln\", \"Mmrn1\", \"Flt4\", \"Wdr17\", \"Pard6g\"),\n",
    "      \"2\" = c(\"Pcdh9\", \"Bicc1\", \"Abca8a\", \"Gpc6\", \"Kcnt2\"),\n",
    "      \"4\" = c(\"Slc9a9\", \"Mrc1\", \"Mctp1\", \"Arhgap15\", \"F13a1\"),\n",
    "      \"3\" = c(\"Trpc3\", \"Pdgfrb\", \"Pde8b\", \"Ano1\", \"Notch3\"),\n",
    "      \"13\" = c(\"Csmd1\", \"Cadm2\", \"Slc35f1\", \"Adam23\", \"Nkain2\"),\n",
    "      \"7\" = c(\"Myh11\", \"Dgkb\", \"Kcnab1\", \"Mrvi1\", \"Mylk\"),\n",
    "      \"14\" = c(\"Skap1\", \"Ptprc\", \"Gm2682\", \"Ikzf1\", \"Grap2\"))\n",
    "\n",
    "# Check for duplicates in \"Top5_markers\" \n",
    "marker_df <- data.frame(\n",
    "  Group = rep(names(Top5_markers_CMcomb), times = sapply(Top5_markers_CMcomb, length)),\n",
    "  Marker = unlist(Top5_markers_CMcomb)\n",
    ")\n",
    "\n",
    "duplicated_markers <- marker_df$Marker[duplicated(marker_df$Marker)]\n",
    "\n",
    "duplicated_info <- marker_df[marker_df$Marker %in% duplicated_markers, ]\n",
    "\n",
    "print(duplicated_info)"
   ]
  },
  {
   "cell_type": "code",
   "execution_count": null,
   "id": "d04b1f73-1d17-4477-a15a-37229f21c4b1",
   "metadata": {
    "scrolled": true
   },
   "outputs": [],
   "source": [
    "options(repr.plot.width = 15, repr.plot.height = 4, repr.plot.res = 300)\n",
    "\n",
    "DOT_Top5_markers <- DotPlot(\n",
    "  obj,\n",
    "  features = unlist(Top5_markers_CMcomb, use.names = FALSE), group.by = \"cell_type_CMcomb\") + \n",
    "  geom_point(aes(size = pct.exp), shape = 21, colour = \"black\", stroke = 0.5) +  \n",
    "  guides(\n",
    "    size = guide_legend(override.aes = list(shape = 21, colour = \"black\", fill = \"white\")),  \n",
    "    colour = guide_colorbar(frame.colour = \"black\", ticks.colour = \"black\")  \n",
    "  ) +\n",
    "  theme(axis.text.x = element_text(angle = 90, hjust = 1)) +\n",
    "  theme(panel.border = element_rect(color = \"black\", linewidth = 0.5)) +\n",
    "  scale_colour_distiller(palette = \"OrRd\", direction = 0) +\n",
    "  #scale_colour_viridis_c(option = \"D\", direction = 1) +  \n",
    "  scale_y_discrete(limits = rev)\n",
    "\n",
    "num_features <- length(unlist(Top5_markers_CMcomb, use.names = FALSE)) \n",
    "vline_positions <- seq(5.5, num_features, by = 5)\n",
    "\n",
    "DOT_Top5_markers <- DOT_Top5_markers + \n",
    "  geom_vline(xintercept = vline_positions, color = \"black\", linetype = \"solid\", size = 0.5)\n",
    "\n",
    "ggsave(\"Plots/DOT_Top5_markers_CMcomb.svg\", width = 38, height = 10, units = \"cm\", dpi = 300)\n",
    "\n",
    "DOT_Top5_markers"
   ]
  },
  {
   "cell_type": "markdown",
   "id": "81ad051c-850c-4f0f-a02f-d63f264c8bdb",
   "metadata": {},
   "source": [
    "## Visualize QC and UMAP"
   ]
  },
  {
   "cell_type": "code",
   "execution_count": null,
   "id": "dd12d7f9-27f6-4725-a377-937a66bbce93",
   "metadata": {
    "scrolled": true
   },
   "outputs": [],
   "source": [
    "# Cluster-wise QC\n",
    "options(repr.plot.width = 20, repr.plot.height = 10, repr.plot.res = 300)\n",
    "\n",
    "VlnPlot_QC <- VlnPlot(obj, group.by = \"cell_type_CMcomb\", \n",
    "                      features = c(\"nCount_RNA\", \"nFeature_RNA\", \"percent.mt\", \"scDblFinder.weighted\"),\n",
    "                      pt.size = 0, raster = TRUE, ncol = 2, cols = palette.CMcomb)\n",
    "\n",
    "plots <- lapply(1:4, function(i) {\n",
    "  if (i == 4) {\n",
    "    VlnPlot_QC[[i]] + theme(\n",
    "      axis.text.x = element_text(size = 15),  \n",
    "      axis.text.y = element_text(size = 15),  \n",
    "      axis.ticks.x = element_line(),   \n",
    "      axis.title.x = element_blank(),\n",
    "      plot.title = element_text(size = 15)  \n",
    "    )\n",
    "  } else {\n",
    "    VlnPlot_QC[[i]] + theme(\n",
    "      axis.text.x = element_blank(), \n",
    "      axis.text.y = element_text(size = 15),  \n",
    "      axis.ticks.x = element_blank(), \n",
    "      axis.title.x = element_blank(),\n",
    "      plot.title = element_text(size = 15)  \n",
    "    )\n",
    "  }\n",
    "})\n",
    "\n",
    "combined_plot <- wrap_plots(plots, ncol = 2)\n",
    "\n",
    "ggsave(\"Plots/VlnPlot_QC_by_cell_type_CMcomb.svg\", combined_plot, units = \"cm\", dpi = 300, width = 30, height = 20)\n",
    "\n",
    "suppressWarnings(print(combined_plot))"
   ]
  },
  {
   "cell_type": "code",
   "execution_count": null,
   "id": "1065a314-a910-4924-aa4d-7ee84ba2094b",
   "metadata": {},
   "outputs": [],
   "source": [
    "# Sample-wise QC\n",
    "options(repr.plot.width = 20, repr.plot.height = 10, repr.plot.res = 300)\n",
    "\n",
    "VlnPlot_QC <- VlnPlot(obj, group.by = \"sample_id\", \n",
    "                      features = c(\"nCount_RNA\", \"nFeature_RNA\", \"percent.mt\", \"scDblFinder.weighted\"),\n",
    "                      pt.size = 0, raster = TRUE, ncol = 2, cols = palette.treatmentid)\n",
    "\n",
    "plots <- lapply(1:4, function(i) {\n",
    "  if (i == 4) {\n",
    "    VlnPlot_QC[[i]] + theme(\n",
    "      axis.text.x = element_text(size = 15),  \n",
    "      axis.text.y = element_text(size = 15),  \n",
    "      axis.ticks.x = element_line(),   \n",
    "      axis.title.x = element_blank(),\n",
    "      plot.title = element_text(size = 15)  \n",
    "    )\n",
    "  } else {\n",
    "    VlnPlot_QC[[i]] + theme(\n",
    "      axis.text.x = element_blank(), \n",
    "      axis.text.y = element_text(size = 15),  \n",
    "      axis.ticks.x = element_blank(), \n",
    "      axis.title.x = element_blank(),\n",
    "      plot.title = element_text(size = 15)  \n",
    "    )\n",
    "  }\n",
    "})\n",
    "\n",
    "combined_plot <- wrap_plots(plots, ncol = 2)\n",
    "\n",
    "ggsave(\"Plots/VlnPlot_QC_by_sample_id.svg\", combined_plot, units = \"cm\", dpi = 300, width = 30, height = 20)\n",
    "\n",
    "suppressWarnings(print(combined_plot))"
   ]
  },
  {
   "cell_type": "code",
   "execution_count": null,
   "id": "47581c22-f9b5-432b-83ab-4e9f2ccb1890",
   "metadata": {},
   "outputs": [],
   "source": [
    "# UMAP plots with all genes\n",
    "options(repr.plot.width = 3, repr.plot.height = 2, repr.plot.res = 300)\n",
    "\n",
    "UMAP_rename_seurat_clusters <- DimPlot(obj, reduction = \"umap_all\", group.by = \"seurat_clusters\", label = TRUE, shuffle = TRUE, cols = palette.15) +\n",
    "  umap_theme + ggtitle(\"UMAP seurat clusters\") + theme(text = element_text(size = 15)) & NoLegend()\n",
    "\n",
    "UMAP_rename_cell_type <- DimPlot(obj, reduction = \"umap_all\", group.by = \"cell_type_CMcomb\", label = TRUE, shuffle = TRUE, cols = palette.CMcomb) +\n",
    "  umap_theme + ggtitle(\"UMAP cell types\") + theme(text = element_text(size = 15)) & NoLegend()\n",
    "\n",
    "UMAP_rename_treatment <- DimPlot(obj, reduction = \"umap_all\", label = FALSE, group.by = \"treatment\", shuffle = TRUE, cols = palette.treatment) +\n",
    "  umap_theme + ggtitle(\"UMAP treatment\") + theme(text = element_text(size = 15)) & NoLegend()\n",
    "\n",
    "UMAP_rename_sample_id <- DimPlot(obj, reduction = \"umap_all\", label = FALSE, group.by = \"sample_id\", shuffle = TRUE, cols = palette.12) +\n",
    "  umap_theme + ggtitle(\"UMAP sample_id\") + theme(text = element_text(size = 15)) & NoLegend()\n",
    "\n",
    "UMAP_sex <- DimPlot(obj, reduction = \"umap_all\", label = FALSE, group.by = \"sex\", shuffle = TRUE, cols = palette.sex) +\n",
    "  umap_theme + ggtitle(\"UMAP sex\") + theme(text = element_text(size = 15)) & NoLegend()\n",
    "\n",
    "ggsave(\"Plots/UMAP_all_genes/UMAP_rename_seurat_clusters.svg\", UMAP_rename_seurat_clusters, units = \"cm\", dpi = 300, width = 30, height = 20)\n",
    "ggsave(\"Plots/UMAP_all_genes/UMAP_rename_cell_type.svg\", UMAP_rename_cell_type, units = \"cm\", dpi = 300, width = 30, height = 20)\n",
    "ggsave(\"Plots/UMAP_all_genes/UMAP_rename_treatment.svg\", UMAP_rename_treatment, units = \"cm\", dpi = 300, width = 30, height = 20)\n",
    "ggsave(\"Plots/UMAP_all_genes/UMAP_rename_sample_id.svg\", UMAP_rename_sample_id, units = \"cm\", dpi = 300, width = 30, height = 20)\n",
    "ggsave(\"Plots/UMAP_all_genes/UMAP_rename_sex.svg\", UMAP_sex, units = \"cm\", dpi = 300, width = 30, height = 20)\n",
    "\n",
    "UMAP_rename_seurat_clusters\n",
    "suppressWarnings(print(UMAP_rename_cell_type))\n",
    "UMAP_rename_treatment\n",
    "UMAP_rename_sample_id\n",
    "UMAP_sex"
   ]
  },
  {
   "cell_type": "markdown",
   "id": "031757a3-2716-4f93-b71d-c2a27f454a8e",
   "metadata": {},
   "source": [
    "## Do PCA anaylsis with only protein coding genes "
   ]
  },
  {
   "cell_type": "code",
   "execution_count": null,
   "id": "aba12f24-fd5c-4af5-85bb-d0ec2c66c211",
   "metadata": {},
   "outputs": [],
   "source": [
    "# Save reductions calculated with all genes to \"pca_all\"\n",
    "obj@reductions$pca_all <- obj@reductions$pca\n",
    "obj@reductions$umap_all <- obj@reductions$umap\n",
    "obj@reductions$harmony_all <- obj@reductions$harmony\n",
    "\n",
    "names(obj@reductions)"
   ]
  },
  {
   "cell_type": "code",
   "execution_count": null,
   "id": "8176f3c9-3562-4323-90f9-1564d8dd2ce4",
   "metadata": {},
   "outputs": [],
   "source": [
    "# .txt contains protein-coding genes based on the reference genome annotation refdata-gex-mm10-2020-A\n",
    "protein_coding_genes <- unlist(read.csv(\"DEGs/nothreshold/protein_coding_gene_names_filtered.txt\", header = TRUE, stringsAsFactors = FALSE))  "
   ]
  },
  {
   "cell_type": "code",
   "execution_count": null,
   "id": "be459b15-c569-4f20-9c18-87023f8175f4",
   "metadata": {
    "scrolled": true
   },
   "outputs": [],
   "source": [
    "# Ensure the protein-coding genes are present in the dataset\n",
    "selected_genes <- protein_coding_genes[protein_coding_genes %in% rownames(obj)]\n",
    "\n",
    "# Normalize and scale the data for the selected genes\n",
    "obj <- ScaleData(obj, features = selected_genes, verbose = FALSE)\n",
    "\n",
    "# Run PCA using only the selected protein-coding genes\n",
    "obj <- RunPCA(obj, features = selected_genes, npcs = 35, reduction.name = \"pca_protein_coding\", verbose = FALSE)"
   ]
  },
  {
   "cell_type": "code",
   "execution_count": null,
   "id": "0c28d13c-686c-45ba-9bc0-138d4ef0aa0e",
   "metadata": {},
   "outputs": [],
   "source": [
    "options(repr.plot.width = 8, repr.plot.height = 4, repr.plot.res = 300)\n",
    "\n",
    "plot1 <- DimPlot(obj, reduction = \"pca_all\", dims = c(1, 5), shuffle = TRUE, group.by = \"batch\", cols = palette.treatment) + ggtitle(\"all genes\")\n",
    "plot2 <- DimPlot(obj, reduction = \"pca_protein_coding\", dims = c(1, 6), shuffle = TRUE, group.by = \"batch\", cols = palette.treatment) + ggtitle(\"only protein_coding\")\n",
    "\n",
    "# Combine the plots side by side\n",
    "combined_plot <- plot1|plot2\n",
    "\n",
    "# Display the combined plot\n",
    "print(combined_plot)\n",
    "\n",
    "# Save the combined plot to a file\n",
    "ggsave(\"Plots/PCA_Batch_Comparison_protein_coding.svg\", plot = combined_plot, width = 20, height = 9, scale = 1,  units = \"cm\", dpi = 300)"
   ]
  },
  {
   "cell_type": "code",
   "execution_count": null,
   "id": "c74ae76f-0249-4679-b93b-9e9f3ad94b42",
   "metadata": {
    "scrolled": true
   },
   "outputs": [],
   "source": [
    "# Integrate \"batch\"\n",
    "obj$batch <- as.factor(obj$batch)\n",
    "\n",
    "obj <- obj %>%\n",
    "  RunHarmony(group.by.vars = c(\"batch\"), plot_convergence = TRUE, assay.use = \"RNA\", reduction = \"pca_protein_coding\", reduction.save = \"harmony_protein_coding\", verbose = FALSE)\n",
    "\n",
    "# Run UMAP\n",
    "obj <- obj %>%\n",
    "  RunUMAP(dims = 1:35, reduction = \"harmony_protein_coding\", reduction.name = \"umap_protein_coding\", verbose = FALSE) %>%\n",
    "  FindNeighbors(reduction = \"harmony_protein_coding\", dims = 1:35, verbose = FALSE) %>%\n",
    "  FindClusters(resolution = 0.25)"
   ]
  },
  {
   "cell_type": "code",
   "execution_count": null,
   "id": "ca041e8d-0792-4165-b6a3-8ae419f7f5d5",
   "metadata": {},
   "outputs": [],
   "source": [
    "# Save reductions calculated with only protein coding genes as dafault\n",
    "obj@reductions$pca <- obj@reductions$pca_protein_coding\n",
    "obj@reductions$umap <- obj@reductions$umap_protein_coding\n",
    "obj@reductions$harmony <- obj@reductions$harmony_protein_coding\n",
    "\n",
    "names(obj@reductions)"
   ]
  },
  {
   "cell_type": "code",
   "execution_count": null,
   "id": "2c095a10-0f58-424d-98c7-33a432eaf186",
   "metadata": {},
   "outputs": [],
   "source": [
    "# Reassign initial seurat_clusters back to object\n",
    "obj$seurat_clusters_protein_coding <- obj$seurat_clusters\n",
    "obj$seurat_clusters <- obj_CMcomb$seurat_clusters"
   ]
  },
  {
   "cell_type": "code",
   "execution_count": null,
   "id": "8b736739-5ef1-4530-9cdb-4a92d48a9ee2",
   "metadata": {
    "scrolled": true
   },
   "outputs": [],
   "source": [
    "SaveH5Seurat(obj, \"seurat_objects/obj_seu_merge_harmony_sgl_addmodule_rename_CMcomb_onlyprotcod\")"
   ]
  },
  {
   "cell_type": "code",
   "execution_count": null,
   "id": "e703b946-59cf-41fc-9094-03f307047445",
   "metadata": {},
   "outputs": [],
   "source": [
    "# UMAP plots with only protein coding genes\n",
    "options(repr.plot.width = 3, repr.plot.height = 2, repr.plot.res = 300)\n",
    "\n",
    "UMAP_rename_seurat_clusters <- DimPlot(obj, reduction = \"umap_protein_coding\", group.by = \"seurat_clusters\", label = TRUE, shuffle = TRUE, cols = palette.17) +\n",
    "  umap_theme + ggtitle(\"UMAP seurat clusters\") + theme(text = element_text(size = 15)) & NoLegend()\n",
    "\n",
    "UMAP_rename_cell_type <- DimPlot(obj, reduction = \"umap_protein_coding\", group.by = \"cell_type_CMcomb\", label = TRUE, shuffle = TRUE, cols = palette.CMcomb) +\n",
    "  umap_theme + ggtitle(\"UMAP cell types\") + theme(text = element_text(size = 15)) & NoLegend()\n",
    "\n",
    "UMAP_rename_treatment <- DimPlot(obj, reduction = \"umap_protein_coding\", label = FALSE, group.by = \"treatment\", shuffle = TRUE, cols = palette.treatment) +\n",
    "  umap_theme + ggtitle(\"UMAP treatment\") + theme(text = element_text(size = 15)) & NoLegend()\n",
    "\n",
    "UMAP_rename_sample_id <- DimPlot(obj, reduction = \"umap_protein_coding\", label = FALSE, group.by = \"sample_id\", shuffle = TRUE, cols = palette.12) +\n",
    "  umap_theme + ggtitle(\"UMAP sample_id\") + theme(text = element_text(size = 15)) & NoLegend()\n",
    "\n",
    "UMAP_sex <- DimPlot(obj, reduction = \"umap_protein_coding\", label = FALSE, group.by = \"sex\", shuffle = TRUE, cols = palette.sex) +\n",
    "  umap_theme + ggtitle(\"UMAP sex\") + theme(text = element_text(size = 15)) & NoLegend()\n",
    "\n",
    "ggsave(\"Plots/UMAP_rename_seurat_clusters.svg\", UMAP_rename_seurat_clusters, units = \"cm\", dpi = 300, width = 30, height = 20)\n",
    "ggsave(\"Plots/UMAP_rename_cell_type.svg\", UMAP_rename_cell_type, units = \"cm\", dpi = 300, width = 30, height = 20)\n",
    "ggsave(\"Plots/UMAP_rename_treatment.svg\", UMAP_rename_treatment, units = \"cm\", dpi = 300, width = 30, height = 20)\n",
    "ggsave(\"Plots/UMAP_rename_sample_id.svg\", UMAP_rename_sample_id, units = \"cm\", dpi = 300, width = 30, height = 20)\n",
    "ggsave(\"Plots/UMAP_rename_sex.svg\", UMAP_sex, units = \"cm\", dpi = 300, width = 30, height = 20)\n",
    "\n",
    "UMAP_rename_seurat_clusters\n",
    "suppressWarnings(print(UMAP_rename_cell_type))\n",
    "UMAP_rename_treatment\n",
    "UMAP_rename_sample_id\n",
    "UMAP_sex"
   ]
  },
  {
   "cell_type": "code",
   "execution_count": null,
   "id": "d6dd0dea-c73e-449a-9777-093351af2f34",
   "metadata": {},
   "outputs": [],
   "source": [
    "# Density plot UMAP\n",
    "options(repr.plot.width = 10, repr.plot.height = 3, repr.plot.res = 300)\n",
    "\n",
    "Idents(obj) <- \"cell_type_CMcomb\"\n",
    "\n",
    "# generate UMAP plot\n",
    "pl1 <- UMAPPlot(obj, cols = palette.CMcomb, \n",
    "                combine = FALSE # returns full ggplot object\n",
    "                )\n",
    "\n",
    "# custom color scale\n",
    "scale.col <- cet_pal(16, name = \"fire\")\n",
    "\n",
    "# make plot\n",
    "umap_density_plot  <- pl1[[1]] & \n",
    "  stat_density_2d(aes_string(x = \"umapproteincoding_1\", y = \"umapproteincoding_2\", fill = \"after_stat(level)\"), \n",
    "                  linewidth = 0.2, geom = \"density_2d_filled\", \n",
    "                  colour = \"ivory\", alpha = 0.4, n = 300, h = c(1.3, 1.3)) & \n",
    "  scale_fill_gradientn(colours = scale.col)\n",
    "\n",
    "\n",
    "ggsave(\"Plots/UMAP_density_plot.png\", plot = umap_density_plot, width = 8, height = 4, dpi = 300)"
   ]
  },
  {
   "cell_type": "code",
   "execution_count": null,
   "id": "10467d1b-f030-42cc-a156-8bf505bab5c1",
   "metadata": {},
   "outputs": [],
   "source": [
    "# Subset to only CTRL&ALDO or ALDO&REC nuclei and calculating proportions\n",
    "\n",
    "obj_CTRL_ALDO <- subset(obj, subset = treatment %in% c(\"CTRL\", \"ALDO\"))\n",
    "obj_ALDO_REC <- subset(obj, subset = treatment %in% c(\"ALDO\", \"REC\"))\n",
    "\n",
    "\n",
    "# Get metadata for CTRL ALDO\n",
    "metadata <- obj_CTRL_ALDO@meta.data\n",
    "\n",
    "# Count total nuclei\n",
    "total_nuclei <- nrow(metadata)\n",
    "\n",
    "# Count nuclei per cell type and percentage\n",
    "cell_type_counts <- table(metadata$cell_type_CMcomb)\n",
    "cell_type_percentage <- round((cell_type_counts / total_nuclei) * 100, 1)\n",
    "\n",
    "# Print results\n",
    "print(\"cell_type_percentage CTRL and ALDO\")\n",
    "print(cell_type_percentage)\n",
    "\n",
    "# Repeat for ALDO REC\n",
    "metadata <- obj_ALDO_REC@meta.data\n",
    "total_nuclei <- nrow(metadata)\n",
    "cell_type_counts <- table(metadata$cell_type_CMcomb)\n",
    "cell_type_percentage <- round((cell_type_counts / total_nuclei) * 100, 1)\n",
    "\n",
    "# Print results\n",
    "print(\"cell_type_percentage ALDO and REC\")\n",
    "print(cell_type_percentage)"
   ]
  },
  {
   "cell_type": "code",
   "execution_count": null,
   "id": "e312b330-c8bc-4eac-800b-0d17069a95db",
   "metadata": {},
   "outputs": [],
   "source": [
    "# UMAPs only with CTRL and ALDO nuclei\n",
    "\n",
    "options(repr.plot.width = 3, repr.plot.height = 2, repr.plot.res = 300)\n",
    "\n",
    "UMAP_rename_cell_type <- DimPlot(obj_CTRL_ALDO, reduction = \"umap_protein_coding\", group.by = \"cell_type_CMcomb\", label = TRUE, shuffle = TRUE, cols = palette.CMcomb) +\n",
    "  umap_theme + ggtitle(\"UMAP cell types\") + theme(text = element_text(size = 15)) & NoLegend()\n",
    "\n",
    "UMAP_rename_treatment <- DimPlot(obj_CTRL_ALDO, reduction = \"umap_protein_coding\", label = FALSE, group.by = \"treatment\", shuffle = TRUE, cols = c(\"#C1C1C1\", \"#AF0000\")) +\n",
    "  umap_theme + ggtitle(\"UMAP treatment\") + theme(text = element_text(size = 15)) & NoLegend()\n",
    "\n",
    "ggsave(\"Plots/UMAP_rename_cell_type_CTRL_ALDO.svg\", UMAP_rename_cell_type, units = \"cm\", dpi = 300, width = 30, height = 20)\n",
    "ggsave(\"Plots/UMAP_rename_treatment_CTRL_ALDO.svg\", UMAP_rename_treatment, units = \"cm\", dpi = 300, width = 30, height = 20)\n",
    "\n",
    "suppressWarnings(print(UMAP_rename_cell_type))\n",
    "UMAP_rename_treatment"
   ]
  },
  {
   "cell_type": "code",
   "execution_count": null,
   "id": "65e3ddc5-9a55-41ac-bad6-bad6d1a1e583",
   "metadata": {},
   "outputs": [],
   "source": [
    "# UMAPs only with ALDO and REC nuclei\n",
    "\n",
    "options(repr.plot.width = 3, repr.plot.height = 2, repr.plot.res = 300)\n",
    "\n",
    "UMAP_rename_cell_type <- DimPlot(obj_ALDO_REC, reduction = \"umap_protein_coding\", group.by = \"cell_type_CMcomb\", label = TRUE, shuffle = TRUE, cols = palette.CMcomb) +\n",
    "  umap_theme + ggtitle(\"UMAP cell types\") + theme(text = element_text(size = 15)) & NoLegend()\n",
    "\n",
    "UMAP_rename_treatment <- DimPlot(obj_ALDO_REC, reduction = \"umap_protein_coding\", label = FALSE, group.by = \"treatment\", shuffle = TRUE, cols = c(\"#AF0000\", \"#006AF3\")) +\n",
    "  umap_theme + ggtitle(\"UMAP treatment\") + theme(text = element_text(size = 15)) & NoLegend()\n",
    "\n",
    "ggsave(\"Plots/UMAP_rename_cell_type_ALDO_REC.svg\", UMAP_rename_cell_type, units = \"cm\", dpi = 300, width = 30, height = 20)\n",
    "ggsave(\"Plots/UMAP_rename_treatment_ALDO_REC.svg\", UMAP_rename_treatment, units = \"cm\", dpi = 300, width = 30, height = 20)\n",
    "\n",
    "suppressWarnings(print(UMAP_rename_cell_type))\n",
    "UMAP_rename_treatment"
   ]
  },
  {
   "cell_type": "markdown",
   "id": "50e43b7c-6cb5-4766-8466-11276db1efd8",
   "metadata": {},
   "source": [
    "# Features with non-zero counts "
   ]
  },
  {
   "cell_type": "code",
   "execution_count": null,
   "id": "cbeeb94e-9d7a-4d5e-a1ee-2a7c9cf7f7e9",
   "metadata": {},
   "outputs": [],
   "source": [
    "export_non_zero_counts <- function(seurat_object, LA_LV, cluster_annotations) { \n",
    "    # Filter the Seurat object for the specified chamber and cell type \n",
    "    seurat_table <- subset(x = seurat_object, subset = chamber == LA_LV) \n",
    "    # Iterate over cluster annotations and export non-zero counts \n",
    "    for (cluster_id in names(cluster_annotations)) { \n",
    "        cell <- cluster_annotations[[cluster_id]] \n",
    "        seurat_table_filtered <- subset(x = seurat_table, subset = cell_type == cell) \n",
    "        # Get the counts for the filtered Seurat object \n",
    "        counts <- GetAssayData(seurat_table_filtered, assay = \"RNA\", layer = \"counts\") \n",
    "        # Find non-zero counts \n",
    "        nonzero <- as.data.frame(rowSums(counts) > 0) \n",
    "        names(nonzero)[names(nonzero) == \"rowSums(counts) > 0\"] <- \"nonzerofeature\"\n",
    "        nonzero <- filter(nonzero, nonzerofeature == TRUE)\n",
    "        nonzero$names <- rownames(nonzero)\n",
    "        nonzero$nonzerofeature <- NULL\n",
    "\n",
    "        # Export to CSV \n",
    "        filename <- paste0(\"nonzerocounts/nonzerocounts_\", LA_LV, \"_\", cell, \".csv\") \n",
    "        write.csv(nonzero, file = filename, row.names = FALSE) \n",
    "    } \n",
    "}"
   ]
  },
  {
   "cell_type": "code",
   "execution_count": null,
   "id": "4817982a-a47b-40dc-842b-578f15bf4135",
   "metadata": {},
   "outputs": [],
   "source": [
    "export_non_zero_counts(obj, \"LV\", cluster_annotations)"
   ]
  },
  {
   "cell_type": "code",
   "execution_count": null,
   "id": "4485f56f-2f78-4aad-ac19-85c8fa2ea01e",
   "metadata": {},
   "outputs": [],
   "source": [
    "# Load the list of protein-coding genes\n",
    "protein_coding_genes <- unlist(read.csv(\n",
    "  \"DEGs/nothreshold/protein_coding_gene_names_filtered.txt\", \n",
    "  header = TRUE, \n",
    "  stringsAsFactors = FALSE\n",
    ")$protein_coding)\n",
    "\n",
    "# List of non-zero files\n",
    "file_names <- list.files(\n",
    "  \"nonzerocounts\", \n",
    "  pattern = \"*.csv\", \n",
    "  full.names = TRUE\n",
    ")\n",
    "\n",
    "# Load, process, and filter non-zero files\n",
    "filtered_files <- lapply(file_names, function(file_path) {\n",
    "  # Read the file\n",
    "  nonzero_data <- read.csv(file_path, header = TRUE, stringsAsFactors = FALSE)\n",
    "  \n",
    "  # Filter for protein-coding genes\n",
    "  filtered_data <- nonzero_data %>%\n",
    "    filter(names %in% protein_coding_genes)\n",
    "  \n",
    "  # Return the filtered data\n",
    "  return(filtered_data)\n",
    "})\n",
    "\n",
    "# Save filtered files with \"_filtered\" appended to the filename\n",
    "sapply(seq_along(file_names), function(i) {\n",
    "  # Extract the original file name\n",
    "  original_name <- basename(file_names[i])\n",
    "  new_name <- paste0(gsub(\"\\\\.csv$\", \"\", original_name), \"_filtered.csv\")\n",
    "  \n",
    "  # Save the filtered file\n",
    "  write.csv(\n",
    "    filtered_files[[i]], \n",
    "    file = paste0(\"nonzerocounts/filtered/\", new_name), \n",
    "    row.names = FALSE\n",
    "  )\n",
    "})"
   ]
  },
  {
   "cell_type": "markdown",
   "id": "3ab76c69-ff85-427a-81f4-295f53689d0a",
   "metadata": {},
   "source": [
    "# Cell-cycle score"
   ]
  },
  {
   "cell_type": "code",
   "execution_count": null,
   "id": "76148b58-c91a-4662-8f87-2bcc53e18d4d",
   "metadata": {},
   "outputs": [],
   "source": [
    "# Download cell cycle genes for organism at https://github.com/hbc/tinyatlas/tree/master/cell_cycle. Read it in with:\n",
    "\n",
    "cc_file <- getURL(\"https://raw.githubusercontent.com/hbc/tinyatlas/master/cell_cycle/Mus_musculus.csv\") \n",
    "cell_cycle_genes <- read.csv(text = cc_file)"
   ]
  },
  {
   "cell_type": "code",
   "execution_count": null,
   "id": "85dd8159-4499-4edb-888c-5902291a8c58",
   "metadata": {},
   "outputs": [],
   "source": [
    "# Connect to AnnotationHub\n",
    "ah <- AnnotationHub()\n",
    "\n",
    "# Access the Ensembl database for organism\n",
    "ahDb <- query(ah, \n",
    "              pattern = c(\"Mus musculus\", \"EnsDb\"), \n",
    "              ignore.case = TRUE)\n",
    "\n",
    "# Acquire the latest annotation files\n",
    "id <- ahDb %>%\n",
    "        mcols() %>%\n",
    "        rownames() %>%\n",
    "        tail(n = 1)\n",
    "\n",
    "# Download the appropriate Ensembldb database\n",
    "edb <- ah[[id]]\n",
    "\n",
    "# Extract gene-level information from database\n",
    "annotations <- genes(edb, \n",
    "                     return.type = \"data.frame\")\n",
    "\n",
    "# Select annotations of interest\n",
    "annotations <- annotations %>%\n",
    "        dplyr::select(gene_id, gene_name, seq_name, gene_biotype, description)"
   ]
  },
  {
   "cell_type": "code",
   "execution_count": null,
   "id": "3e354451-3626-490c-8791-0fd692b44cf1",
   "metadata": {},
   "outputs": [],
   "source": [
    "# Get gene names for Ensembl IDs for each gene\n",
    "cell_cycle_markers <- dplyr::left_join(cell_cycle_genes, annotations, by = c(\"geneID\" = \"gene_id\"))\n",
    "\n",
    "# Acquire the S phase genes\n",
    "s_genes <- cell_cycle_markers %>%\n",
    "        dplyr::filter(phase == \"S\") %>%\n",
    "        pull(\"gene_name\")\n",
    "        \n",
    "# Acquire the G2M phase genes        \n",
    "g2m_genes <- cell_cycle_markers %>%\n",
    "        dplyr::filter(phase == \"G2/M\") %>%\n",
    "        pull(\"gene_name\")"
   ]
  },
  {
   "cell_type": "code",
   "execution_count": null,
   "id": "595e13ac-da4e-4bea-962e-f85146c798eb",
   "metadata": {
    "scrolled": true
   },
   "outputs": [],
   "source": [
    "# Perform cell cycle scoring\n",
    "obj <- CellCycleScoring(obj,\n",
    "                        g2m.features = g2m_genes,\n",
    "                        s.features = s_genes)"
   ]
  },
  {
   "cell_type": "code",
   "execution_count": null,
   "id": "adb0946e-6513-4b5a-b872-911d5cc5d171",
   "metadata": {},
   "outputs": [],
   "source": [
    "# Reorder the treatment factor to show CTRL, ALDO, REC from left to right\n",
    "metadata <- obj@meta.data\n",
    "\n",
    "metadata$Phase <- factor(metadata$Phase, levels = c(\"G1\", \"S\", \"G2M\"))\n",
    "metadata$treatment <- factor(metadata$treatment, levels = c(\"CTRL\", \"ALDO\", \"REC\"))"
   ]
  },
  {
   "cell_type": "code",
   "execution_count": null,
   "id": "bd1ec454-1fd0-4421-a930-137a712e8c82",
   "metadata": {
    "scrolled": true
   },
   "outputs": [],
   "source": [
    "# Save final objects\n",
    "SaveH5Seurat(obj, \"seurat_objects/obj_seu_merge_harmony_sgl_addmodule_rename_CMcomb_onlyprotcod_ccscore\")\n",
    "saveRDS(obj, file = \"seurat_objects/obj_seu_merge_harmony_sgl_addmodule_rename_CMcomb_onlyprotcod_ccscore.rds\")"
   ]
  },
  {
   "cell_type": "code",
   "execution_count": null,
   "id": "a8ef3329-3244-4448-b263-b0498f914e27",
   "metadata": {
    "scrolled": true
   },
   "outputs": [],
   "source": [
    "options(repr.plot.width = 3, repr.plot.height = 2, repr.plot.res = 300)\n",
    "\n",
    "# Visualize the PCA, grouping by cell cycle phase\n",
    "DimPlot_cellcycle <- DimPlot(obj, reduction = \"pca_protein_coding\", dims = c(10, 11), group.by = \"Phase\", cols = palette.3)\n",
    "\n",
    "ggsave(\"Plots/DimPlot_cellcycle.svg\", DimPlot_cellcycle, width = 11, height = 9, units = \"cm\", dpi = 300)\n",
    "\n",
    "DimPlot_cellcycle"
   ]
  },
  {
   "cell_type": "code",
   "execution_count": null,
   "id": "b43b4140-d502-4237-81dc-5a40df0c7cf7",
   "metadata": {},
   "outputs": [],
   "source": [
    "# Calculate average expression for cluster CYC marker genes\n",
    "options(repr.plot.width = 3, repr.plot.height = 2, repr.plot.res = 300)\n",
    "\n",
    "# List of active macrophage markers\n",
    "active_cell_cycle_markers <- c(\"Top2a\",\n",
    "\"Mki67\",\n",
    "\"Kif11\",\n",
    "\"Cenpp\",\n",
    "\"E2f7\",\n",
    "\"Smc2\",\n",
    "\"Cep192\")\n",
    "\n",
    "# Check if all genes are present in the dataset\n",
    "present_genes <- active_cell_cycle_markers[active_cell_cycle_markers %in% rownames(obj)]\n",
    "missing_genes <- setdiff(active_cell_cycle_markers, present_genes)\n",
    "cat(\"Missing genes:\", missing_genes, \"\\n\")\n",
    "\n",
    "# Calculate average expression for the present genes\n",
    "average_expression <- Matrix::colMeans(GetAssayData(obj, assay = \"RNA\", layer = \"data\")[present_genes, , drop = FALSE])\n",
    "\n",
    "# Add the average expression to the metadata\n",
    "obj$active_cell_cycle_marker_score <- average_expression\n",
    "\n",
    "# Create a FeaturePlot using the 'Macrophage_Activation_Score'\n",
    "FeatureCC <- FeaturePlot(obj, \n",
    "            features = \"active_cell_cycle_marker_score\", \n",
    "            reduction = \"pca\", \n",
    "            dims = c(10, 11)) +\n",
    "  ggplot2::scale_color_gradient(low = \"#002ed4\", high = \"#AF0000\") +\n",
    "  ggplot2::labs(title = \"active CC Score on PCA\", \n",
    "                color = \"Activation Score\") +\n",
    "  ggplot2::theme_minimal()\n",
    "\n",
    "ggsave(\"Plots/PCA_cellcycle_score.svg\", FeatureCC, units = \"cm\", dpi = 300, width = 12, height = 9)\n",
    "\n",
    "FeatureCC"
   ]
  },
  {
   "cell_type": "code",
   "execution_count": null,
   "id": "c6c6924d-39e0-476d-a865-655cf263bbd5",
   "metadata": {},
   "outputs": [],
   "source": [
    "options(repr.plot.width = 3, repr.plot.height = 2, repr.plot.res = 300)\n",
    "\n",
    "UMAP_cycle <- DimPlot(obj, reduction = \"umap_protein_coding\", label = FALSE, group.by = \"Phase\", shuffle = TRUE, cols = palette.3) +\n",
    "  umap_theme + ggtitle(\"UMAP cellcycle\") + theme(text = element_text(size = 15)) \n",
    "\n",
    "ggsave(\"Plots/UMAP_cellcycle.svg\", UMAP_cycle, units = \"cm\", dpi = 300, width = 30, height = 20)\n",
    "\n",
    "UMAP_cycle"
   ]
  },
  {
   "cell_type": "code",
   "execution_count": null,
   "id": "92635849-48a2-4c19-bc1d-15d878c5f220",
   "metadata": {},
   "outputs": [],
   "source": [
    "options(repr.plot.width = 5, repr.plot.height = 10, repr.plot.res = 300)\n",
    "\n",
    "# Combine CM_0, CM_1, and CM_2 into a single category 'CM'\n",
    "metadata <- metadata %>%\n",
    "  mutate(cell_type_combined = case_when(\n",
    "    cell_type %in% c(\"CM_0\", \"CM_1\", \"CM_2\") ~ \"CM\",  # Combine CM_0, CM_1, CM_2\n",
    "    TRUE ~ cell_type  # Keep other cell types as they are\n",
    "  ))\n",
    "\n",
    "# Reorder cell_type_combined based on decreasing number of entries\n",
    "cell_type_order <- metadata %>%\n",
    "  group_by(cell_type_combined) %>%\n",
    "  summarize(count = n()) %>%\n",
    "  arrange(desc(count)) %>%\n",
    "  pull(cell_type_combined)\n",
    "\n",
    "# Reorder cell_type_combined factor in metadata\n",
    "metadata$cell_type_combined <- factor(metadata$cell_type_combined, levels = cell_type_order)\n",
    "\n",
    "# Calculate phase proportions by combined cell type and treatment\n",
    "phase_counts <- metadata %>%\n",
    "  group_by(cell_type_combined, treatment, Phase) %>%\n",
    "  summarize(count = n(), .groups = \"drop\") %>%\n",
    "  group_by(cell_type_combined, treatment) %>%\n",
    "  mutate(proportion = count / sum(count),\n",
    "         percentage = round(proportion * 100, 1))  # Add percentage column\n",
    "\n",
    "# Plot pie charts with black borders on the slices and percentage labels\n",
    "Piechart_cellcycle <- ggplot(phase_counts, aes(x = \"\", y = proportion, fill = Phase)) +\n",
    "  geom_bar(stat = \"identity\", width = 0.2, color = \"black\") +  # Add black border to each slice\n",
    "  coord_polar(\"y\") +\n",
    "  facet_grid(cell_type_combined ~ treatment) +  # Use the new combined column for faceting\n",
    "  scale_fill_manual(values = palette.3) +  # Apply custom colors\n",
    "  theme_void() +\n",
    "  theme(strip.text = element_text(size = 10)) +\n",
    "  labs(title = \"Cell Cycle Phase Distribution by Treatment\") +\n",
    "  geom_text(aes(label = paste(percentage)), \n",
    "            position = position_stack(vjust = 0.5),  # Position text in the center of each slice\n",
    "            color = \"darkgrey\", size = 2)  # Customize the text appearance\n",
    "\n",
    "ggsave(\"Plots/Piechart_cellcycle.svg\", Piechart_cellcycle, units = \"cm\", dpi = 300, width = 15, height = 30)\n",
    "\n",
    "suppressWarnings(print(Piechart_cellcycle))"
   ]
  },
  {
   "cell_type": "code",
   "execution_count": null,
   "id": "139ce164-b034-486b-a1ce-9a86c3855b8a",
   "metadata": {},
   "outputs": [],
   "source": [
    "# Calculate total number of nuclei for each combination of cell_type_combined and treatment\n",
    "total_nuclei <- phase_counts %>%\n",
    "  group_by(cell_type_combined, treatment) %>%\n",
    "  summarize(total_nuclei = sum(count), .groups = \"drop\") \n",
    "\n",
    "# Pivot the data to have treatments as columns and cell types as rows\n",
    "total_nuclei_table <- total_nuclei %>%\n",
    "  pivot_wider(names_from = treatment, values_from = total_nuclei, values_fill = list(total_nuclei = 0))\n",
    "\n",
    "## Calculate the column-wise percentages and round to 1 decimal place\n",
    "total_nuclei_table_percent <- total_nuclei_table %>%\n",
    "  mutate(across(CTRL:REC, ~ round(. / sum(.) * 100, 1)))  # Round percentages to 1 decimal place\n",
    "\n",
    "# View the table with rounded percentages\n",
    "total_nuclei_table_percent"
   ]
  },
  {
   "cell_type": "code",
   "execution_count": 4,
   "id": "9cc6f732-7db5-45ad-b617-123ef78e3d90",
   "metadata": {},
   "outputs": [
    {
     "data": {
      "text/plain": [
       "R version 4.3.3 (2024-02-29)\n",
       "Platform: x86_64-conda-linux-gnu (64-bit)\n",
       "Running under: Ubuntu 22.04.2 LTS\n",
       "\n",
       "Matrix products: default\n",
       "BLAS/LAPACK: /media/daten/dmeral/micromamba/envs/scrna_dm/lib/libopenblasp-r0.3.27.so;  LAPACK version 3.12.0\n",
       "\n",
       "locale:\n",
       " [1] LC_CTYPE=en_US.UTF-8       LC_NUMERIC=C              \n",
       " [3] LC_TIME=en_US.UTF-8        LC_COLLATE=en_US.UTF-8    \n",
       " [5] LC_MONETARY=en_US.UTF-8    LC_MESSAGES=en_US.UTF-8   \n",
       " [7] LC_PAPER=en_US.UTF-8       LC_NAME=C                 \n",
       " [9] LC_ADDRESS=C               LC_TELEPHONE=C            \n",
       "[11] LC_MEASUREMENT=en_US.UTF-8 LC_IDENTIFICATION=C       \n",
       "\n",
       "time zone: Etc/UTC\n",
       "tzcode source: system (glibc)\n",
       "\n",
       "attached base packages:\n",
       "[1] stats4    stats     graphics  grDevices utils     datasets  methods  \n",
       "[8] base     \n",
       "\n",
       "other attached packages:\n",
       " [1] networkD3_0.4               ensembldb_2.26.0           \n",
       " [3] AnnotationFilter_1.26.0     GenomicFeatures_1.54.4     \n",
       " [5] AnnotationDbi_1.64.1        AnnotationHub_3.10.1       \n",
       " [7] BiocFileCache_2.10.2        dbplyr_2.5.0               \n",
       " [9] RCurl_1.98-1.16             pals_1.9                   \n",
       "[11] ggpubr_0.6.0                patchwork_1.3.0            \n",
       "[13] harmony_1.2.3               Rcpp_1.0.13-1              \n",
       "[15] viridis_0.6.5               viridisLite_0.4.2          \n",
       "[17] svglite_2.1.3               Rsamtools_2.18.0           \n",
       "[19] Biostrings_2.70.3           XVector_0.42.0             \n",
       "[21] EnhancedVolcano_1.20.0      ggrepel_0.9.6              \n",
       "[23] DESeq2_1.42.1               SingleCellExperiment_1.24.0\n",
       "[25] SummarizedExperiment_1.32.0 Biobase_2.62.0             \n",
       "[27] GenomicRanges_1.54.1        GenomeInfoDb_1.38.8        \n",
       "[29] IRanges_2.36.0              S4Vectors_0.40.2           \n",
       "[31] BiocGenerics_0.48.1         MatrixGenerics_1.14.0      \n",
       "[33] matrixStats_1.4.1           SeuratDisk_0.0.0.9021      \n",
       "[35] lubridate_1.9.4             forcats_1.0.0              \n",
       "[37] stringr_1.5.1               dplyr_1.1.4                \n",
       "[39] purrr_1.0.2                 readr_2.1.5                \n",
       "[41] tidyr_1.3.1                 tibble_3.2.1               \n",
       "[43] tidyverse_2.0.0             ggplot2_3.5.1              \n",
       "[45] Seurat_5.1.0                SeuratObject_5.0.2         \n",
       "[47] sp_2.1-4                   \n",
       "\n",
       "loaded via a namespace (and not attached):\n",
       "  [1] ProtGenerics_1.34.0           spatstat.sparse_3.1-0        \n",
       "  [3] bitops_1.0-9                  httr_1.4.7                   \n",
       "  [5] RColorBrewer_1.1-3            repr_1.1.7                   \n",
       "  [7] tools_4.3.3                   sctransform_0.4.1.9001       \n",
       "  [9] backports_1.5.0               utf8_1.2.4                   \n",
       " [11] R6_2.5.1                      lazyeval_0.2.2               \n",
       " [13] uwot_0.2.2                    withr_3.0.2                  \n",
       " [15] prettyunits_1.2.0             gridExtra_2.3                \n",
       " [17] progressr_0.15.1              cli_3.6.3                    \n",
       " [19] spatstat.explore_3.3-3        fastDummies_1.7.4            \n",
       " [21] spatstat.data_3.1-4           ggridges_0.5.6               \n",
       " [23] pbapply_1.7-2                 systemfonts_1.1.0            \n",
       " [25] pbdZMQ_0.3-13                 dichromat_2.0-0.1            \n",
       " [27] parallelly_1.40.1             maps_3.4.2.1                 \n",
       " [29] RSQLite_2.3.9                 BiocIO_1.12.0                \n",
       " [31] generics_0.1.3                ica_1.0-3                    \n",
       " [33] spatstat.random_3.3-2         car_3.1-3                    \n",
       " [35] Matrix_1.6-5                  fansi_1.0.6                  \n",
       " [37] abind_1.4-8                   lifecycle_1.0.4              \n",
       " [39] yaml_2.3.10                   carData_3.0-5                \n",
       " [41] SparseArray_1.2.4             Rtsne_0.17                   \n",
       " [43] grid_4.3.3                    blob_1.2.4                   \n",
       " [45] promises_1.3.2                crayon_1.5.3                 \n",
       " [47] miniUI_0.1.1.1                lattice_0.22-6               \n",
       " [49] cowplot_1.1.3                 KEGGREST_1.42.0              \n",
       " [51] mapproj_1.2.11                pillar_1.9.0                 \n",
       " [53] rjson_0.2.23                  future.apply_1.11.3          \n",
       " [55] codetools_0.2-20              leiden_0.4.3.1               \n",
       " [57] glue_1.8.0                    spatstat.univar_3.1-1        \n",
       " [59] data.table_1.16.4             vctrs_0.6.5                  \n",
       " [61] png_0.1-8                     spam_2.11-0                  \n",
       " [63] gtable_0.3.6                  cachem_1.1.0                 \n",
       " [65] S4Arrays_1.2.1                mime_0.12                    \n",
       " [67] survival_3.7-0                interactiveDisplayBase_1.40.0\n",
       " [69] fitdistrplus_1.2-1            ROCR_1.0-11                  \n",
       " [71] nlme_3.1-166                  bit64_4.5.2                  \n",
       " [73] progress_1.2.3                filelock_1.0.3               \n",
       " [75] RcppAnnoy_0.0.22              irlba_2.3.5.1                \n",
       " [77] KernSmooth_2.23-24            colorspace_2.1-1             \n",
       " [79] DBI_1.2.3                     tidyselect_1.2.1             \n",
       " [81] bit_4.5.0.1                   compiler_4.3.3               \n",
       " [83] curl_6.0.1                    hdf5r_1.3.11                 \n",
       " [85] xml2_1.3.6                    DelayedArray_0.28.0          \n",
       " [87] plotly_4.10.4                 rtracklayer_1.62.0           \n",
       " [89] scales_1.3.0                  lmtest_0.9-40                \n",
       " [91] rappdirs_0.3.3                digest_0.6.37                \n",
       " [93] goftest_1.2-3                 spatstat.utils_3.1-1         \n",
       " [95] htmltools_0.5.8.1             pkgconfig_2.0.3              \n",
       " [97] base64enc_0.1-3               fastmap_1.2.0                \n",
       " [99] rlang_1.1.4                   htmlwidgets_1.6.4            \n",
       "[101] shiny_1.9.1                   farver_2.1.2                 \n",
       "[103] zoo_1.8-12                    jsonlite_1.8.9               \n",
       "[105] BiocParallel_1.36.0           magrittr_2.0.3               \n",
       "[107] Formula_1.2-5                 GenomeInfoDbData_1.2.11      \n",
       "[109] dotCall64_1.2                 IRkernel_1.3.2               \n",
       "[111] munsell_0.5.1                 reticulate_1.40.0            \n",
       "[113] stringi_1.8.4                 zlibbioc_1.48.2              \n",
       "[115] MASS_7.3-60.0.1               plyr_1.8.9                   \n",
       "[117] parallel_4.3.3                listenv_0.9.1                \n",
       "[119] deldir_2.0-4                  IRdisplay_1.1                \n",
       "[121] splines_4.3.3                 tensor_1.5                   \n",
       "[123] hms_1.1.3                     locfit_1.5-9.10              \n",
       "[125] igraph_2.1.2                  uuid_1.2-1                   \n",
       "[127] spatstat.geom_3.3-4           ggsignif_0.6.4               \n",
       "[129] RcppHNSW_0.6.0                reshape2_1.4.4               \n",
       "[131] biomaRt_2.58.2                BiocVersion_3.18.1           \n",
       "[133] XML_3.99-0.17                 evaluate_1.0.1               \n",
       "[135] BiocManager_1.30.25           tzdb_0.4.0                   \n",
       "[137] httpuv_1.6.15                 RANN_2.6.2                   \n",
       "[139] polyclip_1.10-7               future_1.34.0                \n",
       "[141] scattermore_1.2               broom_1.0.7                  \n",
       "[143] xtable_1.8-4                  restfulr_0.0.15              \n",
       "[145] RSpectra_0.16-2               rstatix_0.7.2                \n",
       "[147] later_1.4.1                   GenomicAlignments_1.38.2     \n",
       "[149] memoise_2.0.1                 cluster_2.1.7                \n",
       "[151] timechange_0.3.0              globals_0.16.3               "
      ]
     },
     "metadata": {},
     "output_type": "display_data"
    }
   ],
   "source": [
    "sessionInfo()"
   ]
  }
 ],
 "metadata": {
  "kernelspec": {
   "display_name": "scrna_dm",
   "language": "R",
   "name": "scrna_dm"
  },
  "language_info": {
   "codemirror_mode": "r",
   "file_extension": ".r",
   "mimetype": "text/x-r-source",
   "name": "R",
   "pygments_lexer": "r",
   "version": "4.3.3"
  }
 },
 "nbformat": 4,
 "nbformat_minor": 5
}
