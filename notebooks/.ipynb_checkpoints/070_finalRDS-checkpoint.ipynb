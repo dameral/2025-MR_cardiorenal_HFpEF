{
 "cells": [
  {
   "cell_type": "markdown",
   "id": "cffec01b-dbbb-491b-bbdc-d71120f562f3",
   "metadata": {},
   "source": [
    "# Data structure "
   ]
  },
  {
   "cell_type": "markdown",
   "id": "4da13727-06f3-435e-80e0-7b9d647d18a7",
   "metadata": {},
   "source": [
    "## meta.data columns"
   ]
  },
  {
   "cell_type": "markdown",
   "id": "294938c9-194c-4df5-84f8-c602f0a53ec7",
   "metadata": {},
   "source": [
    "**nCount_RNA**: Total number of transcript (UMI) counts per nucleus.\n",
    "\n",
    "**nFeature_RNA**: Number of unique genes detected per nucleus.\n",
    "\n",
    "**sample_id**: Unique sample identifier (e.g., LV_####).\n",
    "\n",
    "**percent.mt**: Percentage of reads mapping to mitochondrial genes, used for quality control.\n",
    "\n",
    "**scDblFinder.weighted**: Weighted doublet score computed by scDblFinder to flag likely doublets.\n",
    "\n",
    "**treatment**: Experimental condition (CTRL, ALDO, REC).\n",
    "\n",
    "**sex**: Biological sex of the mouse (m, f).\n",
    "\n",
    "**batch**: Batch number, representing independent sequencing runs (1, 2, 3).\n",
    "\n",
    "**seurat_clusters**: Clustering result from Seurat based on transcriptomic similarity (0–14).\n",
    "\n",
    "**cell_type**: Initial cell type annotation mapped from seurat_clusters.\n",
    "\n",
    "**cell_type_sub**: Refined cell type annotation incorporating fibroblast subclustering and reassignments across the full dataset.\n",
    "\n",
    "**cell_type_comb**: Collapsed cell type annotation where all cardiomyocyte clusters are grouped into a single CM category.\n",
    "\n",
    "**phase**: Predicted cell cycle phase based on canonical marker expression (G1, S, G2M).\n",
    "\n",
    "**cardiomyocyte**: Binary indicator of cardiomyocyte identity (CM, non-CM)."
   ]
  },
  {
   "cell_type": "markdown",
   "id": "6da48022-a663-439e-96ec-7c753cc89453",
   "metadata": {},
   "source": [
    "## embeddings"
   ]
  },
  {
   "cell_type": "markdown",
   "id": "3ff2e178-b434-4e03-89ea-bdb2a50c5387",
   "metadata": {},
   "source": [
    "**harmony**, **pca**, **umap**: PCs calculated with protein coding genes.\n",
    "\n",
    "**_all**: PCs calculated with all genes."
   ]
  },
  {
   "cell_type": "markdown",
   "id": "6de49d5e-d725-45f6-92e1-6831e18d8891",
   "metadata": {},
   "source": [
    "# Load libraries"
   ]
  },
  {
   "cell_type": "code",
   "execution_count": 1,
   "id": "35d7dba7-aec1-4e24-9702-d0eb6d41a8e3",
   "metadata": {
    "tags": []
   },
   "outputs": [],
   "source": [
    "suppressPackageStartupMessages({\n",
    "    suppressWarnings({\n",
    "        library(Seurat)\n",
    "        library(SeuratDisk)\n",
    "    })})"
   ]
  },
  {
   "cell_type": "code",
   "execution_count": 2,
   "id": "45ca9734-58b0-4757-af0e-54f362634e87",
   "metadata": {},
   "outputs": [],
   "source": [
    "setwd(\"/media/daten/dmeral/scseq_analysis/2024_LV_CTRL_ALDO_REC\")"
   ]
  },
  {
   "cell_type": "markdown",
   "id": "07052742-dfbb-47e3-ac61-9507525c4848",
   "metadata": {},
   "source": [
    "# Load obj and clean-up"
   ]
  },
  {
   "cell_type": "code",
   "execution_count": null,
   "id": "aba8f504-4bf2-4db8-9bd5-abde98fa7094",
   "metadata": {
    "scrolled": true
   },
   "outputs": [],
   "source": [
    "obj <- LoadH5Seurat(\"subcluster/FB/full_obj_with_Subcluster_FB_annotations.h5seurat\")"
   ]
  },
  {
   "cell_type": "code",
   "execution_count": 19,
   "id": "40c92388-b223-4ac8-9e02-1d5913bb398e",
   "metadata": {},
   "outputs": [],
   "source": [
    "# Clean-up of meta data\n",
    "\n",
    "obj$orig.ident <- NULL\n",
    "obj$log1p_total_counts <- NULL\n",
    "obj$log1p_n_genes_by_counts <- NULL\n",
    "obj$soup_group <- NULL\n",
    "obj$nCount_original.counts <- NULL\n",
    "obj$nFeature_original.counts <- NULL\n",
    "obj$ident <- NULL\n",
    "obj$scDblFinder.class <- NULL\n",
    "obj$scDblFinder.score <- NULL\n",
    "obj$scDblFinder.cxds_score <- NULL\n",
    "obj$RNA_snn_res.0.25 <- NULL\n",
    "obj$CMgenes1 <- NULL\n",
    "obj$seurat_clusters <- obj$Ident_numerical\n",
    "obj$Ident_numerical <- NULL\n",
    "obj$S.Score <- NULL\n",
    "obj$G2M.Score <- NULL\n",
    "obj$seurat_clusters_protein_coding <- NULL\n",
    "obj$replicate <- NULL\n",
    "obj$chamber <- NULL\n",
    "obj$unique <- NULL\n",
    "obj$cell_type_comb <- obj$cell_type_CMcomb\n",
    "obj$cell_type_CMcomb <- NULL\n",
    "obj$phase <- obj$Phase\n",
    "obj$Phase <- NULL\n",
    "obj$cardiomyocyte <- obj$Cardiomyocyte\n",
    "obj$Cardiomyocyte <- NULL"
   ]
  },
  {
   "cell_type": "code",
   "execution_count": 27,
   "id": "174a70c8-5013-4dd4-979d-b93f641b844c",
   "metadata": {},
   "outputs": [],
   "source": [
    "# Clean-up of embedding keys\n",
    "\n",
    "Key(obj[[\"umap\"]]) <- \"UMAP_\"\n",
    "Key(obj[[\"harmony\"]]) <- \"HARMONY_\"\n",
    "Key(obj[[\"pca\"]]) <- \"PCA_\"\n",
    "\n",
    "obj[[\"harmony_protein_coding\"]] <- NULL\n",
    "obj[[\"pca_protein_coding\"]] <- NULL\n",
    "obj[[\"umap_protein_coding\"]] <- NULL"
   ]
  },
  {
   "cell_type": "code",
   "execution_count": 33,
   "id": "70de47c7-8204-4ac0-807f-30c945ccb294",
   "metadata": {},
   "outputs": [],
   "source": [
    "saveRDS(obj, \"seurat_objects/2025_MR_HFpEF_Meral.rds\")"
   ]
  },
  {
   "cell_type": "code",
   "execution_count": 30,
   "id": "997cc4a5-6360-40b4-be3b-4fa121cae0c6",
   "metadata": {},
   "outputs": [
    {
     "data": {
      "text/plain": [
       "R version 4.2.2 (2022-10-31)\n",
       "Platform: x86_64-conda-linux-gnu (64-bit)\n",
       "Running under: Ubuntu 22.04.2 LTS\n",
       "\n",
       "Matrix products: default\n",
       "BLAS/LAPACK: /media/daten/dmeral/micromamba/envs/user_R/lib/libopenblasp-r0.3.26.so\n",
       "\n",
       "locale:\n",
       " [1] LC_CTYPE=en_US.UTF-8       LC_NUMERIC=C              \n",
       " [3] LC_TIME=en_US.UTF-8        LC_COLLATE=en_US.UTF-8    \n",
       " [5] LC_MONETARY=en_US.UTF-8    LC_MESSAGES=en_US.UTF-8   \n",
       " [7] LC_PAPER=en_US.UTF-8       LC_NAME=C                 \n",
       " [9] LC_ADDRESS=C               LC_TELEPHONE=C            \n",
       "[11] LC_MEASUREMENT=en_US.UTF-8 LC_IDENTIFICATION=C       \n",
       "\n",
       "attached base packages:\n",
       "[1] stats     graphics  grDevices utils     datasets  methods   base     \n",
       "\n",
       "other attached packages:\n",
       "[1] SeuratDisk_0.0.0.9021 SeuratObject_5.0.1    Seurat_4.4.0         \n",
       "\n",
       "loaded via a namespace (and not attached):\n",
       "  [1] Rtsne_0.17             colorspace_2.1-1       deldir_2.0-4          \n",
       "  [4] ggridges_0.5.6         IRdisplay_1.1          base64enc_0.1-3       \n",
       "  [7] dichromat_2.0-0.1      spatstat.data_3.1-2    leiden_0.4.3.1        \n",
       " [10] listenv_0.9.1          farver_2.1.2           bit64_4.6.0-1         \n",
       " [13] ggrepel_0.9.5          codetools_0.2-19       splines_4.2.2         \n",
       " [16] polyclip_1.10-6        IRkernel_1.3.2         spam_2.10-0           \n",
       " [19] jsonlite_2.0.0         ica_1.0-3              cluster_2.1.6         \n",
       " [22] png_0.1-8              uwot_0.1.16            shiny_1.9.1           \n",
       " [25] sctransform_0.4.1      spatstat.sparse_3.1-0  compiler_4.2.2        \n",
       " [28] httr_1.4.7             Matrix_1.6-5           fastmap_1.2.0         \n",
       " [31] lazyeval_0.2.2         cli_3.6.5              later_1.3.2           \n",
       " [34] htmltools_0.5.8.1      tools_4.2.2            igraph_2.1.4          \n",
       " [37] dotCall64_1.2          gtable_0.3.6           glue_1.8.0            \n",
       " [40] RANN_2.6.2             reshape2_1.4.4         dplyr_1.1.4           \n",
       " [43] Rcpp_1.0.14            scattermore_1.2        spatstat.univar_3.0-1 \n",
       " [46] vctrs_0.6.5            spatstat.explore_3.3-2 nlme_3.1-164          \n",
       " [49] progressr_0.14.0       lmtest_0.9-40          spatstat.random_3.3-2 \n",
       " [52] stringr_1.5.1          globals_0.16.3         mime_0.12             \n",
       " [55] miniUI_0.1.1.1         lifecycle_1.0.4        irlba_2.3.5.1         \n",
       " [58] goftest_1.2-3          future_1.34.0          MASS_7.3-60.0.1       \n",
       " [61] zoo_1.8-12             scales_1.4.0           promises_1.2.1        \n",
       " [64] spatstat.utils_3.1-0   parallel_4.2.2         RColorBrewer_1.1-3    \n",
       " [67] reticulate_1.35.0      pbapply_1.7-2          gridExtra_2.3         \n",
       " [70] ggplot2_3.5.2          stringi_1.8.4          repr_1.1.6            \n",
       " [73] rlang_1.1.6            pkgconfig_2.0.3        matrixStats_1.5.0     \n",
       " [76] evaluate_1.0.3         lattice_0.22-6         ROCR_1.0-11           \n",
       " [79] purrr_1.0.4            tensor_1.5             patchwork_1.3.0       \n",
       " [82] htmlwidgets_1.6.4      bit_4.6.0              cowplot_1.1.3         \n",
       " [85] tidyselect_1.2.1       parallelly_1.42.0      RcppAnnoy_0.0.22      \n",
       " [88] plyr_1.8.9             magrittr_2.0.3         R6_2.6.1              \n",
       " [91] generics_0.1.3         pbdZMQ_0.3-11          withr_3.0.2           \n",
       " [94] pillar_1.10.2          fitdistrplus_1.2-1     survival_3.5-8        \n",
       " [97] abind_1.4-8            sp_2.2-0               tibble_3.2.1          \n",
       "[100] future.apply_1.11.2    hdf5r_1.3.8            crayon_1.5.3          \n",
       "[103] uuid_1.2-0             KernSmooth_2.23-22     spatstat.geom_3.3-3   \n",
       "[106] plotly_4.10.4          grid_4.2.2             data.table_1.17.2     \n",
       "[109] digest_0.6.37          xtable_1.8-4           tidyr_1.3.1           \n",
       "[112] httpuv_1.6.14          viridisLite_0.4.2     "
      ]
     },
     "metadata": {},
     "output_type": "display_data"
    }
   ],
   "source": [
    "sessionInfo()"
   ]
  }
 ],
 "metadata": {
  "kernelspec": {
   "display_name": "user_R",
   "language": "R",
   "name": "user_r"
  },
  "language_info": {
   "codemirror_mode": "r",
   "file_extension": ".r",
   "mimetype": "text/x-r-source",
   "name": "R",
   "pygments_lexer": "r",
   "version": "4.2.2"
  }
 },
 "nbformat": 4,
 "nbformat_minor": 5
}
