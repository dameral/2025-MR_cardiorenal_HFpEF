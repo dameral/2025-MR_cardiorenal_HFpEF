{
 "cells": [
  {
   "cell_type": "markdown",
   "id": "6de49d5e-d725-45f6-92e1-6831e18d8891",
   "metadata": {},
   "source": [
    "# Load libraries and Themes"
   ]
  },
  {
   "cell_type": "code",
   "execution_count": 1,
   "id": "35d7dba7-aec1-4e24-9702-d0eb6d41a8e3",
   "metadata": {
    "scrolled": true,
    "tags": []
   },
   "outputs": [],
   "source": [
    "suppressPackageStartupMessages({\n",
    "  suppressWarnings({\n",
    "    library(Seurat)\n",
    "    library(SoupX)\n",
    "    library(ggplot2)\n",
    "    library(tidyverse)\n",
    "    library(harmony)\n",
    "    library(SeuratDisk)\n",
    "    library(SingleCellExperiment)\n",
    "    library(DESeq2)\n",
    "    library(dplyr)\n",
    "    library(EnhancedVolcano)\n",
    "    library(Rsamtools)\n",
    "    library(svglite)\n",
    "    library(viridis)\n",
    "    library(gridExtra)\n",
    "    library(dplyr)\n",
    "    library(pals)\n",
    "            })})"
   ]
  },
  {
   "cell_type": "code",
   "execution_count": null,
   "id": "39ea3e8b-4e9f-4694-a0dc-58f4c95dd9af",
   "metadata": {},
   "outputs": [],
   "source": [
    "#Color Palettes\n",
    "\n",
    "palette.21 <- DiscretePalette(21, palette = \"stepped\", shuffle = TRUE)\n",
    "\n",
    "palette.ex <- c(\n",
    "    \"#000000\",#doublet\n",
    "    \"#bababa\"#singlet\n",
    ")\n",
    "    \n",
    "palette.treatment <- c(\n",
    "    \"#C1C1C1\", # CTRL\n",
    "    \"#AF0000\", # ALDO\n",
    "    \"#006AF3\"  # REC\n",
    ")\n",
    "\n",
    "palette.treatmentid <- c(\n",
    "    \"#C1C1C1\", # CTRL\n",
    "    \"#C1C1C1\", # CTRL\n",
    "    \"#AF0000\", # ALDO\n",
    "    \"#AF0000\", # ALDO\n",
    "    \"#AF0000\", # ALDO\n",
    "    \"#AF0000\", # ALDO\n",
    "    \"#C1C1C1\", # CTRL\n",
    "    \"#C1C1C1\", # CTRL\n",
    "    \"#006AF3\",  # REC\n",
    "    \"#006AF3\",  # REC\n",
    "    \"#006AF3\",  # REC\n",
    "    \"#006AF3\"  # REC\n",
    ")"
   ]
  },
  {
   "cell_type": "code",
   "execution_count": null,
   "id": "594f95d6-1f38-411c-aed5-ad8b70d5a04f",
   "metadata": {},
   "outputs": [],
   "source": [
    "umap_theme <- theme(\n",
    "  axis.line=element_blank(),\n",
    "  axis.text.x=element_blank(),\n",
    "  axis.text.y=element_blank(),\n",
    "  axis.ticks=element_blank(),\n",
    "  axis.title.x=element_blank(),\n",
    "  axis.title.y=element_blank(),\n",
    "  panel.background=element_blank(),\n",
    "  panel.border=element_blank(),\n",
    "  panel.grid.major=element_blank(),\n",
    "  panel.grid.minor=element_blank()\n",
    ")"
   ]
  },
  {
   "cell_type": "code",
   "execution_count": null,
   "id": "4c5dd502-239e-4284-a041-5e787e6f7d0f",
   "metadata": {
    "tags": []
   },
   "outputs": [],
   "source": [
    "setwd(\"/media/daten/dmeral/scseq_analysis/2024_LV_CTRL_ALDO_REC\")"
   ]
  },
  {
   "cell_type": "code",
   "execution_count": null,
   "id": "17353216-f808-4110-b353-f5e0c1d8e8da",
   "metadata": {},
   "outputs": [],
   "source": [
    "set.seed(1234)"
   ]
  },
  {
   "cell_type": "markdown",
   "id": "b39519f6-2251-4d1c-b620-11a724d3db45",
   "metadata": {},
   "source": [
    "# Split to even out contamination fraction across samples and merge"
   ]
  },
  {
   "cell_type": "markdown",
   "id": "54b6d8d8-559a-4ac4-a439-239eb8790fc6",
   "metadata": {},
   "source": [
    "**Until here code was executed with iterating setContaminationFraction in SoupX.** After integration with Harmony, CM gene expression was visualized in UMAP and marker genes were determined across clusters. Based on this, sample specific contamination fractions were determined. Here non-integrated seurat objects are subsetted to respective samples and merged to final object.    "
   ]
  },
  {
   "cell_type": "code",
   "execution_count": null,
   "id": "2204ca8b-e1d5-48e1-99c7-bbb9f87df908",
   "metadata": {},
   "outputs": [],
   "source": [
    "# Define sample names\n",
    "samples <- c(\"LV_2108\", \"LV_2109\", \"LV_2110\", \"LV_2111\", \n",
    "             \"LV_2112\", \"LV_2113\", \"LV_2114\", \"LV_2115\", \n",
    "             \"LV_2310\", \"LV_2311\", \"LV_2312\", \"LV_2313\")\n",
    "\n",
    "# Create metadata matrix\n",
    "meta.data_tab <- matrix(c(\n",
    "  rep(1, each = 12),  # replicate\n",
    "  \"CTRL\", \"CTRL\", \"ALDO\", \"ALDO\", \"ALDO\", \"ALDO\", \"CTRL\", \"CTRL\", \"REC\", \"REC\", \"REC\", \"REC\",  # treatment\n",
    "  \"f\", \"f\", \"f\", \"f\", \"m\", \"m\", \"m\", \"m\", \"f\", \"f\", \"m\", \"m\",  # sex\n",
    "  2, 1, 2, 1, 1, 2, 2, 1, rep(3, each = 4),  # batch\n",
    "  rep(\"LV\", each = 12),  # chamber\n",
    "  1:12,  # unique\n",
    "  25, 30, 30, 20, 20, 25, 35, 30, 30, 15, 10, 15  # ContaminationFraction\n",
    "), ncol = 12, byrow = TRUE)\n",
    "\n",
    "rownames(meta.data_tab) <- c(\"replicate\", \"treatment\", \"sex\", \"batch\", \"chamber\", \"unique\", \"ContaminationFraction\")\n",
    "colnames(meta.data_tab) <- samples\n",
    "\n",
    "meta.data_tab <- as.table(meta.data_tab)\n",
    "\n",
    "meta.data_tab"
   ]
  },
  {
   "cell_type": "code",
   "execution_count": null,
   "id": "0b7ef4ad-b6d0-4348-a6c4-bca58b608ff2",
   "metadata": {
    "scrolled": true,
    "tags": []
   },
   "outputs": [],
   "source": [
    "# e.g setContaminationFraction_0.1 reflects 10% of reads removed as contamonation\n",
    "setContaminationFraction_0.10_dbl <- LoadH5Seurat(\"seurat_objects/setContaminationFraction/setContaminationFraction_0.1_dbl.h5seurat\")\n",
    "setContaminationFraction_0.15_dbl <- LoadH5Seurat(\"seurat_objects/setContaminationFraction/setContaminationFraction_0.15_dbl.h5seurat\")\n",
    "setContaminationFraction_0.20_dbl <- LoadH5Seurat(\"seurat_objects/setContaminationFraction/setContaminationFraction_0.2_dbl.h5seurat\")\n",
    "setContaminationFraction_0.25_dbl <- LoadH5Seurat(\"seurat_objects/setContaminationFraction/setContaminationFraction_0.25_dbl.h5seurat\")\n",
    "setContaminationFraction_0.30_dbl <- LoadH5Seurat(\"seurat_objects/setContaminationFraction/setContaminationFraction_0.3_dbl.h5seurat\")\n",
    "setContaminationFraction_0.35_dbl <- LoadH5Seurat(\"seurat_objects/setContaminationFraction/setContaminationFraction_0.35_dbl.h5seurat\")"
   ]
  },
  {
   "cell_type": "code",
   "execution_count": null,
   "id": "2e11a62a-c523-4c46-83f0-2784d333eb3e",
   "metadata": {},
   "outputs": [],
   "source": [
    "subset_010 <- subset(setContaminationFraction_0.10_dbl, subset = sample_id %in% c(\"LV_2312\"))\n",
    "subset_015 <- subset(setContaminationFraction_0.15_dbl, subset = sample_id %in% c(\"LV_2311\", \"LV_2313\"))\n",
    "subset_020 <- subset(setContaminationFraction_0.20_dbl, subset = sample_id %in% c(\"LV_2111\", \"LV_2112\"))\n",
    "subset_025 <- subset(setContaminationFraction_0.25_dbl, subset = sample_id %in% c(\"LV_2108\", \"LV_2113\"))\n",
    "subset_030 <- subset(setContaminationFraction_0.30_dbl, subset = sample_id %in% c(\"LV_2110\", \"LV_2310\", \"LV_2109\", \"LV_2115\"))\n",
    "subset_035 <- subset(setContaminationFraction_0.35_dbl, subset = sample_id %in% c(\"LV_2114\"))"
   ]
  },
  {
   "cell_type": "code",
   "execution_count": null,
   "id": "46382d26-63fb-418c-a81e-ec6971981f5e",
   "metadata": {},
   "outputs": [],
   "source": [
    "obj_seu_merge_dbl <- merge(subset_010, y = c(subset_015, subset_020, subset_025, subset_030, subset_035), merge.data = TRUE, project = \"LV_C57Bl6_Aldosterone\")"
   ]
  },
  {
   "cell_type": "code",
   "execution_count": null,
   "id": "270112f6-7c16-415d-9e03-f175d72831a1",
   "metadata": {
    "tags": []
   },
   "outputs": [],
   "source": [
    "SaveH5Seurat(obj_seu_merge_dbl, \"seurat_objects/obj_seu_merge_dbl\")"
   ]
  },
  {
   "cell_type": "code",
   "execution_count": null,
   "id": "bda89364-b924-4ab5-8e05-68149588a961",
   "metadata": {
    "scrolled": true
   },
   "outputs": [],
   "source": [
    "#Filter Singlets\n",
    "obj_seu_merge <- subset(obj_seu_merge_dbl, subset = scDblFinder.class == \"singlet\")"
   ]
  },
  {
   "cell_type": "markdown",
   "id": "4e55715a-b2a1-41d5-802b-73b667898601",
   "metadata": {},
   "source": [
    "# Visualize doublets in UMAP"
   ]
  },
  {
   "cell_type": "markdown",
   "id": "ed50101c-4310-4e34-954b-4d90162d4850",
   "metadata": {
    "collapsed": true,
    "jupyter": {
     "outputs_hidden": true
    },
    "scrolled": true,
    "tags": []
   },
   "source": [
    "obj_seu_merge_dbl <- LoadH5Seurat(\"seurat_objects/obj_seu_merge_dbl.h5seurat\")"
   ]
  },
  {
   "cell_type": "code",
   "execution_count": null,
   "id": "0b73a254-c82c-43ac-baf6-4fb05185ca5b",
   "metadata": {},
   "outputs": [],
   "source": [
    "# switch default assay to RNA\n",
    "DefaultAssay(object = obj_seu_merge_dbl) <- \"RNA\""
   ]
  },
  {
   "cell_type": "code",
   "execution_count": null,
   "id": "8275eca0-7f17-4f9f-be56-555f7246bf88",
   "metadata": {},
   "outputs": [],
   "source": [
    "obj <- subset(obj_seu_merge_dbl, subset = nFeature_RNA > 300 & nFeature_RNA < 5000 & \n",
    "                        nCount_RNA > 500 & nCount_RNA < 15000 &\n",
    "                        percent.mt < 5)\n",
    "\n",
    "obj <- NormalizeData(obj, verbose = FALSE)\n",
    "obj <- FindVariableFeatures(obj, verbose = FALSE)\n",
    "obj <- ScaleData(obj, verbose = FALSE)\n",
    "obj <- RunPCA(obj, assay = \"RNA\", npcs = 35, verbose = FALSE)"
   ]
  },
  {
   "cell_type": "code",
   "execution_count": null,
   "id": "6a4f596c-a7ba-497d-bc74-08b4b436cb31",
   "metadata": {},
   "outputs": [],
   "source": [
    "options(repr.plot.width = 3, repr.plot.height = 2)\n",
    "\n",
    "ElbowPlot(obj, ndims = 50)"
   ]
  },
  {
   "cell_type": "code",
   "execution_count": null,
   "id": "67998082-4447-4d05-8fa8-2426ae1f3929",
   "metadata": {},
   "outputs": [],
   "source": [
    "obj$batch <- as.factor(obj$batch)"
   ]
  },
  {
   "cell_type": "code",
   "execution_count": null,
   "id": "65946961-e0cc-4075-a196-622b1973eaa2",
   "metadata": {},
   "outputs": [],
   "source": [
    "#Run Harmony. n=2 to low for multifactoial analysis, obj_umap similar processing w/o this step\n",
    "obj <- obj %>%\n",
    "  RunHarmony(group.by.vars = c(\"batch\"), plot_convergence = FALSE, assay.use = \"RNA\", verbose = FALSE)"
   ]
  },
  {
   "cell_type": "code",
   "execution_count": null,
   "id": "67b8d7b5-3a4c-4247-b9c2-9722c1a6ba6d",
   "metadata": {},
   "outputs": [],
   "source": [
    "obj_harmony_umap <- obj %>%\n",
    "  RunUMAP(reduction = \"harmony\", dims = 1:35, min.dist = 0.4, spread = 1.0, verbose = FALSE) %>%\n",
    "  FindNeighbors(reduction = \"harmony\", dims = 1:35, verbose = FALSE) %>%\n",
    "  FindClusters(resolution = 0.25)\n",
    "\n",
    "SaveH5Seurat(obj_harmony_umap, \"seurat_objects/obj_seu_merge_harmony_dbl\")"
   ]
  },
  {
   "cell_type": "code",
   "execution_count": null,
   "id": "5e3fc29f-8998-414d-be05-019ee47acf38",
   "metadata": {},
   "outputs": [],
   "source": [
    "number <- table(obj_harmony_umap@meta.data$sample_id, \n",
    "                          obj_harmony_umap@meta.data$seurat_clusters)\n",
    "write.csv(number, file = \"cellnumbers/number_perCluster_sample_id_dbl.csv\")\n",
    "\n",
    "number <- table(obj_harmony_umap@meta.data$treatment, \n",
    "                          obj_harmony_umap@meta.data$seurat_clusters)\n",
    "write.csv(number, file = \"cellnumbers/number_perCluster_Teatment_dbl.csv\")"
   ]
  },
  {
   "cell_type": "code",
   "execution_count": null,
   "id": "3272c835-feda-4acf-83ed-8201d3ade555",
   "metadata": {},
   "outputs": [],
   "source": [
    "options(repr.plot.width = 5, repr.plot.height = 4, repr.plot.res = 300)\n",
    "\n",
    "UMAP_dbl <- DimPlot(obj_harmony_umap, group.by = \"scDblFinder.class\", label = FALSE, shuffle = TRUE, raster = FALSE, cols = palette.ex) +\n",
    "  umap_theme + ggtitle(\"UMAP excluded doublets\") + theme(text = element_text(size = 15)) + theme(legend.position = \"none\")\n",
    "\n",
    "ggsave(\"Plots/UMAP_dbl.svg\", UMAP_dbl, units = \"cm\", dpi = 300, width = 30, height = 20)\n",
    "\n",
    "UMAP_dbl"
   ]
  },
  {
   "cell_type": "code",
   "execution_count": null,
   "id": "5991d6c1-73c0-421d-93cc-fb5868e062af",
   "metadata": {},
   "outputs": [],
   "source": [
    "options(repr.plot.width = 5, repr.plot.height = 4, repr.plot.res = 300)\n",
    "\n",
    "UMAP_dbl_seurat_clusters <- DimPlot(obj_harmony_umap, group.by = \"seurat_clusters\", label = TRUE, shuffle = TRUE, raster = FALSE, cols = palette.21) +\n",
    "  umap_theme + ggtitle(\"UMAP excluded doublets\") + theme(text = element_text(size = 15)) + theme(legend.position = \"none\")\n",
    "\n",
    "ggsave(\"Plots/UMAP_dbl_seurat_clusters.svg\", UMAP_dbl_seurat_clusters, units = \"cm\", dpi = 300, width = 30, height = 20)\n",
    "\n",
    "UMAP_dbl_seurat_clusters"
   ]
  },
  {
   "cell_type": "code",
   "execution_count": null,
   "id": "b34d599a-05bf-40e4-a2c0-7e25fd10baff",
   "metadata": {},
   "outputs": [],
   "source": [
    "options(repr.plot.width = 5, repr.plot.height = 4, repr.plot.res = 300) \n",
    "\n",
    "VlnPlot_dbl <- VlnPlot(obj_harmony_umap, group.by = \"seurat_clusters\", \n",
    "                      features = c(\"scDblFinder.weighted\"),\n",
    "                      pt.size = 0, raster = TRUE, ncol = 2, cols = palette.21) & NoLegend()\n",
    "\n",
    "ggsave(\"Plots/VlnPlot_dbl_scDblFinder.weighted.svg\", VlnPlot_dbl, units = \"cm\", dpi = 300, width = 30, height = 20)\n",
    "\n",
    "VlnPlot_dbl"
   ]
  },
  {
   "cell_type": "code",
   "execution_count": null,
   "id": "d21761a2-a53b-40bf-bbb2-514e7b22f125",
   "metadata": {
    "tags": []
   },
   "outputs": [],
   "source": [
    "all.markers <- FindAllMarkers(obj_harmony_umap, only.pos = TRUE, min.pct = 0.50, logfc.threshold = 0.58, test.use = \"wilcox\")\n",
    "all.markers %>%\n",
    "  group_by(\"seurat_clusters\") %>%\n",
    "  slice_max(n = 5, order_by = avg_log2FC)\n",
    "\n",
    "write.csv(all.markers, file = \"DEGs/all.markers_wilcox_harmony_dbl.csv\")"
   ]
  },
  {
   "cell_type": "markdown",
   "id": "8287c14b-618a-42f0-b31a-5934348d89a1",
   "metadata": {},
   "source": [
    "# Harmony (integration)"
   ]
  },
  {
   "cell_type": "markdown",
   "id": "4a2b7194-d427-418d-9956-ae8fa8aa8fdf",
   "metadata": {},
   "source": [
    "**run Harmony, UMAP using Harmony embeddings instead of PCA and visualize**\n",
    "Resolution can dramatically effect your clustering. While the overall shape of the UMAP will not change the number of clusterings will be altered. \n",
    "This was dynamically adjusted. Too high a resolution leads to ill defined clusters which lack unique markers. Too low leads to clusters that are too large missing meaningful info."
   ]
  },
  {
   "cell_type": "code",
   "execution_count": null,
   "id": "026c2fd5-9c05-4c93-84d8-799518f8952e",
   "metadata": {},
   "outputs": [],
   "source": [
    "# Switch default assay to RNA\n",
    "DefaultAssay(object = obj_seu_merge) <- \"RNA\"\n",
    "DefaultAssay(object = obj_seu_merge)"
   ]
  },
  {
   "cell_type": "code",
   "execution_count": null,
   "id": "578c16f0-b131-4eee-8862-d1114246865a",
   "metadata": {
    "scrolled": true,
    "tags": []
   },
   "outputs": [],
   "source": [
    "# Filter based on nFeature_RNA, nCount_RNA and sanity check for percent.mt\n",
    "obj <- subset(obj_seu_merge, subset = nFeature_RNA > 300 & nFeature_RNA < 5000 & \n",
    "                        nCount_RNA > 500 & nCount_RNA < 15000 &\n",
    "                        percent.mt < 5)\n",
    "\n",
    "obj <- NormalizeData(obj, verbose = FALSE)\n",
    "obj <- FindVariableFeatures(obj, verbose = FALSE)\n",
    "obj <- ScaleData(obj, verbose = FALSE)\n",
    "obj <- RunPCA(obj, assay = \"RNA\", npcs = 35, verbose = FALSE)"
   ]
  },
  {
   "cell_type": "code",
   "execution_count": null,
   "id": "594d5639-8613-437a-9984-cdc56e049d9e",
   "metadata": {},
   "outputs": [],
   "source": [
    "options(repr.plot.width = 3, repr.plot.height = 2)\n",
    "\n",
    "ElbowPlot(obj, ndims = 50)"
   ]
  },
  {
   "cell_type": "code",
   "execution_count": null,
   "id": "a14858d4-606c-4e81-ad69-29495f6f30ae",
   "metadata": {
    "scrolled": true
   },
   "outputs": [],
   "source": [
    "# Process UMAP before harmony for comparison\n",
    "obj_seu_merge_UMAP <- obj %>%\n",
    "  RunUMAP(dims = 1:35, min.dist = 0.4, spread = 1.0, verbose = FALSE) %>%\n",
    "  FindNeighbors(dims = 1:35, verbose = FALSE) %>%\n",
    "  FindClusters(resolution = 0.25)\n",
    "\n",
    "SaveH5Seurat(obj_seu_merge_UMAP, \"seurat_objects/obj_seu_merge_beforeharmony_sgl\")"
   ]
  },
  {
   "cell_type": "code",
   "execution_count": null,
   "id": "be379fa3-ef4d-42fa-8fd9-63a0c9bb32e5",
   "metadata": {
    "tags": []
   },
   "outputs": [],
   "source": [
    "# Integrate \"batch\" to minimize batch-specific clustering\n",
    "options(repr.plot.width = 3, repr.plot.height = 2)\n",
    "\n",
    "obj$batch <- as.factor(obj$batch)\n",
    "\n",
    "obj <- obj %>%\n",
    "  RunHarmony(group.by.vars = c(\"batch\"), plot_convergence = TRUE, assay.use = \"RNA\", verbose = FALSE)"
   ]
  },
  {
   "cell_type": "code",
   "execution_count": null,
   "id": "be4610b5-4ad0-4c01-a16c-af0c99f2d144",
   "metadata": {
    "scrolled": true,
    "tags": []
   },
   "outputs": [],
   "source": [
    "# Run UMAP\n",
    "obj_harmony <- obj %>%\n",
    "  RunUMAP(reduction = \"harmony\", dims = 1:35, verbose = FALSE) %>%\n",
    "  FindNeighbors(reduction = \"harmony\", dims = 1:35, verbose = FALSE) %>%\n",
    "  FindClusters(resolution = 0.25)\n",
    "\n",
    "SaveH5Seurat(obj_harmony, \"seurat_objects/obj_seu_merge_harmony_sgl\")"
   ]
  },
  {
   "cell_type": "code",
   "execution_count": null,
   "id": "90b95890-b0b3-46cc-a1d6-b0cd8cbc6759",
   "metadata": {},
   "outputs": [],
   "source": [
    "# Sanity check\n",
    "options(repr.plot.width = 10, repr.plot.height = 4, repr.plot.res = 300) \n",
    "\n",
    "DimPlot(obj_harmony, reduction = \"umap\", label = TRUE, label.size = 3, group.by = \"seurat_clusters\")|\n",
    "DimPlot(obj_harmony, reduction = \"umap\", label = TRUE, label.size = 3, group.by = \"scDblFinder.class\")"
   ]
  },
  {
   "cell_type": "markdown",
   "id": "4b72d63e-a795-4427-a429-c94b9cd86048",
   "metadata": {},
   "source": [
    "# Visualize CM contamination"
   ]
  },
  {
   "cell_type": "code",
   "execution_count": null,
   "id": "564e8034-6989-4687-8b5c-394df6f0cf30",
   "metadata": {},
   "outputs": [],
   "source": [
    "# Top20 marker genes defining cluster_0 (main CM cluster)\n",
    "CMgenes <- list(c(\n",
    "    \"Malat1\", \"Ttn\", \"Ryr2\", \"Cacna1c\", \"Pde4dip\", \"Rbm20\", \"Pde4d\", \"Myh6\",\n",
    "    \"Ctnna3\", \"Slc8a1\", \"Sorbs1\", \"Fhl2\", \"Palld\", \"Fhod3\", \n",
    "    \"Atp2a2\", \"Pcdh7\", \"Ldb3\", \"Tnnt2\", \"Ank2\", \"Pln\"\n",
    "))"
   ]
  },
  {
   "cell_type": "code",
   "execution_count": null,
   "id": "29860da8-6a69-4ed7-87b6-9c9271c13dbd",
   "metadata": {
    "scrolled": true,
    "tags": []
   },
   "outputs": [],
   "source": [
    "# Similar processing and setting ContaminationFraction to 0.00\n",
    "obj_woSoupX <- LoadH5Seurat(\"seurat_objects/setContaminationFraction/setContaminationFraction_0_harmony_sgl.h5seurat\")"
   ]
  },
  {
   "cell_type": "markdown",
   "id": "5951cc6c-ab06-4821-9c4e-5d6ebc84c221",
   "metadata": {
    "tags": []
   },
   "source": [
    "## For comparison data Set w/o SoupX"
   ]
  },
  {
   "cell_type": "code",
   "execution_count": null,
   "id": "ed9a2c98-81be-4524-9343-195d9eba78d8",
   "metadata": {},
   "outputs": [],
   "source": [
    "obj_woSoupX$Cardiomyocyte <- ifelse(test = obj_woSoupX$seurat_clusters %in% c(0, 5, 10), yes = \"CM\", no = \"non-CM\")"
   ]
  },
  {
   "cell_type": "code",
   "execution_count": null,
   "id": "19031c9e-900d-4b43-844b-15ea7754cf5f",
   "metadata": {},
   "outputs": [],
   "source": [
    "obj_woSoupX_addmodule <- AddModuleScore(obj_woSoupX,\n",
    "                  features = CMgenes,\n",
    "                  name = \"CMgenes\")"
   ]
  },
  {
   "cell_type": "code",
   "execution_count": null,
   "id": "db3acfa2-2e55-43a6-ad47-73b19683d101",
   "metadata": {},
   "outputs": [],
   "source": [
    "# Treatment-wise plot of module expression of CM marker genes without SoupX\n",
    "options(repr.plot.width = 10, repr.plot.height = 5, repr.plot.res = 300)\n",
    "\n",
    "Vln_CMgenes_wo <- VlnPlot(obj_woSoupX_addmodule, \n",
    "        features = \"CMgenes1\", group.by = \"Cardiomyocyte\", pt.size = NULL, split.by = \"treatment\", cols = palette.treatment) + geom_boxplot(position = position_dodge(0.9), notch = FALSE, colour = \"white\", outlier.shape = NA, linewidth = 1, width = 0.5)\n",
    "Vln_Myh6_wo <- VlnPlot(obj_woSoupX_addmodule, \n",
    "        features = \"Myh6\", group.by = \"Cardiomyocyte\", pt.size = NULL, split.by = \"treatment\", cols = palette.treatment) + geom_boxplot(position = position_dodge(0.9), notch = FALSE, colour = \"white\", outlier.shape = NA, linewidth = 1, width = 0.5)\n",
    "\n",
    "ggsave(\"Plots/VlnPlot_CMcontamination_woSoupX_CMgenes.svg\", Vln_CMgenes_wo, units = \"cm\", dpi = 300, width = 15, height = 20)\n",
    "ggsave(\"Plots/VlnPlot_CMcontamination_woSoupX_Myh6.svg\", Vln_Myh6_wo, units = \"cm\", dpi = 300, width = 15, height = 20)\n",
    "\n",
    "Vln_CMgenes_wo|Vln_Myh6_wo"
   ]
  },
  {
   "cell_type": "code",
   "execution_count": null,
   "id": "2c622afd-ef59-457a-aed4-eebe4c14d420",
   "metadata": {},
   "outputs": [],
   "source": [
    "# Sample-wise plot of module expression of CM marker genes without SoupX\n",
    "options(repr.plot.width = 20, repr.plot.height = 10, repr.plot.res = 300)\n",
    "\n",
    "Vln_CMgenes_wo <- VlnPlot(obj_woSoupX_addmodule, \n",
    "        features = \"CMgenes1\", group.by = \"Cardiomyocyte\", pt.size = NULL, split.by = \"sample_id\", cols = palette.treatmentid) + geom_boxplot(position = position_dodge(0.9), notch = FALSE, colour = \"white\", outlier.shape = NA, linewidth = 1, width = 0.5)\n",
    "Vln_Myh6_wo <- VlnPlot(obj_woSoupX_addmodule, \n",
    "        features = \"Myh6\", group.by = \"Cardiomyocyte\", pt.size = NULL, split.by = \"sample_id\", cols = palette.treatmentid) + geom_boxplot(position = position_dodge(0.9), notch = FALSE, colour = \"white\", outlier.shape = NA, linewidth = 1, width = 0.5)\n",
    "\n",
    "ggsave(\"Plots/VlnPlot_CMcontamination_woSoupX_CMgenes_splitbyid.svg\", Vln_CMgenes_wo, units = \"cm\", dpi = 300, width = 40, height = 20)\n",
    "ggsave(\"Plots/VlnPlot_CMcontamination_woSoupX_Myh6_splitbyid.svg\", Vln_Myh6_wo, units = \"cm\", dpi = 300, width = 40, height = 20)\n",
    "\n",
    "Vln_CMgenes_wo\n",
    "Vln_Myh6_wo"
   ]
  },
  {
   "cell_type": "markdown",
   "id": "234da3b2-aed9-4812-bdfb-6cb6537d37c5",
   "metadata": {},
   "source": [
    "## Data Set w/ SoupX"
   ]
  },
  {
   "cell_type": "code",
   "execution_count": null,
   "id": "933253f1-3fcf-4eb9-a6a6-19dd96ee5adf",
   "metadata": {},
   "outputs": [],
   "source": [
    "obj_harmony$Cardiomyocyte <- ifelse(test = obj_harmony$seurat_clusters %in% c(0, 8, 11), yes = \"CM\", no = \"non-CM\")"
   ]
  },
  {
   "cell_type": "code",
   "execution_count": null,
   "id": "45e79e59-b8cd-4f92-b749-069fdd6ddf51",
   "metadata": {},
   "outputs": [],
   "source": [
    "obj_harmony_addmodule <- AddModuleScore(obj_harmony,\n",
    "                  features = CMgenes,\n",
    "                  name = \"CMgenes\")"
   ]
  },
  {
   "cell_type": "code",
   "execution_count": null,
   "id": "e4d3c5ee-4d3a-4504-8985-54ad6037962a",
   "metadata": {
    "scrolled": true
   },
   "outputs": [],
   "source": [
    "SaveH5Seurat(obj_harmony_addmodule, \"seurat_objects/obj_seu_merge_harmony_sgl_addmodule\")"
   ]
  },
  {
   "cell_type": "code",
   "execution_count": null,
   "id": "bd126a45-2de6-48ae-b228-648990e35383",
   "metadata": {},
   "outputs": [],
   "source": [
    "# Treatment-wise plot of module expression of CM marker genes with SoupX\n",
    "options(repr.plot.width = 20, repr.plot.height = 10, repr.plot.res = 300)\n",
    "\n",
    "Vln_CMgenes <- VlnPlot(obj_harmony_addmodule, \n",
    "        features = \"CMgenes1\", group.by = \"Cardiomyocyte\", pt.size = NULL, split.by = \"treatment\", cols = palette.treatment) + geom_boxplot(position = position_dodge(0.9), notch = FALSE, colour = \"white\", outlier.shape = NA, linewidth = 1, width = 0.5)\n",
    "Vln_Myh6 <- VlnPlot(obj_harmony_addmodule, \n",
    "        features = \"Myh6\", group.by = \"Cardiomyocyte\", pt.size = NULL, split.by = \"treatment\", cols = palette.treatment) + geom_boxplot(position = position_dodge(0.9), notch = FALSE, colour = \"white\", outlier.shape = NA, linewidth = 1, width = 0.5)\n",
    "\n",
    "ggsave(\"Plots/VlnPlot_CMcontamination_afterSoupX_CMgenes.svg\", Vln_CMgenes, units = \"cm\", dpi = 300, width = 15, height = 20)\n",
    "ggsave(\"Plots/VlnPlot_CMcontamination_afterSoupX_Myh6.svg\", Vln_Myh6, units = \"cm\", dpi = 300, width = 15, height = 20)\n",
    "\n",
    "Vln_CMgenes|Vln_Myh6"
   ]
  },
  {
   "cell_type": "code",
   "execution_count": null,
   "id": "d928b917-3fa8-4f30-b1ee-f136654128b6",
   "metadata": {},
   "outputs": [],
   "source": [
    "# Sample-wise plot of module expression of CM marker genes with SoupX\n",
    "\n",
    "options(repr.plot.width = 20, repr.plot.height = 10, repr.plot.res = 300)\n",
    "\n",
    "Vln_CMgenes <- VlnPlot(obj_harmony_addmodule, \n",
    "        features = \"CMgenes1\", group.by = \"Cardiomyocyte\", pt.size = NULL, split.by = \"sample_id\", cols = palette.treatmentid) + geom_boxplot(position = position_dodge(0.9), notch = FALSE, colour = \"white\", outlier.shape = NA, linewidth = 1, width = 0.5)\n",
    "Vln_Myh6 <- VlnPlot(obj_harmony_addmodule, \n",
    "        features = \"Myh6\", group.by = \"Cardiomyocyte\", pt.size = NULL, split.by = \"sample_id\", cols = palette.treatmentid) + geom_boxplot(position = position_dodge(0.9), notch = FALSE, colour = \"white\", outlier.shape = NA, linewidth = 1, width = 0.5)\n",
    "\n",
    "ggsave(\"Plots/VlnPlot_CMcontamination_afterSoupX_CMgenes_splitbyid.svg\", Vln_CMgenes, units = \"cm\", dpi = 300, width = 40, height = 20)\n",
    "ggsave(\"Plots/VlnPlot_CMcontamination_afterSoupX_Myh6_splitbyid.svg\", Vln_Myh6, units = \"cm\", dpi = 300, width = 40, height = 20)\n",
    "\n",
    "Vln_CMgenes\n",
    "Vln_Myh6"
   ]
  },
  {
   "cell_type": "markdown",
   "id": "e724a83d-d3d3-4fa2-b2b7-2ad1dfc336c3",
   "metadata": {},
   "source": [
    "## Plot UMAP grids and histograms with iterating setContaminationFraction"
   ]
  },
  {
   "cell_type": "code",
   "execution_count": null,
   "id": "2b802835-6603-47f4-bf3d-c941784f0ed4",
   "metadata": {
    "scrolled": true,
    "tags": []
   },
   "outputs": [],
   "source": [
    "# e.g setContaminationFraction_0.1 reflects 10% of reads removed as contamonation\n",
    "setContaminationFraction_0.00_sgl <- LoadH5Seurat(\"seurat_objects/setContaminationFraction/setContaminationFraction_0_harmony_sgl.h5seurat\")\n",
    "setContaminationFraction_0.05_sgl <- LoadH5Seurat(\"seurat_objects/setContaminationFraction/setContaminationFraction_0.05_harmony_sgl.h5seurat\")\n",
    "setContaminationFraction_0.10_sgl <- LoadH5Seurat(\"seurat_objects/setContaminationFraction/setContaminationFraction_0.1_harmony_sgl.h5seurat\")\n",
    "setContaminationFraction_0.15_sgl <- LoadH5Seurat(\"seurat_objects/setContaminationFraction/setContaminationFraction_0.15_harmony_sgl.h5seurat\")\n",
    "setContaminationFraction_0.20_sgl <- LoadH5Seurat(\"seurat_objects/setContaminationFraction/setContaminationFraction_0.2_harmony_sgl.h5seurat\")\n",
    "setContaminationFraction_0.25_sgl <- LoadH5Seurat(\"seurat_objects/setContaminationFraction/setContaminationFraction_0.25_harmony_sgl.h5seurat\")\n",
    "setContaminationFraction_0.30_sgl <- LoadH5Seurat(\"seurat_objects/setContaminationFraction/setContaminationFraction_0.3_harmony_sgl.h5seurat\")\n",
    "setContaminationFraction_0.35_sgl <- LoadH5Seurat(\"seurat_objects/setContaminationFraction/setContaminationFraction_0.35_harmony_sgl.h5seurat\")"
   ]
  },
  {
   "cell_type": "code",
   "execution_count": null,
   "id": "7f346237-b089-4c47-aed0-0f4c97eabcf4",
   "metadata": {},
   "outputs": [],
   "source": [
    "object_names <- c(\"setContaminationFraction_0.00_sgl\",\n",
    "                  \"setContaminationFraction_0.05_sgl\",\n",
    "                  \"setContaminationFraction_0.10_sgl\",\n",
    "                  \"setContaminationFraction_0.15_sgl\",\n",
    "                  \"setContaminationFraction_0.20_sgl\",\n",
    "                  \"setContaminationFraction_0.25_sgl\",\n",
    "                  \"setContaminationFraction_0.30_sgl\",\n",
    "                  \"setContaminationFraction_0.35_sgl\")\n",
    "\n",
    "# Loop through each object and run AddModuleScore, store in a new object\n",
    "for (names in object_names) {\n",
    "  obj <- get(names) \n",
    "  new_obj <- AddModuleScore(obj, features = CMgenes, name = \"CMgenes\")\n",
    "  \n",
    "  assign(paste0(names, \"_addmodule\"), new_obj)\n",
    "}\n"
   ]
  },
  {
   "cell_type": "code",
   "execution_count": null,
   "id": "62be1d78-380b-4085-aa90-cfce4ad1ab92",
   "metadata": {},
   "outputs": [],
   "source": [
    "# use q5 to exclude all values >q5\n",
    "UMAP_000 <- FeaturePlot(setContaminationFraction_0.00_sgl_addmodule,\n",
    "    features = c(\"CMgenes1\"), split.by = \"sample_id\", pt.size = 0, cols = viridis(256), max.cutoff = \"q25\") \n",
    "UMAP_005 <- FeaturePlot(setContaminationFraction_0.05_sgl_addmodule,\n",
    "    features = c(\"CMgenes1\"), split.by = \"sample_id\", pt.size = 0, cols = viridis(258), max.cutoff = \"q25\") \n",
    "UMAP_010 <- FeaturePlot(setContaminationFraction_0.10_sgl_addmodule,\n",
    "    features = c(\"CMgenes1\"), split.by = \"sample_id\", pt.size = 0, cols = viridis(258), max.cutoff = \"q25\") \n",
    "UMAP_015 <- FeaturePlot(setContaminationFraction_0.15_sgl_addmodule,\n",
    "    features = c(\"CMgenes1\"), split.by = \"sample_id\", pt.size = 0, cols = viridis(258), max.cutoff = \"q25\") \n",
    "UMAP_020 <- FeaturePlot(setContaminationFraction_0.20_sgl_addmodule,\n",
    "    features = c(\"CMgenes1\"), split.by = \"sample_id\", pt.size = 0, cols = viridis(258), max.cutoff = \"q25\") \n",
    "UMAP_025 <- FeaturePlot(setContaminationFraction_0.25_sgl_addmodule,\n",
    "    features = c(\"CMgenes1\"), split.by = \"sample_id\", pt.size = 0, cols = viridis(258), max.cutoff = \"q25\") \n",
    "UMAP_030 <- FeaturePlot(setContaminationFraction_0.30_sgl_addmodule,\n",
    "    features = c(\"CMgenes1\"), split.by = \"sample_id\", pt.size = 0, cols = viridis(258), max.cutoff = \"q25\") \n",
    "UMAP_035 <- FeaturePlot(setContaminationFraction_0.35_sgl_addmodule,\n",
    "    features = c(\"CMgenes1\"), split.by = \"sample_id\", pt.size = 0, cols = viridis(258), max.cutoff = \"q25\") "
   ]
  },
  {
   "cell_type": "code",
   "execution_count": null,
   "id": "7f4d129d-8c6f-469e-b3f0-91412d90619c",
   "metadata": {},
   "outputs": [],
   "source": [
    "options(repr.plot.width = 30, repr.plot.height = 18, repr.plot.res = 100)\n",
    "\n",
    "UMAP_list <- list(\n",
    "    UMAP_000,\n",
    "    UMAP_005,\n",
    "    UMAP_010,\n",
    "    UMAP_015,\n",
    "    UMAP_020,\n",
    "    UMAP_025,\n",
    "    UMAP_030,\n",
    "    UMAP_035\n",
    ")\n",
    "\n",
    "UMAP_grid <- patchwork::wrap_plots(UMAP_list, \n",
    "    nrow = 8, ncol = 1) & NoAxes() & NoLegend()\n",
    "\n",
    "ggsave(\"Plots/UMAP_grid_setContamination_CMgenes_q25.svg\", plot = UMAP_grid, units = \"cm\", dpi = 300, width =35, height = 21)\n",
    "\n",
    "UMAP_grid"
   ]
  },
  {
   "cell_type": "code",
   "execution_count": null,
   "id": "caea2351-c7d6-4f7b-a116-2fffd8594dd1",
   "metadata": {},
   "outputs": [],
   "source": [
    "UMAP_000 <- DimPlot(setContaminationFraction_0.00_sgl, reduction = \"umap\", label = TRUE, label.size = 3, group.by = \"seurat_clusters\")\n",
    "UMAP_005 <- DimPlot(setContaminationFraction_0.05_sgl, reduction = \"umap\", label = TRUE, label.size = 3, group.by = \"seurat_clusters\")\n",
    "UMAP_010 <- DimPlot(setContaminationFraction_0.10_sgl, reduction = \"umap\", label = TRUE, label.size = 3, group.by = \"seurat_clusters\")\n",
    "UMAP_015 <- DimPlot(setContaminationFraction_0.15_sgl, reduction = \"umap\", label = TRUE, label.size = 3, group.by = \"seurat_clusters\")\n",
    "UMAP_020 <- DimPlot(setContaminationFraction_0.20_sgl, reduction = \"umap\", label = TRUE, label.size = 3, group.by = \"seurat_clusters\")\n",
    "UMAP_025 <- DimPlot(setContaminationFraction_0.25_sgl, reduction = \"umap\", label = TRUE, label.size = 3, group.by = \"seurat_clusters\")\n",
    "UMAP_030 <- DimPlot(setContaminationFraction_0.30_sgl, reduction = \"umap\", label = TRUE, label.size = 3, group.by = \"seurat_clusters\")\n",
    "UMAP_035 <- DimPlot(setContaminationFraction_0.35_sgl, reduction = \"umap\", label = TRUE, label.size = 3, group.by = \"seurat_clusters\")"
   ]
  },
  {
   "cell_type": "code",
   "execution_count": null,
   "id": "4256e363-6a68-4332-ac61-6e4d252b457b",
   "metadata": {},
   "outputs": [],
   "source": [
    "UMAP_list <- list(\n",
    "    UMAP_000,\n",
    "    UMAP_005,\n",
    "    UMAP_010,\n",
    "    UMAP_015,\n",
    "    UMAP_020,\n",
    "    UMAP_025,\n",
    "    UMAP_030,\n",
    "    UMAP_035\n",
    ")\n",
    "\n",
    "UMAP_grid <- patchwork::wrap_plots(UMAP_list, \n",
    "    nrow = 8, ncol = 1) & NoAxes() & NoLegend()\n",
    "\n",
    "ggsave(\"Plots/UMAP_setContaminationFraction_clusters.svg\", plot = UMAP_grid, units = \"cm\", dpi = 300, width = 5, height = 40)"
   ]
  },
  {
   "cell_type": "code",
   "execution_count": null,
   "id": "cfa4e8da-d55f-4b11-b442-ad32fca54151",
   "metadata": {},
   "outputs": [],
   "source": [
    "# Histogram of AddModuleScores from gene set \"CMgenes\"\n",
    "plot_histograms_per_sample <- function(object_names, feature_name = \"CMgenes1\", fixed_y = 1500) {\n",
    "  plots_list <- list()\n",
    "\n",
    "  for (obj_name in object_names) {\n",
    "    obj <- get(obj_name) \n",
    "    \n",
    "    # Truncate the object name to the first 29 characters for the title\n",
    "    truncated_obj_name <- substr(obj_name, 26, 29)\n",
    "    \n",
    "    # Loop over the sample_id \n",
    "    sample_ids <- unique(obj@meta.data$sample_id)\n",
    "    for (sample_id_idx in seq_along(sample_ids)) {\n",
    "      sample_id <- sample_ids[sample_id_idx]\n",
    "      column_data <- obj@meta.data[obj@meta.data$sample_id == sample_id, feature_name]\n",
    "\n",
    "      # Create data frame for plotting\n",
    "      plot_data <- data.frame(CMgenes1 = column_data)\n",
    "\n",
    "      # Generate the histogram\n",
    "      p <- ggplot(plot_data, aes(x = CMgenes1)) +\n",
    "        geom_histogram(bins = 75, fill = \"grey\", color = \"grey\", alpha = 1) +\n",
    "        geom_vline(xintercept = 0, color = \"black\", linetype = \"solid\", size = 0.5) + # Add vertical line\n",
    "        geom_hline(yintercept = 0, color = \"black\", linetype = \"solid\", size = 0.5) + # Add horizontal line\n",
    "        scale_y_continuous(limits = c(0, fixed_y)) + # Fixed y-axis limit\n",
    "        theme_minimal() +\n",
    "        labs(title = paste(\"cF =\", truncated_obj_name, \",\", sample_id)) +\n",
    "        theme(\n",
    "          axis.title.x = element_blank(),  \n",
    "          axis.title.y = element_blank(),  \n",
    "          axis.text.x = element_blank(),   \n",
    "          axis.text.y = element_blank(),   \n",
    "          axis.ticks = element_blank() \n",
    "        )\n",
    "      \n",
    "      # Add axis numbers only to the bottom-left corner plot\n",
    "      if (obj_name == object_names[8] && sample_id_idx == 1) {\n",
    "        p <- p + theme(\n",
    "          axis.text.x = element_text(size = 10), \n",
    "          axis.text.y = element_text(size = 10), \n",
    "          axis.ticks = element_line()  \n",
    "        )\n",
    "      }\n",
    "      \n",
    "      # Add plot to list\n",
    "      plots_list[[paste(obj_name, sample_id, sep = \"_\")]] <- p\n",
    "    }\n",
    "  }\n",
    "  \n",
    "  # Arrange plots into a grid (each row for one object, each column for one sample_id)\n",
    "  grid_plots <- gridExtra::grid.arrange(grobs = plots_list, ncol = length(sample_ids))\n",
    "  \n",
    "  # Suppress printing the output\n",
    "  invisible(grid_plots)\n",
    "}\n",
    "\n",
    "# Plot\n",
    "histogram_setContamination <- plot_histograms_per_sample(c(\n",
    "                             \"setContaminationFraction_0.00_sgl_addmodule\", \n",
    "                             \"setContaminationFraction_0.05_sgl_addmodule\", \n",
    "                             \"setContaminationFraction_0.10_sgl_addmodule\", \n",
    "                             \"setContaminationFraction_0.15_sgl_addmodule\", \n",
    "                             \"setContaminationFraction_0.20_sgl_addmodule\",\n",
    "                             \"setContaminationFraction_0.25_sgl_addmodule\",\n",
    "                             \"setContaminationFraction_0.30_sgl_addmodule\",\n",
    "                             \"setContaminationFraction_0.35_sgl_addmodule\"))\n",
    "\n",
    "\n",
    "ggsave(\"Plots/histogram_setContamination_CMgenes.svg\", plot = histogram_setContamination, units = \"cm\", dpi = 300, width = 60, height = 45)\n",
    "\n",
    "invisible(histogram_setContamination)"
   ]
  },
  {
   "cell_type": "code",
   "execution_count": 2,
   "id": "686ee8f9-244c-446b-98d0-fba9bfc7035c",
   "metadata": {},
   "outputs": [
    {
     "data": {
      "text/plain": [
       "R version 4.3.3 (2024-02-29)\n",
       "Platform: x86_64-conda-linux-gnu (64-bit)\n",
       "Running under: Ubuntu 22.04.2 LTS\n",
       "\n",
       "Matrix products: default\n",
       "BLAS/LAPACK: /media/daten/dmeral/micromamba/envs/scrna_dm/lib/libopenblasp-r0.3.27.so;  LAPACK version 3.12.0\n",
       "\n",
       "locale:\n",
       " [1] LC_CTYPE=en_US.UTF-8       LC_NUMERIC=C              \n",
       " [3] LC_TIME=en_US.UTF-8        LC_COLLATE=en_US.UTF-8    \n",
       " [5] LC_MONETARY=en_US.UTF-8    LC_MESSAGES=en_US.UTF-8   \n",
       " [7] LC_PAPER=en_US.UTF-8       LC_NAME=C                 \n",
       " [9] LC_ADDRESS=C               LC_TELEPHONE=C            \n",
       "[11] LC_MEASUREMENT=en_US.UTF-8 LC_IDENTIFICATION=C       \n",
       "\n",
       "time zone: Etc/UTC\n",
       "tzcode source: system (glibc)\n",
       "\n",
       "attached base packages:\n",
       "[1] stats4    stats     graphics  grDevices utils     datasets  methods  \n",
       "[8] base     \n",
       "\n",
       "other attached packages:\n",
       " [1] pals_1.9                    gridExtra_2.3              \n",
       " [3] viridis_0.6.5               viridisLite_0.4.2          \n",
       " [5] svglite_2.1.3               Rsamtools_2.18.0           \n",
       " [7] Biostrings_2.70.3           XVector_0.42.0             \n",
       " [9] EnhancedVolcano_1.20.0      ggrepel_0.9.6              \n",
       "[11] DESeq2_1.42.1               SingleCellExperiment_1.24.0\n",
       "[13] SummarizedExperiment_1.32.0 Biobase_2.62.0             \n",
       "[15] GenomicRanges_1.54.1        GenomeInfoDb_1.38.8        \n",
       "[17] IRanges_2.36.0              S4Vectors_0.40.2           \n",
       "[19] BiocGenerics_0.48.1         MatrixGenerics_1.14.0      \n",
       "[21] matrixStats_1.4.1           SeuratDisk_0.0.0.9021      \n",
       "[23] harmony_1.2.3               Rcpp_1.0.13-1              \n",
       "[25] lubridate_1.9.4             forcats_1.0.0              \n",
       "[27] stringr_1.5.1               dplyr_1.1.4                \n",
       "[29] purrr_1.0.2                 readr_2.1.5                \n",
       "[31] tidyr_1.3.1                 tibble_3.2.1               \n",
       "[33] tidyverse_2.0.0             ggplot2_3.5.1              \n",
       "[35] SoupX_1.6.2                 Seurat_5.1.0               \n",
       "[37] SeuratObject_5.0.2          sp_2.1-4                   \n",
       "\n",
       "loaded via a namespace (and not attached):\n",
       "  [1] RcppAnnoy_0.0.22        splines_4.3.3           later_1.4.1            \n",
       "  [4] pbdZMQ_0.3-13           bitops_1.0-9            polyclip_1.10-7        \n",
       "  [7] fastDummies_1.7.4       lifecycle_1.0.4         globals_0.16.3         \n",
       " [10] lattice_0.22-6          hdf5r_1.3.11            MASS_7.3-60.0.1        \n",
       " [13] magrittr_2.0.3          plotly_4.10.4           httpuv_1.6.15          \n",
       " [16] sctransform_0.4.1.9001  spam_2.11-0             spatstat.sparse_3.1-0  \n",
       " [19] reticulate_1.40.0       mapproj_1.2.11          cowplot_1.1.3          \n",
       " [22] pbapply_1.7-2           RColorBrewer_1.1-3      maps_3.4.2.1           \n",
       " [25] abind_1.4-8             zlibbioc_1.48.2         Rtsne_0.17             \n",
       " [28] RCurl_1.98-1.16         GenomeInfoDbData_1.2.11 irlba_2.3.5.1          \n",
       " [31] listenv_0.9.1           spatstat.utils_3.1-1    goftest_1.2-3          \n",
       " [34] RSpectra_0.16-2         spatstat.random_3.3-2   fitdistrplus_1.2-1     \n",
       " [37] parallelly_1.40.1       leiden_0.4.3.1          codetools_0.2-20       \n",
       " [40] DelayedArray_0.28.0     tidyselect_1.2.1        farver_2.1.2           \n",
       " [43] base64enc_0.1-3         spatstat.explore_3.3-3  jsonlite_1.8.9         \n",
       " [46] progressr_0.15.1        ggridges_0.5.6          survival_3.7-0         \n",
       " [49] systemfonts_1.1.0       tools_4.3.3             ica_1.0-3              \n",
       " [52] glue_1.8.0              SparseArray_1.2.4       IRdisplay_1.1          \n",
       " [55] withr_3.0.2             fastmap_1.2.0           fansi_1.0.6            \n",
       " [58] digest_0.6.37           timechange_0.3.0        R6_2.5.1               \n",
       " [61] mime_0.12               colorspace_2.1-1        scattermore_1.2        \n",
       " [64] tensor_1.5              dichromat_2.0-0.1       spatstat.data_3.1-4    \n",
       " [67] utf8_1.2.4              generics_0.1.3          data.table_1.16.4      \n",
       " [70] httr_1.4.7              htmlwidgets_1.6.4       S4Arrays_1.2.1         \n",
       " [73] uwot_0.2.2              pkgconfig_2.0.3         gtable_0.3.6           \n",
       " [76] lmtest_0.9-40           htmltools_0.5.8.1       dotCall64_1.2          \n",
       " [79] scales_1.3.0            png_0.1-8               spatstat.univar_3.1-1  \n",
       " [82] tzdb_0.4.0              reshape2_1.4.4          uuid_1.2-1             \n",
       " [85] nlme_3.1-166            repr_1.1.7              zoo_1.8-12             \n",
       " [88] KernSmooth_2.23-24      parallel_4.3.3          miniUI_0.1.1.1         \n",
       " [91] pillar_1.9.0            grid_4.3.3              vctrs_0.6.5            \n",
       " [94] RANN_2.6.2              promises_1.3.2          xtable_1.8-4           \n",
       " [97] cluster_2.1.7           evaluate_1.0.1          cli_3.6.3              \n",
       "[100] locfit_1.5-9.10         compiler_4.3.3          rlang_1.1.4            \n",
       "[103] crayon_1.5.3            future.apply_1.11.3     plyr_1.8.9             \n",
       "[106] stringi_1.8.4           deldir_2.0-4            BiocParallel_1.36.0    \n",
       "[109] munsell_0.5.1           lazyeval_0.2.2          spatstat.geom_3.3-4    \n",
       "[112] Matrix_1.6-5            IRkernel_1.3.2          RcppHNSW_0.6.0         \n",
       "[115] hms_1.1.3               patchwork_1.3.0         bit64_4.5.2            \n",
       "[118] future_1.34.0           shiny_1.9.1             ROCR_1.0-11            \n",
       "[121] igraph_2.1.2            bit_4.5.0.1            "
      ]
     },
     "metadata": {},
     "output_type": "display_data"
    }
   ],
   "source": [
    "sessionInfo()"
   ]
  }
 ],
 "metadata": {
  "kernelspec": {
   "display_name": "scrna_dm",
   "language": "R",
   "name": "scrna_dm"
  },
  "language_info": {
   "codemirror_mode": "r",
   "file_extension": ".r",
   "mimetype": "text/x-r-source",
   "name": "R",
   "pygments_lexer": "r",
   "version": "4.3.3"
  }
 },
 "nbformat": 4,
 "nbformat_minor": 5
}
