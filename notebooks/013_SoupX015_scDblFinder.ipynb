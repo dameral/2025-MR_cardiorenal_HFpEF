{
 "cells": [
  {
   "cell_type": "markdown",
   "id": "6de49d5e-d725-45f6-92e1-6831e18d8891",
   "metadata": {},
   "source": [
    "# Load libraries and Themes"
   ]
  },
  {
   "cell_type": "code",
   "execution_count": 1,
   "id": "35d7dba7-aec1-4e24-9702-d0eb6d41a8e3",
   "metadata": {
    "scrolled": true,
    "tags": []
   },
   "outputs": [],
   "source": [
    "suppressPackageStartupMessages({\n",
    "        suppressWarnings({\n",
    "        library(Seurat)\n",
    "        library(SoupX)\n",
    "        library(ggplot2)\n",
    "        library(tidyverse)\n",
    "        library(scDblFinder)\n",
    "        library(harmony)\n",
    "        library(SeuratDisk)\n",
    "        library(SingleCellExperiment)\n",
    "        library(dplyr)\n",
    "        library(ggpubr)\n",
    "        library(pals)\n",
    "        library(viridis)\n",
    "        library(scCustomize)\n",
    "            })})"
   ]
  },
  {
   "cell_type": "code",
   "execution_count": null,
   "id": "4c5dd502-239e-4284-a041-5e787e6f7d0f",
   "metadata": {
    "tags": []
   },
   "outputs": [],
   "source": [
    "setwd(\"/media/daten/dmeral/scseq_analysis/2024_LV_CTRL_ALDO_REC\")"
   ]
  },
  {
   "cell_type": "code",
   "execution_count": null,
   "id": "9b8f31dd-5166-42c9-b342-7e71132c5f66",
   "metadata": {},
   "outputs": [],
   "source": [
    "set.seed(1234)"
   ]
  },
  {
   "cell_type": "markdown",
   "id": "56a99257-81a8-4532-9567-dfc74db2280f",
   "metadata": {},
   "source": [
    "# SoupX (remove ambient signal)"
   ]
  },
  {
   "cell_type": "code",
   "execution_count": null,
   "id": "8387838a-b68d-492f-bb9c-4f90933d4d2c",
   "metadata": {},
   "outputs": [],
   "source": [
    "ContaminationFraction <- 0.15"
   ]
  },
  {
   "cell_type": "code",
   "execution_count": null,
   "id": "3ef3552c-6369-4fbf-87b3-9d76681d4bbe",
   "metadata": {},
   "outputs": [],
   "source": [
    "samples <- c(\"LV_2108\", \"LV_2109\", \"LV_2110\", \"LV_2111\", \"LV_2112\", \"LV_2113\", \"LV_2114\", \"LV_2115\", \"LV_2310\", \"LV_2311\", \"LV_2312\", \"LV_2313\")"
   ]
  },
  {
   "cell_type": "code",
   "execution_count": null,
   "id": "a4552655-6323-494c-ac0e-f0553dc2158f",
   "metadata": {},
   "outputs": [],
   "source": [
    "# Simple pre-process\n",
    "\n",
    "mad_outlier <- function(sobj, metric, nmads){\n",
    "  M <- sobj@meta.data[[metric]]\n",
    "  median_M <- median(M, na.rm = TRUE)\n",
    "  mad_M <- mad(M, na.rm = TRUE)\n",
    "  outlier <- (M < (median_M - nmads * mad_M)) | (M > (median_M + nmads * mad_M))\n",
    "  return(outlier)\n",
    "}\n",
    "\n",
    "    # Load in filtered cellranger outs\n",
    "filter_mad_outliers <- function(sample_id){\n",
    "  path <- paste0(\"/media/daten/dmeral/scseq/2024_LV_CTRL_ALDO_REC/\", sample_id, \"/outs/filtered_feature_bc_matrix/\")\n",
    "  sobj <- Read10X(data.dir = path)\n",
    "  sobj <- CreateSeuratObject(counts = sobj, min.cells = 0, min.features = 200)\n",
    "  sobj$sample_id <- sample_id\n",
    "  \n",
    "  # add QC metrics\n",
    "  sobj$log1p_total_counts <- log1p(sobj@meta.data$nCount_RNA)\n",
    "  sobj$log1p_n_genes_by_counts <- log1p(sobj@meta.data$nFeature_RNA)\n",
    "  sobj[[\"percent.mt\"]] <- PercentageFeatureSet(sobj, pattern = \"^mt-\")\n",
    "  \n",
    "  # find outliers and subset\n",
    "  bool_vector <- !mad_outlier(sobj, \"log1p_total_counts\", 5) & !mad_outlier(sobj, \"log1p_n_genes_by_counts\", 5) & !mad_outlier(sobj, \"percent.mt\", 5)\n",
    "  sobj <- subset(sobj, cells = which(bool_vector))\n",
    "  \n",
    "  return(sobj)\n",
    "}"
   ]
  },
  {
   "cell_type": "code",
   "execution_count": null,
   "id": "0fd242f2-9b3c-4c96-ba54-dd243d218e08",
   "metadata": {},
   "outputs": [],
   "source": [
    "data_list <- sapply(samples, filter_mad_outliers)"
   ]
  },
  {
   "cell_type": "code",
   "execution_count": null,
   "id": "221c8aff-76d7-4c6d-9a5d-4468acebbc83",
   "metadata": {},
   "outputs": [],
   "source": [
    "# Basic seurat normalization and clustering\n",
    "get_soup_groups <- function(sobj){\n",
    "  sobj <- NormalizeData(sobj, verbose = FALSE)\n",
    "  sobj <- FindVariableFeatures(object = sobj, nfeatures = 2000, verbose = FALSE, selection.method = \"vst\")\n",
    "  sobj <- ScaleData(sobj, verbose = FALSE)\n",
    "  sobj <- RunPCA(sobj, npcs = 35, verbose = FALSE)\n",
    "  sobj <- FindNeighbors(sobj, dims = 1:35, verbose = FALSE)\n",
    "  sobj <- FindClusters(sobj, resolution = 0.5, verbose = FALSE)\n",
    "  \n",
    "  return(sobj@meta.data[[\"seurat_clusters\"]])\n",
    "}"
   ]
  },
  {
   "cell_type": "code",
   "execution_count": null,
   "id": "2f98f1ec-2ac9-4588-bf86-c22457a3078f",
   "metadata": {
    "scrolled": true
   },
   "outputs": [],
   "source": [
    "add_soup_groups <- function(sobj){\n",
    "  sobj$soup_group <- get_soup_groups(sobj)\n",
    "  return(sobj)\n",
    "}\n",
    "\n",
    "data_list <- sapply(data_list, add_soup_groups)"
   ]
  },
  {
   "cell_type": "code",
   "execution_count": null,
   "id": "98cede43-315f-4bfc-9dc3-7b46c96e4f1d",
   "metadata": {},
   "outputs": [],
   "source": [
    "make_soup <- function(sobj){\n",
    "  sample_id <- as.character(sobj$sample_id[1])  # e.g., LA_2109\n",
    "  path <- paste0(\"/media/daten/dmeral/scseq/2024_LV_CTRL_ALDO_REC/\", sample_id, \"/outs/raw_feature_bc_matrix/\")\n",
    "  raw <- Read10X(data.dir = path)\n",
    "\n",
    "  sc <- SoupChannel(raw, GetAssayData(sobj, layer = \"counts\"))\n",
    "  sc <- setClusters(sc, sobj$soup_group)\n",
    "  sc <- setContaminationFraction(sc, ContaminationFraction)\n",
    "  out <- adjustCounts(sc, roundToInt = TRUE)\n",
    "  \n",
    "  # Optional: keep original counts\n",
    "  sobj[[\"original.counts\"]] <- CreateAssayObject(counts = GetAssayData(sobj, layer = \"counts\"))\n",
    "  \n",
    "  # Set adjusted counts back to the RNA assay\n",
    "  sobj <- SetAssayData(sobj, layer = \"counts\", new.data = out)\n",
    "  \n",
    "  return(sobj)\n",
    "}"
   ]
  },
  {
   "cell_type": "code",
   "execution_count": null,
   "id": "a5fba168-9abc-4921-b350-b5d6a540bb91",
   "metadata": {
    "tags": []
   },
   "outputs": [],
   "source": [
    "suppressWarnings({\n",
    "    data_list <- sapply(data_list, make_soup)\n",
    "})"
   ]
  },
  {
   "cell_type": "code",
   "execution_count": null,
   "id": "003d02ef-3166-42d0-b95f-cef5aa234c03",
   "metadata": {},
   "outputs": [],
   "source": [
    "# Check if  correct number of reads were removed by SoupX\n",
    "# Create a data frame to store results\n",
    "results <- data.frame(Sample = samples, Counts_Before = NA, Counts_After = NA, Fraction_Left = NA)\n",
    "\n",
    "# Iterate through each sample\n",
    "for (i in seq_along(samples)) {\n",
    "  sample_name <- samples[i]\n",
    "  data_obj <- data_list[[i]] \n",
    "\n",
    "  # Check if the assay exists\n",
    "  if (\"original.counts\" %in% names(data_obj) && \"RNA\" %in% names(data_obj)) {\n",
    "    counts_before <- sum(GetAssayData(data_obj, assay = \"original.counts\", layer = \"counts\"))\n",
    "    counts_after <- sum(GetAssayData(data_obj, assay = \"RNA\", layer = \"counts\"))\n",
    "\n",
    "    # Store results in the data frame\n",
    "    results[i, \"Counts_Before\"] <- counts_before\n",
    "    results[i, \"Counts_After\"] <- counts_after\n",
    "    \n",
    "    # Calculate percent left if counts_before is not zero\n",
    "    if (!is.na(counts_before) && counts_before > 0) {\n",
    "      results[i, \"Fraction_Left\"] <- counts_after / counts_before\n",
    "    }\n",
    "  } else {\n",
    "    message(paste(\"Assay not found for sample:\", sample_name))\n",
    "  }\n",
    "}\n",
    "\n",
    "# Print \n",
    "print(results)"
   ]
  },
  {
   "cell_type": "markdown",
   "id": "149a35d8-bb6d-4c48-bcba-b4637b9fe364",
   "metadata": {},
   "source": [
    "# scDblFinder (remove doublets)"
   ]
  },
  {
   "cell_type": "code",
   "execution_count": null,
   "id": "3e5d05fa-def9-4889-99ae-e4a0b128991d",
   "metadata": {},
   "outputs": [],
   "source": [
    "saveRDS(data_list, paste0(\"seurat_objects/rds_data_list_\", ContaminationFraction, \".rds\"))"
   ]
  },
  {
   "cell_type": "code",
   "execution_count": null,
   "id": "eb828616-e980-4bb6-bddf-0de21572cb67",
   "metadata": {},
   "outputs": [],
   "source": [
    "data_list <- readRDS(paste0(\"seurat_objects/rds_data_list_\", ContaminationFraction, \".rds\"))"
   ]
  },
  {
   "cell_type": "code",
   "execution_count": null,
   "id": "a7c04436-00d3-421b-bed3-9f4931d3a49e",
   "metadata": {},
   "outputs": [],
   "source": [
    "#Normalize/ Center and Scale Matrix\n",
    "data_list_scale <- lapply(data_list, function(obj.seu) {\n",
    "   obj.seu <- NormalizeData(obj.seu, verbose = FALSE)\n",
    "   obj.seu <- ScaleData(obj.seu, verbose = FALSE)\n",
    "   return(obj.seu)\n",
    "})"
   ]
  },
  {
   "cell_type": "code",
   "execution_count": null,
   "id": "cf1898df-9d34-43ce-b411-d7906337e5b3",
   "metadata": {},
   "outputs": [],
   "source": [
    "# Convert to SingleCellExperiment\n",
    "obj_sce <- lapply(data_list_scale, function(obj.seu){\n",
    "    as.SingleCellExperiment(obj.seu, assay = \"RNA\")\n",
    "})"
   ]
  },
  {
   "cell_type": "code",
   "execution_count": null,
   "id": "3240e176-2750-46b2-a8f4-567a5f2432d1",
   "metadata": {
    "scrolled": true
   },
   "outputs": [],
   "source": [
    "#Run scDblFinder\n",
    "obj_scDblFinder <- lapply(obj_sce, function(expression_matrix){\n",
    "   scDblFinder(expression_matrix)\n",
    "})"
   ]
  },
  {
   "cell_type": "code",
   "execution_count": null,
   "id": "0d17dbe7-d0da-4663-9180-13d98edb4ed5",
   "metadata": {
    "tags": []
   },
   "outputs": [],
   "source": [
    "# Convert to Seurat objet\n",
    "obj_seu <- lapply(obj_scDblFinder, function(sce){\n",
    "    as.Seurat(x = sce, \n",
    "              counts = \"counts\", \n",
    "              data = \"logcounts\")\n",
    "})"
   ]
  },
  {
   "cell_type": "code",
   "execution_count": null,
   "id": "f9917c06-9b86-4475-85c2-f31735e87073",
   "metadata": {
    "scrolled": true,
    "tags": []
   },
   "outputs": [],
   "source": [
    "table_singlets <- lapply(obj_seu, function(obj){\n",
    "    table(obj$scDblFinder.class)\n",
    "})\n",
    "\n",
    "print(table_singlets)"
   ]
  },
  {
   "cell_type": "markdown",
   "id": "b86b4aa4-7a13-48e7-8c53-3de964558f76",
   "metadata": {},
   "source": [
    "# Add meta.data, filter singlets and merge"
   ]
  },
  {
   "cell_type": "code",
   "execution_count": null,
   "id": "ee7bc68e-b240-4924-8967-41e31a5f023b",
   "metadata": {},
   "outputs": [],
   "source": [
    "meta.data_tab <- matrix(c(rep(1, each = 12), \n",
    "                          \"CTRL\", \"CTRL\",  \"ALDO\", \"ALDO\", \"ALDO\", \"ALDO\", \"CTRL\", \"CTRL\", \"REC\", \"REC\", \"REC\", \"REC\", \n",
    "                          \"f\", \"f\", \"f\", \"f\",\"m\", \"m\", \"m\", \"m\", \"f\", \"f\", \"m\", \"m\", \n",
    "                          2, 1, 2, 1, 1, 2, 2, 1, rep(3, each = 4),\n",
    "                          rep(\"LV\", each = 12), \n",
    "                          1:12), \n",
    "                          ncol = 12, byrow = TRUE)\n",
    "\n",
    "rownames(meta.data_tab) <- c(\"replicate\", \"treatment\", \"sex\", \"batch\", \"chamber\", \"unique\")\n",
    "colnames(meta.data_tab) <- samples\n",
    "\n",
    "meta.data_tab <- as.table(meta.data_tab)\n",
    "\n",
    "meta.data_tab"
   ]
  },
  {
   "cell_type": "code",
   "execution_count": null,
   "id": "66111205-2978-48b5-9126-b739c791fc94",
   "metadata": {},
   "outputs": [],
   "source": [
    "# Adding metadata to Seurat objects with alignment\n",
    "obj_seu_newmeta <- lapply(samples, function(nam) {\n",
    "    # Retrieve the Seurat object for the current sample\n",
    "    scobj <- obj_seu[[nam]]\n",
    "    \n",
    "    # Extract the corresponding metadata and convert it to a data frame\n",
    "    meta <- meta.data_tab[, nam]\n",
    "    \n",
    "    # Ensure the metadata is in the right format\n",
    "    meta_df <- as.data.frame(matrix(rep(meta, ncol(scobj)), nrow = ncol(scobj), byrow = TRUE))\n",
    "    colnames(meta_df) <- rownames(meta.data_tab)  # Set column names to match the metadata structure\n",
    "    \n",
    "    # Add metadata to the Seurat object\n",
    "    scobj <- AddMetaData(scobj, metadata = meta_df)\n",
    "    \n",
    "    return(scobj)  # Return the modified Seurat object\n",
    "})\n",
    "\n",
    "# Assign names to the new list\n",
    "names(obj_seu_newmeta) <- samples"
   ]
  },
  {
   "cell_type": "code",
   "execution_count": null,
   "id": "d744673a-e34e-4430-8683-d67c70c415fa",
   "metadata": {},
   "outputs": [],
   "source": [
    "# Merge in one object\n",
    "obj_seu_merge <- Merge_Seurat_List(obj_seu_newmeta, add.cell.ids = c(1:12),  merge.data = TRUE, project = \"LA_C57Bl6_Aldosterone\")"
   ]
  },
  {
   "cell_type": "code",
   "execution_count": null,
   "id": "a0aa0f7b-6580-487d-9d8e-a7062986f35b",
   "metadata": {},
   "outputs": [],
   "source": [
    "SaveH5Seurat(obj_seu_merge, paste0(\"seurat_objects/setContaminationFraction/setContaminationFraction_\", ContaminationFraction, \"_dbl\"))"
   ]
  },
  {
   "cell_type": "markdown",
   "id": "f0408e90-a90c-4411-95de-2782d61baa8d",
   "metadata": {},
   "source": [
    "# Harmony (integration)"
   ]
  },
  {
   "cell_type": "code",
   "execution_count": null,
   "id": "0e6b9158-7045-4151-8105-01ec95b0e998",
   "metadata": {},
   "outputs": [],
   "source": [
    "#Filter Singlets\n",
    "obj_seu_merge_singlet <- subset(obj_seu_merge, scDblFinder.class == \"singlet\")"
   ]
  },
  {
   "cell_type": "code",
   "execution_count": null,
   "id": "5f32b4be-7b0a-42d6-a5a1-d54f31f7cf87",
   "metadata": {},
   "outputs": [],
   "source": [
    "# switch default assay to RNA\n",
    "DefaultAssay(object = obj_seu_merge_singlet) <- \"RNA\""
   ]
  },
  {
   "cell_type": "code",
   "execution_count": null,
   "id": "11e336c2-4e60-47dd-b493-af21032e6f84",
   "metadata": {},
   "outputs": [],
   "source": [
    "obj <- subset(obj_seu_merge_singlet, subset = nFeature_RNA > 300 & nFeature_RNA < 5000 & \n",
    "                        nCount_RNA > 500 & nCount_RNA < 15000 &\n",
    "                        percent.mt < 5)\n",
    "\n",
    "obj <- NormalizeData(obj, verbose = FALSE)\n",
    "obj <- FindVariableFeatures(obj, verbose = FALSE)\n",
    "obj <- ScaleData(obj, verbose = FALSE)\n",
    "obj <- RunPCA(obj, verbose = FALSE)"
   ]
  },
  {
   "cell_type": "code",
   "execution_count": null,
   "id": "55917932-6e59-4573-b8f7-3e1f3e748ebd",
   "metadata": {},
   "outputs": [],
   "source": [
    "# Integrate \"sex\"\n",
    "obj <- obj %>%\n",
    "  RunHarmony(group.by.vars = c(\"batch\"), plot_convergence = FALSE, assay.use = \"RNA\", verbose = FALSE)\n",
    "\n",
    "obj_embed <- Embeddings(obj, \"harmony\")"
   ]
  },
  {
   "cell_type": "code",
   "execution_count": null,
   "id": "87bc5836-b42e-4a63-b0d1-26afeda0fe99",
   "metadata": {},
   "outputs": [],
   "source": [
    "obj_harmony <- obj %>%\n",
    "  RunUMAP(reduction = \"harmony\", dims = 1:35, verbose = FALSE) %>%\n",
    "  FindNeighbors(reduction = \"harmony\", dims = 1:35, verbose = FALSE) %>%\n",
    "  FindClusters(resolution = 0.15)"
   ]
  },
  {
   "cell_type": "code",
   "execution_count": null,
   "id": "ac22e0a6-458b-44b9-95d7-61a97d8df2d5",
   "metadata": {},
   "outputs": [],
   "source": [
    "SaveH5Seurat(obj_harmony, paste0(\"seurat_objects/setContaminationFraction/setContaminationFraction_\", ContaminationFraction, \"_harmony_sgl\"))"
   ]
  },
  {
   "cell_type": "code",
   "execution_count": null,
   "id": "019d308b-9a47-4e76-8abe-28b38cf44709",
   "metadata": {},
   "outputs": [],
   "source": [
    "options(repr.plot.width = 15, repr.plot.height = 10, repr.plot.res = 300)\n",
    "\n",
    "UMAP_dbl_seurat_clusters <- DimPlot(obj_harmony, group.by = \"treatment\", label = TRUE, shuffle = TRUE, raster = FALSE) +\n",
    "  ggtitle(\"UMAP excluded doublets\") + theme(text = element_text(size = 15))\n",
    "\n",
    "\n",
    "\n",
    "UMAP_dbl_seurat_clusters"
   ]
  },
  {
   "cell_type": "markdown",
   "id": "2d962e8e-6370-4b43-ada5-a3274e666428",
   "metadata": {},
   "source": [
    "# FindAllMarkers"
   ]
  },
  {
   "cell_type": "code",
   "execution_count": null,
   "id": "49747ca8-9c6e-4b7c-a562-14c3eb2576cf",
   "metadata": {
    "scrolled": true
   },
   "outputs": [],
   "source": [
    "# used assay RNA\n",
    "all.markers <- FindAllMarkers(obj_harmony, only.pos = TRUE, min.pct = 0.50, logfc.threshold = 0.58)\n",
    "all.markers %>%\n",
    "  group_by(\"seurat_clusters\") %>%\n",
    "  slice_max(n= 10, order_by = avg_log2FC)\n",
    "\n",
    "write.csv(all.markers, paste0(\"setContaminationFraction/all.markers_wilcox_setContaminationFraction_\", ContaminationFraction, \"_harmony_sgl.csv\"))"
   ]
  },
  {
   "cell_type": "code",
   "execution_count": null,
   "id": "2c27ebcd-5e04-47a7-93ed-7b8db8e85d63",
   "metadata": {
    "scrolled": true
   },
   "outputs": [],
   "source": [
    "# Initialize a list to store marker results for each sample\n",
    "marker_results <- list()\n",
    "\n",
    "# Loop through each sample\n",
    "for (sample in samples) {\n",
    "  \n",
    "  # Subset the Seurat object based on the sample_id\n",
    "  obj_sample <- subset(obj_harmony, subset = sample_id == sample)\n",
    "  \n",
    "  # Further subset the Seurat object to include only clusters 0 to 5\n",
    "  obj_sample <- subset(obj_sample, subset = seurat_clusters %in% 0:5)\n",
    "  \n",
    "  # Find markers for this sample (only clusters 0-5)\n",
    "  all.markers <- FindAllMarkers(obj_sample, \n",
    "                                only.pos = TRUE, \n",
    "                                min.pct = 0.75, \n",
    "                                logfc.threshold = 0.58)\n",
    "  \n",
    "  # Group by clusters and get top 10 markers per cluster\n",
    "  top.markers <- all.markers %>%\n",
    "    group_by(cluster) %>%\n",
    "    slice_max(n = 10, order_by = avg_log2FC)\n",
    "  \n",
    "  # Save the markers to a CSV file with ContaminationFraction and sample in the name\n",
    "  write.csv(top.markers, paste0(\"setContaminationFraction/all.markers_wilcox_setContaminationFraction_\", \n",
    "                                ContaminationFraction, \"_\", sample, \"_harmony_sgl.csv\"))\n",
    "  \n",
    "  # Optionally store the result in the list for later use\n",
    "  marker_results[[sample]] <- top.markers\n",
    "}"
   ]
  },
  {
   "cell_type": "code",
   "execution_count": 2,
   "id": "dcebe3b9-736f-40d3-b723-a76a7bc69852",
   "metadata": {},
   "outputs": [
    {
     "data": {
      "text/plain": [
       "R version 4.3.3 (2024-02-29)\n",
       "Platform: x86_64-conda-linux-gnu (64-bit)\n",
       "Running under: Ubuntu 22.04.2 LTS\n",
       "\n",
       "Matrix products: default\n",
       "BLAS/LAPACK: /media/daten/dmeral/micromamba/envs/scrna_dm/lib/libopenblasp-r0.3.27.so;  LAPACK version 3.12.0\n",
       "\n",
       "locale:\n",
       " [1] LC_CTYPE=en_US.UTF-8       LC_NUMERIC=C              \n",
       " [3] LC_TIME=en_US.UTF-8        LC_COLLATE=en_US.UTF-8    \n",
       " [5] LC_MONETARY=en_US.UTF-8    LC_MESSAGES=en_US.UTF-8   \n",
       " [7] LC_PAPER=en_US.UTF-8       LC_NAME=C                 \n",
       " [9] LC_ADDRESS=C               LC_TELEPHONE=C            \n",
       "[11] LC_MEASUREMENT=en_US.UTF-8 LC_IDENTIFICATION=C       \n",
       "\n",
       "time zone: Etc/UTC\n",
       "tzcode source: system (glibc)\n",
       "\n",
       "attached base packages:\n",
       "[1] stats4    stats     graphics  grDevices utils     datasets  methods  \n",
       "[8] base     \n",
       "\n",
       "other attached packages:\n",
       " [1] scCustomize_3.0.0           viridis_0.6.5              \n",
       " [3] viridisLite_0.4.2           pals_1.9                   \n",
       " [5] ggpubr_0.6.0                SeuratDisk_0.0.0.9021      \n",
       " [7] harmony_1.2.3               Rcpp_1.0.13-1              \n",
       " [9] scDblFinder_1.16.0          SingleCellExperiment_1.24.0\n",
       "[11] SummarizedExperiment_1.32.0 Biobase_2.62.0             \n",
       "[13] GenomicRanges_1.54.1        GenomeInfoDb_1.38.8        \n",
       "[15] IRanges_2.36.0              S4Vectors_0.40.2           \n",
       "[17] BiocGenerics_0.48.1         MatrixGenerics_1.14.0      \n",
       "[19] matrixStats_1.4.1           lubridate_1.9.4            \n",
       "[21] forcats_1.0.0               stringr_1.5.1              \n",
       "[23] dplyr_1.1.4                 purrr_1.0.2                \n",
       "[25] readr_2.1.5                 tidyr_1.3.1                \n",
       "[27] tibble_3.2.1                tidyverse_2.0.0            \n",
       "[29] ggplot2_3.5.1               SoupX_1.6.2                \n",
       "[31] Seurat_5.1.0                SeuratObject_5.0.2         \n",
       "[33] sp_2.1-4                   \n",
       "\n",
       "loaded via a namespace (and not attached):\n",
       "  [1] spatstat.sparse_3.1-0     bitops_1.0-9             \n",
       "  [3] httr_1.4.7                RColorBrewer_1.1-3       \n",
       "  [5] repr_1.1.7                tools_4.3.3              \n",
       "  [7] sctransform_0.4.1.9001    backports_1.5.0          \n",
       "  [9] utf8_1.2.4                R6_2.5.1                 \n",
       " [11] lazyeval_0.2.2            uwot_0.2.2               \n",
       " [13] withr_3.0.2               gridExtra_2.3            \n",
       " [15] progressr_0.15.1          cli_3.6.3                \n",
       " [17] spatstat.explore_3.3-3    fastDummies_1.7.4        \n",
       " [19] spatstat.data_3.1-4       ggridges_0.5.6           \n",
       " [21] pbapply_1.7-2             Rsamtools_2.18.0         \n",
       " [23] pbdZMQ_0.3-13             dichromat_2.0-0.1        \n",
       " [25] scater_1.30.1             parallelly_1.40.1        \n",
       " [27] maps_3.4.2.1              limma_3.58.1             \n",
       " [29] shape_1.4.6.1             generics_0.1.3           \n",
       " [31] BiocIO_1.12.0             ica_1.0-3                \n",
       " [33] spatstat.random_3.3-2     car_3.1-3                \n",
       " [35] Matrix_1.6-5              ggbeeswarm_0.7.2         \n",
       " [37] fansi_1.0.6               abind_1.4-8              \n",
       " [39] lifecycle_1.0.4           yaml_2.3.10              \n",
       " [41] edgeR_4.0.16              snakecase_0.11.1         \n",
       " [43] carData_3.0-5             SparseArray_1.2.4        \n",
       " [45] Rtsne_0.17                paletteer_1.6.0          \n",
       " [47] grid_4.3.3                promises_1.3.2           \n",
       " [49] dqrng_0.4.1               crayon_1.5.3             \n",
       " [51] miniUI_0.1.1.1            lattice_0.22-6           \n",
       " [53] beachmat_2.18.1           cowplot_1.1.3            \n",
       " [55] mapproj_1.2.11            pillar_1.9.0             \n",
       " [57] metapod_1.10.1            rjson_0.2.23             \n",
       " [59] xgboost_2.1.1.1           future.apply_1.11.3      \n",
       " [61] codetools_0.2-20          leiden_0.4.3.1           \n",
       " [63] glue_1.8.0                spatstat.univar_3.1-1    \n",
       " [65] data.table_1.16.4         vctrs_0.6.5              \n",
       " [67] png_0.1-8                 spam_2.11-0              \n",
       " [69] gtable_0.3.6              rematch2_2.1.2           \n",
       " [71] S4Arrays_1.2.1            mime_0.12                \n",
       " [73] survival_3.7-0            statmod_1.5.0            \n",
       " [75] bluster_1.12.0            fitdistrplus_1.2-1       \n",
       " [77] ROCR_1.0-11               nlme_3.1-166             \n",
       " [79] bit64_4.5.2               RcppAnnoy_0.0.22         \n",
       " [81] irlba_2.3.5.1             vipor_0.4.7              \n",
       " [83] KernSmooth_2.23-24        colorspace_2.1-1         \n",
       " [85] ggrastr_1.0.2             tidyselect_1.2.1         \n",
       " [87] bit_4.5.0.1               compiler_4.3.3           \n",
       " [89] BiocNeighbors_1.20.2      hdf5r_1.3.11             \n",
       " [91] DelayedArray_0.28.0       plotly_4.10.4            \n",
       " [93] rtracklayer_1.62.0        scales_1.3.0             \n",
       " [95] lmtest_0.9-40             digest_0.6.37            \n",
       " [97] goftest_1.2-3             spatstat.utils_3.1-1     \n",
       " [99] XVector_0.42.0            htmltools_0.5.8.1        \n",
       "[101] pkgconfig_2.0.3           base64enc_0.1-3          \n",
       "[103] sparseMatrixStats_1.14.0  fastmap_1.2.0            \n",
       "[105] GlobalOptions_0.1.2       rlang_1.1.4              \n",
       "[107] htmlwidgets_1.6.4         shiny_1.9.1              \n",
       "[109] DelayedMatrixStats_1.24.0 farver_2.1.2             \n",
       "[111] zoo_1.8-12                jsonlite_1.8.9           \n",
       "[113] BiocParallel_1.36.0       BiocSingular_1.18.0      \n",
       "[115] RCurl_1.98-1.16           magrittr_2.0.3           \n",
       "[117] Formula_1.2-5             scuttle_1.12.0           \n",
       "[119] GenomeInfoDbData_1.2.11   dotCall64_1.2            \n",
       "[121] patchwork_1.3.0           IRkernel_1.3.2           \n",
       "[123] munsell_0.5.1             reticulate_1.40.0        \n",
       "[125] stringi_1.8.4             zlibbioc_1.48.2          \n",
       "[127] MASS_7.3-60.0.1           plyr_1.8.9               \n",
       "[129] parallel_4.3.3            listenv_0.9.1            \n",
       "[131] ggrepel_0.9.6             deldir_2.0-4             \n",
       "[133] Biostrings_2.70.3         IRdisplay_1.1            \n",
       "[135] splines_4.3.3             tensor_1.5               \n",
       "[137] circlize_0.4.16           hms_1.1.3                \n",
       "[139] locfit_1.5-9.10           igraph_2.1.2             \n",
       "[141] uuid_1.2-1                spatstat.geom_3.3-4      \n",
       "[143] ggsignif_0.6.4            RcppHNSW_0.6.0           \n",
       "[145] reshape2_1.4.4            ScaledMatrix_1.10.0      \n",
       "[147] XML_3.99-0.17             evaluate_1.0.1           \n",
       "[149] scran_1.30.2              ggprism_1.0.5            \n",
       "[151] tzdb_0.4.0                httpuv_1.6.15            \n",
       "[153] RANN_2.6.2                polyclip_1.10-7          \n",
       "[155] future_1.34.0             scattermore_1.2          \n",
       "[157] janitor_2.2.0             rsvd_1.0.5               \n",
       "[159] broom_1.0.7               xtable_1.8-4             \n",
       "[161] restfulr_0.0.15           RSpectra_0.16-2          \n",
       "[163] rstatix_0.7.2             later_1.4.1              \n",
       "[165] beeswarm_0.4.0            GenomicAlignments_1.38.2 \n",
       "[167] cluster_2.1.7             timechange_0.3.0         \n",
       "[169] globals_0.16.3           "
      ]
     },
     "metadata": {},
     "output_type": "display_data"
    }
   ],
   "source": [
    "sessionInfo()"
   ]
  }
 ],
 "metadata": {
  "kernelspec": {
   "display_name": "scrna_dm",
   "language": "R",
   "name": "scrna_dm"
  },
  "language_info": {
   "codemirror_mode": "r",
   "file_extension": ".r",
   "mimetype": "text/x-r-source",
   "name": "R",
   "pygments_lexer": "r",
   "version": "4.3.3"
  }
 },
 "nbformat": 4,
 "nbformat_minor": 5
}
