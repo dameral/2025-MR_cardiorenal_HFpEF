{
 "cells": [
  {
   "cell_type": "markdown",
   "id": "6de49d5e-d725-45f6-92e1-6831e18d8891",
   "metadata": {},
   "source": [
    "# Load libraries and Themes"
   ]
  },
  {
   "cell_type": "code",
   "execution_count": null,
   "id": "35d7dba7-aec1-4e24-9702-d0eb6d41a8e3",
   "metadata": {
    "tags": []
   },
   "outputs": [],
   "source": [
    "suppressPackageStartupMessages({\n",
    "    suppressWarnings({\n",
    "        library(Seurat)\n",
    "        library(ggplot2)\n",
    "        library(tidyverse)\n",
    "        library(SeuratDisk)\n",
    "        library(DESeq2)\n",
    "        library(sctransform)\n",
    "        library(edgeR)\n",
    "        library(EnhancedVolcano)\n",
    "        library(Rsamtools)\n",
    "        library(svglite)\n",
    "        library(ComplexHeatmap)\n",
    "        library(cowplot)\n",
    "        library(svglite)\n",
    "        library(viridis)\n",
    "        library(pals)\n",
    "        library(harmony)\n",
    "        library(WGCNA)\n",
    "        library(hdWGCNA)\n",
    "        library(CellChat)\n",
    "        library(reticulate)\n",
    "        library(svglite)\n",
    "        library(wordcloud)\n",
    "        library(gridExtra)\n",
    "        library(pals)\n",
    "        library(patchwork)\n",
    "        library(UpSetR)  \n",
    "        library(ComplexUpset)\n",
    "        library(sva)\n",
    "        })})"
   ]
  },
  {
   "cell_type": "code",
   "execution_count": null,
   "id": "39ea3e8b-4e9f-4694-a0dc-58f4c95dd9af",
   "metadata": {},
   "outputs": [],
   "source": [
    "#Color Palettes\n",
    "\n",
    "palette.FB <- c(\n",
    "  \"#5c2f07\", # Earthy brown  \n",
    "  \"#B35C1E\", # Rust orange  \n",
    "  \"#C9A27E\", # Sandstone  \n",
    "  \"#A7988A\", # Ash beige  \n",
    "  \"#C48291\", # Dusty rose  \n",
    "  \"#6C7A89\", # Slate gray-blue (cool contrast)  \n",
    ")\n",
    "\n",
    "palette.CMcomb <- c(\n",
    "    \"#aad902\", #BC \n",
    "    \"#990902\", #CM\n",
    "    \"#aba790\", #CYC\n",
    "    \"#005f99\", #ECart   \n",
    "    \"#05b1eb\", #ECcap\n",
    "    \"#0303a3\", #ECend\n",
    "    \"#003ae8\", #EClym    \n",
    "    \"#ebe6c7\", #FB\n",
    "    \"#077a01\", #MP\n",
    "    \"#422c00\", #PER\n",
    "    \"#FFD100\", #SC\n",
    "    \"#ffab00\", #SMC\n",
    "    \"#56B400\"  #TC\n",
    ")\n",
    "\n",
    "palette.treatment <- c(\n",
    "    \"#C1C1C1\", # CTRL\n",
    "    \"#AF0000\", # ALDO\n",
    "    \"#006AF3\"  # REC\n",
    ")\n",
    "\n",
    "palette.sex <- c(\n",
    "    \"#006AF3\", \n",
    "    \"#AF0000\" ) #female"
   ]
  },
  {
   "cell_type": "code",
   "execution_count": null,
   "id": "594f95d6-1f38-411c-aed5-ad8b70d5a04f",
   "metadata": {},
   "outputs": [],
   "source": [
    "umap_theme <- theme(\n",
    "  axis.line=element_blank(),\n",
    "  axis.text.x=element_blank(),\n",
    "  axis.text.y=element_blank(),\n",
    "  axis.ticks=element_blank(),\n",
    "  axis.title.x=element_blank(),\n",
    "  axis.title.y=element_blank(),\n",
    "  panel.background=element_blank(),\n",
    "  panel.border=element_blank(),\n",
    "  panel.grid.major=element_blank(),\n",
    "  panel.grid.minor=element_blank()\n",
    ")"
   ]
  },
  {
   "cell_type": "code",
   "execution_count": null,
   "id": "4c5dd502-239e-4284-a041-5e787e6f7d0f",
   "metadata": {
    "tags": []
   },
   "outputs": [],
   "source": [
    "setwd(\"/media/daten/dmeral/scseq_analysis/2024_LV_CTRL_ALDO_REC\")"
   ]
  },
  {
   "cell_type": "code",
   "execution_count": null,
   "id": "a57b0909-89bb-4013-a7cd-ba9c4aff03cc",
   "metadata": {},
   "outputs": [],
   "source": [
    "celltype <- \"FB\""
   ]
  },
  {
   "cell_type": "markdown",
   "id": "c78ea220-91a5-47c1-866b-fd413116c47a",
   "metadata": {},
   "source": [
    "# Subcluster analysis"
   ]
  },
  {
   "cell_type": "code",
   "execution_count": null,
   "id": "aa729aa2-7b0c-4792-95bb-e2fd7a835fa7",
   "metadata": {
    "scrolled": true,
    "tags": []
   },
   "outputs": [],
   "source": [
    "obj <- LoadH5Seurat(\"seurat_objects/obj_seu_merge_harmony_sgl_addmodule_rename_CMcomb_onlyprotcod_ccscore.h5seurat\")\n",
    "obj_full <- obj"
   ]
  },
  {
   "cell_type": "code",
   "execution_count": null,
   "id": "c83a25c4-4e0e-4308-b618-f171f8862b7c",
   "metadata": {},
   "outputs": [],
   "source": [
    "# Subset to major clusters\n",
    "obj_sub <- subset(x = obj, subset = cell_type_CMcomb %in% c(celltype))"
   ]
  },
  {
   "cell_type": "code",
   "execution_count": null,
   "id": "b32bdf1b-2378-44ee-b82d-a959d5eab745",
   "metadata": {
    "tags": []
   },
   "outputs": [],
   "source": [
    "# Get genes with non-zero counts\n",
    "counts <- GetAssayData(obj_sub, layer = \"counts\")[,]\n",
    "nonzero <- as.data.frame(rowSums(counts) > 0)\n",
    "names(nonzero)[names(nonzero) == \"rowSums(counts) > 0\"] <- \"nonzerofeature\"\n",
    "nonzero <- filter(nonzero, nonzerofeature == TRUE)\n",
    "nonzero$names <- rownames(nonzero)\n",
    "nonzero$nonzerofeature <- NULL\n",
    "write.table(nonzero, paste0(\"nonzerocounts/nonzerocounts_\", celltype, \".csv\"), sep = \",\", quote = FALSE,  row.names = FALSE, col.names = FALSE)"
   ]
  },
  {
   "cell_type": "markdown",
   "id": "e16b4384-333d-43ea-96c3-6232aba226d8",
   "metadata": {},
   "source": [
    "## FB subcluster"
   ]
  },
  {
   "cell_type": "code",
   "execution_count": null,
   "id": "f7a24ca1-cb58-44a6-98b3-92a5be69b58b",
   "metadata": {},
   "outputs": [],
   "source": [
    "protein_coding_genes <- unlist(read.csv(\"DEGs/nothreshold/protein_coding_gene_names_filtered.txt\", header = TRUE, stringsAsFactors = FALSE))\n",
    "\n",
    "# Ensure the protein-coding genes are present in the dataset\n",
    "selected_genes <- protein_coding_genes[protein_coding_genes %in% rownames(obj_sub)]\n",
    "\n",
    "# Normalize and scale the data for the selected genes\n",
    "obj_sub <- ScaleData(obj_sub, features = selected_genes, verbose = FALSE)\n",
    "\n",
    "# Run PCA using only the selected protein-coding genes\n",
    "obj_sub <- RunPCA(obj_sub, features = selected_genes, npcs = 35, verbose = FALSE)"
   ]
  },
  {
   "cell_type": "code",
   "execution_count": null,
   "id": "e53c535b-f9ff-40d2-81b9-5eb02370bfc6",
   "metadata": {},
   "outputs": [],
   "source": [
    "# integrate \"batch\"\n",
    "obj_sub$batch <- as.factor(obj_sub$batch)\n",
    "\n",
    "obj.subcluster <- obj_sub %>% \n",
    "  RunHarmony(group.by.vars = c(\"batch\"), theta = c(1), lambda = c(0.5), max_iter = 20, early_stop = FALSE, plot_convergence = FALSE, assay.use = \"RNA\", verbose = FALSE)"
   ]
  },
  {
   "cell_type": "code",
   "execution_count": null,
   "id": "c175ba9e-4fc0-4546-b1c3-36dbd3e69184",
   "metadata": {},
   "outputs": [],
   "source": [
    "options(repr.plot.width = 6, repr.plot.height = 2.5, repr.plot.res = 300) \n",
    "\n",
    "dim1 <- DimPlot(obj_sub, reduction = \"pca\", group.by = \"batch\", dims = c(1, 2), cols = palette.treatment) + ggtitle(\"PC batch before harmony\") # Before\n",
    "dim2 <- DimPlot(obj.subcluster, reduction = \"harmony\", group.by = \"batch\", dims = c(1, 2), cols = palette.treatment) + ggtitle(\"PC batch after harmony\") # After\n",
    "\n",
    "dim1|dim2\n",
    "\n",
    "ggsave(paste0(\"subcluster/\", celltype, \"/Plots/PC_batch_before_harmony.svg\"), plot = dim1, units = \"cm\", dpi = 300, width = 15, height = 10)\n",
    "ggsave(paste0(\"subcluster/\", celltype, \"/Plots/PC_batch_after_harmony.svg\"), plot = dim2, units = \"cm\", dpi = 300, width = 15, height = 10)"
   ]
  },
  {
   "cell_type": "code",
   "execution_count": null,
   "id": "4d921c09-0d2d-4809-8d94-18bd16a35ea7",
   "metadata": {},
   "outputs": [],
   "source": [
    "#Run UMAP\n",
    "obj.subcluster <- obj.subcluster %>%\n",
    "  RunUMAP(dims = 1:35,  spread = 2, min.dist = 0.3, reduction = \"harmony\", verbose = FALSE) %>%\n",
    "  FindNeighbors(dims = 1:35, reduction = \"harmony\", verbose = FALSE) %>%\n",
    "  FindClusters(resolution = 0.18)"
   ]
  },
  {
   "cell_type": "code",
   "execution_count": null,
   "id": "74db7c6b-c56d-4916-b63b-0cc298bd2172",
   "metadata": {},
   "outputs": [],
   "source": [
    "options(repr.plot.width = 10, repr.plot.height = 4, repr.plot.res = 300) \n",
    "# palette.10 <- DiscretePalette(10, palette = \"stepped\", shuffle = TRUE)\n",
    "\n",
    "seurat_clusters <- DimPlot(obj.subcluster, pt.size = 1, , group.by = \"seurat_clusters\", label = TRUE, shuffle = F, label.size = 10, cols = palette.FB) + umap_theme & NoLegend()\n",
    "treatment <- DimPlot(obj.subcluster, pt.size = 1, group.by = \"treatment\", shuffle = TRUE, cols = palette.treatment) + umap_theme & NoLegend()\n",
    "sex <- DimPlot(obj.subcluster, pt.size = 1,  group.by = \"sex\", shuffle = TRUE, label.size = 10, , cols = palette.sex) + umap_theme\n",
    "batch <- DimPlot(obj.subcluster, pt.size = 1,  group.by = \"batch\", shuffle = TRUE, label.size = 10, cols = palette.treatment) + umap_theme\n",
    "\n",
    "seurat_clusters|treatment|sex|batch"
   ]
  },
  {
   "cell_type": "code",
   "execution_count": null,
   "id": "a8ade4d6-e809-4195-95bc-cb7766114ee5",
   "metadata": {},
   "outputs": [],
   "source": [
    "# Rename Idents and add cell_type_sub\n",
    "cluster_annotations <- c(\"FB_0\", \"FB_1\", \"FB_2\", \"FB_3\", \"FB_4\", \"FB_5\")\n",
    "names(cluster_annotations) <- levels(obj.subcluster)\n",
    "obj.subcluster <- RenameIdents(obj.subcluster, cluster_annotations)\n",
    "obj.subcluster$cell_type_sub <- Idents(obj.subcluster)"
   ]
  },
  {
   "cell_type": "code",
   "execution_count": null,
   "id": "d9dee476-2a6e-4148-a14d-72515ef35c47",
   "metadata": {},
   "outputs": [],
   "source": [
    "# Plot and save plots\n",
    "cell_type_sub <- DimPlot(obj.subcluster, group.by = \"cell_type_sub\", pt.size = 1, label = TRUE, shuffle = F, label.size = 10, cols = palette.FB) + umap_theme & NoLegend()\n",
    "\n",
    "ggsave(paste0(\"subcluster/\", celltype, \"/Plots/\", celltype, \"_cell_type_sub.svg\"), plot = cell_type_sub, units = \"cm\", dpi = 300, width = 18, height = 15)\n",
    "ggsave(paste0(\"subcluster/\", celltype, \"/Plots/\", celltype, \"_seurat_clusters.svg\"), plot = seurat_clusters, units = \"cm\", dpi = 300, width = 18, height = 15)\n",
    "ggsave(paste0(\"subcluster/\", celltype, \"/Plots/\", celltype, \"_treatment.svg\"), plot = treatment, units = \"cm\", dpi = 300, width = 18, height = 15)\n",
    "ggsave(paste0(\"subcluster/\", celltype, \"/Plots/\", celltype, \"_sex.svg\"), plot = sex, units = \"cm\", dpi = 300, width = 18, height = 15)\n",
    "ggsave(paste0(\"subcluster/\", celltype, \"/Plots/\", celltype, \"_batch.svg\"), plot = batch, units = \"cm\", dpi = 300, width = 18, height = 15)"
   ]
  },
  {
   "cell_type": "code",
   "execution_count": null,
   "id": "a6a056b0-6069-45f0-aa52-f14ac9d0d80b",
   "metadata": {},
   "outputs": [],
   "source": [
    "treatment <- DimPlot(obj.subcluster, pt.size = 1, group.by = \"treatment\", shuffle = TRUE, cols = palette.treatment, split.by = \"treatment\") + umap_theme & NoLegend()\n",
    "treatment\n",
    "\n",
    "ggsave(paste0(\"subcluster/\", celltype, \"/Plots/\", celltype, \"_treatment_split.svg\"), plot = treatment, units = \"cm\", dpi = 300, width = 18*3, height = 15)"
   ]
  },
  {
   "cell_type": "code",
   "execution_count": null,
   "id": "38bbcdaf-0291-4fde-a8ff-79877b8f3387",
   "metadata": {},
   "outputs": [],
   "source": [
    "SaveH5Seurat(obj.subcluster, paste0(\"subcluster/\", celltype, \"/Subcluster_\", celltype))"
   ]
  },
  {
   "cell_type": "markdown",
   "id": "a7028159-b2c9-457b-a8a5-317b12152aa8",
   "metadata": {
    "tags": []
   },
   "source": [
    "## FindAllMarkers"
   ]
  },
  {
   "cell_type": "code",
   "execution_count": null,
   "id": "d05dea1c-e4b0-4863-afbe-268be08e2402",
   "metadata": {
    "scrolled": true
   },
   "outputs": [],
   "source": [
    "all.markers <- FindAllMarkers(obj.subcluster, only.pos = FALSE, test.use = \"wilcox\")\n",
    "\n",
    "write.csv(all.markers, file = paste0(\"subcluster/\", celltype, \"/all.markers_\" , celltype, \".csv\"))"
   ]
  },
  {
   "cell_type": "markdown",
   "id": "c0af4488-7c0e-46ea-9780-f92f41166cd0",
   "metadata": {},
   "source": [
    "## Cellnumbers per cluster and sample"
   ]
  },
  {
   "cell_type": "code",
   "execution_count": null,
   "id": "9aee8d92-3c79-4bd7-8737-51cdef4b0af3",
   "metadata": {},
   "outputs": [],
   "source": [
    "print(\"Cellnumbers per cluster and sample\")\n",
    "table <- table(obj.subcluster@meta.data$treatment, \n",
    "      obj.subcluster@meta.data$cell_type_sub)\n",
    "table\n",
    "write.csv(table, file = paste0(\"subcluster/\", celltype, \"/number_perCluster_\", celltype, \".csv\"))\n",
    "\n",
    "print(\"Cellnumbers per sample and sample\")\n",
    "table <- table(obj.subcluster@meta.data$sample_id, \n",
    "      obj.subcluster@meta.data$cell_type_sub)\n",
    "table\n",
    "write.csv(table, file = paste0(\"subcluster/\", celltype, \"/number_persample_\", celltype, \".csv\"))"
   ]
  },
  {
   "cell_type": "markdown",
   "id": "00656c20-3ac6-4117-8773-e5582bbd6b74",
   "metadata": {},
   "source": [
    "## DEG analysis"
   ]
  },
  {
   "cell_type": "markdown",
   "id": "e36c4404-42ac-4d00-9fc4-6b2b3abbce90",
   "metadata": {},
   "source": [
    "### WR sum"
   ]
  },
  {
   "cell_type": "code",
   "execution_count": null,
   "id": "e2dcc1d0-96ee-407e-90ad-832090fea3ff",
   "metadata": {},
   "outputs": [],
   "source": [
    "# Perform Wilcoxon DEG analysis between FB_0 and FB_1&FB_2\n",
    "deg_FB0_vs_FB1_2 <- FindMarkers(\n",
    "  obj.subcluster, \n",
    "  ident.1 = \"FB_0\", \n",
    "  ident.2 = c(\"FB_1\", \"FB_2\"), \n",
    "  group.by = \"cell_type_sub\",\n",
    "  test.use = \"wilcox\"\n",
    ")"
   ]
  },
  {
   "cell_type": "code",
   "execution_count": null,
   "id": "69eeb23a-96d7-4caf-81cd-50bf1111afe0",
   "metadata": {},
   "outputs": [],
   "source": [
    "# Save results to CSV\n",
    "write.csv(deg_FB0_vs_FB1_2, file = paste0(\"subcluster/\", celltype , \"/DEGs_FB0_vs_FB1_2.csv\"))"
   ]
  },
  {
   "cell_type": "code",
   "execution_count": null,
   "id": "a7605687-9341-44f9-ad3d-f8cecdc6412d",
   "metadata": {},
   "outputs": [],
   "source": [
    "# Load the list of protein-coding genes\n",
    "protein_coding_genes <- unlist(read.csv(\"DEGs/nothreshold/protein_coding_gene_names_filtered.txt\", header = TRUE, stringsAsFactors = FALSE))\n",
    "\n",
    "# Load the DEG file \n",
    "deg <- read.csv(paste0(\"subcluster/\", celltype, \"/DEGs_FB0_vs_FB1_2.csv\"), header = TRUE, row.names = 1)\n",
    "\n",
    "# Add filtering criteria\n",
    "deg <- cbind(deg, Gene_names = rownames(deg))\n",
    "\n",
    "# Filter for protein-coding genes, remove GM... and ...Rik, and non-mt genes\n",
    "deg_filtered <- deg %>%\n",
    "  filter(\n",
    "    Gene_names %in% protein_coding_genes               # Keep only protein-coding genes\n",
    "  )\n",
    "\n",
    "# Remove the Gene_names column\n",
    "deg_filtered <- deg_filtered[, !names(deg_filtered) %in% c(\"Gene_names\")]\n",
    "\n",
    "# Save the filtered file\n",
    "write.csv(deg_filtered, file = paste0(\"subcluster/\", celltype, \"/DEGs_FB0_vs_FB1_2_filtered.csv\"))"
   ]
  },
  {
   "cell_type": "markdown",
   "id": "48c9c692-9bae-4e57-b8e0-820e2ae84ee9",
   "metadata": {},
   "source": [
    "### Plot GOIs"
   ]
  },
  {
   "cell_type": "code",
   "execution_count": null,
   "id": "bb2d9d45-f39a-4014-a5ec-dbddc6cb29a9",
   "metadata": {},
   "outputs": [],
   "source": [
    "obj <- obj.subcluster"
   ]
  },
  {
   "cell_type": "code",
   "execution_count": null,
   "id": "4b522bcb-c799-43ed-978a-974a6519f00f",
   "metadata": {},
   "outputs": [],
   "source": [
    "table(obj.subcluster$treatment)"
   ]
  },
  {
   "cell_type": "code",
   "execution_count": null,
   "id": "aa84ad5b-2c52-425a-868e-cf1644375fa0",
   "metadata": {},
   "outputs": [],
   "source": [
    "palette_feature <- c(\"lightgrey\", \n",
    "\"#ffffe5\",\n",
    "\"#fff7bc\",\n",
    "\"#fee391\",\n",
    "\"#fec44f\",\n",
    "\"#fe9929\",\n",
    "\"#ec7014\",\n",
    "\"#cc4c02\",\n",
    "\"#993404\",\n",
    "\"#662506\")\n",
    "\n",
    "# This plots all conditions withthe same scale, can distort differences due to batch effects\n",
    "GOI <- \"fibrotic1\"\n",
    "\n",
    "options(repr.plot.width = 10, repr.plot.height = 4, repr.plot.res = 300) \n",
    "\n",
    "# Define consistent cutoffs for the feature\n",
    "min_cutoff <- 0\n",
    "max_cutoff <- max(FetchData(obj.subcluster, vars = GOI)[[GOI]], na.rm = TRUE)\n",
    "\n",
    "# Generate the UMAP plots for GOI with split by treatment_sep\n",
    "UMAP_list <- FeaturePlot(obj.subcluster, features = GOI,\n",
    "                         split.by = \"treatment\", \n",
    "                         pt.size = 0.1, order = TRUE, \n",
    "                         cols = palette_feature)\n",
    "\n",
    "# Apply theme settings without redundant color scaling\n",
    "UMAP_list <- lapply(UMAP_list, function(p) {\n",
    "  p + umap_theme +\n",
    "    theme(text = element_text(size = 15), legend.position = \"none\")\n",
    "})\n",
    "\n",
    "# Combine the plots with a unified legend using patchwork\n",
    "UMAP_combined <- wrap_plots(UMAP_list, ncol = 3) + \n",
    "  plot_layout(guides = \"collect\") &\n",
    "  theme(legend.position = \"right\")\n",
    "\n",
    "# Save the plot\n",
    "ggsave(paste0(\"subcluster/\", celltype, \"/Plots/GOI_UMAPs/UMAP_\", GOI, \"Top10_with_fixed_scale.svg\"), UMAP_combined, units = \"cm\", dpi = 300, width = 15, height = 7)\n",
    "\n",
    "UMAP_combined"
   ]
  },
  {
   "cell_type": "code",
   "execution_count": null,
   "id": "497e7f19-cff6-488c-a397-5789c1d830d6",
   "metadata": {},
   "outputs": [],
   "source": [
    "# Add module score to the object for pro- and antifibrotic markers\n",
    "fibrotic = c(\"Igfbp6\", \"Mgp\", \"Meox1\", \"Oaf\", \"Serpine2\", \"Spp1\", \"Crlf1\", \"Col15a1\", \"Cilp\", \"Thbs4\")\n",
    "anti = c(\"Sfrp2\", \"Ccn5\", \"Eln\", \"Vegfd\", \"Cxcl12\", \"Sfrp1\", \"Gucy1a1\", #\"Gm26771\", non-proteincoding\n",
    "         \"Thbs2\", \"Fbln1\", \"Id2\")\n",
    "\n",
    "obj.subcluster <- AddModuleScore(\n",
    "  object = obj.subcluster,\n",
    "  features = fibrotic,\n",
    "  name = \"fibrotic\"\n",
    ")\n",
    "obj.subcluster <- AddModuleScore(\n",
    "  object = obj.subcluster,\n",
    "  features = anti,\n",
    "  name = \"anti\"\n",
    ")"
   ]
  },
  {
   "cell_type": "code",
   "execution_count": null,
   "id": "0c7500cb-f51f-4d45-a65c-95cfd6318038",
   "metadata": {},
   "outputs": [],
   "source": [
    "GOI <- \"Postn\"\n",
    "\n",
    "DOT <- DotPlot(\n",
    "  obj.subcluster, group.by = \"treatment\", \n",
    "  features = c(GOI), col.min = -1, col.max = 3) + \n",
    "  geom_point(aes(size = pct.exp), shape = 21, colour = \"black\", stroke = 0.5) +  \n",
    "  guides(\n",
    "    size = guide_legend(override.aes = list(shape = 21, colour = \"black\", fill = \"white\")),  \n",
    "    colour = guide_colorbar(frame.colour = \"black\", ticks.colour = \"black\")  \n",
    "  ) +\n",
    "  theme(axis.text.x = element_text(angle = 90, hjust = 1)) +\n",
    "  theme(panel.border = element_rect(color = \"black\", linewidth = 0.5)) +\n",
    "  scale_colour_distiller(palette = \"OrRd\", direction = 0) +\n",
    "  scale_y_discrete(limits = rev) +\n",
    "  labs(x = NULL, y = NULL) +  # Removes axis labels\n",
    "  ggtitle(paste0(GOI, \" expression by treatment\"))\n",
    "\n",
    "# Suppress warnings and print the combined plot\n",
    "suppressWarnings(print(DOT))\n",
    "\n",
    "# Save combined plot to a file\n",
    "ggsave(paste0(\"subcluster/\", celltype, \"/Plots/DotPlot/group_by_treatment/DotPlot_\", GOI, \"_groupbytreatment.svg\"), DOT, units = \"cm\", dpi = 300, width = 7, height = 7)"
   ]
  },
  {
   "cell_type": "code",
   "execution_count": null,
   "id": "0637ef8d-3576-40fe-bc8d-44a161de037a",
   "metadata": {},
   "outputs": [],
   "source": [
    "# Split the Seurat object by treatment\n",
    "seurat_list <- SplitObject(obj.subcluster, split.by = \"treatment\")"
   ]
  },
  {
   "cell_type": "code",
   "execution_count": null,
   "id": "6cf4f354-5db9-425c-9a06-8d1b3394d82b",
   "metadata": {},
   "outputs": [],
   "source": [
    "options(repr.plot.width = 5, repr.plot.height = 4, repr.plot.res = 300)\n",
    "GOI <- \"Col4a2\"\n",
    "\n",
    "# Create DotPlot for each treatment\n",
    "DOT_CTRL <- DotPlot(\n",
    "  seurat_list$CTRL,\n",
    "  features = c(GOI), col.min = -1, col.max = 3) + \n",
    "  geom_point(aes(size = pct.exp), shape = 21, colour = \"black\", stroke = 0.5) +  \n",
    "  guides(\n",
    "    size = guide_legend(override.aes = list(shape = 21, colour = \"black\", fill = \"white\")),  \n",
    "    colour = guide_colorbar(frame.colour = \"black\", ticks.colour = \"black\")  \n",
    "  ) +\n",
    "  theme(axis.text.x = element_text(angle = 90, hjust = 1)) +\n",
    "  theme(panel.border = element_rect(color = \"black\", linewidth = 0.5)) +\n",
    "  scale_colour_distiller(palette = \"OrRd\", direction = 0) +\n",
    "  scale_y_discrete(limits = rev) +\n",
    "  labs(x = NULL, y = NULL) +  # Removes axis labels\n",
    "  ggtitle(\"CTRL\") \n",
    "\n",
    "DOT_ALDO <- DotPlot(\n",
    "  seurat_list$ALDO,\n",
    "  features = c(GOI), col.min = -1, col.max = 3) + \n",
    "  geom_point(aes(size = pct.exp), shape = 21, colour = \"black\", stroke = 0.5) +  \n",
    "  guides(\n",
    "    size = guide_legend(override.aes = list(shape = 21, colour = \"black\", fill = \"white\")),  \n",
    "    colour = guide_colorbar(frame.colour = \"black\", ticks.colour = \"black\")  \n",
    "  ) +\n",
    "  theme(axis.text.x = element_text(angle = 90, hjust = 1)) +\n",
    "  theme(panel.border = element_rect(color = \"black\", linewidth = 0.5)) +\n",
    "  scale_colour_distiller(palette = \"OrRd\", direction = 0) +\n",
    "  scale_y_discrete(limits = rev) +\n",
    "  labs(x = NULL, y = NULL) +  # Removes axis labels\n",
    "  ggtitle(\"ALDO\")\n",
    "\n",
    "DOT_REC <- DotPlot(\n",
    "  seurat_list$REC,\n",
    "  features = c(GOI), col.min = -1, col.max = 3) + \n",
    "  geom_point(aes(size = pct.exp), shape = 21, colour = \"black\", stroke = 0.5) +  \n",
    "  guides(\n",
    "    size = guide_legend(override.aes = list(shape = 21, colour = \"black\", fill = \"white\")),  \n",
    "    colour = guide_colorbar(frame.colour = \"black\", ticks.colour = \"black\")  \n",
    "  ) +\n",
    "  theme(axis.text.x = element_text(angle = 90, hjust = 1)) +\n",
    "  theme(panel.border = element_rect(color = \"black\", linewidth = 0.5)) +\n",
    "  scale_colour_distiller(palette = \"OrRd\", direction = 0) +\n",
    "  scale_y_discrete(limits = rev) +\n",
    "  labs(x = NULL, y = NULL) +  # Removes axis labels\n",
    "  ggtitle(\"REC\")\n",
    "\n",
    "\n",
    "# Combine plots using patchwork\n",
    "combined_plot <- DOT_CTRL + NoLegend() | \n",
    "  (DOT_ALDO + NoLegend() + theme(axis.text.y = element_blank(), axis.ticks.y = element_blank())) | \n",
    "  (DOT_REC + theme(axis.text.y = element_blank(), axis.ticks.y = element_blank()))\n",
    "\n",
    "# Suppress warnings and print the combined plot\n",
    "suppressWarnings(print(combined_plot))\n",
    "\n",
    "# Save combined plot to a file\n",
    "ggsave(paste0(\"subcluster/\", celltype, \"/Plots/DotPlot/DotPlot_\", GOI, \"_with_fixed_scale.svg\"), UMAP_combined, units = \"cm\", dpi = 300, width = 10, height = 7)"
   ]
  },
  {
   "cell_type": "markdown",
   "id": "8d4c8d83-7a75-4acd-9a0c-565f90086932",
   "metadata": {},
   "source": [
    "### pseudo-bulk PCA plot"
   ]
  },
  {
   "cell_type": "code",
   "execution_count": null,
   "id": "32112a89-54e4-44ae-873f-53c241643267",
   "metadata": {},
   "outputs": [],
   "source": [
    "# Aggregate counts by `sample_id`\n",
    "obj.subcluster$tsid <- paste0(obj.subcluster$treatment, \"_\", obj.subcluster$sample_id)\n",
    "\n",
    "cts <- AggregateExpression(\n",
    "  obj.subcluster,\n",
    "  group.by = \"tsid\",  # Only group by combined column tsid\n",
    "  assays = \"RNA\",\n",
    "  slot = \"counts\",\n",
    "  return.seurat = FALSE\n",
    ")\n",
    "\n",
    "cts <- cts$RNA  # Extract the counts matrix\n",
    "\n",
    "# Filter counts for only protein-coding genes\n",
    "cts_filtered <- cts[rownames(cts) %in% protein_coding_genes, ]\n",
    "\n",
    "# Log-transform counts (avoid log(0) issues)\n",
    "log_counts <- log1p(cts_filtered)\n",
    "\n",
    "# Remove zero-variance genes\n",
    "log_counts_filtered <- log_counts[apply(log_counts, 1, var) > 0, ]\n",
    "\n",
    "# Ensure that `tsid` is correctly defined in the metadata\n",
    "# Extract the `batch_info` corresponding to the 12 aggregated samples\n",
    "batch_info <- obj.subcluster@meta.data$batch[match(colnames(log_counts_filtered), obj.subcluster@meta.data$tsid)]\n",
    "\n",
    "# Add the batch info to the log_counts_filtered matrix as an additional row\n",
    "log_counts_filtered_with_batch <- rbind(log_counts_filtered, batch = batch_info)\n",
    "\n",
    "# Now, apply ComBat for batch effect correction using the log-transformed counts with batch information\n",
    "adjusted_counts <- ComBat(\n",
    "    dat = log_counts_filtered_with_batch[1:nrow(log_counts_filtered), ],  # Only include gene expression matrix\n",
    "    batch = log_counts_filtered_with_batch[\"batch\", ],  # Use the batch info row\n",
    "    mod = NULL,                   # Model matrix \n",
    "    par.prior = TRUE,             # Use empirical Bayes method\n",
    "    prior.plots = FALSE           # Don't plot the correction\n",
    ")\n",
    "\n",
    "# Perform PCA on the adjusted counts\n",
    "pca_result <- prcomp(t(adjusted_counts), center = TRUE, scale. = TRUE)"
   ]
  },
  {
   "cell_type": "code",
   "execution_count": null,
   "id": "a5f72b8a-1de7-4cbd-90b3-a802355d52e2",
   "metadata": {},
   "outputs": [],
   "source": [
    "options(repr.plot.width = 5, repr.plot.height = 4, repr.plot.res = 300)\n",
    "\n",
    "# Create a data frame for plotting\n",
    "pca_df <- data.frame(\n",
    "  PC1 = pca_result$x[, 1],  # First principal component\n",
    "  PC2 = pca_result$x[, 2],  # Second principal component\n",
    "  tsid = rownames(pca_result$x),  # Use rownames of pca_result$x for tsid\n",
    "  treatment = gsub(\"_.*\", \"\", rownames(pca_result$x))  # Extract treatment from tsid\n",
    ")\n",
    "\n",
    "# Ensure treatment is a factor with levels in the correct order\n",
    "pca_df$treatment <- factor(pca_df$treatment, levels = c(\"CTRL\", \"ALDO\", \"REC\"))\n",
    "\n",
    "# Plot the PCA\n",
    "PCA_plot <- ggplot(pca_df, aes(x = PC1, y = PC2, color = treatment, label = substr(tsid, nchar(tsid)-3, nchar(tsid)))) +\n",
    "  geom_point(size = 4, alpha = 0.8) +\n",
    "  geom_text(vjust = 2, hjust = 0.5, size = 3, color = \"black\") +  # Adjust vjust to place labels below\n",
    "  theme_minimal() +\n",
    "  labs(\n",
    "    title = paste0(\"PCA of Pseudobulk Samples for \", celltype ,\" Post-ComBat Correction\"),\n",
    "    x = paste0(\"PC1 (\", round(summary(pca_result)$importance[2, 1] * 100, 1), \"% Variance)\"),\n",
    "    y = paste0(\"PC2 (\", round(summary(pca_result)$importance[2, 2] * 100, 1), \"% Variance)\")\n",
    "  ) +\n",
    "  scale_color_manual(values = palette.treatment) +  # Correct color palette\n",
    "  theme(\n",
    "    legend.position = \"right\",\n",
    "    text = element_text(size = 12),\n",
    "    plot.title = element_text(size = 12),  # Decrease title size\n",
    "    panel.grid.minor = element_blank(),    # Remove minor gridlines only\n",
    "    panel.border = element_rect(color = \"black\", fill = NA, size = 0.5)  # Add black border around the plot\n",
    "  )\n",
    "\n",
    "PCA_plot\n",
    "ggsave(paste0(\"subcluster/\", celltype, \"/Plots/PCA_plot_pseudobulk.svg\"), plot = PCA_plot, units = \"cm\", dpi = 300, width = 15, height = 10)"
   ]
  },
  {
   "cell_type": "markdown",
   "id": "ed33a15f-79e2-4a56-9993-cd6b6b88821c",
   "metadata": {},
   "source": [
    "# hdWGCNA"
   ]
  },
  {
   "cell_type": "code",
   "execution_count": null,
   "id": "f2d28927-79ec-463b-8f75-f25a3446a7da",
   "metadata": {},
   "outputs": [],
   "source": [
    "print(\"Cellnumbers per cluster and sample\")\n",
    "table <- table(obj.subcluster@meta.data$treatment, \n",
    "      obj.subcluster@meta.data$cell_type_sub)\n",
    "table"
   ]
  },
  {
   "cell_type": "code",
   "execution_count": null,
   "id": "1f3aaab7-f1ee-432d-b60f-ef76375fd385",
   "metadata": {
    "scrolled": true
   },
   "outputs": [],
   "source": [
    "# List with only protein-coding Genes\n",
    "\n",
    "protein_coding_genes <- read.csv(\"DEGs/nothreshold/protein_coding_gene_names_filtered.txt\", \n",
    "                                 header = FALSE, \n",
    "                                 stringsAsFactors = FALSE)[,1]\n",
    "\n",
    "protein_coding_genes <- protein_coding_genes[-1]"
   ]
  },
  {
   "cell_type": "code",
   "execution_count": null,
   "id": "22f8470e-9510-4e53-9149-c5dcc76119af",
   "metadata": {},
   "outputs": [],
   "source": [
    "# Filter the gene expression matrix in the Seurat object\n",
    "seurat_obj <- obj.subcluster\n",
    "seurat_obj <- subset(seurat_obj, features = protein_coding_genes)  \n",
    "\n",
    "# Now proceed with WGCNA setup\n",
    "seurat_obj <- SetupForWGCNA(\n",
    "  seurat_obj,\n",
    "  gene_select = \"fraction\",  # You can still use fraction-based selection\n",
    "  fraction = 0.05,          \n",
    "  wgcna_name = celltype\n",
    ")"
   ]
  },
  {
   "cell_type": "code",
   "execution_count": null,
   "id": "57d84072-aebb-42c8-90ce-55994411daa8",
   "metadata": {},
   "outputs": [],
   "source": [
    "# Construct metacells in each group (make sure that min_cells>k)\n",
    "seurat_obj <- MetacellsByGroups(\n",
    "  seurat_obj = seurat_obj,\n",
    "  group.by = c(\"treatment\", \"cell_type_sub\"),\n",
    "  reduction = \"harmony\", \n",
    "  assay = \"RNA\",\n",
    "  slot = \"counts\",\n",
    "  k = 20,                          \n",
    "  max_shared = 20,         \n",
    "  ident.group = \"cell_type_sub\",      \n",
    "  min_cells = 25\n",
    ")"
   ]
  },
  {
   "cell_type": "code",
   "execution_count": null,
   "id": "9be1d95a-0e8e-4b2c-b7ef-9910a6f8da5e",
   "metadata": {},
   "outputs": [],
   "source": [
    "# Normalize metacell expression matrix:\n",
    "seurat_obj <- NormalizeMetacells(seurat_obj)\n",
    "\n",
    "seurat_obj <- SetDatExpr(\n",
    "  seurat_obj,\n",
    "  group_name = c(\"FB_0\", \"FB_1\", \"FB_2\", \"FB_3\", \"FB_4\", \"FB_5\"),  # cluster\n",
    "  group.by = \"cell_type_sub\",                                  # the metadata column containing the cell type info. This same column should have also been used in MetacellsByGroups\n",
    "  assay = \"RNA\",                                               # using RNA assay\n",
    "  slot = \"data\"                                                # using normalized data\n",
    ")\n",
    "\n",
    "# Test different soft powers:\n",
    "seurat_obj <- TestSoftPowers(\n",
    "  seurat_obj,\n",
    "  networkType = \"signed\")\n",
    "\n",
    "# Plot the results:\n",
    "plot_list <- PlotSoftPowers(seurat_obj)"
   ]
  },
  {
   "cell_type": "code",
   "execution_count": null,
   "id": "fc675892-5c22-4bd9-9db4-6ce472f09581",
   "metadata": {},
   "outputs": [],
   "source": [
    "options(repr.plot.width = 5, repr.plot.height = 4, repr.plot.res = 300)\n",
    "\n",
    "# assemble with patchwork\n",
    "wrap_plots(plot_list, ncol = 2)"
   ]
  },
  {
   "cell_type": "code",
   "execution_count": null,
   "id": "92636a84-16fa-4f47-8bde-c6ef643dfaca",
   "metadata": {},
   "outputs": [],
   "source": [
    "# construct co-expression network:\n",
    "seurat_obj <- ConstructNetwork(\n",
    "  seurat_obj, soft_power = 7,\n",
    "  setDatExpr = FALSE,\n",
    "  tom_name = paste0(\"LV_\", celltype), overwrite_tom = TRUE)"
   ]
  },
  {
   "cell_type": "code",
   "execution_count": null,
   "id": "3249b49f-f73b-4bc5-9ccf-1214a0f349fc",
   "metadata": {},
   "outputs": [],
   "source": [
    "# Generate palette\n",
    "palette_mod <- DiscretePalette(8, palette = \"stepped\", shuffle = TRUE)\n",
    "\n",
    "# Function to check if a color is grey (low saturation)\n",
    "is_grey <- function(color) {\n",
    "  hsv_vals <- rgb2hsv(col2rgb(color))\n",
    "  return(hsv_vals[\"s\", ] < 0.2)  # Low saturation indicates grey\n",
    "}\n",
    "\n",
    "# Filter out greys\n",
    "palette_mod <- palette_mod[!sapply(palette_mod, is_grey)]\n",
    "\n",
    "# If too many colors were removed, regenerate until enough remain\n",
    "while (length(palette_mod) < 8) {\n",
    "  new_colors <- DiscretePalette(8, palette = \"stepped\", shuffle = TRUE)\n",
    "  palette_mod <- unique(c(palette_mod, new_colors[!sapply(new_colors, is_grey)]))\n",
    "  palette_mod <- palette_mod[1:8]  # Ensure exactly 9 colors\n",
    "}\n",
    "\n",
    "# Print final colors\n",
    "print(palette_mod)"
   ]
  },
  {
   "cell_type": "code",
   "execution_count": null,
   "id": "144dbdb7-3654-44f7-936b-ebae6918ff25",
   "metadata": {},
   "outputs": [],
   "source": [
    "palette_mod <- c(\n",
    "\"#B33E52\",\n",
    "\"#3D0F99\", \n",
    "\"#5C2F37\", \n",
    "\"#99600F\", \n",
    "\"#54990F\", \n",
    "\"#B3823E\",\n",
    "\"#0F8299\",\n",
    "\"#78B33E\"\n",
    ")"
   ]
  },
  {
   "cell_type": "code",
   "execution_count": null,
   "id": "62665de3-5327-4ccf-b1e3-63907dcb5c42",
   "metadata": {},
   "outputs": [],
   "source": [
    "# reset the module colors\n",
    "seurat_obj <- ResetModuleColors(seurat_obj, palette_mod)"
   ]
  },
  {
   "cell_type": "code",
   "execution_count": null,
   "id": "9adb75ff-e13a-4483-9f67-10031d03fc53",
   "metadata": {},
   "outputs": [],
   "source": [
    "svg(paste0(\"subcluster/\", celltype, \"/hdWGCNA/Dendrogram.svg\"), width = 15 / 2.54, height = 10 / 2.54)  # Convert cm to inches\n",
    "PlotDendrogram(seurat_obj, main = paste0(celltype, \" hdWGCNA Dendrogram\"))\n",
    "dev.off()"
   ]
  },
  {
   "cell_type": "code",
   "execution_count": null,
   "id": "15a57703-b68c-4295-a098-b823eeaf1f2f",
   "metadata": {},
   "outputs": [],
   "source": [
    "TOM <- GetTOM(seurat_obj)\n",
    "head(TOM)"
   ]
  },
  {
   "cell_type": "code",
   "execution_count": null,
   "id": "feae5501-1e0b-455e-a8d2-87aa8581efed",
   "metadata": {
    "scrolled": true,
    "tags": []
   },
   "outputs": [],
   "source": [
    "# need to run ScaleData first or else harmony throws an error:\n",
    "seurat_obj <- ScaleData(seurat_obj, features = VariableFeatures(seurat_obj))\n",
    "\n",
    "# compute all MEs in the full single-cell dataset\n",
    "seurat_obj <- ModuleEigengenes(\n",
    " seurat_obj,\n",
    " group.by.vars = \"cell_type_sub\")"
   ]
  },
  {
   "cell_type": "code",
   "execution_count": null,
   "id": "b3f4a4fb-c6c8-4bc6-8759-b4e9e6f8ca36",
   "metadata": {},
   "outputs": [],
   "source": [
    "# harmonized module eigengenes:\n",
    "hMEs <- GetMEs(seurat_obj)\n",
    "\n",
    "# module eigengenes:\n",
    "MEs <- GetMEs(seurat_obj, harmonized = FALSE)"
   ]
  },
  {
   "cell_type": "code",
   "execution_count": null,
   "id": "7594e985-2aaa-4f23-b6f9-37c529f75f7f",
   "metadata": {},
   "outputs": [],
   "source": [
    "# Plot correlation of module Eigengenes and treatment\n",
    "treatment_vector <- as.factor(seurat_obj@meta.data$treatment)\n",
    "\n",
    "results <- lapply(names(hMEs), function(module) {\n",
    "  model <- aov(hMEs[[module]] ~ treatment_vector)\n",
    "  summary(model)[[1]][[\"Pr(>F)\"]][1]\n",
    "})\n",
    "\n",
    "names(results) <- names(hMEs)\n",
    "pvals <- unlist(results)\n",
    "pvals_adj <- p.adjust(pvals, method = \"fdr\")\n",
    "\n",
    "# Show significant correlations\n",
    "sig_modules <- names(pvals_adj)[pvals_adj < 0.05]\n",
    "print(data.frame(Module = sig_modules, Adj_P = pvals_adj[sig_modules]))\n"
   ]
  },
  {
   "cell_type": "code",
   "execution_count": null,
   "id": "c2d43a44-b12e-476b-b4f8-14031032c644",
   "metadata": {},
   "outputs": [],
   "source": [
    "module <- \"FB-M8\"\n",
    "\n",
    "options(repr.plot.width = 3, repr.plot.height = 4, repr.plot.res = 300)\n",
    "\n",
    "df_plot <- data.frame(\n",
    "  ModuleEigengene = hMEs[[module]],\n",
    "  Treatment = treatment_vector\n",
    ")\n",
    "\n",
    "module_plot <- ggplot(df_plot, aes(x = Treatment, y = ModuleEigengene, fill = Treatment)) +\n",
    "  geom_boxplot(outlier.size = 0.5) +\n",
    "  scale_fill_manual(values = palette.treatment) +\n",
    "  theme_minimal() +\n",
    "  ggtitle(paste0(module, \" Module Eigengene Expression by Treatment\"))\n",
    "\n",
    "ggsave(\n",
    "  filename = paste0(\"subcluster/\", celltype, \"/hdWGCNA/ModuleEigengene/ModuleEigengene_Treatment_\", module, \".svg\"),\n",
    "  plot = module_plot,\n",
    "  width = 7 / 2.54, \n",
    "  height = 5 / 2.54, \n",
    "  units = \"in\",  # Inches (ggsave doesn't use cm natively)\n",
    "  dpi = 300\n",
    ")\n",
    "\n",
    "module_plot"
   ]
  },
  {
   "cell_type": "code",
   "execution_count": null,
   "id": "1e6666d2-091c-4f88-a090-325ed42e99ea",
   "metadata": {},
   "outputs": [],
   "source": [
    "# compute eigengene-based connectivity (kME):\n",
    "seurat_obj <- ModuleConnectivity(\n",
    "  seurat_obj,\n",
    "  group.by = \"cell_type_sub\", group_name = c(\"FB_0\", \"FB_1\", \"FB_2\", \"FB_3\", \"FB_4\", \"FB_5\"))"
   ]
  },
  {
   "cell_type": "code",
   "execution_count": null,
   "id": "b3fd5611-12c5-401e-a79c-a878a98cc6f7",
   "metadata": {},
   "outputs": [],
   "source": [
    "# rename the modules\n",
    "seurat_obj <- ResetModuleNames(\n",
    "  seurat_obj,\n",
    "  new_name = paste0(celltype ,\"-M\")\n",
    ")"
   ]
  },
  {
   "cell_type": "code",
   "execution_count": null,
   "id": "b2fcf13b-b071-4025-97ac-b68cb4488a17",
   "metadata": {},
   "outputs": [],
   "source": [
    "saveRDS(seurat_obj, file = paste0(\"subcluster/\", celltype, \"/hdWGCNA/hdWGCNA_\" , celltype, \".rds\"))"
   ]
  },
  {
   "cell_type": "code",
   "execution_count": null,
   "id": "b7124290-26ea-480b-9275-c7703b0db4e6",
   "metadata": {},
   "outputs": [],
   "source": [
    "seurat_obj <- readRDS(paste0(\"subcluster/\", celltype, \"/hdWGCNA/hdWGCNA_\", celltype, \".rds\"))"
   ]
  },
  {
   "cell_type": "code",
   "execution_count": null,
   "id": "be4278d0-73a7-435c-8b02-14de150c49df",
   "metadata": {},
   "outputs": [],
   "source": [
    "svg(paste0(\"subcluster/\", celltype, \"/hdWGCNA/KMEs.svg\"), width = 15 / 2.54, height = 15 / 2.54)  # Convert cm to inches\n",
    "PlotKMEs(seurat_obj, ncol = 3)\n",
    "dev.off()"
   ]
  },
  {
   "cell_type": "code",
   "execution_count": null,
   "id": "3d56dc10-3b15-4519-8efc-fbd976c6d9f4",
   "metadata": {},
   "outputs": [],
   "source": [
    "# Get the module assignment table:\n",
    "modules <- GetModules(seurat_obj)\n",
    "\n",
    "# Show the first 6 columns:\n",
    "head(modules[,1:8])\n",
    "write.csv(modules, file = paste0(\"subcluster/\", celltype, \"/hdWGCNA/modules_df.csv\"))"
   ]
  },
  {
   "cell_type": "code",
   "execution_count": null,
   "id": "6f603e02-40cd-487a-8e0f-750609e766d5",
   "metadata": {
    "tags": []
   },
   "outputs": [],
   "source": [
    "# Get hub genes\n",
    "hub_df <- GetHubGenes(seurat_obj, n_hubs = 25)\n",
    "\n",
    "head(hub_df)\n",
    "write.csv(hub_df, file = paste0(\"subcluster/\", celltype, \"/hdWGCNA/hub_df.csv\"))"
   ]
  },
  {
   "cell_type": "code",
   "execution_count": null,
   "id": "3dfdae5a-400f-49ef-a347-5684d4d82560",
   "metadata": {},
   "outputs": [],
   "source": [
    "# Make a featureplot of hMEs for each module\n",
    "plot_list <- ModuleFeaturePlot(\n",
    "  seurat_obj,\n",
    "  features = \"hMEs\", # plot the hMEs\n",
    "  order = TRUE # order so the points with highest hMEs are on top\n",
    ")\n",
    "# Stitch together with patchwork\n",
    "combined_plot <- wrap_plots(plot_list, ncol = 3)\n",
    "\n",
    "ggsave(\n",
    "  filename = paste0(\"subcluster/\", celltype, \"/hdWGCNA/ModuleFeaturePlot.svg\"),\n",
    "  plot = combined_plot,  # The patchwork object\n",
    "  width = 15 / 2.54, \n",
    "  height = 15 / 2.54, \n",
    "  units = \"in\",  # Inches (ggsave doesn't use cm natively)\n",
    "  dpi = 300\n",
    ")"
   ]
  },
  {
   "cell_type": "code",
   "execution_count": null,
   "id": "8d1de0c3-989a-4068-9ffb-38d70484ab2e",
   "metadata": {
    "scrolled": true
   },
   "outputs": [],
   "source": [
    "# Run module UMAP\n",
    "options(future.globals.maxSize = 3 * 1024^3)  # Set limit to 3GB\n",
    "\n",
    "seurat_obj <- RunModuleUMAP(\n",
    "  seurat_obj,\n",
    "  n_hubs = 10, # number of hub genes to include for the UMAP embedding\n",
    "  n_neighbors = 15, # neighbors parameter for UMAP\n",
    "  min_dist = 0.1 # min distance between points in UMAP space\n",
    ")\n",
    "\n",
    "# Get the hub gene UMAP table from the seurat object\n",
    "umap_df <- GetModuleUMAP(seurat_obj)"
   ]
  },
  {
   "cell_type": "code",
   "execution_count": null,
   "id": "1be0eab9-e41e-48c5-8460-1d5a633bf996",
   "metadata": {},
   "outputs": [],
   "source": [
    "# All Genes\n",
    "svg(paste0(\"subcluster/\", celltype, \"/hdWGCNA/ModuleUMAPPlot.svg\"), width = 15 / 2.54, height = 15 / 2.54)  # Convert cm to inches\n",
    "\n",
    "UMAPmodule <- ModuleUMAPPlot(\n",
    "  seurat_obj,\n",
    "  edge.alpha = 0.25,\n",
    "  sample_edges = TRUE,\n",
    "  edge_prop = 0.05, # proportion of edges to sample (20% here)\n",
    "  label_hubs = 2 ,# how many hub genes to plot per module?\n",
    "  keep_grey_edges = FALSE\n",
    ")\n",
    "\n",
    "dev.off()"
   ]
  },
  {
   "cell_type": "markdown",
   "id": "3b224c9d-1d21-4eb0-82a5-635babd24017",
   "metadata": {},
   "source": [
    "#### DMEs"
   ]
  },
  {
   "cell_type": "code",
   "execution_count": null,
   "id": "f5b3d7f9-98fe-47f8-8d33-225840633dc5",
   "metadata": {},
   "outputs": [],
   "source": [
    "group1 <- seurat_obj@meta.data %>% subset(treatment == \"CTRL\") %>% rownames\n",
    "group2 <- seurat_obj@meta.data %>% subset(treatment == \"ALDO\") %>% rownames\n",
    "group3 <- seurat_obj@meta.data %>% subset(treatment == \"REC\") %>% rownames"
   ]
  },
  {
   "cell_type": "markdown",
   "id": "947a6573-235d-42c1-b877-167c4b7d86dd",
   "metadata": {},
   "source": [
    "##### ALDO vs CTRL"
   ]
  },
  {
   "cell_type": "code",
   "execution_count": null,
   "id": "9f0d77c6-dfa6-40a6-95fc-e55d9e177de0",
   "metadata": {},
   "outputs": [],
   "source": [
    "DMEs <- FindDMEs(\n",
    "  seurat_obj,\n",
    "  barcodes1 = group2,\n",
    "  barcodes2 = group1,\n",
    "  test.use = \"wilcox\",\n",
    "  wgcna_name = celltype\n",
    ")\n",
    "\n",
    "DMEs"
   ]
  },
  {
   "cell_type": "code",
   "execution_count": null,
   "id": "18e47616-9f1a-4956-ac9d-ecb54c222bb0",
   "metadata": {},
   "outputs": [],
   "source": [
    "options(repr.plot.width = 5, repr.plot.height = 5, repr.plot.res = 100)\n",
    "\n",
    "p <- PlotDMEsLollipop(\n",
    "  seurat_obj, \n",
    "  DMEs, \n",
    "  wgcna_name = celltype,\n",
    "  pvalue = \"p_val_adj\"\n",
    ")\n",
    "\n",
    "ggsave(paste0(\"subcluster/\", celltype, \"/hdWGCNA/PlotDMEsLollipop_ALDOvsCTRL.svg\"), plot = p, units = \"cm\", dpi = 300, width = 10, height = 10)"
   ]
  },
  {
   "cell_type": "code",
   "execution_count": null,
   "id": "6bddbf94-e895-40d3-879b-dde95c67a669",
   "metadata": {},
   "outputs": [],
   "source": [
    "options(repr.plot.width = 5, repr.plot.height = 5, repr.plot.res = 100)\n",
    "\n",
    "p <- PlotDMEsVolcano(\n",
    "  seurat_obj,\n",
    "  DMEs,\n",
    "  wgcna_name = celltype\n",
    ")\n",
    "\n",
    "p"
   ]
  },
  {
   "cell_type": "markdown",
   "id": "3845a075-7123-4edd-8bf9-57caffe264a4",
   "metadata": {},
   "source": [
    "##### REC vs ALDO"
   ]
  },
  {
   "cell_type": "code",
   "execution_count": null,
   "id": "fbcaeea5-0f95-4814-a467-16f666479d25",
   "metadata": {},
   "outputs": [],
   "source": [
    "DMEs <- FindDMEs(\n",
    "  seurat_obj,\n",
    "  barcodes1 = group3,\n",
    "  barcodes2 = group2,\n",
    "  test.use = \"wilcox\",\n",
    "  wgcna_name = celltype\n",
    ")\n",
    "\n",
    "DMEs"
   ]
  },
  {
   "cell_type": "code",
   "execution_count": null,
   "id": "66ae5155-5ded-4492-a65f-5e45ee1923f8",
   "metadata": {},
   "outputs": [],
   "source": [
    "options(repr.plot.width = 5, repr.plot.height = 5, repr.plot.res = 100)\n",
    "\n",
    "p <- PlotDMEsLollipop(\n",
    "  seurat_obj, \n",
    "  DMEs, \n",
    "  wgcna_name = celltype, \n",
    "  pvalue = \"p_val_adj\"\n",
    ")\n",
    "\n",
    "ggsave(paste0(\"subcluster/\", celltype, \"/hdWGCNA/PlotDMEsLollipop_RECvsALDO.svg\"), plot = p, units = \"cm\", dpi = 300, width = 10, height = 10)"
   ]
  },
  {
   "cell_type": "code",
   "execution_count": null,
   "id": "3f566c0e-fb0b-4b71-b3f7-addcd9ef72e1",
   "metadata": {},
   "outputs": [],
   "source": [
    "options(repr.plot.width = 5, repr.plot.height = 5, repr.plot.res = 100)\n",
    "\n",
    "p <- PlotDMEsVolcano(\n",
    "  seurat_obj,\n",
    "  DMEs,\n",
    "  wgcna_name = celltype\n",
    ")\n",
    "\n",
    "p"
   ]
  },
  {
   "cell_type": "markdown",
   "id": "941f24f3-507e-4bbc-9ed2-d5bade0a0d1f",
   "metadata": {},
   "source": [
    "# Transfer Subcluster Annotations to Original obj"
   ]
  },
  {
   "cell_type": "code",
   "execution_count": null,
   "id": "dcb64f8c-c4e3-4f74-a0ef-dce1e069af31",
   "metadata": {},
   "outputs": [],
   "source": [
    "options(repr.plot.width = 20, repr.plot.height = 10, repr.plot.res = 100)\n",
    "\n",
    "DimPlot(obj_full, group.by = \"cell_type_CMcomb\")|\n",
    "DimPlot(obj.subcluster, group.by = \"cell_type_sub\")"
   ]
  },
  {
   "cell_type": "code",
   "execution_count": null,
   "id": "19baea55-8154-4411-8000-f69b72756254",
   "metadata": {},
   "outputs": [],
   "source": [
    "obj_sub <- obj.subcluster"
   ]
  },
  {
   "cell_type": "code",
   "execution_count": null,
   "id": "3c515e6d-0cd4-41d1-99c2-69e67fc7ff4f",
   "metadata": {},
   "outputs": [],
   "source": [
    "seurat_objects <- list(obj.subcluster) # This can be done with several obj containing subsets of full obj\n",
    "\n",
    "set_cell_type_sub <- function(seurat_objects) {\n",
    "  for (obj in seurat_objects) {\n",
    "    obj@meta.data$cell_type_sub <- Idents(obj)\n",
    "  }\n",
    "}\n",
    "\n",
    "set_cell_type_sub(seurat_objects)\n",
    "\n",
    "# Check cluster annotations in obj_full\n",
    "\n",
    "unique(obj_full@meta.data$cell_type_CMcomb)"
   ]
  },
  {
   "cell_type": "code",
   "execution_count": null,
   "id": "fce3b6cc-5d1b-4195-b07a-1003d3b19b78",
   "metadata": {},
   "outputs": [],
   "source": [
    "# Subset all cells except \"celltype\" in cell_type_CMcomb\n",
    "\n",
    "object_wo_celltype <- obj_full[, obj_full@meta.data$cell_type_CMcomb != celltype]\n",
    "\n",
    "# Check successful removal of celltype in object_wo_celltype\n",
    "\n",
    "unique(object_wo_celltype@meta.data$cell_type_CMcomb)"
   ]
  },
  {
   "cell_type": "code",
   "execution_count": null,
   "id": "c60d5ded-6586-4bff-9127-8a3584c61486",
   "metadata": {},
   "outputs": [],
   "source": [
    "# Create empty cell_type_sub_num column in obj_full\n",
    "\n",
    "obj_full$cell_type_sub <- NA\n",
    "\n",
    "# Extract meta.data\n",
    "\n",
    "original_metadata <- obj_full@meta.data\n",
    "wo_subcluster_metadata <- object_wo_celltype@meta.data\n",
    "celltype_metadata <- obj.subcluster@meta.data\n",
    "\n",
    "# Reset rownames to a column in all data frames\n",
    "\n",
    "original_metadata$barcode <- rownames(original_metadata)\n",
    "wo_subcluster_metadata$barcode <- rownames(wo_subcluster_metadata)\n",
    "celltype_metadata$barcode <- rownames(celltype_metadata)\n",
    "\n",
    "# Subset to barcode and cell_type_sub columns\n",
    "\n",
    "original_metadata <- original_metadata[c(\"barcode\", \"cell_type_sub\")]\n",
    "wo_subcluster_metadata <- wo_subcluster_metadata[c(\"barcode\", \"cell_type_CMcomb\")]\n",
    "celltype_metadata <- celltype_metadata[c(\"barcode\", \"cell_type_sub\")]\n",
    "\n",
    "# Merge df by barcode\n",
    "\n",
    "merged_df <- merge(original_metadata, wo_subcluster_metadata, by = \"barcode\", all.x = TRUE)\n",
    "merged_df <- merge(merged_df, celltype_metadata, by = \"barcode\", all.x = TRUE)\n",
    "\n",
    "# re-name col names\n",
    "\n",
    "names(merged_df) <- c(\"barcode\", \"original\", \"wo_subcluster\", celltype)\n",
    "\n",
    "# create new merged column containing either original annotations or sub cluster annotations for each barcode\n",
    "\n",
    "merged_df$merged_column <- coalesce(merged_df$wo_subcluster, merged_df[[celltype]])\n",
    "\n",
    "# subset to key cols\n",
    "\n",
    "cell_type_sub_df <- merged_df[c(\"barcode\", \"merged_column\")]\n",
    "\n",
    "# re-order cell_type_sub_df to match order in obj_full \n",
    "\n",
    "cell_type_sub_df <- cell_type_sub_df[match(original_metadata$barcode, cell_type_sub_df$barcode), ]\n",
    "\n",
    "# subset to key col, unlist and add new annotations to obj_full@meta.data\n",
    "\n",
    "cell_type_sub_df <- cell_type_sub_df[c(\"merged_column\")]\n",
    "cell_type_sub_df <- unlist(cell_type_sub_df, use.names = FALSE)\n",
    "obj_full$cell_type_sub <- cell_type_sub_df"
   ]
  },
  {
   "cell_type": "code",
   "execution_count": null,
   "id": "d42572ec-6dad-4b46-8f09-a2715700253e",
   "metadata": {},
   "outputs": [],
   "source": [
    "DimPlot(obj_full, group.by = \"cell_type_sub\")"
   ]
  },
  {
   "cell_type": "code",
   "execution_count": null,
   "id": "954e4356-2065-4bb5-a4a1-84860bbbd78d",
   "metadata": {
    "scrolled": true
   },
   "outputs": [],
   "source": [
    "SaveH5Seurat(obj_full, paste0(\"subcluster/\", celltype, \"/full_obj_with_Subcluster_\", celltype, \"_annotations\"))"
   ]
  },
  {
   "cell_type": "markdown",
   "id": "315e83ac-b2e4-4ec2-b912-50873ac5df0c",
   "metadata": {},
   "source": [
    "# CellChat with FB subcluster annotations"
   ]
  },
  {
   "cell_type": "code",
   "execution_count": null,
   "id": "197ded33-2724-4a90-b57e-e63f4549b4ec",
   "metadata": {},
   "outputs": [],
   "source": [
    "# Subset obj to not contain CYC cluster and split by treatment\n",
    "obj_cc <- subset(obj_full, subset = cell_type_CMcomb != \"CYC\")\n",
    "\n",
    "Idents(obj_cc) <- obj_cc$cell_type_sub\n",
    "split_LV <- SplitObject(obj_cc, split.by = \"treatment\")"
   ]
  },
  {
   "cell_type": "code",
   "execution_count": null,
   "id": "bf06fea3-f3c9-44a8-9d16-c6f7680c1b2e",
   "metadata": {},
   "outputs": [],
   "source": [
    "palette.CMcomb.sc <- c(\n",
    "    \"#aad902\", #BC \n",
    "    \"#990902\", #CM\n",
    "    \"#005f99\", #ECart   \n",
    "    \"#05b1eb\", #ECcap\n",
    "    \"#0303a3\", #ECend\n",
    "    \"#003ae8\", #EClym    \n",
    "    \"#077a01\", #MP\n",
    "    \"#422c00\", #PER\n",
    "    \"#FFD100\", #SC\n",
    "    \"#ffab00\", #SMC\n",
    "    \"#56B400\",  #TC\n",
    "    \"#5c2f07\", # Earthy brown  \n",
    "    \"#B35C1E\", # Rust orange  \n",
    "    \"#C9A27E\", # Sandstone  \n",
    "    \"#A7988A\", # Ash beige  \n",
    "    \"#C48291\", # Dusty rose  \n",
    "    \"#6C7A89\" # Slate gray-blue (cool contrast)  \n",
    ")\n"
   ]
  },
  {
   "cell_type": "markdown",
   "id": "574892ce-c08d-4516-afff-3e60caf0a2c0",
   "metadata": {},
   "source": [
    "## CellChat LV CTRL"
   ]
  },
  {
   "cell_type": "code",
   "execution_count": null,
   "id": "beda0e4c-c4c1-4a6c-b365-354f31e85fdf",
   "metadata": {},
   "outputs": [],
   "source": [
    "# Prepare metadata\n",
    "data.input <- GetAssayData(split_LV$CTRL, assay = \"RNA\", layer = \"data\")\n",
    "labels <- Idents(split_LV$CTRL)\n",
    "meta <- data.frame(group = labels, row.names = names(labels))\n",
    "\n",
    "# Create the CellChat object with the filtered gene data\n",
    "cc_obj <- createCellChat(object = data.input, meta = meta, group.by = \"group\")\n",
    "cc_obj <- addMeta(cc_obj, meta = meta, meta.name = \"Labels\")\n",
    "cc_obj <- setIdent(cc_obj, ident.use = \"Labels\")\n",
    "\n",
    "# Check the cell type levels in the identifiers\n",
    "levels(cc_obj@idents)\n",
    "\n",
    "# Load the CellChat database for mouse\n",
    "CellChatDB <- CellChatDB.mouse\n",
    "showDatabaseCategory(CellChatDB)\n",
    "dplyr::glimpse(CellChatDB$interaction)\n",
    "\n",
    "# Use the mouse CellChat database\n",
    "CellChatDB.use <- CellChatDB\n",
    "cc_obj@DB <- CellChatDB.use\n",
    "\n",
    "# Perform CellChat analysis steps\n",
    "cc_obj <- subsetData(cc_obj)\n",
    "cc_obj <- identifyOverExpressedGenes(cc_obj)\n",
    "cc_obj <- identifyOverExpressedInteractions(cc_obj)\n",
    "\n",
    "# Project data based on protein-protein interactions (PPI)\n",
    "cc_obj <- projectData(cc_obj, PPI.mouse)\n",
    "\n",
    "# Compute communication probabilities\n",
    "cc_obj <- computeCommunProb(cc_obj, raw.use = FALSE)\n",
    "\n",
    "# Filter communication based on minimum number of cells\n",
    "cc_obj <- filterCommunication(cc_obj, min.cells = 10)\n",
    "\n",
    "# Compute communication probabilities by pathway\n",
    "cc_obj <- computeCommunProbPathway(cc_obj)\n",
    "\n",
    "# Aggregate the communication network\n",
    "cc_obj <- aggregateNet(cc_obj)\n",
    "\n",
    "# Save the CellChat object for further analysis\n",
    "cc_obj_CTRL <- cc_obj\n",
    "cc_obj <- netAnalysis_computeCentrality(object = cc_obj, slot.name = \"netP\", thresh = 0.05)\n",
    "\n",
    "# Save the CellChat object as an RDS file\n",
    "cc_LV_CTRL <- cc_obj\n",
    "saveRDS(cc_obj, file = paste0(\"subcluster/\", celltype, \"/CellChat/CellChat_LV_CTRL\"))"
   ]
  },
  {
   "cell_type": "code",
   "execution_count": null,
   "id": "31d8c44e-883b-48f1-a107-e60107c58713",
   "metadata": {},
   "outputs": [],
   "source": [
    "groupSize <- as.numeric(table(cc_LV_CTRL@idents))\n",
    "\n",
    "svg(file = paste0(\"subcluster/\", celltype, \"/CellChat/Plots/CTRL/LV_CTRL_Number.svg\"))\n",
    "gg1 <- netVisual_circle(cc_LV_CTRL@net$count, vertex.weight = groupSize, vertex.label.cex = 2, weight.scale = TRUE, label.edge= TRUE, title.name = \"Number of interactions\", color.use = palette.CMcomb.sc) \n",
    "dev.off()\n",
    "\n",
    "svg(file = paste0(\"subcluster/\", celltype, \"/CellChat/Plots/CTRL/LV_CTRL_Weight.svg\"))\n",
    "gg2 <- netVisual_circle(cc_LV_CTRL@net$weight, vertex.weight = groupSize, vertex.label.cex = 2, weight.scale = TRUE, label.edge= TRUE, title.name = \"Interaction weights/strength\", color.use = palette.CMcomb.sc)\n",
    "dev.off()\n",
    "\n",
    "svg(file = paste0(\"subcluster/\", celltype, \"/CellChat/Plots/CTRL/LV_CTRL_byCluster.svg\"), width = 24, height = 18)\n",
    "mat <- cc_LV_CTRL@net$weight\n",
    "par(mfrow = c(5,5), xpd = TRUE)\n",
    "for (i in 1:nrow(mat)) {\n",
    "  mat1 <- matrix(0, nrow = nrow(mat), ncol = ncol(mat), dimnames = dimnames(mat))\n",
    "  mat1[i, ] <- mat[i, ]\n",
    "  netVisual_circle(mat1, vertex.size.max = 5, vertex.weight = groupSize, vertex.label.cex = 1.5, arrow.size = 0, weight.scale = TRUE, label.edge= TRUE, edge.weight.max = max(mat), title.name = rownames(mat)[i], color.use = palette.CMcomb.sc)\n",
    "}\n",
    "dev.off()"
   ]
  },
  {
   "cell_type": "markdown",
   "id": "04dd7077-6402-4a6a-a9f1-4faadb933981",
   "metadata": {},
   "source": [
    "## CellChat LV ALDO"
   ]
  },
  {
   "cell_type": "code",
   "execution_count": null,
   "id": "f6e0ed80-aee6-45d6-82f6-89c9da91127b",
   "metadata": {},
   "outputs": [],
   "source": [
    "# Prepare metadata\n",
    "data.input <- GetAssayData(split_LV$ALDO, assay = \"RNA\", layer = \"data\")\n",
    "labels <- Idents(split_LV$ALDO)\n",
    "meta <- data.frame(group = labels, row.names = names(labels))\n",
    "\n",
    "# Create the CellChat object with the filtered gene data\n",
    "cc_obj <- createCellChat(object = data.input, meta = meta, group.by = \"group\")\n",
    "cc_obj <- addMeta(cc_obj, meta = meta, meta.name = \"Labels\")\n",
    "cc_obj <- setIdent(cc_obj, ident.use = \"Labels\")\n",
    "\n",
    "# Check the cell type levels in the identifiers\n",
    "levels(cc_obj@idents)\n",
    "\n",
    "# Load the CellChat database for mouse\n",
    "CellChatDB <- CellChatDB.mouse\n",
    "showDatabaseCategory(CellChatDB)\n",
    "dplyr::glimpse(CellChatDB$interaction)\n",
    "\n",
    "# Use the mouse CellChat database\n",
    "CellChatDB.use <- CellChatDB\n",
    "cc_obj@DB <- CellChatDB.use\n",
    "\n",
    "# Perform CellChat analysis steps\n",
    "cc_obj <- subsetData(cc_obj)\n",
    "cc_obj <- identifyOverExpressedGenes(cc_obj)\n",
    "cc_obj <- identifyOverExpressedInteractions(cc_obj)\n",
    "\n",
    "# Project data based on protein-protein interactions (PPI)\n",
    "cc_obj <- projectData(cc_obj, PPI.mouse)\n",
    "\n",
    "# Compute communication probabilities\n",
    "cc_obj <- computeCommunProb(cc_obj, raw.use = FALSE)\n",
    "\n",
    "# Filter communication based on minimum number of cells\n",
    "cc_obj <- filterCommunication(cc_obj, min.cells = 10)\n",
    "\n",
    "# Compute communication probabilities by pathway\n",
    "cc_obj <- computeCommunProbPathway(cc_obj)\n",
    "\n",
    "# Aggregate the communication network\n",
    "cc_obj <- aggregateNet(cc_obj)\n",
    "\n",
    "# Save the CellChat object for further analysis\n",
    "cc_obj_ALDO <- cc_obj\n",
    "cc_obj <- netAnalysis_computeCentrality(object = cc_obj, slot.name = \"netP\", thresh = 0.05)\n",
    "\n",
    "# Save the CellChat object as an RDS file\n",
    "cc_LV_ALDO <- cc_obj\n",
    "saveRDS(cc_obj, file = paste0(\"subcluster/\", celltype, \"/CellChat/CellChat_LV_ALDO\"))"
   ]
  },
  {
   "cell_type": "code",
   "execution_count": null,
   "id": "988617e3-849e-45e4-bd52-345539e51b77",
   "metadata": {},
   "outputs": [],
   "source": [
    "groupSize <- as.numeric(table(cc_LV_ALDO@idents))\n",
    "\n",
    "svg(file = paste0(\"subcluster/\", celltype, \"/CellChat/Plots/ALDO/LV_ALDO_Number.svg\"))\n",
    "gg1 <- netVisual_circle(cc_LV_ALDO@net$count, vertex.weight = groupSize, vertex.label.cex = 2, weight.scale = TRUE, label.edge= TRUE, title.name = \"Number of interactions\", color.use = palette.CMcomb.sc) \n",
    "dev.off()\n",
    "\n",
    "svg(file = paste0(\"subcluster/\", celltype, \"/CellChat/Plots/ALDO/LV_ALDO_Weight.svg\"))\n",
    "gg2 <- netVisual_circle(cc_LV_ALDO@net$weight, vertex.weight = groupSize, vertex.label.cex = 2, weight.scale = TRUE, label.edge= TRUE, title.name = \"Interaction weights/strength\", color.use = palette.CMcomb.sc)\n",
    "dev.off()\n",
    "\n",
    "svg(file = paste0(\"subcluster/\", celltype, \"/CellChat/Plots/ALDO/LV_ALDO_byCluster.svg\"), width = 24, height = 18)\n",
    "mat <- cc_LV_ALDO@net$weight\n",
    "par(mfrow = c(5,5), xpd = TRUE)\n",
    "for (i in 1:nrow(mat)) {\n",
    "  mat1 <- matrix(0, nrow = nrow(mat), ncol = ncol(mat), dimnames = dimnames(mat))\n",
    "  mat1[i, ] <- mat[i, ]\n",
    "  netVisual_circle(mat1, vertex.size.max = 5, vertex.weight = groupSize, vertex.label.cex = 1.5, arrow.size = 0, weight.scale = TRUE, label.edge= TRUE, edge.weight.max = max(mat), title.name = rownames(mat)[i], color.use = palette.CMcomb.sc)\n",
    "}\n",
    "dev.off()"
   ]
  },
  {
   "cell_type": "markdown",
   "id": "5a86f66f-f615-4030-ac0b-dc2bbf9d69f4",
   "metadata": {},
   "source": [
    "## CellChat LV REC"
   ]
  },
  {
   "cell_type": "code",
   "execution_count": null,
   "id": "94f6661e-2103-41b4-a503-7520c58f2836",
   "metadata": {},
   "outputs": [],
   "source": [
    "# Prepare metadata\n",
    "data.input <- GetAssayData(split_LV$REC, assay = \"RNA\", layer = \"data\")\n",
    "labels <- Idents(split_LV$REC)\n",
    "meta <- data.frame(group = labels, row.names = names(labels))\n",
    "\n",
    "# Create the CellChat object with the filtered gene data\n",
    "cc_obj <- createCellChat(object = data.input, meta = meta, group.by = \"group\")\n",
    "cc_obj <- addMeta(cc_obj, meta = meta, meta.name = \"Labels\")\n",
    "cc_obj <- setIdent(cc_obj, ident.use = \"Labels\")\n",
    "\n",
    "# Check the cell type levels in the identifiers\n",
    "levels(cc_obj@idents)\n",
    "\n",
    "# Load the CellChat database for mouse\n",
    "CellChatDB <- CellChatDB.mouse\n",
    "showDatabaseCategory(CellChatDB)\n",
    "dplyr::glimpse(CellChatDB$interaction)\n",
    "\n",
    "# Use the mouse CellChat database\n",
    "CellChatDB.use <- CellChatDB\n",
    "cc_obj@DB <- CellChatDB.use\n",
    "\n",
    "# Perform CellChat analysis steps\n",
    "cc_obj <- subsetData(cc_obj)\n",
    "cc_obj <- identifyOverExpressedGenes(cc_obj)\n",
    "cc_obj <- identifyOverExpressedInteractions(cc_obj)\n",
    "\n",
    "# Project data based on protein-protein interactions (PPI)\n",
    "cc_obj <- projectData(cc_obj, PPI.mouse)\n",
    "\n",
    "# Compute communication probabilities\n",
    "cc_obj <- computeCommunProb(cc_obj, raw.use = FALSE)\n",
    "\n",
    "# Filter communication based on minimum number of cells\n",
    "cc_obj <- filterCommunication(cc_obj, min.cells = 10)\n",
    "\n",
    "# Compute communication probabilities by pathway\n",
    "cc_obj <- computeCommunProbPathway(cc_obj)\n",
    "\n",
    "# Aggregate the communication network\n",
    "cc_obj <- aggregateNet(cc_obj)\n",
    "\n",
    "# Save the CellChat object for further analysis\n",
    "cc_obj_REC <- cc_obj\n",
    "cc_obj <- netAnalysis_computeCentrality(object = cc_obj, slot.name = \"netP\", thresh = 0.05)\n",
    "\n",
    "# Save the CellChat object as an RDS file\n",
    "cc_LV_REC <- cc_obj\n",
    "saveRDS(cc_obj, file = paste0(\"subcluster/\", celltype, \"/CellChat/CellChat_LV_REC\"))"
   ]
  },
  {
   "cell_type": "code",
   "execution_count": null,
   "id": "62ea45a8-153f-4241-9d5a-9a6ed404be52",
   "metadata": {},
   "outputs": [],
   "source": [
    "groupSize <- as.numeric(table(cc_LV_REC@idents))\n",
    "\n",
    "svg(file = paste0(\"subcluster/\", celltype, \"/CellChat/Plots/REC/LV_REC_Number.svg\"))\n",
    "gg1 <- netVisual_circle(cc_LV_REC@net$count, vertex.weight = groupSize, vertex.label.cex = 2, weight.scale = TRUE, label.edge= TRUE, title.name = \"Number of interactions\", color.use = palette.CMcomb.sc) \n",
    "dev.off()\n",
    "\n",
    "svg(file = paste0(\"subcluster/\", celltype, \"/CellChat/Plots/REC/LV_REC_Weight.svg\"))\n",
    "gg2 <- netVisual_circle(cc_LV_REC@net$weight, vertex.weight = groupSize, vertex.label.cex = 2, weight.scale = TRUE, label.edge= TRUE, title.name = \"Interaction weights/strength\", color.use = palette.CMcomb.sc)\n",
    "dev.off()\n",
    "\n",
    "svg(file = paste0(\"subcluster/\", celltype, \"/CellChat/Plots/REC/LV_REC_byCluster.svg\"), width = 24, height = 18)\n",
    "mat <- cc_LV_REC@net$weight\n",
    "par(mfrow = c(5,5), xpd = TRUE)\n",
    "for (i in 1:nrow(mat)) {\n",
    "  mat1 <- matrix(0, nrow = nrow(mat), ncol = ncol(mat), dimnames = dimnames(mat))\n",
    "  mat1[i, ] <- mat[i, ]\n",
    "  netVisual_circle(mat1, vertex.size.max = 5, vertex.weight = groupSize, vertex.label.cex = 1.5, arrow.size = 0, weight.scale = TRUE, label.edge= TRUE, edge.weight.max = max(mat), title.name = rownames(mat)[i], color.use = palette.CMcomb.sc)\n",
    "}\n",
    "dev.off()"
   ]
  },
  {
   "cell_type": "markdown",
   "id": "e141079a-9dee-482b-9ab4-d290e700200a",
   "metadata": {},
   "source": [
    "## Compare the total number of interactions and interaction strength (thresh = 0.05)\n",
    "To identify the interaction between which cell populations showing significant changes, CellChat compares the number of interactions and interaction strength among different cell populations."
   ]
  },
  {
   "cell_type": "code",
   "execution_count": null,
   "id": "c46ae485-410b-4728-b6ca-5d9c739df13a",
   "metadata": {},
   "outputs": [],
   "source": [
    "object.list <- list(CTRL = cc_LV_CTRL, ALDO = cc_LV_ALDO, REC = cc_LV_REC)\n",
    " \n",
    "cellchat <- mergeCellChat(object.list, add.names = names(object.list))\n",
    "\n",
    "# Merge the following slots: 'data.signaling','net', 'netP','meta', 'idents', 'var.features' , 'DB', and 'LR'.\n",
    "\n",
    "# Check the merged object to ensure everything is correct\n",
    "print(cellchat)"
   ]
  },
  {
   "cell_type": "code",
   "execution_count": null,
   "id": "a5096905-5b2a-48fd-98e0-aeed9344237d",
   "metadata": {},
   "outputs": [],
   "source": [
    "options(repr.plot.width = 5, repr.plot.height = 3, repr.plot.res = 300)\n",
    "\n",
    "gg1 <- compareInteractions(cellchat, show.legend = FALSE, group = c(1 ,2, 3), color.use = palette.treatment, title.name = \"Number of interactions\", size.text = 20)\n",
    "gg2 <- compareInteractions(cellchat, show.legend = FALSE, group = c(1 ,2, 3), measure = \"weight\", color.use = palette.treatment, title.name = \"Strength of interactions\", size.text = 20)\n",
    "gg1 + gg2\n",
    "\n",
    "ggsave(paste0(\"subcluster/\", celltype, \"/CellChat/Plots/NumberOfInteractions.svg\"), plot = gg1, units = \"cm\", dpi = 300, width = 10, height = 10)\n",
    "ggsave(paste0(\"subcluster/\", celltype, \"/CellChat/Plots/StrengthOfInteractions.svg\"), plot = gg2, units = \"cm\", dpi = 300, width = 10, height = 10)"
   ]
  },
  {
   "cell_type": "code",
   "execution_count": null,
   "id": "71af27f8-4eba-4a57-942f-0265b880b127",
   "metadata": {},
   "outputs": [],
   "source": [
    "# LV Diff Interaction Chord Diagrams\n",
    "\n",
    "svg(file = paste0(\"subcluster/\", celltype, \"/CellChat/Plots/diffInteraction_ALDOvsCTRL.svg\"), width = 14, height = 7)\n",
    "par(mfrow = c(1, 2), xpd = TRUE)\n",
    "PlotNetdiff_Num <- netVisual_diffInteraction(cellchat, comparison = c(1, 2), weight.scale = TRUE, vertex.label.cex = 2, arrow.size = 0.5, color.use = palette.CMcomb.sc) # placeholder measure = \"count.merged\",\n",
    "PlotNetdiff_Wght <- netVisual_diffInteraction(cellchat, comparison = c(1, 2), weight.scale = TRUE, vertex.label.cex = 2, arrow.size = 0.5, measure = \"weight\", color.use = palette.CMcomb.sc)\n",
    "dev.off()\n",
    "\n",
    "svg(file = paste0(\"subcluster/\", celltype, \"/CellChat/Plots/diffInteraction_RECvsCTRL.svg\"), width = 14, height = 7)\n",
    "par(mfrow = c(1, 2), xpd = TRUE)\n",
    "PlotNetdiff_Num <- netVisual_diffInteraction(cellchat, comparison = c(1, 3), weight.scale = TRUE, vertex.label.cex = 2, arrow.size = 0.5, color.use = palette.CMcomb.sc)\n",
    "PlotNetdiff_Wght <- netVisual_diffInteraction(cellchat, comparison = c(1, 3), weight.scale = TRUE, vertex.label.cex = 2, arrow.size = 0.5, measure = \"weight\", color.use = palette.CMcomb.sc)\n",
    "dev.off()\n",
    "\n",
    "svg(file = paste0(\"subcluster/\", celltype, \"/CellChat/Plots/diffInteraction_RECvsALDO.svg\"), width = 14, height = 7)\n",
    "par(mfrow = c(1, 2), xpd = TRUE)\n",
    "PlotNetdiff_Num <- netVisual_diffInteraction(cellchat, comparison = c(2, 3), weight.scale = TRUE, vertex.label.cex = 2, arrow.size = 0.5, color.use = palette.CMcomb.sc)\n",
    "PlotNetdiff_Wght <- netVisual_diffInteraction(cellchat, comparison = c(2, 3), weight.scale = TRUE, vertex.label.cex = 2, arrow.size = 0.5, measure = \"weight\", color.use = palette.CMcomb.sc)\n",
    "dev.off()"
   ]
  },
  {
   "cell_type": "code",
   "execution_count": null,
   "id": "1d903412-f15a-4fa0-ac15-71e50b3c3c30",
   "metadata": {
    "scrolled": true
   },
   "outputs": [],
   "source": [
    "# Diff Interaction Heatmaps\n",
    "options(repr.plot.width = 7, repr.plot.height = 6, repr.plot.res = 300)\n",
    "\n",
    "ht1 <- netVisual_heatmap(cellchat, comparison = c(1, 2), title.name = \"ALDO vs. CTRL - number\", width = 10, height = 28, color.use = palette.CMcomb.sc, color.heatmap = c(\"#0000c0\", \"#a00000\"))\n",
    "ht2 <- netVisual_heatmap(cellchat, comparison = c(1, 2), title.name = \"ALDO vs. CTRL - strength\", width = 10, height = 28, measure = \"weight\", color.use = palette.CMcomb.sc, color.heatmap = c(\"#0000c0\", \"#a00000\"))\n",
    "ht3 <- netVisual_heatmap(cellchat, comparison = c(2, 3), title.name = \"REC vs. ALDO - number\", width = 10, height = 28, color.use = palette.CMcomb.sc, color.heatmap = c(\"#0000c0\", \"#a00000\"))\n",
    "ht4 <- netVisual_heatmap(cellchat, comparison = c(2, 3), title.name = \"REC vs. ALDO - strength\", width = 10, height = 28, measure = \"weight\", color.use = palette.CMcomb.sc, color.heatmap = c(\"#0000c0\", \"#a00000\"))\n",
    "ht5 <- netVisual_heatmap(cellchat, comparison = c(1, 3), title.name = \"REC vs. CTRL - number\", width = 10, height = 28, color.use = palette.CMcomb.sc, color.heatmap = c(\"#0000c0\", \"#a00000\"))\n",
    "ht6 <- netVisual_heatmap(cellchat, comparison = c(1, 3), title.name = \"REC vs. CTRL - strength\", width = 10, height = 28, measure = \"weight\", color.use = palette.CMcomb.sc, color.heatmap = c(\"#0000c0\", \"#a00000\"))\n",
    "\n",
    "grob_ht1 = grid.grabExpr(draw(ht1))\n",
    "grob_ht2 = grid.grabExpr(draw(ht2))\n",
    "grob_ht3 = grid.grabExpr(draw(ht3))\n",
    "grob_ht4 = grid.grabExpr(draw(ht4))\n",
    "grob_ht5 = grid.grabExpr(draw(ht5))\n",
    "grob_ht6 = grid.grabExpr(draw(ht6))\n",
    "\n",
    "grid_ht <- plot_grid(grob_ht1, grob_ht2, grob_ht3, grob_ht4, grob_ht5, grob_ht6, ncol = 2)\n",
    "grid_ht\n",
    "ggsave(paste0(\"subcluster/\", celltype, \"/CellChat/Plots/netVisual_heatmap.svg\"), plot = grid_ht, units = \"cm\", dpi = 300, width = 18, height = 24)"
   ]
  },
  {
   "cell_type": "code",
   "execution_count": null,
   "id": "3a75e496-4d06-40f1-9b4e-6f59ad260e78",
   "metadata": {},
   "outputs": [],
   "source": [
    "# Diff Interaction Heatmaps\n",
    "options(repr.plot.width = 7, repr.plot.height = 6, repr.plot.res = 300)\n",
    "\n",
    "ht1 <- netVisual_heatmap(cellchat, comparison = c(1, 2), sources.use = c(2:6, 12:16), targets.use = c(2:6, 12:16), title.name = \"ALDO vs. CTRL - number\", width = 10, height = 28, color.use = palette.CMcomb.sc, color.heatmap = c(\"#0000c0\", \"#a00000\"))\n",
    "ht2 <- netVisual_heatmap(cellchat, comparison = c(1, 2), sources.use = c(2:6, 12:16), targets.use = c(2:6, 12:16),title.name = \"ALDO vs. CTRL - strength\", width = 10, height = 28, measure = \"weight\", color.use = palette.CMcomb.sc, color.heatmap = c(\"#0000c0\", \"#a00000\"))\n",
    "ht3 <- netVisual_heatmap(cellchat, comparison = c(2, 3), sources.use = c(2:6, 12:16), targets.use = c(2:6, 12:16),title.name = \"REC vs. ALDO - number\", width = 10, height = 28, color.use = palette.CMcomb.sc, color.heatmap = c(\"#0000c0\", \"#a00000\"))\n",
    "ht4 <- netVisual_heatmap(cellchat, comparison = c(2, 3), sources.use = c(2:6, 12:16), targets.use = c(2:6, 12:16),title.name = \"REC vs. ALDO - strength\", width = 10, height = 28, measure = \"weight\", color.use = palette.CMcomb.sc, color.heatmap = c(\"#0000c0\", \"#a00000\"))\n",
    "ht5 <- netVisual_heatmap(cellchat, comparison = c(1, 3), sources.use = c(2:6, 12:16), targets.use = c(2:6, 12:16),title.name = \"REC vs. CTRL - number\", width = 10, height = 28, color.use = palette.CMcomb.sc, color.heatmap = c(\"#0000c0\", \"#a00000\"))\n",
    "ht6 <- netVisual_heatmap(cellchat, comparison = c(1, 3), sources.use = c(2:6, 12:16), targets.use = c(2:6, 12:16),title.name = \"REC vs. CTRL - strength\", width = 10, height = 28, measure = \"weight\", color.use = palette.CMcomb.sc, color.heatmap = c(\"#0000c0\", \"#a00000\"))\n",
    "\n",
    "grob_ht1 = grid.grabExpr(draw(ht1))\n",
    "grob_ht2 = grid.grabExpr(draw(ht2))\n",
    "grob_ht3 = grid.grabExpr(draw(ht3))\n",
    "grob_ht4 = grid.grabExpr(draw(ht4))\n",
    "grob_ht5 = grid.grabExpr(draw(ht5))\n",
    "grob_ht6 = grid.grabExpr(draw(ht6))\n",
    "\n",
    "grid_ht <- plot_grid(grob_ht1, grob_ht2, grob_ht3, grob_ht4, grob_ht5, grob_ht6, ncol = 2)\n",
    "grid_ht\n",
    "ggsave(paste0(\"subcluster/\", celltype, \"/CellChat/Plots/netVisual_heatmap_subset.svg\"), plot = grid_ht, units = \"cm\", dpi = 300, width = 18, height = 24)"
   ]
  },
  {
   "cell_type": "code",
   "execution_count": null,
   "id": "165d3e5c-a2e6-4ac0-9604-746151455f5d",
   "metadata": {},
   "outputs": [],
   "source": [
    "# Signaling Role Scatter\n",
    "options(repr.plot.width = 10, repr.plot.height = 5, repr.plot.res = 300)\n",
    "\n",
    "# lA\n",
    "svg(file = paste0(\"subcluster/\", celltype, \"/CellChat/Plots/signalingRoleScatter.svg\"), width = 15, height = 4.5)\n",
    "num.link <- sapply(object.list, function(x) {rowSums(x@net$count) + colSums(x@net$count)-diag(x@net$count)})\n",
    "weight.MinMax <- c(min(num.link), max(num.link)) # control the dot size in the different datasets\n",
    "gg <- list()\n",
    "for (i in 1:length(object.list)) {\n",
    "  gg[[i]] <- netAnalysis_signalingRole_scatter(object.list[[i]], title = names(object.list)[i], weight.MinMax = weight.MinMax, color.use = palette.CMcomb.sc) + scale_y_continuous(limits = c(0, 15)) + scale_x_continuous(limits = c(0, 15))\n",
    "}\n",
    "patchwork::wrap_plots(plots = gg)\n",
    "dev.off()"
   ]
  },
  {
   "cell_type": "code",
   "execution_count": null,
   "id": "c00b30a1-e2d7-40b0-a711-0b6f6886c7b2",
   "metadata": {},
   "outputs": [],
   "source": [
    "options(repr.plot.width = 4, repr.plot.height = 5, repr.plot.res = 300)\n",
    "\n",
    "gg1 <- netVisual_bubble(cellchat, sources.use = c(2:6, 12:16), targets.use = c(12),  comparison = c(1, 2), max.dataset = 2, title.name = \"to FB_0\", angle.x = 90, remove.isolate = TRUE, color.heatmap = \"viridis\", color.text = palette.treatment)\n",
    "\n",
    "gg1 <- gg1 + scale_fill_gradientn(colors = brewer.pal(9, \"OrRd\")) +\n",
    "      scale_color_gradientn(colors = brewer.pal(9, \"OrRd\"))\n",
    "\n",
    "ggsave(paste0(\"subcluster/\", celltype, \"/CellChat/Plots/netVisual_bubble_to_FB_0.svg\"), plot = gg1, units = \"cm\", dpi = 300, width = 14, height = 21)\n",
    "\n",
    "gg1"
   ]
  },
  {
   "cell_type": "code",
   "execution_count": null,
   "id": "ab865b07-af45-4c17-bcae-98551c733b9d",
   "metadata": {},
   "outputs": [],
   "source": [
    "options(repr.plot.width = 3, repr.plot.height = 3, repr.plot.res = 300)\n",
    "\n",
    "gg1 <- netVisual_bubble(cellchat, sources.use = c(13:14), targets.use = c(4),  comparison = c(2, 3), max.dataset = 2, title.name = \"to EC-cap\", angle.x = 90, remove.isolate = TRUE, color.heatmap = \"viridis\", color.text = c(\"#AF0000\", \"#006AF3\"))\n",
    "\n",
    "gg1 <- gg1 + scale_fill_gradientn(colors = brewer.pal(9, \"OrRd\")) +\n",
    "      scale_color_gradientn(colors = brewer.pal(9, \"OrRd\"))\n",
    "\n",
    "ggsave(paste0(\"subcluster/\", celltype, \"/CellChat/Plots/netVisual_bubble_to_ALDO_REC_to_EC-cap.svg\"), plot = gg1, units = \"cm\", dpi = 300, width = 8.5, height = 6.6)\n",
    "\n",
    "gg1"
   ]
  },
  {
   "cell_type": "code",
   "execution_count": null,
   "id": "e369732a-c8c6-4773-9f68-2242cef20cea",
   "metadata": {},
   "outputs": [],
   "source": [
    "options(repr.plot.width = 3, repr.plot.height = 7, repr.plot.res = 300)\n",
    "\n",
    "gg1 <- netVisual_bubble(cellchat, sources.use = c(15), targets.use = c(12),  comparison = c(2, 3), max.dataset = 2, title.name = \"FB_3 to FB_0\", angle.x = 90, remove.isolate = TRUE, color.heatmap = \"viridis\", color.text = c(\"#AF0000\", \"#006AF3\"))\n",
    "\n",
    "gg1 <- gg1 + scale_fill_gradientn(colors = brewer.pal(9, \"OrRd\")) +\n",
    "      scale_color_gradientn(colors = brewer.pal(9, \"OrRd\"))\n",
    "\n",
    "ggsave(paste0(\"subcluster/\", celltype, \"/CellChat/Plots/netVisual_bubble_to_ALDO_REC_FB_3toFB_0.svg\"), plot = gg1, units = \"cm\", dpi = 300, width = 8.2, height = 15)\n",
    "\n",
    "gg1"
   ]
  },
  {
   "cell_type": "code",
   "execution_count": 2,
   "id": "71a06559-c403-4f62-a574-38701aa32e54",
   "metadata": {},
   "outputs": [
    {
     "data": {
      "text/plain": [
       "R version 4.2.2 (2022-10-31)\n",
       "Platform: x86_64-conda-linux-gnu (64-bit)\n",
       "Running under: Ubuntu 22.04.2 LTS\n",
       "\n",
       "Matrix products: default\n",
       "BLAS/LAPACK: /media/daten/dmeral/micromamba/envs/user_R/lib/libopenblasp-r0.3.26.so\n",
       "\n",
       "locale:\n",
       " [1] LC_CTYPE=en_US.UTF-8       LC_NUMERIC=C              \n",
       " [3] LC_TIME=en_US.UTF-8        LC_COLLATE=en_US.UTF-8    \n",
       " [5] LC_MONETARY=en_US.UTF-8    LC_MESSAGES=en_US.UTF-8   \n",
       " [7] LC_PAPER=en_US.UTF-8       LC_NAME=C                 \n",
       " [9] LC_ADDRESS=C               LC_TELEPHONE=C            \n",
       "[11] LC_MEASUREMENT=en_US.UTF-8 LC_IDENTIFICATION=C       \n",
       "\n",
       "attached base packages:\n",
       "[1] grid      stats4    stats     graphics  grDevices utils     datasets \n",
       "[8] methods   base     \n",
       "\n",
       "other attached packages:\n",
       " [1] sva_3.46.0                  BiocParallel_1.32.5        \n",
       " [3] genefilter_1.80.3           mgcv_1.9-1                 \n",
       " [5] nlme_3.1-164                ComplexUpset_1.3.3         \n",
       " [7] UpSetR_1.4.0                patchwork_1.3.0            \n",
       " [9] gridExtra_2.3               wordcloud_2.6              \n",
       "[11] RColorBrewer_1.1-3          reticulate_1.35.0          \n",
       "[13] CellChat_1.6.1              hdWGCNA_0.3.01             \n",
       "[15] igraph_2.1.4                WGCNA_1.72-5               \n",
       "[17] fastcluster_1.2.6           dynamicTreeCut_1.63-1      \n",
       "[19] harmony_1.2.0               Rcpp_1.0.14                \n",
       "[21] pals_1.8                    viridis_0.6.5              \n",
       "[23] viridisLite_0.4.2           cowplot_1.1.3              \n",
       "[25] ComplexHeatmap_2.14.0       svglite_2.1.3              \n",
       "[27] Rsamtools_2.14.0            Biostrings_2.66.0          \n",
       "[29] XVector_0.38.0              EnhancedVolcano_1.16.0     \n",
       "[31] ggrepel_0.9.5               edgeR_3.40.0               \n",
       "[33] limma_3.54.2                sctransform_0.4.1          \n",
       "[35] DESeq2_1.38.3               SummarizedExperiment_1.28.0\n",
       "[37] Biobase_2.58.0              MatrixGenerics_1.10.0      \n",
       "[39] matrixStats_1.5.0           GenomicRanges_1.50.2       \n",
       "[41] GenomeInfoDb_1.34.9         IRanges_2.32.0             \n",
       "[43] S4Vectors_0.36.2            BiocGenerics_0.44.0        \n",
       "[45] SeuratDisk_0.0.0.9021       lubridate_1.9.3            \n",
       "[47] forcats_1.0.0               stringr_1.5.1              \n",
       "[49] dplyr_1.1.4                 purrr_1.0.4                \n",
       "[51] readr_2.1.5                 tidyr_1.3.1                \n",
       "[53] tibble_3.2.1                tidyverse_2.0.0            \n",
       "[55] ggplot2_3.5.2               SeuratObject_5.0.1         \n",
       "[57] Seurat_4.4.0               \n",
       "\n",
       "loaded via a namespace (and not attached):\n",
       "  [1] pbdZMQ_0.3-11          scattermore_1.2        coda_0.19-4.1         \n",
       "  [4] bit64_4.6.0-1          knitr_1.49             irlba_2.3.5.1         \n",
       "  [7] DelayedArray_0.24.0    data.table_1.17.2      rpart_4.1.23          \n",
       " [10] KEGGREST_1.38.0        RCurl_1.98-1.16        doParallel_1.0.17     \n",
       " [13] generics_0.1.3         preprocessCore_1.60.2  RSQLite_2.3.4         \n",
       " [16] RANN_2.6.2             proxy_0.4-27           future_1.34.0         \n",
       " [19] bit_4.6.0              tzdb_0.5.0             spatstat.data_3.1-2   \n",
       " [22] httpuv_1.6.14          xfun_0.50              hms_1.1.3             \n",
       " [25] evaluate_1.0.3         promises_1.2.1         DBI_1.2.3             \n",
       " [28] geneplotter_1.76.0     htmlwidgets_1.6.4      spatstat.geom_3.3-3   \n",
       " [31] tester_0.1.7           RSpectra_0.16-1        ggpubr_0.6.0          \n",
       " [34] backports_1.4.1        annotate_1.76.0        gridBase_0.4-7        \n",
       " [37] deldir_2.0-4           vctrs_0.6.5            ggalluvial_0.12.5     \n",
       " [40] ROCR_1.0-11            abind_1.4-8            cachem_1.1.0          \n",
       " [43] withr_3.0.2            progressr_0.14.0       checkmate_2.3.0       \n",
       " [46] sna_2.7-2              goftest_1.2-3          cluster_2.1.6         \n",
       " [49] IRdisplay_1.1          dotCall64_1.2          lazyeval_0.2.2        \n",
       " [52] crayon_1.5.3           hdf5r_1.3.8            spatstat.explore_3.3-2\n",
       " [55] pkgconfig_2.0.3        nnet_7.3-19            rlang_1.1.6           \n",
       " [58] globals_0.16.3         lifecycle_1.0.4        miniUI_0.1.1.1        \n",
       " [61] registry_0.5-1         dichromat_2.0-0.1      polyclip_1.10-6       \n",
       " [64] lmtest_0.9-40          rngtools_1.5.2         Matrix_1.6-5          \n",
       " [67] IRkernel_1.3.2         carData_3.0-5          zoo_1.8-12            \n",
       " [70] base64enc_0.1-3        ggridges_0.5.6         GlobalOptions_0.1.2   \n",
       " [73] png_0.1-8              rjson_0.2.21           bitops_1.0-9          \n",
       " [76] KernSmooth_2.23-22     ggnetwork_0.5.13       spam_2.10-0           \n",
       " [79] blob_1.2.4             shape_1.4.6.1          spatstat.univar_3.0-1 \n",
       " [82] parallelly_1.42.0      spatstat.random_3.3-2  rstatix_0.7.2         \n",
       " [85] ggsignif_0.6.4         scales_1.4.0           memoise_2.0.1         \n",
       " [88] magrittr_2.0.3         plyr_1.8.9             ica_1.0-3             \n",
       " [91] zlibbioc_1.44.0        compiler_4.2.2         clue_0.3-65           \n",
       " [94] fitdistrplus_1.2-1     cli_3.6.5              listenv_0.9.1         \n",
       " [97] pbapply_1.7-2          htmlTable_2.4.2        Formula_1.2-5         \n",
       "[100] MASS_7.3-60.0.1        tidyselect_1.2.1       stringi_1.8.4         \n",
       "[103] locfit_1.5-9.9         tools_4.2.2            timechange_0.3.0      \n",
       "[106] future.apply_1.11.2    parallel_4.2.2         circlize_0.4.16       \n",
       "[109] rstudioapi_0.15.0      uuid_1.2-0             foreach_1.5.2         \n",
       "[112] foreign_0.8-86         farver_2.1.2           Rtsne_0.17            \n",
       "[115] digest_0.6.37          FNN_1.1.4.1            shiny_1.9.1           \n",
       "[118] car_3.1-2              broom_1.0.5            later_1.3.2           \n",
       "[121] RcppAnnoy_0.0.22       httr_1.4.7             AnnotationDbi_1.60.2  \n",
       "[124] colorspace_2.1-1       XML_3.99-0.14          tensor_1.5            \n",
       "[127] splines_4.2.2          uwot_0.1.16            spatstat.utils_3.1-0  \n",
       "[130] sp_2.2-0               mapproj_1.2.11         plotly_4.10.4         \n",
       "[133] systemfonts_1.0.5      xtable_1.8-4           jsonlite_2.0.0        \n",
       "[136] R6_2.6.1               Hmisc_5.1-2            pillar_1.10.2         \n",
       "[139] htmltools_0.5.8.1      mime_0.12              NMF_0.27              \n",
       "[142] glue_1.8.0             fastmap_1.2.0          BiocNeighbors_1.16.0  \n",
       "[145] codetools_0.2-19       maps_3.4.2             lattice_0.22-6        \n",
       "[148] spatstat.sparse_3.1-0  network_1.18.2         leiden_0.4.3.1        \n",
       "[151] GO.db_3.18.0           survival_3.5-8         statnet.common_4.9.0  \n",
       "[154] rmarkdown_2.29         repr_1.1.6             GetoptLong_1.0.5      \n",
       "[157] GenomeInfoDbData_1.2.9 iterators_1.0.14       impute_1.72.3         \n",
       "[160] reshape2_1.4.4         gtable_0.3.6          "
      ]
     },
     "metadata": {},
     "output_type": "display_data"
    }
   ],
   "source": [
    "sessionInfo()"
   ]
  }
 ],
 "metadata": {
  "kernelspec": {
   "display_name": "user_R",
   "language": "R",
   "name": "user_r"
  },
  "language_info": {
   "codemirror_mode": "r",
   "file_extension": ".r",
   "mimetype": "text/x-r-source",
   "name": "R",
   "pygments_lexer": "r",
   "version": "4.2.2"
  }
 },
 "nbformat": 4,
 "nbformat_minor": 5
}
