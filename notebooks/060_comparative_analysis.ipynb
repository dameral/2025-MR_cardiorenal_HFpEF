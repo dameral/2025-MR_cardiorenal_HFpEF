{
 "cells": [
  {
   "cell_type": "markdown",
   "id": "87e76ac2-c703-4fe2-9b3d-889d0fc4bd9a",
   "metadata": {},
   "source": [
    "**Here we compare our data to published sc and snRNA-seq data from two HFrEF (LAD-ligation (MI) and angiotensin II infusion (AngII)) and one HFpEF (high fat died / L-NAME (HFD)) model**\n",
    "\n",
    "MI: **Forte et al., 2020**; PMID: 32130914 (E-MTAB-7895; CTRL: MF18001_1, MF18001_2; treat: MF18002_1, MF18002_2)\n",
    "\n",
    "AngII: **McLellan et al., 2020**; PMID: 32795101 (E-MTAB-8810; CTRL: AP18002, AP18006; treat: AP18005, AP18009)\n",
    "\n",
    "HFD: **Pepin et al., 2025**; PMID: 40340422 (integrated object, only data from C57Bl/6N mice were used) "
   ]
  },
  {
   "cell_type": "markdown",
   "id": "6de49d5e-d725-45f6-92e1-6831e18d8891",
   "metadata": {},
   "source": [
    "# Load libraries and Themes"
   ]
  },
  {
   "cell_type": "code",
   "execution_count": 3,
   "id": "35d7dba7-aec1-4e24-9702-d0eb6d41a8e3",
   "metadata": {
    "scrolled": true,
    "tags": []
   },
   "outputs": [],
   "source": [
    "suppressPackageStartupMessages({\n",
    "  suppressWarnings({\n",
    "    library(Seurat)\n",
    "    library(SoupX)\n",
    "    library(ggplot2)\n",
    "    library(tidyverse)\n",
    "    library(scDblFinder)\n",
    "    library(harmony)\n",
    "    library(SeuratDisk)\n",
    "    library(SingleCellExperiment)\n",
    "    library(dplyr)\n",
    "    library(ggpubr)\n",
    "    library(pals)\n",
    "    library(viridis)\n",
    "    library(scCustomize)\n",
    "    library(DESeq2)\n",
    "    library(EnhancedVolcano)\n",
    "    library(Rsamtools)\n",
    "    library(svglite)\n",
    "    library(RCurl)\n",
    "    library(AnnotationHub)\n",
    "    library(ensembldb)\n",
    "    library(networkD3)\n",
    "    library(patchwork)\n",
    "  })\n",
    "})"
   ]
  },
  {
   "cell_type": "code",
   "execution_count": null,
   "id": "db305706-fd39-4b0b-9321-b3b3fdd80f4d",
   "metadata": {},
   "outputs": [],
   "source": [
    "#Color Palettes\n",
    "\n",
    "palette.3 <- c(\n",
    "    \"#440154\", #G1\n",
    "    \"#21908d\", #S\n",
    "    \"#fde725\" #G2M\n",
    ")\n",
    "\n",
    "palette.comb <- c(\n",
    "    \"#aad902\", #BC \n",
    "    \"#990902\", #CM\n",
    "    \"#05b1eb\", #ECcap\n",
    "    \"#0303a3\", #ECend\n",
    "    \"#003ae8\", #EClym    \n",
    "    \"#ebe6c7\", #FB\n",
    "    \"#ffab00\", #MESO\n",
    "    \"#077a01\", #MP\n",
    "    \"#422c00\", #PER\n",
    "    \"#FFD100\", #SC\n",
    "    \"#56B400\"  #TC\n",
    ")\n",
    "\n",
    "palette.treatment <- c(\n",
    "  \"#AF0000\",  # ALDO (deep red)\n",
    "  \"#7A9E4D\",  # AngII (olive green)\n",
    "  \"#C1C1C1\",  # CTRL (gray) \n",
    "  \"#C89F67\",  # HFD (soft tan/orange)\n",
    "  \"#4C858B\",  # MI (muted blue-green)\n",
    "  \"#006AF3\"   # REC (royal blue) \n",
    ")\n",
    "\n",
    "palette.treatment_sub <- c(\n",
    "  \"#AF0000\",  # ALDO (deep red)\n",
    "  \"#7A9E4D\",  # AngII (olive green)\n",
    "  \"#C1C1C1\",  # CTRL (gray) \n",
    "  \"#C89F67\",  # HFD (soft tan/orange)\n",
    "  \"#4C858B\"  # MI (muted blue-green)\n",
    ")\n",
    "\n",
    "palette.treatment2 <- c(\n",
    "    \"#AF0000\", \n",
    "    \"#7A9E4D\", \n",
    "    \"#C89F67\", \n",
    "    \"#4C858B\"\n",
    ")\n",
    "\n",
    "palette_feature <- c(\"lightgrey\", \n",
    "    \"#ffffe5\",\n",
    "    \"#fff7bc\",\n",
    "    \"#fee391\",\n",
    "    \"#fec44f\",\n",
    "    \"#fe9929\",\n",
    "    \"#ec7014\",\n",
    "    \"#cc4c02\",\n",
    "    \"#993404\",\n",
    "    \"#662506\"\n",
    ")\n",
    "\n",
    "palette.sex <- c(\n",
    "    \"#C1C1C1\", #male\n",
    "    \"#AF0000\", #female\n",
    "    \"#006AF3\" #mix\n",
    ")\n",
    "\n",
    "palette.FB <- c(\n",
    "  \"#7F4F24\", # Earthy brown  \n",
    "  \"#B35C1E\", # Rust orange  \n",
    "  \"#C9A27E\", # Sandstone  \n",
    "  \"#8F6F47\", # Olive brown  \n",
    "  \"#A7988A\", # Ash beige  \n",
    "  \"#C48291\", # Dusty rose  \n",
    "  \"#6C7A89\", # Slate gray-blue (cool contrast)  \n",
    "  \"#5c2f07\"  # # Warm medium tan / caramel brown\n",
    ")\n",
    "\n",
    "palette.CM <- c(\n",
    "    \"#67001f\", # Deep red  \n",
    "    \"#d6604d\", # Coral red  \n",
    "    \"#d9c9a0\", # Light beige  \n",
    "    \"#f4a582\", # Soft red  \n",
    "    \"#6e4742\", # Greyish red  \n",
    "    \"#3F182B\", # Dark purple  \n",
    "    \"#762a83\"  # Muted violet\n",
    ")\n",
    "\n",
    "palette.EC <- c(\n",
    "    \"#00106D\", \n",
    "    \"#004C6D\",   \n",
    "    \"#0097AA\",   \n",
    "    \"#005EC4\",   \n",
    "    \"#003366\",   \n",
    "    \"#66A1C3\",   \n",
    "    \"#5f729e\"  \n",
    ")"
   ]
  },
  {
   "cell_type": "code",
   "execution_count": null,
   "id": "8a54f63f-5832-4e44-a026-0e441ed7aec0",
   "metadata": {},
   "outputs": [],
   "source": [
    "umap_theme <- theme(\n",
    "  axis.line=element_blank(),\n",
    "  axis.text.x=element_blank(),\n",
    "  axis.text.y=element_blank(),\n",
    "  axis.ticks=element_blank(),\n",
    "  axis.title.x=element_blank(),\n",
    "  axis.title.y=element_blank(),\n",
    "  panel.background=element_blank(),\n",
    "  panel.border=element_blank(),\n",
    "  panel.grid.major=element_blank(),\n",
    "  panel.grid.minor=element_blank()\n",
    ")"
   ]
  },
  {
   "cell_type": "code",
   "execution_count": null,
   "id": "4c5dd502-239e-4284-a041-5e787e6f7d0f",
   "metadata": {
    "tags": []
   },
   "outputs": [],
   "source": [
    "setwd(\"/media/daten/dmeral/scseq_analysis/2024_LV_CTRL_ALDO_REC\")"
   ]
  },
  {
   "cell_type": "code",
   "execution_count": null,
   "id": "9b8f31dd-5166-42c9-b342-7e71132c5f66",
   "metadata": {},
   "outputs": [],
   "source": [
    "set.seed(1234)"
   ]
  },
  {
   "cell_type": "code",
   "execution_count": null,
   "id": "f1092662-10b1-4297-963f-c33a39f4236a",
   "metadata": {},
   "outputs": [],
   "source": [
    "# obj_harmony<- readRDS(\"comparative/seurat_objects/final_obj_all_studies.rds\")"
   ]
  },
  {
   "cell_type": "markdown",
   "id": "56a99257-81a8-4532-9567-dfc74db2280f",
   "metadata": {},
   "source": [
    "# SoupX (remove ambient signal)"
   ]
  },
  {
   "cell_type": "code",
   "execution_count": null,
   "id": "3ef3552c-6369-4fbf-87b3-9d76681d4bbe",
   "metadata": {},
   "outputs": [],
   "source": [
    "samples <- c(\"AngII_CTRL_1\", \"AngII_CTRL_2\", \"AngII_TREAT_1\", \"AngII_TREAT_2\", \n",
    "             \"MI_CTRL_1\", \"MI_CTRL_2\", \"MI_TREAT_1\", \"MI_TREAT_2\")"
   ]
  },
  {
   "cell_type": "code",
   "execution_count": null,
   "id": "a4552655-6323-494c-ac0e-f0553dc2158f",
   "metadata": {},
   "outputs": [],
   "source": [
    "# Simple pre-process\n",
    "\n",
    "mad_outlier <- function(sobj, metric, nmads){\n",
    "  M <- sobj@meta.data[[metric]]\n",
    "  median_M <- median(M, na.rm = TRUE)\n",
    "  mad_M <- mad(M, na.rm = TRUE)\n",
    "  outlier <- (M < (median_M - nmads * mad_M)) | (M > (median_M + nmads * mad_M))\n",
    "  return(outlier)\n",
    "}\n",
    "\n",
    "    # Load in filtered cellranger outs\n",
    "filter_mad_outliers <- function(sample_id){\n",
    "  path <- paste0(\"/media/daten/dmeral/scseq_analysis/2024_LV_CTRL_ALDO_REC/comparative/CellRangerOuts/\", sample_id, \"/outs/filtered_feature_bc_matrix/\")\n",
    "  sobj <- Read10X(data.dir = path)\n",
    "  sobj <- CreateSeuratObject(counts = sobj, min.cells = 0, min.features = 200)\n",
    "  sobj$sample_id <- sample_id\n",
    "  \n",
    "  # add QC metrics\n",
    "  sobj$log1p_total_counts <- log1p(sobj@meta.data$nCount_RNA)\n",
    "  sobj$log1p_n_genes_by_counts <- log1p(sobj@meta.data$nFeature_RNA)\n",
    "  sobj[[\"percent.mt\"]] <- PercentageFeatureSet(sobj, pattern = \"^mt-\")\n",
    "  \n",
    "  # find outliers and subset\n",
    "  bool_vector <- !mad_outlier(sobj, \"log1p_total_counts\", 5) & !mad_outlier(sobj, \"log1p_n_genes_by_counts\", 5) & !mad_outlier(sobj, \"percent.mt\", 5)\n",
    "  sobj <- subset(sobj, cells = which(bool_vector))\n",
    "  \n",
    "  return(sobj)\n",
    "}"
   ]
  },
  {
   "cell_type": "code",
   "execution_count": null,
   "id": "0fd242f2-9b3c-4c96-ba54-dd243d218e08",
   "metadata": {},
   "outputs": [],
   "source": [
    "data_list <- sapply(samples, filter_mad_outliers)"
   ]
  },
  {
   "cell_type": "code",
   "execution_count": null,
   "id": "221c8aff-76d7-4c6d-9a5d-4468acebbc83",
   "metadata": {},
   "outputs": [],
   "source": [
    "# Basic seurat normalization and clustering\n",
    "get_soup_groups <- function(sobj){\n",
    "  sobj <- NormalizeData(sobj, verbose = FALSE)\n",
    "  sobj <- FindVariableFeatures(object = sobj, nfeatures = 2000, verbose = FALSE, selection.method = \"vst\")\n",
    "  sobj <- ScaleData(sobj, verbose = FALSE)\n",
    "  sobj <- RunPCA(sobj, npcs = 35, verbose = FALSE)\n",
    "  sobj <- FindNeighbors(sobj, dims = 1:35, verbose = FALSE)\n",
    "  sobj <- FindClusters(sobj, resolution = 0.5, verbose = FALSE)\n",
    "  \n",
    "  return(sobj@meta.data[[\"seurat_clusters\"]])\n",
    "}"
   ]
  },
  {
   "cell_type": "code",
   "execution_count": null,
   "id": "2f98f1ec-2ac9-4588-bf86-c22457a3078f",
   "metadata": {
    "scrolled": true
   },
   "outputs": [],
   "source": [
    "add_soup_groups <- function(sobj){\n",
    "  sobj$soup_group <- get_soup_groups(sobj)\n",
    "  return(sobj)\n",
    "}\n",
    "\n",
    "data_list <- sapply(data_list, add_soup_groups)"
   ]
  },
  {
   "cell_type": "code",
   "execution_count": null,
   "id": "98cede43-315f-4bfc-9dc3-7b46c96e4f1d",
   "metadata": {},
   "outputs": [],
   "source": [
    "make_soup <- function(sobj){\n",
    "  sample_id <- as.character(sobj$sample_id[1])  # e.g., LA_2109\n",
    "  path <- paste0(\"/media/daten/dmeral/scseq_analysis/2024_LV_CTRL_ALDO_REC/comparative/CellRangerOuts/\", sample_id, \"/outs/raw_feature_bc_matrix/\")\n",
    "  raw <- Read10X(data.dir = path)\n",
    "\n",
    "  sc <- SoupChannel(raw, GetAssayData(sobj, layer = \"counts\"))\n",
    "  sc <- setClusters(sc, sobj$soup_group)\n",
    "  sc <- autoEstCont(sc)\n",
    "  out <- adjustCounts(sc, roundToInt = TRUE)\n",
    "  \n",
    "  # Optional: keep original counts\n",
    "  sobj[[\"original.counts\"]] <- CreateAssayObject(counts = GetAssayData(sobj, layer = \"counts\"))\n",
    "  \n",
    "  # Set adjusted counts back to the RNA assay\n",
    "  sobj <- SetAssayData(sobj, layer = \"counts\", new.data = out)\n",
    "  \n",
    "  return(sobj)\n",
    "}"
   ]
  },
  {
   "cell_type": "code",
   "execution_count": null,
   "id": "a5fba168-9abc-4921-b350-b5d6a540bb91",
   "metadata": {
    "scrolled": true,
    "tags": []
   },
   "outputs": [],
   "source": [
    "suppressWarnings({\n",
    "    data_list <- sapply(data_list, make_soup)\n",
    "})"
   ]
  },
  {
   "cell_type": "code",
   "execution_count": null,
   "id": "003d02ef-3166-42d0-b95f-cef5aa234c03",
   "metadata": {},
   "outputs": [],
   "source": [
    "# Check if  correct number of reads were removed by SoupX\n",
    "# Create a data frame to store results\n",
    "results <- data.frame(Sample = samples, Counts_Before = NA, Counts_After = NA, Fraction_Left = NA)\n",
    "\n",
    "# Iterate through each sample\n",
    "for (i in seq_along(samples)) {\n",
    "  sample_name <- samples[i]\n",
    "  data_obj <- data_list[[i]] \n",
    "\n",
    "  # Check if the assay exists\n",
    "  if (\"original.counts\" %in% names(data_obj) && \"RNA\" %in% names(data_obj)) {\n",
    "    counts_before <- sum(GetAssayData(data_obj, assay = \"original.counts\", layer = \"counts\"))\n",
    "    counts_after <- sum(GetAssayData(data_obj, assay = \"RNA\", layer = \"counts\"))\n",
    "\n",
    "    # Store results in the data frame\n",
    "    results[i, \"Counts_Before\"] <- counts_before\n",
    "    results[i, \"Counts_After\"] <- counts_after\n",
    "    \n",
    "    # Calculate percent left if counts_before is not zero\n",
    "    if (!is.na(counts_before) && counts_before > 0) {\n",
    "      results[i, \"Fraction_Left\"] <- counts_after / counts_before\n",
    "    }\n",
    "  } else {\n",
    "    message(paste(\"Assay not found for sample:\", sample_name))\n",
    "  }\n",
    "}\n",
    "\n",
    "# Print \n",
    "print(results)"
   ]
  },
  {
   "cell_type": "markdown",
   "id": "149a35d8-bb6d-4c48-bcba-b4637b9fe364",
   "metadata": {},
   "source": [
    "# scDblFinder (remove doublets)"
   ]
  },
  {
   "cell_type": "code",
   "execution_count": null,
   "id": "3e5d05fa-def9-4889-99ae-e4a0b128991d",
   "metadata": {},
   "outputs": [],
   "source": [
    "saveRDS(data_list, \"comparative/seurat_objects/rds_data_list.rds\")"
   ]
  },
  {
   "cell_type": "code",
   "execution_count": null,
   "id": "eb828616-e980-4bb6-bddf-0de21572cb67",
   "metadata": {},
   "outputs": [],
   "source": [
    "# data_list <- readRDS(\"comparative/seurat_objects/rds_data_list.rds\")"
   ]
  },
  {
   "cell_type": "code",
   "execution_count": null,
   "id": "a7c04436-00d3-421b-bed3-9f4931d3a49e",
   "metadata": {},
   "outputs": [],
   "source": [
    "# Normalize/ Center and Scale Matrix\n",
    "data_list_scale <- lapply(data_list, function(obj.seu) {\n",
    "   obj.seu <- NormalizeData(obj.seu, verbose = FALSE)\n",
    "   obj.seu <- ScaleData(obj.seu, verbose = FALSE)\n",
    "   return(obj.seu)\n",
    "})"
   ]
  },
  {
   "cell_type": "code",
   "execution_count": null,
   "id": "cf1898df-9d34-43ce-b411-d7906337e5b3",
   "metadata": {},
   "outputs": [],
   "source": [
    "# Convert to SingleCellExperiment\n",
    "obj_sce <- lapply(data_list_scale, function(obj.seu){\n",
    "    as.SingleCellExperiment(obj.seu, assay = \"RNA\")\n",
    "})"
   ]
  },
  {
   "cell_type": "code",
   "execution_count": null,
   "id": "3240e176-2750-46b2-a8f4-567a5f2432d1",
   "metadata": {
    "scrolled": true
   },
   "outputs": [],
   "source": [
    "# Run scDblFinder\n",
    "obj_scDblFinder <- lapply(obj_sce, function(expression_matrix){\n",
    "   scDblFinder(expression_matrix)\n",
    "})"
   ]
  },
  {
   "cell_type": "code",
   "execution_count": null,
   "id": "0d17dbe7-d0da-4663-9180-13d98edb4ed5",
   "metadata": {
    "tags": []
   },
   "outputs": [],
   "source": [
    "# Convert to Seurat objet\n",
    "obj_seu <- lapply(obj_scDblFinder, function(sce){\n",
    "    as.Seurat(x = sce, \n",
    "              counts = \"counts\", \n",
    "              data = \"logcounts\")\n",
    "})"
   ]
  },
  {
   "cell_type": "code",
   "execution_count": null,
   "id": "f9917c06-9b86-4475-85c2-f31735e87073",
   "metadata": {
    "scrolled": true,
    "tags": []
   },
   "outputs": [],
   "source": [
    "table_singlets <- lapply(obj_seu, function(obj){\n",
    "    table(obj$scDblFinder.class)\n",
    "})\n",
    "\n",
    "print(table_singlets)"
   ]
  },
  {
   "cell_type": "markdown",
   "id": "b86b4aa4-7a13-48e7-8c53-3de964558f76",
   "metadata": {},
   "source": [
    "# Add meta.data, filter singlets and merge"
   ]
  },
  {
   "cell_type": "code",
   "execution_count": null,
   "id": "ee7bc68e-b240-4924-8967-41e31a5f023b",
   "metadata": {},
   "outputs": [],
   "source": [
    "meta.data_tab <- matrix(c(rep(1, each = 8), \n",
    "                          \"CTRL\", \"CTRL\",  \"AngII\", \"AngII\", \"CTRL\", \"CTRL\", \"MI\", \"MI\", \n",
    "                          \"d\", \"d\", \"d\", \"d\",\"m\", \"m\", \"m\", \"m\", \n",
    "                          rep(4, each = 4), rep(5, each = 4),\n",
    "                          rep(\"LV\", each = 8), \n",
    "                          13:20), \n",
    "                          ncol = 8, byrow = TRUE)\n",
    "\n",
    "rownames(meta.data_tab) <- c(\"replicate\", \"treatment\", \"sex\", \"batch\", \"chamber\", \"unique\")\n",
    "colnames(meta.data_tab) <- samples\n",
    "\n",
    "meta.data_tab <- as.table(meta.data_tab)\n",
    "\n",
    "meta.data_tab"
   ]
  },
  {
   "cell_type": "code",
   "execution_count": null,
   "id": "66111205-2978-48b5-9126-b739c791fc94",
   "metadata": {},
   "outputs": [],
   "source": [
    "# Adding metadata to Seurat objects with alignment\n",
    "obj_seu_newmeta <- lapply(samples, function(nam) {\n",
    "    # Retrieve the Seurat object for the current sample\n",
    "    scobj <- obj_seu[[nam]]\n",
    "    \n",
    "    # Extract the corresponding metadata and convert it to a data frame\n",
    "    meta <- meta.data_tab[, nam]\n",
    "    \n",
    "    # Ensure the metadata is in the right format\n",
    "    meta_df <- as.data.frame(matrix(rep(meta, ncol(scobj)), nrow = ncol(scobj), byrow = TRUE))\n",
    "    colnames(meta_df) <- rownames(meta.data_tab)  # Set column names to match the metadata structure\n",
    "    \n",
    "    # Add metadata to the Seurat object\n",
    "    scobj <- AddMetaData(scobj, metadata = meta_df)\n",
    "    \n",
    "    return(scobj)  # Return the modified Seurat object\n",
    "})\n",
    "\n",
    "# Assign names to the new list\n",
    "names(obj_seu_newmeta) <- samples"
   ]
  },
  {
   "cell_type": "code",
   "execution_count": null,
   "id": "d744673a-e34e-4430-8683-d67c70c415fa",
   "metadata": {},
   "outputs": [],
   "source": [
    "# Merge in one object\n",
    "obj_seu_merge <- Merge_Seurat_List(obj_seu_newmeta, add.cell.ids = c(13:20),  merge.data = TRUE, project = \"comparative\")"
   ]
  },
  {
   "cell_type": "code",
   "execution_count": null,
   "id": "a0aa0f7b-6580-487d-9d8e-a7062986f35b",
   "metadata": {},
   "outputs": [],
   "source": [
    "saveRDS(obj_seu_merge, \"comparative/seurat_objects/setContaminationFraction_dbl.rds\")"
   ]
  },
  {
   "cell_type": "markdown",
   "id": "f0408e90-a90c-4411-95de-2782d61baa8d",
   "metadata": {},
   "source": [
    "# Merge with my obj and seurat obj from Pepin et al. and integration (Harmony)"
   ]
  },
  {
   "cell_type": "code",
   "execution_count": null,
   "id": "8606dd6f-ff54-400d-a4cf-b9ce6428e643",
   "metadata": {},
   "outputs": [],
   "source": [
    "HFpEFstudy_obj <- readRDS(\"comparative/seurat_objects/NNT_Labelling_snRNA.rds\") # Pepin et al. \n",
    "my_obj <- LoadH5Seurat(\"seurat_objects/obj_seu_merge_dbl.h5seurat\") # My object"
   ]
  },
  {
   "cell_type": "code",
   "execution_count": null,
   "id": "614bfda3-9d84-45df-99d9-b3aad28d22e7",
   "metadata": {},
   "outputs": [],
   "source": [
    "# Subset HFD study object to only contain data from C57Bl/6N mice and rename meta.data\n",
    "HFpEFstudy_obj <- subset(HFpEFstudy_obj, Background == \"N\") \n",
    "HFpEFstudy_obj$sample_id <- HFpEFstudy_obj$SampleID "
   ]
  },
  {
   "cell_type": "code",
   "execution_count": null,
   "id": "94b90916-8d99-4b70-a90b-2c6b0dde9865",
   "metadata": {},
   "outputs": [],
   "source": [
    "# Merge my obj and pre-processed AngII/MI data\n",
    "merged_obj <- merge(my_obj, y = obj_seu_merge)"
   ]
  },
  {
   "cell_type": "code",
   "execution_count": null,
   "id": "0e6b9158-7045-4151-8105-01ec95b0e998",
   "metadata": {},
   "outputs": [],
   "source": [
    "# Filter Singlets\n",
    "obj_seu_merge_singlet <- subset(merged_obj, scDblFinder.class == \"singlet\")"
   ]
  },
  {
   "cell_type": "code",
   "execution_count": null,
   "id": "613c1afd-e1d7-43ca-b8c5-22ab893f730c",
   "metadata": {},
   "outputs": [],
   "source": [
    "# Remove unwanted cols\n",
    "cols_to_remove <- c(\n",
    "  \"log1p_total_counts\", \"log1p_n_genes_by_counts\", \"soup_group\", \n",
    "    \"nCount_original.counts\", \"nFeature_original.counts\", \"ident\", \n",
    "    \"scDblFinder.class\", \"scDblFinder.score\", \"scDblFinder.weighted\", \"scDblFinder.cxds_score\"    \n",
    ")\n",
    "\n",
    "obj_seu_merge_singlet@meta.data <- obj_seu_merge_singlet@meta.data[, !(colnames(obj_seu_merge_singlet@meta.data) %in% cols_to_remove)]"
   ]
  },
  {
   "cell_type": "code",
   "execution_count": null,
   "id": "e7c08fa0-978f-423b-9a69-9f6594ce0596",
   "metadata": {},
   "outputs": [],
   "source": [
    "# Change Idents and default assay for merged object\n",
    "Idents(obj_seu_merge_singlet) <- obj_seu_merge_singlet@meta.data$\"unique\"\n",
    "DefaultAssay(object = obj_seu_merge_singlet) <- \"RNA\""
   ]
  },
  {
   "cell_type": "code",
   "execution_count": null,
   "id": "142f9fe6-df92-4db5-bc9e-e4fbb1cc18f4",
   "metadata": {},
   "outputs": [],
   "source": [
    "# Change default assay for HFD study\n",
    "DefaultAssay(object = HFpEFstudy_obj) <- \"RNA\"\n",
    "HFpEFstudy_obj[[\"SCT\"]] <- NULL"
   ]
  },
  {
   "cell_type": "code",
   "execution_count": null,
   "id": "1d14de87-8d22-43a2-ad5f-491a062841de",
   "metadata": {},
   "outputs": [],
   "source": [
    "# Filter to common genes (features) between studies\n",
    "common_genes <- intersect(rownames(HFpEFstudy_obj), rownames(obj_seu_merge_singlet))\n",
    "\n",
    "HFpEFstudy_obj <- subset(HFpEFstudy_obj, features = common_genes)\n",
    "obj_seu_merge_singlet <- subset(obj_seu_merge_singlet, features = common_genes)\n",
    "\n",
    "merged_final <- merge(obj_seu_merge_singlet, y = HFpEFstudy_obj)"
   ]
  },
  {
   "cell_type": "code",
   "execution_count": null,
   "id": "42ece9e0-012c-405e-8384-a479a0519d7b",
   "metadata": {},
   "outputs": [],
   "source": [
    "# Remove unwanted cols\n",
    "cols_to_remove <- c(\n",
    "  \"SampleID\", \"Background\", \"Treatment\", \"nCount_SCT\", \"nFeature_SCT\",\n",
    "  \"SCT_snn_res.0.2\", \"SCT_snn_res.0.4\", \"SCT_snn_res.0.6\", \"SCT_snn_res.0.8\",\n",
    "  \"SCT_snn_res.1\", \"seurat_clusters\", \"SingleR.cluster.labels\",\n",
    "  \"SingleR.labels\", \"Group\", \"CellType\"\n",
    ")\n",
    "\n",
    "merged_final@meta.data <- merged_final@meta.data[, !(colnames(merged_final@meta.data) %in% cols_to_remove)]"
   ]
  },
  {
   "cell_type": "code",
   "execution_count": null,
   "id": "7a7235c9-2299-4be3-b4c2-20b603b9b2d1",
   "metadata": {},
   "outputs": [],
   "source": [
    "# Create mapping data frame for HFpEFstudy_obj\n",
    "sample_metadata <- data.frame(\n",
    "  sample_id = c(\"1\", \"2\", \"3\", \"7\", \"8\", \"9\"),\n",
    "  replicate = rep(1, each = 6),\n",
    "  sex = rep(\"m\", each = 6),\n",
    "  batch = rep(7, each = 6),\n",
    "  chamber = rep(\"LV\", each = 6),\n",
    "  unique = c(\"25\", \"26\", \"27\", \"28\", \"29\", \"30\"),\n",
    "  treatment = c(rep(\"CTRL\", each = 3), rep(\"HFD\", each = 3))\n",
    ")\n",
    "\n",
    "# Make sure sample_id is character in both\n",
    "merged_final@meta.data$sample_id <- as.character(merged_final@meta.data$sample_id)\n",
    "sample_metadata$sample_id <- as.character(sample_metadata$sample_id)\n",
    "\n",
    "# Update values for matching sample_ids\n",
    "for (col in c(\"replicate\", \"sex\", \"batch\", \"chamber\", \"unique\", \"treatment\")) {\n",
    "  merged_final@meta.data[merged_final@meta.data$sample_id %in% sample_metadata$sample_id, col] <-\n",
    "    sample_metadata[match(\n",
    "      merged_final@meta.data$sample_id[merged_final@meta.data$sample_id %in% sample_metadata$sample_id],\n",
    "      sample_metadata$sample_id\n",
    "    ), col]\n",
    "}"
   ]
  },
  {
   "cell_type": "code",
   "execution_count": null,
   "id": "6cb291e1-1ca0-4d35-9fbd-51bd608cb3c1",
   "metadata": {},
   "outputs": [],
   "source": [
    "# Rename sample_id values from Pepin et al HFD data\n",
    "merged_final@meta.data$sample_id <- recode(\n",
    "  merged_final@meta.data$sample_id,\n",
    "  \"1\" = \"HFD_CTRL_1\",\n",
    "  \"2\" = \"HFD_CTRL_2\",\n",
    "  \"3\" = \"HFD_CTRL_3\",\n",
    "  \"7\" = \"HFD_TREAT_7\",\n",
    "  \"8\" = \"HFD_TREAT_8\",\n",
    "  \"9\" = \"HFD_TREAT_9\"\n",
    ")"
   ]
  },
  {
   "cell_type": "code",
   "execution_count": null,
   "id": "11e336c2-4e60-47dd-b493-af21032e6f84",
   "metadata": {},
   "outputs": [],
   "source": [
    "# Filter & Integrate\n",
    "obj <- subset(merged_final, subset = nFeature_RNA > 300 & nFeature_RNA < 5000 & \n",
    "                        nCount_RNA > 500 & nCount_RNA < 15000 &\n",
    "                        percent.mt < 5)\n",
    "\n",
    "obj <- NormalizeData(obj, verbose = FALSE)\n",
    "obj <- FindVariableFeatures(obj, verbose = FALSE)\n",
    "obj <- ScaleData(obj, verbose = FALSE)\n",
    "obj <- RunPCA(obj, assay = \"RNA\", npcs = 30, verbose = FALSE)"
   ]
  },
  {
   "cell_type": "code",
   "execution_count": null,
   "id": "67be4cea-1ee3-4180-b0ac-8450a4d39bb1",
   "metadata": {
    "scrolled": true
   },
   "outputs": [],
   "source": [
    "# Integrate \"batch\"\n",
    "obj <- obj %>%\n",
    "  RunHarmony(group.by.vars = c(\"batch\"), theta = c(1), lambda = c(0.5), max_iter = 20, early_stop = FALSE, plot_convergence = FALSE, assay.use = \"RNA\", verbose = FALSE)"
   ]
  },
  {
   "cell_type": "code",
   "execution_count": null,
   "id": "87bc5836-b42e-4a63-b0d1-26afeda0fe99",
   "metadata": {},
   "outputs": [],
   "source": [
    "obj_harmony <- obj %>%\n",
    "  RunUMAP(reduction = \"harmony\", dims = 1:30, verbose = FALSE) %>%\n",
    "  FindNeighbors(reduction = \"harmony\", dims = 1:30, verbose = FALSE) %>%\n",
    "  FindClusters(resolution = 0.1)"
   ]
  },
  {
   "cell_type": "code",
   "execution_count": null,
   "id": "1f24507a-da75-4617-b5cd-16bba9518131",
   "metadata": {},
   "outputs": [],
   "source": [
    "# Sanity check\n",
    "options(repr.plot.width = 15, repr.plot.height = 4, repr.plot.res = 300)\n",
    "\n",
    "DimPlot(obj_harmony, reduction = \"umap\", label = TRUE, label.size = 5, shuffle = TRUE, group.by = \"seurat_clusters\", split.by = \"treatment\") "
   ]
  },
  {
   "cell_type": "code",
   "execution_count": null,
   "id": "6d70f499-cfda-4168-8d52-0ba11137f511",
   "metadata": {},
   "outputs": [],
   "source": [
    "# Sample-wise QC plots\n",
    "options(repr.plot.width = 20, repr.plot.height = 10, repr.plot.res = 300)\n",
    "\n",
    "VlnPlot_QC <- VlnPlot(obj_harmony, group.by = \"sample_id\", \n",
    "                      features = c(\"nCount_RNA\", \"nFeature_RNA\", \"percent.mt\"),\n",
    "                      pt.size = 0, raster = TRUE, ncol = 1)\n",
    "\n",
    "plots <- lapply(1:3, function(i) {\n",
    "  if (i == 3) {\n",
    "    VlnPlot_QC[[i]] + theme(\n",
    "      axis.text.x = element_text(size = 15),  \n",
    "      axis.text.y = element_text(size = 15),  \n",
    "      axis.ticks.x = element_line(),   \n",
    "      axis.title.x = element_blank(),\n",
    "      plot.title = element_text(size = 15)  \n",
    "    )\n",
    "  } else {\n",
    "    VlnPlot_QC[[i]] + theme(\n",
    "      axis.text.x = element_blank(), \n",
    "      axis.text.y = element_text(size = 15),  \n",
    "      axis.ticks.x = element_blank(), \n",
    "      axis.title.x = element_blank(),\n",
    "      plot.title = element_text(size = 15)  \n",
    "    )\n",
    "  }\n",
    "})\n",
    "\n",
    "combined_plot <- wrap_plots(plots, ncol = 1)\n",
    "\n",
    "ggsave(\"comparative/Plots/VlnPlot_QC_by_sample_id.svg\", combined_plot, units = \"cm\", dpi = 300, width = 20, height = 20)\n",
    "\n",
    "suppressWarnings(print(combined_plot))"
   ]
  },
  {
   "cell_type": "markdown",
   "id": "2d962e8e-6370-4b43-ada5-a3274e666428",
   "metadata": {},
   "source": [
    "# FindAllMarkers and Rename Cluster Annotations"
   ]
  },
  {
   "cell_type": "code",
   "execution_count": null,
   "id": "0c5a5682-6084-4060-9e1a-485d90aab9bb",
   "metadata": {},
   "outputs": [],
   "source": [
    "options(repr.plot.width = 8, repr.plot.height = 4, repr.plot.res = 300)\n",
    "\n",
    "DimPlot(obj_harmony, reduction = \"umap\", label = TRUE, label.size = 5, shuffle = TRUE, raster = FALSE) "
   ]
  },
  {
   "cell_type": "code",
   "execution_count": null,
   "id": "a4fc0091-b535-45bd-9eaa-d83972a7c255",
   "metadata": {},
   "outputs": [],
   "source": [
    "# Spli cluster 10 by thresholding umap-1\n",
    "# Subset the Seurat object to include only cells from cluster 10\n",
    "cluster_10_cells <- subset(obj_harmony, idents = \"10\")\n",
    "\n",
    "# Get the UMAP coordinates for the subsetted cluster 10 cells\n",
    "umap_coordinates <- Embeddings(cluster_10_cells, reduction = \"umap\")\n",
    "\n",
    "# Assign new identities based on the UMAP_1\n",
    "cluster_10_cells$ident <- ifelse(umap_coordinates[, 1] < 4, \"10_2\", \"10_0\")\n",
    "\n",
    "# Get the barcodes (row names) of the subsetted cells (cluster 10)\n",
    "subset_barcodes <- rownames(cluster_10_cells)\n",
    "\n",
    "# Reassign the identities to the original Seurat object (obj_harmony) using a new metadata column 'split'\n",
    "obj_harmony$split <- cluster_10_cells$ident\n",
    "\n",
    "# Identify the cells in the 'split' column that have NA values (cells that were not assigned to a new identity)\n",
    "na_cells <- which(is.na(obj_harmony$split))\n",
    "\n",
    "# Transfer the 'seurat_clusters' label to the 'split' column only for cells that were not assigned a new identity\n",
    "# Instead of using 'seurat_clusters', directly copy the cluster number from 'seurat_clusters'\n",
    "# but ensure the cluster number aligns with the original clustering\n",
    "obj_harmony$split[na_cells] <- as.character(obj_harmony$seurat_clusters[na_cells])\n",
    "\n",
    "# Define the desired order of clusters, ensuring the correct order starts at \"0\"\n",
    "desired_order <- c(\"0\", \"1\", \"2\", \"3\", \"4\", \"5\", \"6\", \"7\", \"8\", \"9\", \"10_2\", \"10_0\", \"11\", \"12\", \"13\", \"14\", \"15\", \"16\", \"17\")\n",
    "\n",
    "# Ensure that cluster \"0\" exists in the metadata, if not, include it explicitly (for consistency)\n",
    "obj_harmony$split <- factor(obj_harmony$split, levels = c(desired_order))\n",
    "\n",
    "# Check the new order\n",
    "unique(obj_harmony$split)"
   ]
  },
  {
   "cell_type": "code",
   "execution_count": null,
   "id": "49747ca8-9c6e-4b7c-a562-14c3eb2576cf",
   "metadata": {},
   "outputs": [],
   "source": [
    "# Find all markers\n",
    "all.markers <- FindAllMarkers(obj_harmony, only.pos = TRUE, min.pct = 0.75, logfc.threshold = 0.58)\n",
    "write.csv(all.markers, \"comparative/DEGs/all.markers_wilcox_merged.csv\")"
   ]
  },
  {
   "cell_type": "code",
   "execution_count": null,
   "id": "14f83d7d-c791-4d6b-8ac9-e5f194dc31b9",
   "metadata": {},
   "outputs": [],
   "source": [
    "cluster_annotations <- list(\n",
    "    \"0\" = \"CM_0\",\n",
    "    \"1\" = \"FB_0\",\n",
    "    \"2\" = \"EC-cap_1\",\n",
    "    \"3\" = \"MΦ_0\",\n",
    "    \"4\" = \"PER_0\",\n",
    "    \"5\" = \"EC-end\",  \n",
    "    \"6\" = \"TC\", \n",
    "    \"7\" = \"BC\", \n",
    "    \"8\" = \"EC-lym\",  \n",
    "    \"9\" = \"CM_1\",\n",
    "    \"10_0\" = \"EC-cap_2\",\n",
    "    \"10_2\" = \"CM_2\",\n",
    "    \"11\" = \"MΦ_1\",\n",
    "    \"12\" = \"FB_1\",\n",
    "    \"13\" = \"MΦ_2\",\n",
    "    \"14\" = \"SC\",\n",
    "    \"15\" = \"CM_3\",\n",
    "    \"16\" = \"MESO\",\n",
    "    \"17\" = \"PER_1\"\n",
    ")"
   ]
  },
  {
   "cell_type": "code",
   "execution_count": null,
   "id": "cbe21faf-69cf-4e4c-bad9-c9a1c14cfb0e",
   "metadata": {},
   "outputs": [],
   "source": [
    "cluster_annotations <- unlist(cluster_annotations, use.names = FALSE)\n",
    "\n",
    "Idents(obj_harmony) <- obj_harmony@meta.data$\"split\"\n",
    "obj_harmony@meta.data$Ident_numerical <- Idents(obj_harmony)\n",
    "\n",
    "names(cluster_annotations) <- levels(obj_harmony)\n",
    "obj_harmony <- RenameIdents(obj_harmony, cluster_annotations)\n",
    "obj_harmony@meta.data$cell_type <- Idents(obj_harmony)\n",
    "Idents(obj_harmony) <- obj_harmony@meta.data$\"Ident_numerical\""
   ]
  },
  {
   "cell_type": "code",
   "execution_count": null,
   "id": "7f91e07e-8ba9-4564-9458-e045c22721b4",
   "metadata": {},
   "outputs": [],
   "source": [
    "cluster_annotations_comb <- list(\n",
    "    \"0\" = \"CM\",\n",
    "    \"1\" = \"FB\",\n",
    "    \"2\" = \"EC-cap\",\n",
    "    \"3\" = \"MΦ\",\n",
    "    \"4\" = \"PER\",\n",
    "    \"5\" = \"EC-end\",  \n",
    "    \"6\" = \"TC\", \n",
    "    \"7\" = \"BC\", \n",
    "    \"8\" = \"EC-lym\",  \n",
    "    \"9\" = \"CM\",\n",
    "    \"10_0\" = \"EC-cap\",\n",
    "    \"10_2\" = \"CM\",\n",
    "    \"11\" = \"MΦ\",\n",
    "    \"12\" = \"FB\",\n",
    "    \"13\" = \"MΦ\",\n",
    "    \"14\" = \"SC\",\n",
    "    \"15\" = \"CM\",\n",
    "    \"16\" = \"MESO\",\n",
    "    \"17\" = \"PER\"\n",
    ")"
   ]
  },
  {
   "cell_type": "code",
   "execution_count": null,
   "id": "f8876479-0d4b-4b3f-8916-c5026952fd2c",
   "metadata": {},
   "outputs": [],
   "source": [
    "names(cluster_annotations_comb) <- levels(obj_harmony)\n",
    "obj_harmony <- RenameIdents(obj_harmony, cluster_annotations_comb)\n",
    "\n",
    "obj_harmony$\"cell_type_comb\" <- Idents(obj_harmony)"
   ]
  },
  {
   "cell_type": "code",
   "execution_count": null,
   "id": "b9da2354-31d7-4e75-9d7d-d3e43704db6b",
   "metadata": {},
   "outputs": [],
   "source": [
    "# Reorder cell types (levels) \n",
    "new_levels <- c(\n",
    "    \"BC\",      \n",
    "    \"CM\",    \n",
    "    \"EC-cap\",\n",
    "    \"EC-end\", \n",
    "    \"EC-lym\",\n",
    "    \"FB\", \n",
    "    \"MESO\",\n",
    "    \"MΦ\",  \n",
    "    \"PER\",   \n",
    "    \"SC\",     \n",
    "    \"TC\"   \n",
    ")\n",
    "\n",
    "# Reorder the levels in the cell_type_CMcomb column\n",
    "obj_harmony@meta.data$cell_type_comb <- factor(\n",
    "    obj_harmony@meta.data$cell_type_comb, \n",
    "    levels = new_levels\n",
    ")\n",
    "\n",
    "# Verify the new order of levels\n",
    "levels(obj_harmony@meta.data$cell_type_comb)"
   ]
  },
  {
   "cell_type": "code",
   "execution_count": null,
   "id": "a4bfba58-7c3e-440c-94f8-4dfaea7b3525",
   "metadata": {},
   "outputs": [],
   "source": [
    "# Seperate CTRL in treatment specific CTRLs\n",
    "obj_harmony$unique <- factor(obj_harmony$unique, levels = sort(as.numeric(levels(factor(obj_harmony$unique)))))\n",
    "\n",
    "annotations <- list(\n",
    "    \"1\" = \"ALDO_CTRL\",\n",
    "    \"2\" = \"ALDO_CTRL\",\n",
    "    \"3\" = \"ALDO\",\n",
    "    \"4\" = \"ALDO\",\n",
    "    \"5\" = \"ALDO\",\n",
    "    \"6\" = \"ALDO\",  \n",
    "    \"7\" = \"ALDO_CTRL\", \n",
    "    \"8\" = \"ALDO_CTRL\", \n",
    "    \"9\" = \"REC\",  \n",
    "    \"10\" = \"REC\",\n",
    "    \"11\" = \"REC\",\n",
    "    \"12\" = \"REC\",\n",
    "    \"13\" = \"AngII_CTRL\",\n",
    "    \"14\" = \"AngII_CTRL\",\n",
    "    \"15\" = \"AngII\",\n",
    "    \"16\" = \"AngII\",\n",
    "    \"17\" = \"MI_CTRL\",\n",
    "    \"18\" = \"MI_CTRL\",\n",
    "    \"19\" = \"MI\",\n",
    "    \"20\" = \"MI\",\n",
    "    \"25\" = \"HFD_CTRL\",\n",
    "    \"26\" = \"HFD_CTRL\",\n",
    "    \"27\" = \"HFD_CTRL\",\n",
    "    \"28\" = \"HFD\",\n",
    "    \"29\" = \"HFD\",\n",
    "    \"30\" = \"HFD\"\n",
    ")\n",
    "annotations <- unlist(annotations, use.names = FALSE)\n",
    "Idents(obj_harmony) <- obj_harmony@meta.data$\"unique\"\n",
    "names(annotations) <- levels(obj_harmony)\n",
    "obj_harmony <- RenameIdents(obj_harmony, annotations)\n",
    "obj_harmony@meta.data$treatment_sep <- Idents(obj_harmony)"
   ]
  },
  {
   "cell_type": "code",
   "execution_count": null,
   "id": "fec203b7-565d-4bac-9cb6-39f68447ace0",
   "metadata": {},
   "outputs": [],
   "source": [
    "# Save final object \n",
    "saveRDS(obj_harmony, \"comparative/seurat_objects/final_obj_all_studies.rds\")"
   ]
  },
  {
   "cell_type": "markdown",
   "id": "307f357a-1041-4d23-b14c-fd28c82c03f0",
   "metadata": {},
   "source": [
    "# Cellnumbers and UMAP plots "
   ]
  },
  {
   "cell_type": "code",
   "execution_count": null,
   "id": "83948fa5-2c5e-43aa-b9ec-eeca1e5e7e19",
   "metadata": {},
   "outputs": [],
   "source": [
    "# Cellnumbers after rename\n",
    "number <- table(obj_harmony@meta.data$sample_id, \n",
    "                          obj_harmony@meta.data$cell_type_comb)\n",
    "write.csv(number, file = \"comparative/cellnumbers/number_perCluster_sample_id.csv\")\n",
    "\n",
    "number <- table(obj_harmony@meta.data$treatment, \n",
    "                          obj_harmony@meta.data$cell_type_comb)\n",
    "write.csv(number, file = \"comparative/cellnumbers/number_perCluster_teatment.csv\")\n",
    "number"
   ]
  },
  {
   "cell_type": "code",
   "execution_count": null,
   "id": "652cf34e-3473-46a9-921a-a206032e0aaf",
   "metadata": {},
   "outputs": [],
   "source": [
    "# Plot UMAPs \n",
    "options(repr.plot.width = 3, repr.plot.height = 2, repr.plot.res = 300)\n",
    "\n",
    "UMAP_rename_cell_type <- DimPlot(obj_harmony, reduction = \"umap\", group.by = \"cell_type_comb\", label = TRUE, shuffle = TRUE, cols = palette.comb, raster = FALSE) +\n",
    "  umap_theme + ggtitle(\"UMAP cell types\") + theme(text = element_text(size = 15)) & NoLegend()\n",
    "\n",
    "UMAP_rename_treatment <- DimPlot(obj_harmony, reduction = \"umap\", label = FALSE, group.by = \"treatment\", shuffle = TRUE, cols = palette.treatment, raster = FALSE) +\n",
    "  umap_theme + ggtitle(\"UMAP treatment\") + theme(text = element_text(size = 15)) & NoLegend()\n",
    "\n",
    "ggsave(\"comparative/Plots/UMAP_rename_cell_type.svg\", UMAP_rename_cell_type, units = \"cm\", dpi = 300, width = 30, height = 20)\n",
    "ggsave(\"comparative/Plots/UMAP_rename_treatment.svg\", UMAP_rename_treatment, units = \"cm\", dpi = 300, width = 30, height = 20)\n",
    "\n",
    "suppressWarnings(print(UMAP_rename_cell_type))\n",
    "UMAP_rename_treatment"
   ]
  },
  {
   "cell_type": "code",
   "execution_count": null,
   "id": "796df52a-7ff3-4c8b-8dda-0e48b516556c",
   "metadata": {},
   "outputs": [],
   "source": [
    "# Plot without REC\n",
    "obj_harmony_sub <- subset(x = obj_harmony, subset = treatment %in% c(\"REC\"), invert = TRUE)"
   ]
  },
  {
   "cell_type": "code",
   "execution_count": null,
   "id": "13c8ade7-dff9-4093-beed-9b0a250dd83f",
   "metadata": {},
   "outputs": [],
   "source": [
    "UMAP_rename_treatment <- DimPlot(obj_harmony_sub, reduction = \"umap\", label = FALSE, group.by = \"treatment\", shuffle = TRUE, cols = palette.treatment_sub, raster = FALSE) +\n",
    "  umap_theme + ggtitle(\"UMAP treatment, w/o REC\") + theme(text = element_text(size = 15)) & NoLegend()\n",
    "\n",
    "ggsave(\"comparative/Plots/UMAP_rename_treatment_woREC.svg\", UMAP_rename_treatment, units = \"cm\", dpi = 300, width = 30, height = 20)\n",
    "\n",
    "UMAP_rename_treatment"
   ]
  },
  {
   "cell_type": "code",
   "execution_count": null,
   "id": "db6a5202-f89a-4569-9243-c9a023c1f82e",
   "metadata": {},
   "outputs": [],
   "source": [
    "# Save final object w/o REC\n",
    "saveRDS(obj_harmony_sub, \"comparative/seurat_objects/final_obj_all_studies_noREC.rds\")"
   ]
  },
  {
   "cell_type": "markdown",
   "id": "9c80ad8f-ec3a-4777-82bb-ab00d5a2b386",
   "metadata": {},
   "source": [
    "# Cell-cycle score"
   ]
  },
  {
   "cell_type": "code",
   "execution_count": null,
   "id": "a56e26eb-c01b-46e4-965f-bc6ee0e77d40",
   "metadata": {},
   "outputs": [],
   "source": [
    "# Download cell cycle genes for organism at https://github.com/hbc/tinyatlas/tree/master/cell_cycle. Read it in with:\n",
    "cc_file <- getURL(\"https://raw.githubusercontent.com/hbc/tinyatlas/master/cell_cycle/Mus_musculus.csv\") \n",
    "cell_cycle_genes <- read.csv(text = cc_file)"
   ]
  },
  {
   "cell_type": "code",
   "execution_count": null,
   "id": "c07608d4-db03-44c7-b22c-81e2f46c4d03",
   "metadata": {},
   "outputs": [],
   "source": [
    "# Connect to AnnotationHub\n",
    "ah <- AnnotationHub()\n",
    "\n",
    "# Access the Ensembl database for organism\n",
    "ahDb <- query(ah, \n",
    "              pattern = c(\"Mus musculus\", \"EnsDb\"), \n",
    "              ignore.case = TRUE)\n",
    "\n",
    "# Acquire the latest annotation files\n",
    "id <- ahDb %>%\n",
    "        mcols() %>%\n",
    "        rownames() %>%\n",
    "        tail(n = 1)\n",
    "\n",
    "# Download the appropriate Ensembldb database\n",
    "edb <- ah[[id]]\n",
    "\n",
    "# Extract gene-level information from database\n",
    "annotations <- genes(edb, \n",
    "                     return.type = \"data.frame\")\n",
    "\n",
    "# Select annotations of interest\n",
    "annotations <- annotations %>%\n",
    "        dplyr::select(gene_id, gene_name, seq_name, gene_biotype, description)"
   ]
  },
  {
   "cell_type": "code",
   "execution_count": null,
   "id": "72d68cf0-5860-4e8d-9e03-22edf4fef03a",
   "metadata": {},
   "outputs": [],
   "source": [
    "# Get gene names for Ensembl IDs for each gene\n",
    "cell_cycle_markers <- dplyr::left_join(cell_cycle_genes, annotations, by = c(\"geneID\" = \"gene_id\"))\n",
    "\n",
    "# Acquire the S phase genes\n",
    "s_genes <- cell_cycle_markers %>%\n",
    "        dplyr::filter(phase == \"S\") %>%\n",
    "        pull(\"gene_name\")\n",
    "        \n",
    "# Acquire the G2M phase genes        \n",
    "g2m_genes <- cell_cycle_markers %>%\n",
    "        dplyr::filter(phase == \"G2/M\") %>%\n",
    "        pull(\"gene_name\")\n",
    "\n",
    "# Perform cell cycle scoring\n",
    "obj_harmony_sub <- CellCycleScoring(obj_harmony_sub,\n",
    "                        g2m.features = g2m_genes,\n",
    "                        s.features = s_genes)"
   ]
  },
  {
   "cell_type": "code",
   "execution_count": null,
   "id": "909992c3-f90d-4288-8243-a52f9ec197f8",
   "metadata": {},
   "outputs": [],
   "source": [
    "options(repr.plot.width = 6, repr.plot.height = 4, repr.plot.res = 300)\n",
    "\n",
    "UMAP_cycle <- DimPlot(obj_harmony_sub, reduction = \"umap\", label = FALSE, group.by = \"Phase\", shuffle = TRUE, raster = FALSE, cols = palette.3) +\n",
    "  umap_theme + ggtitle(\"UMAP cellcycle\") + theme(text = element_text(size = 15)) \n",
    "\n",
    "ggsave(\"comparative/Plots/UMAP_cellcycle.svg\", UMAP_cycle, units = \"cm\", dpi = 300, width = 30, height = 20)\n",
    "\n",
    "UMAP_cycle"
   ]
  },
  {
   "cell_type": "markdown",
   "id": "ea62b82b-9574-42cf-896b-69da55d3374d",
   "metadata": {},
   "source": [
    "# Fibroblast subcluster analysis"
   ]
  },
  {
   "cell_type": "code",
   "execution_count": null,
   "id": "5e0b90c5-99e7-4d97-a5f2-8dc415cec610",
   "metadata": {},
   "outputs": [],
   "source": [
    "celltype <- \"FB\""
   ]
  },
  {
   "cell_type": "code",
   "execution_count": null,
   "id": "532d93d4-3b4e-40dc-83e1-458118ad0773",
   "metadata": {},
   "outputs": [],
   "source": [
    "# Subset to FB cluster\n",
    "obj_sub <- subset(x = obj_harmony, subset = cell_type_comb %in% c(celltype))"
   ]
  },
  {
   "cell_type": "code",
   "execution_count": null,
   "id": "85690b73-af70-454e-acb4-86143c63835d",
   "metadata": {},
   "outputs": [],
   "source": [
    "# Add covariate for experimental set-up to integrate along\n",
    "obj_sub$batch_2 <- ifelse(test = obj_sub$batch %in% c(1:3, 7), yes = \"1\", no = \"2\")"
   ]
  },
  {
   "cell_type": "code",
   "execution_count": null,
   "id": "f61c4aee-d194-4de1-a951-0dd6cd1d77b1",
   "metadata": {},
   "outputs": [],
   "source": [
    "obj_sub <- NormalizeData(obj_sub, verbose = FALSE)\n",
    "obj_sub <- FindVariableFeatures(obj_sub, verbose = FALSE)\n",
    "obj_sub <- ScaleData(obj_sub, verbose = FALSE)\n",
    "obj_sub_pca <- RunPCA(obj_sub, assay = \"RNA\", npcs = 35, verbose = FALSE)"
   ]
  },
  {
   "cell_type": "code",
   "execution_count": null,
   "id": "4305c66d-4a27-4a2f-a756-2288718f126b",
   "metadata": {},
   "outputs": [],
   "source": [
    "# Integrate \"batch\" and \"batch_2\", and \"sex\"\n",
    "obj_sub_pca$batch <- as.factor(obj_sub_pca$batch)\n",
    "obj_sub_pca$batch_2 <- as.factor(obj_sub_pca$batch_2)\n",
    "\n",
    "obj.subcluster <- obj_sub_pca %>% \n",
    "  RunHarmony(group.by.vars = c(\"batch\", \"batch_2\", \"sex\"), theta = c(2, 1, 2), lambda = c(1, 0.5, 1), max_iter = 20, early_stop = FALSE, plot_convergence = FALSE, assay.use = \"RNA\", verbose = FALSE)"
   ]
  },
  {
   "cell_type": "code",
   "execution_count": null,
   "id": "44c98bb4-6324-4780-baac-6eda1b8ec01d",
   "metadata": {},
   "outputs": [],
   "source": [
    "options(repr.plot.width = 6, repr.plot.height = 2.5, repr.plot.res = 300) \n",
    "\n",
    "dim1 <- DimPlot(obj_sub, reduction = \"pca\", group.by = \"batch\", dims = c(1, 2), cols = palette.treatment) + ggtitle(\"PC batch before harmony\") # Before\n",
    "dim2 <- DimPlot(obj.subcluster, reduction = \"harmony\", group.by = \"batch\", dims = c(1, 2), cols = palette.treatment) + ggtitle(\"PC batch after harmony\") # After\n",
    "\n",
    "dim1\n",
    "dim2\n",
    "\n",
    "ggsave(paste0(\"comparative/subcluster/\", celltype, \"/Plots/PC_batch_before_harmony.svg\"), plot = dim1, units = \"cm\", dpi = 300, width = 15, height = 10)\n",
    "ggsave(paste0(\"comparative/subcluster/\", celltype, \"/Plots/PC_batch_after_harmony.svg\"), plot = dim2, units = \"cm\", dpi = 300, width = 15, height = 10)"
   ]
  },
  {
   "cell_type": "code",
   "execution_count": null,
   "id": "664f9386-d532-4857-8910-b30cbd538ac2",
   "metadata": {},
   "outputs": [],
   "source": [
    "# Run UMAP\n",
    "obj.subcluster <- obj.subcluster %>%\n",
    "  RunUMAP(dims = 1:35,  spread = 2, min.dist = 0.3, reduction = \"harmony\", verbose = FALSE) %>%\n",
    "  FindNeighbors(dims = 1:35, reduction = \"harmony\", verbose = FALSE) %>%\n",
    "  FindClusters(resolution = 0.15)"
   ]
  },
  {
   "cell_type": "code",
   "execution_count": null,
   "id": "0b9f2701-6302-489e-83bb-1d5760103cf3",
   "metadata": {},
   "outputs": [],
   "source": [
    "# PLot UMAPs\n",
    "options(repr.plot.width = 10, repr.plot.height = 4, repr.plot.res = 300) \n",
    "\n",
    "seurat_clusters <- DimPlot(obj.subcluster, pt.size = 1, , group.by = \"seurat_clusters\", label = TRUE, shuffle = F, label.size = 10)\n",
    "treatment_leg <- DimPlot(obj.subcluster, pt.size = 1, group.by = \"treatment\", shuffle = TRUE, cols = palette.treatment) + umap_theme \n",
    "treatment <- DimPlot(obj.subcluster, pt.size = 1, group.by = \"treatment\", shuffle = TRUE, cols = palette.treatment) + umap_theme & NoLegend()\n",
    "sex <- DimPlot(obj.subcluster, pt.size = 1,  group.by = \"sex\", shuffle = TRUE, label.size = 10, cols = palette.sex) + umap_theme\n",
    "batch <- DimPlot(obj.subcluster, pt.size = 1,  group.by = \"batch\", shuffle = TRUE, label.size = 10, cols = palette.treatment) + umap_theme\n",
    "\n",
    "seurat_clusters|treatment_leg|sex|batch"
   ]
  },
  {
   "cell_type": "code",
   "execution_count": null,
   "id": "d38c1c34-153d-4df7-b468-afd3180ee75a",
   "metadata": {},
   "outputs": [],
   "source": [
    "# Rename Idents and add cell_type_sub\n",
    "cluster_annotations <- c(\"FB_I\", \"FB_II\", \"FB_III\", \"FB_IV\", \"FB_V\", \"FB_VI\", \"FB_VII\", \"FB_VIII\")\n",
    "names(cluster_annotations) <- levels(obj.subcluster)\n",
    "obj.subcluster <- RenameIdents(obj.subcluster, cluster_annotations)\n",
    "obj.subcluster$cell_type_sub <- Idents(obj.subcluster)"
   ]
  },
  {
   "cell_type": "code",
   "execution_count": null,
   "id": "95045490-9a34-4d41-93b9-e5b919a999f2",
   "metadata": {},
   "outputs": [],
   "source": [
    "cell_type_sub <- DimPlot(obj.subcluster, group.by = \"cell_type_sub\", split.by = \"treatment\", pt.size = 1, label = TRUE, shuffle = F, label.size = 10, cols = palette.FB) + umap_theme & NoLegend()\n",
    "cell_type_sub"
   ]
  },
  {
   "cell_type": "code",
   "execution_count": null,
   "id": "3d3add51-a40a-4a2b-81ad-694801d81696",
   "metadata": {},
   "outputs": [],
   "source": [
    "# Plot and save plots\n",
    "cell_type_sub <- DimPlot(obj.subcluster, group.by = \"cell_type_sub\", pt.size = 1, label = TRUE, shuffle = F, label.size = 10, cols = palette.FB) + umap_theme & NoLegend()\n",
    "treatment_split <- DimPlot(obj.subcluster, pt.size = 1, group.by = \"treatment\", split.by = \"treatment\", cols = palette.treatment) + umap_theme & NoLegend()\n",
    "\n",
    "ggsave(paste0(\"comparative/subcluster/\", celltype, \"/Plots/\", celltype, \"_cell_type_sub.svg\"), plot = cell_type_sub, units = \"cm\", dpi = 300, width = 18, height = 15)\n",
    "ggsave(paste0(\"comparative/subcluster/\", celltype, \"/Plots/\", celltype, \"_seurat_clusters.svg\"), plot = seurat_clusters, units = \"cm\", dpi = 300, width = 18, height = 15)\n",
    "ggsave(paste0(\"comparative/subcluster/\", celltype, \"/Plots/\", celltype, \"_treatment.svg\"), plot = treatment, units = \"cm\", dpi = 300, width = 18, height = 15)\n",
    "ggsave(paste0(\"comparative/subcluster/\", celltype, \"/Plots/\", celltype, \"_treatment_leg.svg\"), plot = treatment_leg, units = \"cm\", dpi = 300, width = 18, height = 15)\n",
    "ggsave(paste0(\"comparative/subcluster/\", celltype, \"/Plots/\", celltype, \"_treatment_split.svg\"), plot = treatment_split, units = \"cm\", dpi = 300, width = 18*6, height = 15)\n",
    "ggsave(paste0(\"comparative/subcluster/\", celltype, \"/Plots/\", celltype, \"_sex.svg\"), plot = sex, units = \"cm\", dpi = 300, width = 18, height = 15)\n",
    "ggsave(paste0(\"comparative/subcluster/\", celltype, \"/Plots/\", celltype, \"_batch.svg\"), plot = batch, units = \"cm\", dpi = 300, width = 18, height = 15)"
   ]
  },
  {
   "cell_type": "code",
   "execution_count": null,
   "id": "f3cb49bf-6fa1-471b-a7c6-481edc39fe07",
   "metadata": {},
   "outputs": [],
   "source": [
    "# Perform cell cycle scoring\n",
    "obj.subcluster <- CellCycleScoring(obj.subcluster,\n",
    "                       g2m.features = g2m_genes,\n",
    "                       s.features = s_genes)\n",
    "\n",
    "UMAP_cycle <- DimPlot(obj.subcluster, reduction = \"umap\", label = FALSE, group.by = \"Phase\", shuffle = TRUE, raster = FALSE, cols = palette.3) +\n",
    "  umap_theme + ggtitle(\"UMAP cellcycle\") + theme(text = element_text(size = 15)) \n",
    "\n",
    "ggsave(paste0(\"comparative/subcluster/\", celltype, \"/Plots/\", celltype, \"_cellcycle.svg\"), UMAP_cycle, units = \"cm\", dpi = 300, width = 18, height = 15)"
   ]
  },
  {
   "cell_type": "code",
   "execution_count": null,
   "id": "1f3080e8-e4d3-4fb9-88af-7675e7d720a8",
   "metadata": {},
   "outputs": [],
   "source": [
    "# Cellnumbers\n",
    "tab <- table(obj.subcluster$treatment_sep, obj.subcluster$cell_type_sub)\n",
    "tab\n",
    "write.csv(tab, file = paste0(\"comparative/subcluster/\", celltype, \"/cellnumber_percluster_\", celltype, \".csv\"))"
   ]
  },
  {
   "cell_type": "code",
   "execution_count": null,
   "id": "210a69e9-beee-4bf6-8065-81cf4b0e47ff",
   "metadata": {},
   "outputs": [],
   "source": [
    "# Find all markers\n",
    "all.markers <- FindAllMarkers(obj.subcluster, only.pos = FALSE)\n",
    "write.csv(all.markers, paste0(\"comparative/subcluster/\", celltype, \"/DEGs/all.markers_wilcox_\", celltype ,\".csv\"))"
   ]
  },
  {
   "cell_type": "code",
   "execution_count": null,
   "id": "494bcc2b-e7ef-4f8c-a46f-2915e34d3538",
   "metadata": {
    "scrolled": true
   },
   "outputs": [],
   "source": [
    "saveRDS(obj.subcluster, paste0(\"comparative/subcluster/\", celltype, \"/Subcluster_\", celltype, \".rds\"))"
   ]
  },
  {
   "cell_type": "markdown",
   "id": "eccf566a-8909-440d-91ce-09025a381252",
   "metadata": {},
   "source": [
    "## Plot Gene Expression Across Studies \n",
    "switch to Kernel user_R for optimized plotting options"
   ]
  },
  {
   "cell_type": "code",
   "execution_count": 1,
   "id": "31fc0c85-9f0f-498f-a51d-205717a034a2",
   "metadata": {},
   "outputs": [],
   "source": [
    "suppressPackageStartupMessages({\n",
    "  suppressWarnings({\n",
    "    library(Seurat)\n",
    "    library(SoupX)\n",
    "    library(ggplot2)\n",
    "    library(tidyverse)\n",
    "    library(scDblFinder)\n",
    "    library(harmony)\n",
    "    library(SeuratDisk)\n",
    "    library(patchwork)\n",
    "    library(SingleCellExperiment)\n",
    "    library(dplyr)\n",
    "    library(ggpubr)\n",
    "    library(pals)\n",
    "    library(viridis)\n",
    "    library(scCustomize)\n",
    "    library(DESeq2)\n",
    "    library(EnhancedVolcano)\n",
    "    library(Rsamtools)\n",
    "    library(svglite)\n",
    "    library(RCurl)\n",
    "    library(sva)\n",
    "    library(WGCNA)\n",
    "    library(hdWGCNA)\n",
    "    library(cetcolor)\n",
    "  })\n",
    "})"
   ]
  },
  {
   "cell_type": "code",
   "execution_count": null,
   "id": "498beed8-ac5a-492a-8808-92593107525f",
   "metadata": {},
   "outputs": [],
   "source": [
    "celltype <- \"FB\"\n",
    "setwd(\"/media/daten/dmeral/scseq_analysis/2024_LV_CTRL_ALDO_REC\")"
   ]
  },
  {
   "cell_type": "code",
   "execution_count": null,
   "id": "d0b0de70-bba8-4e16-a3b5-0163a23f54dc",
   "metadata": {},
   "outputs": [],
   "source": [
    "# Full Object\n",
    "obj.harmony <- readRDS(\"comparative/seurat_objects/final_obj_all_studies.rds\")\n",
    "obj.subcluster <- readRDS(paste0(\"comparative/subcluster/\", celltype, \"/Subcluster_\", celltype, \".rds\"))"
   ]
  },
  {
   "cell_type": "code",
   "execution_count": null,
   "id": "03aaa6bf-146b-4b24-b655-e45eabd4ae3c",
   "metadata": {
    "scrolled": true
   },
   "outputs": [],
   "source": [
    "# Density plot UMAP\n",
    "options(repr.plot.width = 4, repr.plot.height = 3, repr.plot.res = 300)\n",
    "\n",
    "Idents(obj.harmony) <- \"cell_type_comb\"\n",
    "\n",
    "# generate UMAP plot\n",
    "pl1 <- UMAPPlot(obj.harmony, cols = palette.comb, \n",
    "                combine = FALSE # returns full ggplot object\n",
    "                )\n",
    "\n",
    "# custom color scale\n",
    "scale.col <- cet_pal(16, name = \"fire\")\n",
    "\n",
    "# make plot\n",
    "umap_density_plot  <- pl1[[1]] & \n",
    "  stat_density_2d(aes_string(x = \"umap_1\", y = \"umap_2\", fill = \"after_stat(level)\"), \n",
    "                  linewidth = 0.2, geom = \"density_2d_filled\", \n",
    "                  colour = \"ivory\", alpha = 0.4, n = 300, h = c(1.3, 1.3)) & \n",
    "  scale_fill_gradientn(colours = scale.col)\n",
    "\n",
    "umap_density_plot\n",
    "ggsave(paste0(\"comparative/Plots/UMAP_density_plot.svg\"), plot = umap_density_plot, width = 8, height = 4, dpi = 300)"
   ]
  },
  {
   "cell_type": "code",
   "execution_count": null,
   "id": "6c7b93cf-408b-4a14-83cc-aad2db77341c",
   "metadata": {},
   "outputs": [],
   "source": [
    "unique(obj.subcluster@meta.data$treatment)"
   ]
  },
  {
   "cell_type": "code",
   "execution_count": null,
   "id": "02d5e4c4-44cb-43a3-bbcc-cbb49345b046",
   "metadata": {},
   "outputs": [],
   "source": [
    "# Remove REC\n",
    "obj.subcluster_sub <- subset(x = obj.subcluster, subset = treatment %in% c(\"REC\"), invert = TRUE)"
   ]
  },
  {
   "cell_type": "code",
   "execution_count": null,
   "id": "5dd1eac0-1bae-4b5b-a876-5586f8c271ad",
   "metadata": {},
   "outputs": [],
   "source": [
    "# Density plot UMAP\n",
    "options(repr.plot.width = 10, repr.plot.height = 6, repr.plot.res = 300)\n",
    "\n",
    "Idents(obj.subcluster_sub) <- \"cell_type_sub\"\n",
    "\n",
    "# generate UMAP plot\n",
    "pl1 <- UMAPPlot(obj.subcluster_sub, cols = palette.FB, \n",
    "                combine = FALSE # returns full ggplot object\n",
    "                )\n",
    "\n",
    "# custom color scale\n",
    "scale.col <- cet_pal(16, name = \"fire\")\n",
    "\n",
    "# make plot\n",
    "umap_density_plot  <- pl1[[1]] & \n",
    "  stat_density_2d(aes_string(x = \"umap_1\", y = \"umap_2\", fill = \"after_stat(level)\"), \n",
    "                  linewidth = 0.2, geom = \"density_2d_filled\", \n",
    "                  colour = \"ivory\", alpha = 0.4, n = 300, h = c(1.3, 1.3)) & \n",
    "  scale_fill_gradientn(colours = scale.col)\n",
    "\n",
    "umap_density_plot\n",
    "ggsave(paste0(\"comparative/subcluster/\", celltype, \"/Plots/UMAP_density_plot_noREC.svg\"), plot = umap_density_plot, width = 8, height = 4, dpi = 300)"
   ]
  },
  {
   "cell_type": "code",
   "execution_count": null,
   "id": "182a9108-1834-4862-b847-7d51d88ddefd",
   "metadata": {},
   "outputs": [],
   "source": [
    "# Reorder the levels of the 'treatment' factor to your desired order\n",
    "obj.subcluster_sub$treatment_sep <- factor(obj.subcluster_sub$treatment_sep, \n",
    "                                       levels = c(\"ALDO_CTRL\", \"ALDO\", \"HFD_CTRL\", \"HFD\", \"AngII_CTRL\", \"AngII\", \"MI_CTRL\", \"MI\"))"
   ]
  },
  {
   "cell_type": "code",
   "execution_count": null,
   "id": "19c21f60-364d-43ba-9c52-6d749f6864f6",
   "metadata": {},
   "outputs": [],
   "source": [
    "obj.subcluster_sub_ALDO <- subset(x = obj.subcluster_sub, subset = treatment_sep %in% c(\"ALDO_CTRL\", \"ALDO\"))\n",
    "obj.subcluster_sub_AngII <- subset(x = obj.subcluster_sub, subset = treatment_sep %in% c(\"AngII_CTRL\", \"AngII\"))\n",
    "obj.subcluster_sub_HFD <- subset(x = obj.subcluster_sub, subset = treatment_sep %in% c(\"HFD_CTRL\", \"HFD\"))\n",
    "obj.subcluster_sub_MI <- subset(x = obj.subcluster_sub, subset = treatment_sep %in% c(\"MI_CTRL\", \"MI\"))"
   ]
  },
  {
   "cell_type": "code",
   "execution_count": null,
   "id": "ca841760-f653-4b46-8d0e-8dbdddc3ee47",
   "metadata": {},
   "outputs": [],
   "source": [
    "# Define genes of interest as a list (required by AddModuleScore)\n",
    "# MR target gene signature by avg expression\n",
    "key_genes <- c(\"Per1\", \"Per3\", \"Dbp\", \"Zbtb16\", \"Hlf\")\n",
    "gene_list <- list(key_genes) \n",
    "\n",
    "# Add module score to the object\n",
    "obj.subcluster_sub <- AddModuleScore(\n",
    "  object = obj.subcluster_sub,\n",
    "  features = gene_list,\n",
    "  name = \"key_genes\"\n",
    ")\n",
    "\n",
    "UMAP_plot <- FeaturePlot(\n",
    "  obj.subcluster_sub,\n",
    "  features = \"key_genes1\",\n",
    "  pt.size = 0.1,\n",
    "  order = TRUE,\n",
    "  cols = palette_feature\n",
    ") +\n",
    "  umap_theme +\n",
    "  theme(\n",
    "    text = element_text(size = 15),\n",
    "    legend.position = \"right\"\n",
    "  )\n",
    "\n",
    "ggsave(\n",
    "  filename = paste0(\"comparative/subcluster/\", celltype, \"/Plots/GOI_UMAPs/UMAP_\", paste(key_genes, collapse = \"_\"), \"_moduleScore.svg\"),\n",
    "  plot = UMAP_plot,\n",
    "  units = \"cm\", dpi = 300, width = 20, height = 13\n",
    ")\n",
    "\n",
    "UMAP_plot"
   ]
  },
  {
   "cell_type": "code",
   "execution_count": null,
   "id": "a9cd4cb4-ad88-4232-9b55-9da5c2a39765",
   "metadata": {},
   "outputs": [],
   "source": [
    "# Plot GOI UMAPs all cells merged\n",
    "options(repr.plot.width = 10, repr.plot.height = 5, repr.plot.res = 300) \n",
    "\n",
    "GOI <- \"avg_key_genes\"\n",
    "\n",
    "palette_feature <- c(\"lightgrey\", \n",
    "                       \"#ffffe5\", \"#fff7bc\", \"#fee391\", \"#fec44f\",\n",
    "                       \"#fe9929\", \"#ec7014\", \"#cc4c02\", \"#993404\", \"#662506\")\n",
    "\n",
    "p <- FeaturePlot(obj.subcluster_sub, features = GOI, pt.size = 0.1, order = TRUE, cols = palette_feature)   # obj.subcluster_sub w/o REC\n",
    "\n",
    "ggsave(paste0(\"comparative/subcluster/\", celltype, \"/Plots/GOI_UMAPs/not_split/UMAP_noREC_\", GOI, \".svg\"), plot = p, units = \"cm\", dpi = 300, width = 10, height = 10)"
   ]
  },
  {
   "cell_type": "markdown",
   "id": "7a5d7707-d2f1-4155-8703-fd21623426e2",
   "metadata": {},
   "source": [
    "## pseudo-bulk PCA plot"
   ]
  },
  {
   "cell_type": "code",
   "execution_count": null,
   "id": "08cfcfd8-3c6c-4f65-9380-e66b5b3aa0f8",
   "metadata": {
    "scrolled": true
   },
   "outputs": [],
   "source": [
    "obj.subcluster_sub_noCTRL <- subset(x = obj.subcluster, subset = treatment_sep %in% c(\"ALDO\", \"AngII\", \"HFD\", \"MI\"))"
   ]
  },
  {
   "cell_type": "code",
   "execution_count": null,
   "id": "59405ae5-0a4b-42fd-8ad2-afc127604c04",
   "metadata": {},
   "outputs": [],
   "source": [
    "# Aggregate counts by `sample_id`\n",
    "obj.subcluster_sub_noCTRL$tsid <- paste0(obj.subcluster_sub_noCTRL$treatment, \"_\", obj.subcluster_sub_noCTRL$sample_id)\n",
    "\n",
    "cts <- AggregateExpression(\n",
    "  obj.subcluster_sub_noCTRL,\n",
    "  group.by = \"tsid\",\n",
    "  assays = \"RNA\",\n",
    "  slot = \"counts\",\n",
    "  return.seurat = FALSE\n",
    ")\n",
    "\n",
    "cts <- cts$RNA  # Extract the counts matrix\n",
    "\n",
    "# Filter for protein-coding genes\n",
    "protein_coding_genes <- unlist(read.csv(\"DEGs/nothreshold/protein_coding_gene_names_filtered.txt\", header = TRUE, stringsAsFactors = FALSE))\n",
    "cts_filtered <- cts[rownames(cts) %in% protein_coding_genes, ]\n",
    "\n",
    "# Log-transform (avoid log(0) issues)\n",
    "log_counts <- log1p(cts_filtered)\n",
    "\n",
    "# 4. Remove zero-variance genes\n",
    "log_counts_filtered <- log_counts[apply(log_counts, 1, var) > 0, ]\n",
    "\n",
    "# Extract batch info for each aggregated sample\n",
    "agg_samples <- colnames(log_counts_filtered)\n",
    "agg_metadata <- obj.subcluster_sub_noCTRL@meta.data[!duplicated(obj.subcluster_sub_noCTRL$tsid), ]\n",
    "batch_info <- agg_metadata$batch[match(agg_samples, agg_metadata$tsid)]\n",
    "\n",
    "# PCA\n",
    "pca_result <- prcomp(t(log_counts_filtered), center = TRUE, scale. = TRUE)\n"
   ]
  },
  {
   "cell_type": "code",
   "execution_count": null,
   "id": "78239226-3d48-49ba-a2c3-f0590f3beb00",
   "metadata": {},
   "outputs": [],
   "source": [
    "options(repr.plot.width = 5, repr.plot.height = 4, repr.plot.res = 300)\n",
    "\n",
    "# Create a data frame for plotting\n",
    "pca_df <- data.frame(\n",
    "  PC1 = pca_result$x[, 1],  # First principal component\n",
    "  PC2 = pca_result$x[, 2],  # Second principal component\n",
    "  tsid = rownames(pca_result$x),  \n",
    "  treatment <- sub(\"-.*\", \"\", rownames(pca_result$x)) # Extract treatment from tsid\n",
    ")\n",
    "\n",
    "# Plot the PCA\n",
    "PCA_plot <- ggplot(pca_df, aes(x = PC1, y = PC2, color = treatment, label = tsid)) +\n",
    "  geom_point(size = 4, alpha = 0.8) +\n",
    "  geom_text(vjust = 2, hjust = 0.5, size = 3, color = \"black\") +  # Adjust vjust to place labels below\n",
    "  theme_minimal() +\n",
    "  labs(\n",
    "    title = paste0(\"PCA of Pseudobulk Samples for \", celltype ,\" Across Studies\"),\n",
    "    x = paste0(\"PC1 (\", round(summary(pca_result)$importance[2, 1] * 100, 1), \"% Variance)\"),\n",
    "    y = paste0(\"PC2 (\", round(summary(pca_result)$importance[2, 2] * 100, 1), \"% Variance)\")\n",
    "  ) +\n",
    "  scale_color_manual(values = palette.treatment2) +  # Correct color palette\n",
    "  theme(\n",
    "    legend.position = \"right\",\n",
    "    text = element_text(size = 12),\n",
    "    plot.title = element_text(size = 12),  # Decrease title size\n",
    "    panel.grid.minor = element_blank(),    # Remove minor gridlines only\n",
    "    panel.border = element_rect(color = \"black\", fill = NA, size = 0.5)  # Add black border around the plot\n",
    "  )\n",
    "\n",
    "PCA_plot\n",
    "ggsave(paste0(\"comparative/subcluster/\", celltype, \"/Plots/PCA_plot_pseudobulk.svg\"), plot = PCA_plot, units = \"cm\", dpi = 300, width = 15, height = 10)"
   ]
  },
  {
   "cell_type": "code",
   "execution_count": 2,
   "id": "e22f9abf-fb07-4375-943a-c15379539b1d",
   "metadata": {},
   "outputs": [
    {
     "data": {
      "text/plain": [
       "R version 4.2.2 (2022-10-31)\n",
       "Platform: x86_64-conda-linux-gnu (64-bit)\n",
       "Running under: Ubuntu 22.04.2 LTS\n",
       "\n",
       "Matrix products: default\n",
       "BLAS/LAPACK: /media/daten/dmeral/micromamba/envs/user_R/lib/libopenblasp-r0.3.26.so\n",
       "\n",
       "locale:\n",
       " [1] LC_CTYPE=en_US.UTF-8       LC_NUMERIC=C              \n",
       " [3] LC_TIME=en_US.UTF-8        LC_COLLATE=en_US.UTF-8    \n",
       " [5] LC_MONETARY=en_US.UTF-8    LC_MESSAGES=en_US.UTF-8   \n",
       " [7] LC_PAPER=en_US.UTF-8       LC_NAME=C                 \n",
       " [9] LC_ADDRESS=C               LC_TELEPHONE=C            \n",
       "[11] LC_MEASUREMENT=en_US.UTF-8 LC_IDENTIFICATION=C       \n",
       "\n",
       "attached base packages:\n",
       "[1] stats4    stats     graphics  grDevices utils     datasets  methods  \n",
       "[8] base     \n",
       "\n",
       "other attached packages:\n",
       " [1] cetcolor_0.2.0              hdWGCNA_0.3.01             \n",
       " [3] igraph_2.1.4                WGCNA_1.72-5               \n",
       " [5] fastcluster_1.2.6           dynamicTreeCut_1.63-1      \n",
       " [7] sva_3.46.0                  BiocParallel_1.32.5        \n",
       " [9] genefilter_1.80.3           mgcv_1.9-1                 \n",
       "[11] nlme_3.1-164                RCurl_1.98-1.16            \n",
       "[13] svglite_2.1.3               Rsamtools_2.14.0           \n",
       "[15] Biostrings_2.66.0           XVector_0.38.0             \n",
       "[17] EnhancedVolcano_1.16.0      ggrepel_0.9.5              \n",
       "[19] DESeq2_1.38.3               scCustomize_2.1.2          \n",
       "[21] viridis_0.6.5               viridisLite_0.4.2          \n",
       "[23] pals_1.8                    ggpubr_0.6.0               \n",
       "[25] patchwork_1.3.0             SeuratDisk_0.0.0.9021      \n",
       "[27] harmony_1.2.0               Rcpp_1.0.14                \n",
       "[29] scDblFinder_1.12.0          SingleCellExperiment_1.20.1\n",
       "[31] SummarizedExperiment_1.28.0 Biobase_2.58.0             \n",
       "[33] GenomicRanges_1.50.2        GenomeInfoDb_1.34.9        \n",
       "[35] IRanges_2.32.0              S4Vectors_0.36.2           \n",
       "[37] BiocGenerics_0.44.0         MatrixGenerics_1.10.0      \n",
       "[39] matrixStats_1.5.0           lubridate_1.9.3            \n",
       "[41] forcats_1.0.0               stringr_1.5.1              \n",
       "[43] dplyr_1.1.4                 purrr_1.0.4                \n",
       "[45] readr_2.1.5                 tidyr_1.3.1                \n",
       "[47] tibble_3.2.1                tidyverse_2.0.0            \n",
       "[49] ggplot2_3.5.2               SoupX_1.6.2                \n",
       "[51] SeuratObject_5.0.1          Seurat_4.4.0               \n",
       "\n",
       "loaded via a namespace (and not attached):\n",
       "  [1] ggprism_1.0.4             rtracklayer_1.58.0       \n",
       "  [3] pbdZMQ_0.3-11             scattermore_1.2          \n",
       "  [5] knitr_1.49                bit64_4.6.0-1            \n",
       "  [7] irlba_2.3.5.1             DelayedArray_0.24.0      \n",
       "  [9] rpart_4.1.23              data.table_1.17.2        \n",
       " [11] doParallel_1.0.17         KEGGREST_1.38.0          \n",
       " [13] generics_0.1.3            preprocessCore_1.60.2    \n",
       " [15] ScaledMatrix_1.6.0        cowplot_1.1.3            \n",
       " [17] RSQLite_2.3.4             RANN_2.6.2               \n",
       " [19] proxy_0.4-27              future_1.34.0            \n",
       " [21] bit_4.6.0                 tzdb_0.5.0               \n",
       " [23] spatstat.data_3.1-2       httpuv_1.6.14            \n",
       " [25] xfun_0.50                 hms_1.1.3                \n",
       " [27] evaluate_1.0.3            promises_1.2.1           \n",
       " [29] restfulr_0.0.15           DBI_1.2.3                \n",
       " [31] geneplotter_1.76.0        htmlwidgets_1.6.4        \n",
       " [33] spatstat.geom_3.3-3       tester_0.1.7             \n",
       " [35] paletteer_1.6.0           backports_1.4.1          \n",
       " [37] annotate_1.76.0           deldir_2.0-4             \n",
       " [39] sparseMatrixStats_1.10.0  vctrs_0.6.5              \n",
       " [41] ROCR_1.0-11               abind_1.4-8              \n",
       " [43] cachem_1.1.0              withr_3.0.2              \n",
       " [45] progressr_0.14.0          checkmate_2.3.0          \n",
       " [47] sctransform_0.4.1         GenomicAlignments_1.34.0 \n",
       " [49] scran_1.26.0              goftest_1.2-3            \n",
       " [51] cluster_2.1.6             IRdisplay_1.1            \n",
       " [53] dotCall64_1.2             lazyeval_0.2.2           \n",
       " [55] crayon_1.5.3              hdf5r_1.3.8              \n",
       " [57] spatstat.explore_3.3-2    edgeR_3.40.0             \n",
       " [59] pkgconfig_2.0.3           vipor_0.4.7              \n",
       " [61] nnet_7.3-19               rlang_1.1.6              \n",
       " [63] globals_0.16.3            lifecycle_1.0.4          \n",
       " [65] miniUI_0.1.1.1            rsvd_1.0.5               \n",
       " [67] dichromat_2.0-0.1         ggrastr_1.0.2            \n",
       " [69] polyclip_1.10-6           lmtest_0.9-40            \n",
       " [71] Matrix_1.6-5              IRkernel_1.3.2           \n",
       " [73] carData_3.0-5             zoo_1.8-12               \n",
       " [75] base64enc_0.1-3           beeswarm_0.4.0           \n",
       " [77] ggridges_0.5.6            GlobalOptions_0.1.2      \n",
       " [79] png_0.1-8                 rjson_0.2.21             \n",
       " [81] bitops_1.0-9              KernSmooth_2.23-22       \n",
       " [83] spam_2.10-0               blob_1.2.4               \n",
       " [85] DelayedMatrixStats_1.20.0 shape_1.4.6.1            \n",
       " [87] spatstat.univar_3.0-1     parallelly_1.42.0        \n",
       " [89] spatstat.random_3.3-2     rstatix_0.7.2            \n",
       " [91] ggsignif_0.6.4            beachmat_2.14.0          \n",
       " [93] scales_1.4.0              memoise_2.0.1            \n",
       " [95] magrittr_2.0.3            plyr_1.8.9               \n",
       " [97] ica_1.0-3                 zlibbioc_1.44.0          \n",
       " [99] compiler_4.2.2            dqrng_0.3.2              \n",
       "[101] BiocIO_1.8.0              RColorBrewer_1.1-3       \n",
       "[103] fitdistrplus_1.2-1        snakecase_0.11.1         \n",
       "[105] cli_3.6.5                 listenv_0.9.1            \n",
       "[107] pbapply_1.7-2             htmlTable_2.4.2          \n",
       "[109] Formula_1.2-5             MASS_7.3-60.0.1          \n",
       "[111] tidyselect_1.2.1          stringi_1.8.4            \n",
       "[113] yaml_2.3.10               BiocSingular_1.14.0      \n",
       "[115] locfit_1.5-9.9            grid_4.2.2               \n",
       "[117] tools_4.2.2               timechange_0.3.0         \n",
       "[119] future.apply_1.11.2       parallel_4.2.2           \n",
       "[121] rstudioapi_0.15.0         circlize_0.4.16          \n",
       "[123] uuid_1.2-0                foreign_0.8-86           \n",
       "[125] foreach_1.5.2             bluster_1.8.0            \n",
       "[127] janitor_2.2.0             metapod_1.6.0            \n",
       "[129] gridExtra_2.3             farver_2.1.2             \n",
       "[131] Rtsne_0.17                digest_0.6.37            \n",
       "[133] shiny_1.9.1               car_3.1-2                \n",
       "[135] broom_1.0.5               scuttle_1.8.0            \n",
       "[137] later_1.3.2               RcppAnnoy_0.0.22         \n",
       "[139] httr_1.4.7                AnnotationDbi_1.60.2     \n",
       "[141] colorspace_2.1-1          XML_3.99-0.14            \n",
       "[143] tensor_1.5                reticulate_1.35.0        \n",
       "[145] splines_4.2.2             uwot_0.1.16              \n",
       "[147] statmod_1.5.0             rematch2_2.1.2           \n",
       "[149] spatstat.utils_3.1-0      scater_1.26.0            \n",
       "[151] sp_2.2-0                  xgboost_2.0.3.1          \n",
       "[153] mapproj_1.2.11            systemfonts_1.0.5        \n",
       "[155] plotly_4.10.4             xtable_1.8-4             \n",
       "[157] jsonlite_2.0.0            R6_2.6.1                 \n",
       "[159] Hmisc_5.1-2               pillar_1.10.2            \n",
       "[161] htmltools_0.5.8.1         mime_0.12                \n",
       "[163] glue_1.8.0                fastmap_1.2.0            \n",
       "[165] BiocNeighbors_1.16.0      codetools_0.2-19         \n",
       "[167] maps_3.4.2                lattice_0.22-6           \n",
       "[169] spatstat.sparse_3.1-0     ggbeeswarm_0.7.2         \n",
       "[171] leiden_0.4.3.1            GO.db_3.18.0             \n",
       "[173] survival_3.5-8            limma_3.54.2             \n",
       "[175] rmarkdown_2.29            repr_1.1.6               \n",
       "[177] GenomeInfoDbData_1.2.9    iterators_1.0.14         \n",
       "[179] impute_1.72.3             reshape2_1.4.4           \n",
       "[181] gtable_0.3.6             "
      ]
     },
     "metadata": {},
     "output_type": "display_data"
    }
   ],
   "source": [
    "sessionInfo()"
   ]
  },
  {
   "cell_type": "markdown",
   "id": "203a0465-9afb-4b53-9349-0bdda24282f0",
   "metadata": {},
   "source": [
    "# Cardiomyocyte subcluster analysis"
   ]
  },
  {
   "cell_type": "code",
   "execution_count": null,
   "id": "0c8d53e2-c40a-4a7e-a54b-14b61a5d1760",
   "metadata": {},
   "outputs": [],
   "source": [
    "celltype <- \"CM\""
   ]
  },
  {
   "cell_type": "code",
   "execution_count": null,
   "id": "4588601f-b347-4610-9cbf-34f4185a2b5d",
   "metadata": {},
   "outputs": [],
   "source": [
    "# Subset to FB cluster\n",
    "\n",
    "obj_sub <- subset(x = obj_harmony, subset = cell_type_comb %in% c(celltype))\n",
    "obj_sub <- subset(x = obj_sub, subset = batch %in% c(1:3, 7)) # Remove AngII and MI, due to CM depletion in experiments \n",
    "obj_sub <- NormalizeData(obj_sub, verbose = FALSE)\n",
    "obj_sub <- FindVariableFeatures(obj_sub, verbose = FALSE)\n",
    "obj_sub <- ScaleData(obj_sub, verbose = FALSE)\n",
    "obj_sub_pca <- RunPCA(obj_sub, assay = \"RNA\", npcs = 35, verbose = FALSE)# integrate \"batch\" and \"batch_2\"\n",
    "obj_sub_pca$batch <- as.factor(obj_sub_pca$batch)"
   ]
  },
  {
   "cell_type": "code",
   "execution_count": null,
   "id": "1840ba0f-f71a-43de-bcc3-6143825d8c90",
   "metadata": {},
   "outputs": [],
   "source": [
    "\n",
    "obj.subcluster <- obj_sub_pca %>% \n",
    "  RunHarmony(group.by.vars = c(\"batch\", \"sex\"), max_iter = 20, early_stop = FALSE, plot_convergence = FALSE, assay.use = \"RNA\", verbose = FALSE)"
   ]
  },
  {
   "cell_type": "code",
   "execution_count": null,
   "id": "41d10139-ea0f-4dec-b3c4-6c3c6fa8c1f1",
   "metadata": {},
   "outputs": [],
   "source": [
    "options(repr.plot.width = 6, repr.plot.height = 2.5, repr.plot.res = 300) \n",
    "\n",
    "dim1 <- DimPlot(obj_sub, reduction = \"pca\", group.by = \"batch\", dims = c(1, 2), cols = palette.treatment) + ggtitle(\"PC batch before harmony\") # Before\n",
    "dim2 <- DimPlot(obj.subcluster, reduction = \"harmony\", group.by = \"batch\", dims = c(1, 2), cols = palette.treatment) + ggtitle(\"PC batch after harmony\") # After\n",
    "\n",
    "dim1\n",
    "dim2\n",
    "\n",
    "ggsave(paste0(\"comparative/subcluster/\", celltype, \"/Plots/PC_batch_before_harmony.svg\"), plot = dim1, units = \"cm\", dpi = 300, width = 15, height = 10)\n",
    "ggsave(paste0(\"comparative/subcluster/\", celltype, \"/Plots/PC_batch_after_harmony.svg\"), plot = dim2, units = \"cm\", dpi = 300, width = 15, height = 10)"
   ]
  },
  {
   "cell_type": "code",
   "execution_count": null,
   "id": "42667d99-5de0-48f8-a185-74878f124bcb",
   "metadata": {},
   "outputs": [],
   "source": [
    "# Run UMAP\n",
    "obj.subcluster <- obj.subcluster %>%\n",
    "  RunUMAP(dims = 1:35,  spread = 2, min.dist = 0.3, reduction = \"harmony\", verbose = FALSE) %>%\n",
    "  FindNeighbors(dims = 1:35, reduction = \"harmony\", verbose = FALSE) %>%\n",
    "  FindClusters(resolution = 0.1)"
   ]
  },
  {
   "cell_type": "code",
   "execution_count": null,
   "id": "b53a467a-3819-4b2d-988f-03561eab4212",
   "metadata": {},
   "outputs": [],
   "source": [
    "options(repr.plot.width = 10, repr.plot.height = 4, repr.plot.res = 300) \n",
    "\n",
    "seurat_clusters <- DimPlot(obj.subcluster, pt.size = 1, , group.by = \"seurat_clusters\", label = TRUE, shuffle = F, label.size = 10)\n",
    "treatment_leg <- DimPlot(obj.subcluster, pt.size = 1, group.by = \"treatment\", shuffle = TRUE, cols = palette.treatment) + umap_theme \n",
    "treatment <- DimPlot(obj.subcluster, pt.size = 1, group.by = \"treatment\", shuffle = TRUE, cols = palette.treatment) + umap_theme & NoLegend()\n",
    "sex <- DimPlot(obj.subcluster, pt.size = 1,  group.by = \"sex\", shuffle = TRUE, label.size = 10, cols = palette.sex) + umap_theme\n",
    "batch <- DimPlot(obj.subcluster, pt.size = 1,  group.by = \"batch\", shuffle = TRUE, label.size = 10, cols = palette.treatment) + umap_theme\n",
    "\n",
    "seurat_clusters|treatment_leg|sex|batch"
   ]
  },
  {
   "cell_type": "code",
   "execution_count": null,
   "id": "162f6021-93c5-42ed-aeb5-ea496194ca11",
   "metadata": {},
   "outputs": [],
   "source": [
    "obj.subcluster_orig <- obj.subcluster # Backup"
   ]
  },
  {
   "cell_type": "code",
   "execution_count": null,
   "id": "2b71a693-cd26-4f1d-a44c-821d970ec669",
   "metadata": {},
   "outputs": [],
   "source": [
    "# Rename Idents and add cell_type_sub\n",
    "cluster_annotations <- c(\"CM_I\", \"CM_II\", \"CM_III\", \"CM_IV\", \"CM_V\", \"CM_VI\", \"CM_VII\")\n",
    "names(cluster_annotations) <- levels(obj.subcluster)\n",
    "obj.subcluster <- RenameIdents(obj.subcluster, cluster_annotations)\n",
    "obj.subcluster$cell_type_sub <- Idents(obj.subcluster)"
   ]
  },
  {
   "cell_type": "code",
   "execution_count": null,
   "id": "b6eb91b7-54dd-4037-975a-64e90375408e",
   "metadata": {},
   "outputs": [],
   "source": [
    "cell_type_sub <- DimPlot(obj.subcluster, group.by = \"cell_type_sub\", split.by = \"treatment\", pt.size = 1, label = TRUE, shuffle = F, label.size = 10, cols = palette.CM) + umap_theme & NoLegend()\n",
    "cell_type_sub"
   ]
  },
  {
   "cell_type": "code",
   "execution_count": null,
   "id": "c7f5389e-c7bf-4611-a7d4-231b72d13430",
   "metadata": {},
   "outputs": [],
   "source": [
    "# Plot and save plots\n",
    "cell_type_sub <- DimPlot(obj.subcluster, group.by = \"cell_type_sub\", pt.size = 1, label = TRUE, shuffle = F, label.size = 10, cols = palette_sc) + umap_theme & NoLegend()\n",
    "treatment_split <- DimPlot(obj.subcluster, pt.size = 1, group.by = \"treatment\", split.by = \"treatment\", cols = palette.treatment) + umap_theme & NoLegend()\n",
    "\n",
    "ggsave(paste0(\"comparative/subcluster/\", celltype, \"/Plots/\", celltype, \"_cell_type_sub.svg\"), plot = cell_type_sub, units = \"cm\", dpi = 300, width = 18, height = 15)\n",
    "ggsave(paste0(\"comparative/subcluster/\", celltype, \"/Plots/\", celltype, \"_seurat_clusters.svg\"), plot = seurat_clusters, units = \"cm\", dpi = 300, width = 18, height = 15)\n",
    "ggsave(paste0(\"comparative/subcluster/\", celltype, \"/Plots/\", celltype, \"_treatment.svg\"), plot = treatment, units = \"cm\", dpi = 300, width = 18, height = 15)\n",
    "ggsave(paste0(\"comparative/subcluster/\", celltype, \"/Plots/\", celltype, \"_treatment_leg.svg\"), plot = treatment_leg, units = \"cm\", dpi = 300, width = 18, height = 15)\n",
    "ggsave(paste0(\"comparative/subcluster/\", celltype, \"/Plots/\", celltype, \"_treatment_split.svg\"), plot = treatment_split, units = \"cm\", dpi = 300, width = 18*4, height = 15)\n",
    "ggsave(paste0(\"comparative/subcluster/\", celltype, \"/Plots/\", celltype, \"_sex.svg\"), plot = sex, units = \"cm\", dpi = 300, width = 18, height = 15)\n",
    "ggsave(paste0(\"comparative/subcluster/\", celltype, \"/Plots/\", celltype, \"_batch.svg\"), plot = batch, units = \"cm\", dpi = 300, width = 18, height = 15)"
   ]
  },
  {
   "cell_type": "code",
   "execution_count": null,
   "id": "44993018-25f8-4882-af93-b0aa039c48e2",
   "metadata": {},
   "outputs": [],
   "source": [
    "# Calculate Percentage of Nuclei per Cluster\n",
    "# Subset by treatment_sep to ensure comparability \n",
    "Idents(obj.subcluster) <- obj.subcluster@meta.data$\"treatment_sep\"\n",
    "obj.subcluster_sub <- subset(x = obj.subcluster, downsample = min(table(obj.subcluster$treatment_sep)[table(obj.subcluster$treatment_sep) > 0])) # downsample to min count across treatment_sep\n",
    "Idents(obj.subcluster) <- obj.subcluster@meta.data$\"cell_type_sub\"\n",
    "\n",
    "# Create a contingency table of clusters by treatment\n",
    "cluster_treatment_counts <- table(obj.subcluster_sub$cell_type_sub, obj.subcluster_sub$treatment_sep)\n",
    "\n",
    "# Convert to percentages by dividing each value by the column sum\n",
    "cluster_treatment_percent <- sweep(cluster_treatment_counts, 2, colSums(cluster_treatment_counts), FUN = \"/\") * 100\n",
    "\n",
    "# Print the result\n",
    "print(cluster_treatment_percent)\n",
    "\n",
    "write.csv(cluster_treatment_percent, file = paste0(\"comparative/subcluster/\", celltype, \"/percentage_percluster_\", celltype, \".csv\"))"
   ]
  },
  {
   "cell_type": "code",
   "execution_count": null,
   "id": "9cd8b50b-9bb2-45b1-b6bd-1e5e72627077",
   "metadata": {},
   "outputs": [],
   "source": [
    "# Find all markers\n",
    "all.markers <- FindAllMarkers(obj.subcluster, only.pos = FALSE)\n",
    "write.csv(all.markers, paste0(\"comparative/subcluster/\", celltype, \"/DEGs/all.markers_wilcox_\", celltype ,\".csv\"))"
   ]
  },
  {
   "cell_type": "code",
   "execution_count": null,
   "id": "2f32ef7b-967f-4c2e-a72c-cb7e9cd3e669",
   "metadata": {},
   "outputs": [],
   "source": [
    "saveRDS(obj.subcluster, paste0(\"comparative/subcluster/\", celltype, \"/Subcluster_\", celltype, \".rds\"))"
   ]
  },
  {
   "cell_type": "markdown",
   "id": "eb211a7b-9468-484f-af81-694ed5484d0b",
   "metadata": {},
   "source": [
    "# Endothelial cells subcluster analysis"
   ]
  },
  {
   "cell_type": "code",
   "execution_count": null,
   "id": "c30e89ac-0831-4d93-96fd-ddf4896f914e",
   "metadata": {},
   "outputs": [],
   "source": [
    "celltype <- \"EC\""
   ]
  },
  {
   "cell_type": "code",
   "execution_count": null,
   "id": "8b64268e-42ff-4370-8295-1185b19bde58",
   "metadata": {},
   "outputs": [],
   "source": [
    "# Subset to FB cluster\n",
    "\n",
    "obj_sub <- subset(x = obj_harmony, subset = cell_type_comb %in% c(\"EC-cap\", \"EC-end\", \"EC-lym\"))\n",
    "obj_sub <- subset(x = obj_sub, subset = batch %in% c(1:3, 7)) # Remove AngII and MI, due to CM depletion in experiments \n",
    "obj_sub <- NormalizeData(obj_sub, verbose = FALSE)\n",
    "obj_sub <- FindVariableFeatures(obj_sub, verbose = FALSE)\n",
    "obj_sub <- ScaleData(obj_sub, verbose = FALSE)\n",
    "obj_sub_pca <- RunPCA(obj_sub, assay = \"RNA\", npcs = 35, verbose = FALSE)# integrate \"batch\" and \"batch_2\"\n",
    "obj_sub_pca$batch <- as.factor(obj_sub_pca$batch)"
   ]
  },
  {
   "cell_type": "code",
   "execution_count": null,
   "id": "f309ba04-482b-4cba-b3b1-638918eb06b2",
   "metadata": {},
   "outputs": [],
   "source": [
    "\n",
    "obj.subcluster <- obj_sub_pca %>% \n",
    "  RunHarmony(group.by.vars = c(\"batch\", \"sex\"), max_iter = 20, early_stop = FALSE, plot_convergence = FALSE, assay.use = \"RNA\", verbose = FALSE)"
   ]
  },
  {
   "cell_type": "code",
   "execution_count": null,
   "id": "990b19ec-397a-46c8-9465-a9b4175cd633",
   "metadata": {},
   "outputs": [],
   "source": [
    "options(repr.plot.width = 6, repr.plot.height = 2.5, repr.plot.res = 300) \n",
    "\n",
    "dim1 <- DimPlot(obj_sub, reduction = \"pca\", group.by = \"batch\", dims = c(1, 2), cols = palette.treatment) + ggtitle(\"PC batch before harmony\") # Before\n",
    "dim2 <- DimPlot(obj.subcluster, reduction = \"harmony\", group.by = \"batch\", dims = c(1, 2), cols = palette.treatment) + ggtitle(\"PC batch after harmony\") # After\n",
    "\n",
    "dim1\n",
    "dim2\n",
    "\n",
    "ggsave(paste0(\"comparative/subcluster/\", celltype, \"/Plots/PC_batch_before_harmony.svg\"), plot = dim1, units = \"cm\", dpi = 300, width = 15, height = 10)\n",
    "ggsave(paste0(\"comparative/subcluster/\", celltype, \"/Plots/PC_batch_after_harmony.svg\"), plot = dim2, units = \"cm\", dpi = 300, width = 15, height = 10)"
   ]
  },
  {
   "cell_type": "code",
   "execution_count": null,
   "id": "c5f16de1-8f1d-440b-8807-c30ac789966c",
   "metadata": {},
   "outputs": [],
   "source": [
    "# Run UMAP\n",
    "obj.subcluster <- obj.subcluster %>%\n",
    "  RunUMAP(dims = 1:35,  spread = 2, min.dist = 0.3, reduction = \"harmony\", verbose = FALSE) %>%\n",
    "  FindNeighbors(dims = 1:35, reduction = \"harmony\", verbose = FALSE) %>%\n",
    "  FindClusters(resolution = 0.08)"
   ]
  },
  {
   "cell_type": "code",
   "execution_count": null,
   "id": "a5771a75-9294-417f-a37d-8ebab5345f48",
   "metadata": {},
   "outputs": [],
   "source": [
    "options(repr.plot.width = 10, repr.plot.height = 4, repr.plot.res = 300) \n",
    "\n",
    "seurat_clusters <- DimPlot(obj.subcluster, pt.size = 1, , group.by = \"seurat_clusters\", label = TRUE, shuffle = F, label.size = 10)\n",
    "treatment_leg <- DimPlot(obj.subcluster, pt.size = 1, group.by = \"treatment\", shuffle = TRUE, cols = palette.treatment) + umap_theme \n",
    "treatment <- DimPlot(obj.subcluster, pt.size = 1, group.by = \"treatment\", shuffle = TRUE, cols = palette.treatment) + umap_theme & NoLegend()\n",
    "sex <- DimPlot(obj.subcluster, pt.size = 1,  group.by = \"sex\", shuffle = TRUE, label.size = 10, cols = palette.sex) + umap_theme\n",
    "batch <- DimPlot(obj.subcluster, pt.size = 1,  group.by = \"batch\", shuffle = TRUE, label.size = 10, cols = palette.treatment) + umap_theme\n",
    "\n",
    "seurat_clusters|treatment_leg|sex|batch"
   ]
  },
  {
   "cell_type": "code",
   "execution_count": null,
   "id": "c0252716-6921-4bcb-ab15-9631847754e1",
   "metadata": {},
   "outputs": [],
   "source": [
    "# Rename Idents and add cell_type_sub\n",
    "cluster_annotations <- c(\"EC_I\", \"EC_II\", \"EC_III\", \"EC_IV\", \"EC_V\", \"EC_VI\", \"EC_VII\")\n",
    "names(cluster_annotations) <- levels(obj.subcluster)\n",
    "obj.subcluster <- RenameIdents(obj.subcluster, cluster_annotations)\n",
    "obj.subcluster$cell_type_sub <- Idents(obj.subcluster)"
   ]
  },
  {
   "cell_type": "code",
   "execution_count": null,
   "id": "1cf8d75a-ac11-4860-b3ff-6360af4cafb3",
   "metadata": {},
   "outputs": [],
   "source": [
    "cell_type_sub <- DimPlot(obj.subcluster, group.by = \"cell_type_sub\", split.by = \"treatment\", pt.size = 1, label = TRUE, shuffle = F, label.size = 10, cols = palette.EC) + umap_theme & NoLegend()\n",
    "cell_type_sub"
   ]
  },
  {
   "cell_type": "code",
   "execution_count": null,
   "id": "ff352bce-26f5-47bd-b1d8-4a8a4254e549",
   "metadata": {},
   "outputs": [],
   "source": [
    "# Plot and save plots\n",
    "cell_type_sub <- DimPlot(obj.subcluster, group.by = \"cell_type_sub\", pt.size = 1, label = TRUE, shuffle = F, label.size = 10, cols = palette.EC) + umap_theme & NoLegend()\n",
    "treatment_split <- DimPlot(obj.subcluster, pt.size = 1, group.by = \"treatment\", split.by = \"treatment\", cols = palette.treatment) + umap_theme & NoLegend()\n",
    "\n",
    "ggsave(paste0(\"comparative/subcluster/\", celltype, \"/Plots/\", celltype, \"_cell_type_sub.svg\"), plot = cell_type_sub, units = \"cm\", dpi = 300, width = 18, height = 15)\n",
    "ggsave(paste0(\"comparative/subcluster/\", celltype, \"/Plots/\", celltype, \"_seurat_clusters.svg\"), plot = seurat_clusters, units = \"cm\", dpi = 300, width = 18, height = 15)\n",
    "ggsave(paste0(\"comparative/subcluster/\", celltype, \"/Plots/\", celltype, \"_treatment.svg\"), plot = treatment, units = \"cm\", dpi = 300, width = 18, height = 15)\n",
    "ggsave(paste0(\"comparative/subcluster/\", celltype, \"/Plots/\", celltype, \"_treatment_leg.svg\"), plot = treatment_leg, units = \"cm\", dpi = 300, width = 18, height = 15)\n",
    "ggsave(paste0(\"comparative/subcluster/\", celltype, \"/Plots/\", celltype, \"_treatment_split.svg\"), plot = treatment_split, units = \"cm\", dpi = 300, width = 18*4, height = 15)\n",
    "ggsave(paste0(\"comparative/subcluster/\", celltype, \"/Plots/\", celltype, \"_sex.svg\"), plot = sex, units = \"cm\", dpi = 300, width = 18, height = 15)\n",
    "ggsave(paste0(\"comparative/subcluster/\", celltype, \"/Plots/\", celltype, \"_batch.svg\"), plot = batch, units = \"cm\", dpi = 300, width = 18, height = 15)"
   ]
  },
  {
   "cell_type": "code",
   "execution_count": null,
   "id": "660f2965-27b5-4fd0-9dbd-cff4e93b83c7",
   "metadata": {},
   "outputs": [],
   "source": [
    "# Calculate Percentage of Nuclei per Cluster\n",
    "# Subset by treatment_sep to ensure comparability \n",
    "Idents(obj.subcluster) <- obj.subcluster@meta.data$\"treatment_sep\"\n",
    "obj.subcluster_sub <- subset(x = obj.subcluster, downsample = min(table(obj.subcluster$treatment_sep)[table(obj.subcluster$treatment_sep) > 0])) # downsample to min count across treatment_sep\n",
    "Idents(obj.subcluster) <- obj.subcluster@meta.data$\"cell_type_sub\"\n",
    "\n",
    "# Create a contingency table of clusters by treatment\n",
    "cluster_treatment_counts <- table(obj.subcluster_sub$cell_type_sub, obj.subcluster_sub$treatment_sep)\n",
    "\n",
    "# Convert to percentages by dividing each value by the column sum\n",
    "cluster_treatment_percent <- sweep(cluster_treatment_counts, 2, colSums(cluster_treatment_counts), FUN = \"/\") * 100\n",
    "\n",
    "# Print the result\n",
    "print(cluster_treatment_percent)\n",
    "\n",
    "write.csv(cluster_treatment_percent, file = paste0(\"comparative/subcluster/\", celltype, \"/percentage_percluster_\", celltype, \".csv\"))"
   ]
  },
  {
   "cell_type": "code",
   "execution_count": null,
   "id": "d1f216d0-eb8d-4f82-957c-df0c77e65e0d",
   "metadata": {},
   "outputs": [],
   "source": [
    "# Find all markers\n",
    "all.markers <- FindAllMarkers(obj.subcluster, only.pos = FALSE)\n",
    "write.csv(all.markers, paste0(\"comparative/subcluster/\", celltype, \"/DEGs/all.markers_wilcox_\", celltype ,\".csv\"))"
   ]
  },
  {
   "cell_type": "code",
   "execution_count": null,
   "id": "c051ea08-972e-49f8-9757-8bd2e85d2376",
   "metadata": {},
   "outputs": [],
   "source": [
    "saveRDS(obj.subcluster, paste0(\"comparative/subcluster/\", celltype, \"/Subcluster_\", celltype, \".rds\"))"
   ]
  },
  {
   "cell_type": "markdown",
   "id": "f49a67e2-4c5f-4bfb-8d58-a26471a809ce",
   "metadata": {},
   "source": [
    "# Transfer Subcluster Annotations to Original obj"
   ]
  },
  {
   "cell_type": "code",
   "execution_count": null,
   "id": "c63bd216-9c1b-4879-8e15-59c3223c1574",
   "metadata": {},
   "outputs": [],
   "source": [
    "obj_full<- readRDS(\"comparative/seurat_objects/final_obj_all_studies.rds\")\n",
    "celltype <- \"CM\"\n",
    "CM <- readRDS(paste0(\"comparative/subcluster/\", celltype, \"/Subcluster_\", celltype,\".rds\"))\n",
    "celltype <- \"FB\"\n",
    "FB <- readRDS(paste0(\"comparative/subcluster/\", celltype, \"/Subcluster_\", celltype,\".rds\"))\n",
    "celltype <- \"EC\"\n",
    "EC <- readRDS(paste0(\"comparative/subcluster/\", celltype, \"/Subcluster_\", celltype,\".rds\"))"
   ]
  },
  {
   "cell_type": "code",
   "execution_count": null,
   "id": "62aef63e-345e-47b2-8216-e2eab314e9f9",
   "metadata": {
    "scrolled": true
   },
   "outputs": [],
   "source": [
    "# Sanity check\n",
    "options(repr.plot.width = 20, repr.plot.height = 10, repr.plot.res = 100)\n",
    "\n",
    "DimPlot(obj_full, group.by = \"cell_type_comb\")|\n",
    "DimPlot(CM, group.by = \"cell_type_sub\")\n",
    "DimPlot(FB, group.by = \"cell_type_sub\")|\n",
    "DimPlot(EC, group.by = \"cell_type_sub\")"
   ]
  },
  {
   "cell_type": "code",
   "execution_count": null,
   "id": "2bf44920-cd51-4af1-968d-2be677a7c4f1",
   "metadata": {},
   "outputs": [],
   "source": [
    "seurat_objects <- list(CM, FB, EC) # This can be done with several obj containing subsets of full obj\n",
    "\n",
    "set_cell_type_sub <- function(seurat_objects) {\n",
    "  for (obj in seurat_objects) {\n",
    "    obj@meta.data$cell_type_sub <- Idents(obj)\n",
    "  }\n",
    "}\n",
    "\n",
    "set_cell_type_sub(seurat_objects)\n",
    "\n",
    "# Check cluster annotations in obj_full\n",
    "unique(obj_full@meta.data$cell_type_comb)"
   ]
  },
  {
   "cell_type": "code",
   "execution_count": null,
   "id": "59890f57-45dc-4016-bab6-507dfc4c52bb",
   "metadata": {},
   "outputs": [],
   "source": [
    "# Subset all cells except \"celltype\" in cell_type_CMcomb\n",
    "object_wo_celltype <- subset(x = obj_full, subset = cell_type_comb %in% c(\"CM\", \"FB\", \"EC-cap\", \"EC-end\", \"EC-lym\"), invert = TRUE)\n",
    "\n",
    "# Check successful removal of celltype in object_wo_celltype\n",
    "unique(object_wo_celltype@meta.data$cell_type)"
   ]
  },
  {
   "cell_type": "code",
   "execution_count": null,
   "id": "1c63432e-2f52-4252-9aea-9c3bc3e3fe39",
   "metadata": {},
   "outputs": [],
   "source": [
    "# Create empty cell_type_sub_num column in obj_full\n",
    "obj_full$cell_type_sub <- NA\n",
    "\n",
    "# Extract meta.data\n",
    "original_metadata <- obj_full@meta.data\n",
    "wo_subcluster_metadata <- object_wo_celltype@meta.data\n",
    "CM_metadata <- CM@meta.data\n",
    "FB_metadata <- FB@meta.data\n",
    "EC_metadata <- EC@meta.data\n",
    "\n",
    "# Reset rownames to a column in all data frames\n",
    "original_metadata$barcode <- rownames(original_metadata)\n",
    "wo_subcluster_metadata$barcode <- rownames(wo_subcluster_metadata)\n",
    "CM_metadata$barcode <- rownames(CM_metadata)\n",
    "FB_metadata$barcode <- rownames(FB_metadata)\n",
    "EC_metadata$barcode <- rownames(EC_metadata)\n",
    "\n",
    "# Subset to barcode and cell_type_sub columns\n",
    "original_metadata <- original_metadata[c(\"barcode\", \"cell_type_sub\")]\n",
    "wo_subcluster_metadata <- wo_subcluster_metadata[c(\"barcode\", \"cell_type_comb\")]\n",
    "CM_metadata <- CM_metadata[c(\"barcode\", \"cell_type_sub\")]\n",
    "FB_metadata <- FB_metadata[c(\"barcode\", \"cell_type_sub\")]\n",
    "EC_metadata <- EC_metadata[c(\"barcode\", \"cell_type_sub\")]\n",
    "\n",
    "# Merge df by barcode\n",
    "merged_df <- merge(original_metadata, wo_subcluster_metadata, by = \"barcode\", all.x = TRUE)\n",
    "merged_df <- merge(merged_df, CM_metadata, by = \"barcode\", all.x = TRUE)\n",
    "merged_df <- merge(merged_df, FB_metadata, by = \"barcode\", all.x = TRUE)\n",
    "merged_df <- merge(merged_df, EC_metadata, by = \"barcode\", all.x = TRUE)\n",
    "# re-name col names\n",
    "\n",
    "names(merged_df) <- c(\"barcode\", \"original\", \"wo_subcluster\", \"CM\", \"FB\", \"EC\")\n",
    "\n",
    "# create new merged column containing either original annotations or sub cluster annotations for each barcode\n",
    "merged_df$merged_column <- coalesce(merged_df$wo_subcluster, merged_df$CM, merged_df$FB, merged_df$EC)\n",
    "\n",
    "# subset to key cols\n",
    "cell_type_sub_df <- merged_df[c(\"barcode\", \"merged_column\")]\n",
    "\n",
    "# re-order cell_type_sub_df to match order in obj_full \n",
    "cell_type_sub_df <- cell_type_sub_df[match(original_metadata$barcode, cell_type_sub_df$barcode), ]\n",
    "\n",
    "# subset to key col, unlist and add new annotations to obj_full@meta.data\n",
    "cell_type_sub_df <- cell_type_sub_df[c(\"merged_column\")]\n",
    "cell_type_sub_df <- unlist(cell_type_sub_df, use.names = FALSE)\n",
    "obj_full$cell_type_sub <- cell_type_sub_df"
   ]
  },
  {
   "cell_type": "code",
   "execution_count": null,
   "id": "0b01264f-f2df-4c01-a3ef-c67223041453",
   "metadata": {},
   "outputs": [],
   "source": [
    "summary(is.na(merged_df$merged_column)) # this are CM and EC nuclei/cells from AngII and MI models since they were excluded from subclustering due to experimental differences"
   ]
  },
  {
   "cell_type": "code",
   "execution_count": null,
   "id": "b297c29f-f40f-41c6-a274-aa22ff2ee6bd",
   "metadata": {},
   "outputs": [],
   "source": [
    "DimPlot(obj_full, group.by = \"cell_type_sub\")"
   ]
  },
  {
   "cell_type": "code",
   "execution_count": null,
   "id": "1bd27d8c-7b1e-4db3-a11b-f002abd17e2c",
   "metadata": {},
   "outputs": [],
   "source": [
    "saveRDS(obj_full, \"comparative/seurat_objects/final_obj_all_studies_wSubAnn.rds\")"
   ]
  },
  {
   "cell_type": "code",
   "execution_count": 4,
   "id": "dcebe3b9-736f-40d3-b723-a76a7bc69852",
   "metadata": {},
   "outputs": [
    {
     "data": {
      "text/plain": [
       "R version 4.3.3 (2024-02-29)\n",
       "Platform: x86_64-conda-linux-gnu (64-bit)\n",
       "Running under: Ubuntu 22.04.2 LTS\n",
       "\n",
       "Matrix products: default\n",
       "BLAS/LAPACK: /media/daten/dmeral/micromamba/envs/scrna_dm/lib/libopenblasp-r0.3.27.so;  LAPACK version 3.12.0\n",
       "\n",
       "locale:\n",
       " [1] LC_CTYPE=en_US.UTF-8       LC_NUMERIC=C              \n",
       " [3] LC_TIME=en_US.UTF-8        LC_COLLATE=en_US.UTF-8    \n",
       " [5] LC_MONETARY=en_US.UTF-8    LC_MESSAGES=en_US.UTF-8   \n",
       " [7] LC_PAPER=en_US.UTF-8       LC_NAME=C                 \n",
       " [9] LC_ADDRESS=C               LC_TELEPHONE=C            \n",
       "[11] LC_MEASUREMENT=en_US.UTF-8 LC_IDENTIFICATION=C       \n",
       "\n",
       "time zone: Etc/UTC\n",
       "tzcode source: system (glibc)\n",
       "\n",
       "attached base packages:\n",
       "[1] stats4    stats     graphics  grDevices utils     datasets  methods  \n",
       "[8] base     \n",
       "\n",
       "other attached packages:\n",
       " [1] patchwork_1.3.0             networkD3_0.4              \n",
       " [3] ensembldb_2.26.0            AnnotationFilter_1.26.0    \n",
       " [5] GenomicFeatures_1.54.4      AnnotationDbi_1.64.1       \n",
       " [7] AnnotationHub_3.10.1        BiocFileCache_2.10.2       \n",
       " [9] dbplyr_2.5.0                RCurl_1.98-1.16            \n",
       "[11] svglite_2.1.3               Rsamtools_2.18.0           \n",
       "[13] Biostrings_2.70.3           XVector_0.42.0             \n",
       "[15] EnhancedVolcano_1.20.0      ggrepel_0.9.6              \n",
       "[17] DESeq2_1.42.1               scCustomize_3.0.0          \n",
       "[19] viridis_0.6.5               viridisLite_0.4.2          \n",
       "[21] pals_1.9                    ggpubr_0.6.0               \n",
       "[23] SeuratDisk_0.0.0.9021       harmony_1.2.3              \n",
       "[25] Rcpp_1.0.13-1               scDblFinder_1.16.0         \n",
       "[27] SingleCellExperiment_1.24.0 SummarizedExperiment_1.32.0\n",
       "[29] Biobase_2.62.0              GenomicRanges_1.54.1       \n",
       "[31] GenomeInfoDb_1.38.8         IRanges_2.36.0             \n",
       "[33] S4Vectors_0.40.2            BiocGenerics_0.48.1        \n",
       "[35] MatrixGenerics_1.14.0       matrixStats_1.4.1          \n",
       "[37] lubridate_1.9.4             forcats_1.0.0              \n",
       "[39] stringr_1.5.1               dplyr_1.1.4                \n",
       "[41] purrr_1.0.2                 readr_2.1.5                \n",
       "[43] tidyr_1.3.1                 tibble_3.2.1               \n",
       "[45] tidyverse_2.0.0             ggplot2_3.5.1              \n",
       "[47] SoupX_1.6.2                 Seurat_5.1.0               \n",
       "[49] SeuratObject_5.0.2          sp_2.1-4                   \n",
       "\n",
       "loaded via a namespace (and not attached):\n",
       "  [1] dichromat_2.0-0.1             progress_1.2.3               \n",
       "  [3] goftest_1.2-3                 vctrs_0.6.5                  \n",
       "  [5] spatstat.random_3.3-2         digest_0.6.37                \n",
       "  [7] png_0.1-8                     shape_1.4.6.1                \n",
       "  [9] IRdisplay_1.1                 deldir_2.0-4                 \n",
       " [11] parallelly_1.40.1             MASS_7.3-60.0.1              \n",
       " [13] reshape2_1.4.4                httpuv_1.6.15                \n",
       " [15] withr_3.0.2                   ggrastr_1.0.2                \n",
       " [17] survival_3.7-0                memoise_2.0.1                \n",
       " [19] ggbeeswarm_0.7.2              janitor_2.2.0                \n",
       " [21] systemfonts_1.1.0             zoo_1.8-12                   \n",
       " [23] GlobalOptions_0.1.2           pbapply_1.7-2                \n",
       " [25] IRkernel_1.3.2                Formula_1.2-5                \n",
       " [27] prettyunits_1.2.0             rematch2_2.1.2               \n",
       " [29] KEGGREST_1.42.0               promises_1.3.2               \n",
       " [31] httr_1.4.7                    rstatix_0.7.2                \n",
       " [33] restfulr_0.0.15               globals_0.16.3               \n",
       " [35] fitdistrplus_1.2-1            miniUI_0.1.1.1               \n",
       " [37] generics_0.1.3                base64enc_0.1-3              \n",
       " [39] curl_6.0.1                    repr_1.1.7                   \n",
       " [41] zlibbioc_1.48.2               ScaledMatrix_1.10.0          \n",
       " [43] polyclip_1.10-7               GenomeInfoDbData_1.2.11      \n",
       " [45] SparseArray_1.2.4             interactiveDisplayBase_1.40.0\n",
       " [47] xtable_1.8-4                  evaluate_1.0.1               \n",
       " [49] S4Arrays_1.2.1                hms_1.1.3                    \n",
       " [51] irlba_2.3.5.1                 colorspace_2.1-1             \n",
       " [53] filelock_1.0.3                hdf5r_1.3.11                 \n",
       " [55] ROCR_1.0-11                   reticulate_1.40.0            \n",
       " [57] spatstat.data_3.1-4           magrittr_2.0.3               \n",
       " [59] lmtest_0.9-40                 snakecase_0.11.1             \n",
       " [61] later_1.4.1                   lattice_0.22-6               \n",
       " [63] mapproj_1.2.11                spatstat.geom_3.3-4          \n",
       " [65] future.apply_1.11.3           scattermore_1.2              \n",
       " [67] XML_3.99-0.17                 scuttle_1.12.0               \n",
       " [69] cowplot_1.1.3                 RcppAnnoy_0.0.22             \n",
       " [71] pillar_1.9.0                  nlme_3.1-166                 \n",
       " [73] compiler_4.3.3                beachmat_2.18.1              \n",
       " [75] RSpectra_0.16-2               stringi_1.8.4                \n",
       " [77] tensor_1.5                    GenomicAlignments_1.38.2     \n",
       " [79] plyr_1.8.9                    crayon_1.5.3                 \n",
       " [81] abind_1.4-8                   BiocIO_1.12.0                \n",
       " [83] scater_1.30.1                 locfit_1.5-9.10              \n",
       " [85] bit_4.5.0.1                   codetools_0.2-20             \n",
       " [87] BiocSingular_1.18.0           paletteer_1.6.0              \n",
       " [89] plotly_4.10.4                 mime_0.12                    \n",
       " [91] splines_4.3.3                 circlize_0.4.16              \n",
       " [93] fastDummies_1.7.4             sparseMatrixStats_1.14.0     \n",
       " [95] blob_1.2.4                    utf8_1.2.4                   \n",
       " [97] BiocVersion_3.18.1            pbdZMQ_0.3-13                \n",
       " [99] listenv_0.9.1                 DelayedMatrixStats_1.24.0    \n",
       "[101] ggsignif_0.6.4                Matrix_1.6-5                 \n",
       "[103] statmod_1.5.0                 tzdb_0.4.0                   \n",
       "[105] pkgconfig_2.0.3               tools_4.3.3                  \n",
       "[107] cachem_1.1.0                  RSQLite_2.3.9                \n",
       "[109] DBI_1.2.3                     fastmap_1.2.0                \n",
       "[111] scales_1.3.0                  grid_4.3.3                   \n",
       "[113] ica_1.0-3                     broom_1.0.7                  \n",
       "[115] ggprism_1.0.5                 BiocManager_1.30.25          \n",
       "[117] dotCall64_1.2                 carData_3.0-5                \n",
       "[119] RANN_2.6.2                    farver_2.1.2                 \n",
       "[121] yaml_2.3.10                   rtracklayer_1.62.0           \n",
       "[123] cli_3.6.3                     leiden_0.4.3.1               \n",
       "[125] lifecycle_1.0.4               uwot_0.2.2                   \n",
       "[127] bluster_1.12.0                backports_1.5.0              \n",
       "[129] BiocParallel_1.36.0           timechange_0.3.0             \n",
       "[131] gtable_0.3.6                  rjson_0.2.23                 \n",
       "[133] ggridges_0.5.6                progressr_0.15.1             \n",
       "[135] parallel_4.3.3                limma_3.58.1                 \n",
       "[137] jsonlite_1.8.9                edgeR_4.0.16                 \n",
       "[139] RcppHNSW_0.6.0                bitops_1.0-9                 \n",
       "[141] bit64_4.5.2                   xgboost_2.1.1.1              \n",
       "[143] Rtsne_0.17                    spatstat.utils_3.1-1         \n",
       "[145] BiocNeighbors_1.20.2          metapod_1.10.1               \n",
       "[147] dqrng_0.4.1                   spatstat.univar_3.1-1        \n",
       "[149] lazyeval_0.2.2                shiny_1.9.1                  \n",
       "[151] htmltools_0.5.8.1             sctransform_0.4.1.9001       \n",
       "[153] rappdirs_0.3.3                glue_1.8.0                   \n",
       "[155] spam_2.11-0                   scran_1.30.2                 \n",
       "[157] gridExtra_2.3                 igraph_2.1.2                 \n",
       "[159] R6_2.5.1                      cluster_2.1.7                \n",
       "[161] DelayedArray_0.28.0           tidyselect_1.2.1             \n",
       "[163] vipor_0.4.7                   ProtGenerics_1.34.0          \n",
       "[165] maps_3.4.2.1                  xml2_1.3.6                   \n",
       "[167] car_3.1-3                     future_1.34.0                \n",
       "[169] rsvd_1.0.5                    munsell_0.5.1                \n",
       "[171] KernSmooth_2.23-24            data.table_1.16.4            \n",
       "[173] htmlwidgets_1.6.4             RColorBrewer_1.1-3           \n",
       "[175] biomaRt_2.58.2                rlang_1.1.4                  \n",
       "[177] spatstat.sparse_3.1-0         spatstat.explore_3.3-3       \n",
       "[179] uuid_1.2-1                    fansi_1.0.6                  \n",
       "[181] beeswarm_0.4.0               "
      ]
     },
     "metadata": {},
     "output_type": "display_data"
    }
   ],
   "source": [
    "sessionInfo()"
   ]
  }
 ],
 "metadata": {
  "kernelspec": {
   "display_name": "user_R",
   "language": "R",
   "name": "user_r"
  },
  "language_info": {
   "codemirror_mode": "r",
   "file_extension": ".r",
   "mimetype": "text/x-r-source",
   "name": "R",
   "pygments_lexer": "r",
   "version": "4.2.2"
  }
 },
 "nbformat": 4,
 "nbformat_minor": 5
}
