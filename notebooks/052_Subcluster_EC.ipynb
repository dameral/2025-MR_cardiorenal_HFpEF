{
 "cells": [
  {
   "cell_type": "markdown",
   "id": "6de49d5e-d725-45f6-92e1-6831e18d8891",
   "metadata": {},
   "source": [
    "# Load libraries and Themes"
   ]
  },
  {
   "cell_type": "code",
   "execution_count": null,
   "id": "35d7dba7-aec1-4e24-9702-d0eb6d41a8e3",
   "metadata": {
    "tags": []
   },
   "outputs": [],
   "source": [
    "suppressPackageStartupMessages({\n",
    "    suppressWarnings({\n",
    "        library(Seurat)\n",
    "        library(ggplot2)\n",
    "        library(tidyverse)\n",
    "        library(SeuratDisk)\n",
    "        library(DESeq2)\n",
    "        library(sctransform)\n",
    "        library(edgeR)\n",
    "        library(EnhancedVolcano)\n",
    "        library(Rsamtools)\n",
    "        library(svglite)\n",
    "        library(viridis)\n",
    "        library(pals)\n",
    "        library(harmony)\n",
    "        library(WGCNA)\n",
    "        library(hdWGCNA)\n",
    "        library(patchwork)\n",
    "        library(UpSetR)  \n",
    "        library(ComplexUpset)\n",
    "        library(sva)\n",
    "        })})"
   ]
  },
  {
   "cell_type": "code",
   "execution_count": null,
   "id": "39ea3e8b-4e9f-4694-a0dc-58f4c95dd9af",
   "metadata": {},
   "outputs": [],
   "source": [
    "#Color Palettes\n",
    "\n",
    "palette.EC <- c(\n",
    "    \"#8e69a2\", # Muted purple  \n",
    "    \"#004c6d\", # Teal blue  \n",
    "    \"#006f8e\", # Dark teal  \n",
    "    \"#3388b5\", # Medium blue  \n",
    "    \"#66a1c3\", # Soft blue  \n",
    "    \"#003366\" # Deep navy blue  \n",
    ")\n",
    "\n",
    "palette.treatment <- c(\n",
    "    \"#C1C1C1\", # CTRL\n",
    "    \"#AF0000\", # ALDO\n",
    "    \"#006AF3\"  # REC\n",
    ")\n",
    "\n",
    "palette.sex <- c(\n",
    "    \"#006AF3\", \n",
    "    \"#AF0000\" ) #female"
   ]
  },
  {
   "cell_type": "code",
   "execution_count": null,
   "id": "594f95d6-1f38-411c-aed5-ad8b70d5a04f",
   "metadata": {},
   "outputs": [],
   "source": [
    "umap_theme <- theme(\n",
    "  axis.line=element_blank(),\n",
    "  axis.text.x=element_blank(),\n",
    "  axis.text.y=element_blank(),\n",
    "  axis.ticks=element_blank(),\n",
    "  axis.title.x=element_blank(),\n",
    "  axis.title.y=element_blank(),\n",
    "  panel.background=element_blank(),\n",
    "  panel.border=element_blank(),\n",
    "  panel.grid.major=element_blank(),\n",
    "  panel.grid.minor=element_blank()\n",
    ")"
   ]
  },
  {
   "cell_type": "code",
   "execution_count": null,
   "id": "4c5dd502-239e-4284-a041-5e787e6f7d0f",
   "metadata": {
    "tags": []
   },
   "outputs": [],
   "source": [
    "setwd(\"/media/daten/dmeral/scseq_analysis/2024_LV_CTRL_ALDO_REC\")"
   ]
  },
  {
   "cell_type": "code",
   "execution_count": null,
   "id": "a57b0909-89bb-4013-a7cd-ba9c4aff03cc",
   "metadata": {},
   "outputs": [],
   "source": [
    "celltype <- \"EC\""
   ]
  },
  {
   "cell_type": "markdown",
   "id": "c78ea220-91a5-47c1-866b-fd413116c47a",
   "metadata": {},
   "source": [
    "# Subcluster analysis"
   ]
  },
  {
   "cell_type": "code",
   "execution_count": null,
   "id": "aa729aa2-7b0c-4792-95bb-e2fd7a835fa7",
   "metadata": {
    "scrolled": true,
    "tags": []
   },
   "outputs": [],
   "source": [
    "obj <- LoadH5Seurat(\"seurat_objects/obj_seu_merge_harmony_sgl_addmodule_rename_CMcomb_onlyprotcod_ccscore.h5seurat\")\n",
    "obj_full <- obj"
   ]
  },
  {
   "cell_type": "code",
   "execution_count": null,
   "id": "c83a25c4-4e0e-4308-b618-f171f8862b7c",
   "metadata": {},
   "outputs": [],
   "source": [
    "# Subset to major clusters\n",
    "obj_sub <- subset(x = obj, subset = cell_type_CMcomb %in% c(\"EC-cap\", \"EC-art\", \"EC-end\", \"EC-lym\"))"
   ]
  },
  {
   "cell_type": "code",
   "execution_count": null,
   "id": "b32bdf1b-2378-44ee-b82d-a959d5eab745",
   "metadata": {
    "tags": []
   },
   "outputs": [],
   "source": [
    "# Get genes with non-zero counts\n",
    "counts <- GetAssayData(obj_sub, layer = \"counts\")[,]\n",
    "nonzero <- as.data.frame(rowSums(counts) > 0)\n",
    "names(nonzero)[names(nonzero) == \"rowSums(counts) > 0\"] <- \"nonzerofeature\"\n",
    "nonzero <- filter(nonzero, nonzerofeature == TRUE)\n",
    "nonzero$names <- rownames(nonzero)\n",
    "nonzero$nonzerofeature <- NULL\n",
    "write.table(nonzero, paste0(\"nonzerocounts/nonzerocounts_\", celltype, \".csv\"), sep = \",\", quote = FALSE,  row.names = FALSE, col.names = FALSE)"
   ]
  },
  {
   "cell_type": "markdown",
   "id": "e16b4384-333d-43ea-96c3-6232aba226d8",
   "metadata": {},
   "source": [
    "## EC subcluster"
   ]
  },
  {
   "cell_type": "code",
   "execution_count": null,
   "id": "f7a24ca1-cb58-44a6-98b3-92a5be69b58b",
   "metadata": {},
   "outputs": [],
   "source": [
    "protein_coding_genes <- unlist(read.csv(\"DEGs/nothreshold/protein_coding_gene_names_filtered.txt\", header = TRUE, stringsAsFactors = FALSE))\n",
    "\n",
    "# Ensure the protein-coding genes are present in the dataset\n",
    "selected_genes <- protein_coding_genes[protein_coding_genes %in% rownames(obj_sub)]\n",
    "\n",
    "# Normalize and scale the data for the selected genes\n",
    "obj_sub <- ScaleData(obj_sub, features = selected_genes, verbose = FALSE)\n",
    "\n",
    "# Run PCA using only the selected protein-coding genes\n",
    "obj_sub <- RunPCA(obj_sub, features = selected_genes, npcs = 35, verbose = FALSE)"
   ]
  },
  {
   "cell_type": "code",
   "execution_count": null,
   "id": "e53c535b-f9ff-40d2-81b9-5eb02370bfc6",
   "metadata": {},
   "outputs": [],
   "source": [
    "# Integrate \"batch\"\n",
    "obj_sub$batch <- as.factor(obj_sub$batch)\n",
    "\n",
    "obj.subcluster <- obj_sub %>% \n",
    "  RunHarmony(group.by.vars = c(\"batch\"), theta = c(2), lambda = c(1), max_iter = 20, early_stop = FALSE, plot_convergence = FALSE, assay.use = \"RNA\", verbose = FALSE)"
   ]
  },
  {
   "cell_type": "code",
   "execution_count": null,
   "id": "c175ba9e-4fc0-4546-b1c3-36dbd3e69184",
   "metadata": {},
   "outputs": [],
   "source": [
    "options(repr.plot.width = 6, repr.plot.height = 2.5, repr.plot.res = 300) \n",
    "\n",
    "dim1 <- DimPlot(obj_sub, reduction = \"pca\", group.by = \"batch\", dims = c(1, 2), cols = palette.treatment) + ggtitle(\"PC batch before harmony\") # Before\n",
    "dim2 <- DimPlot(obj.subcluster, reduction = \"harmony\", group.by = \"batch\", dims = c(1, 2), cols = palette.treatment) + ggtitle(\"PC batch after harmony\") # After\n",
    "\n",
    "ggsave(paste0(\"subcluster/\", celltype, \"/Plots/PC_batch_before_harmony.svg\"), plot = dim1, units = \"cm\", dpi = 300, width = 15, height = 10)\n",
    "ggsave(paste0(\"subcluster/\", celltype, \"/Plots/PC_batch_after_harmony.svg\"), plot = dim2, units = \"cm\", dpi = 300, width = 15, height = 10)"
   ]
  },
  {
   "cell_type": "code",
   "execution_count": null,
   "id": "4d921c09-0d2d-4809-8d94-18bd16a35ea7",
   "metadata": {},
   "outputs": [],
   "source": [
    "# Run UMAP\n",
    "obj.subcluster <- obj.subcluster %>%\n",
    "  RunUMAP(dims = 1:35,  spread = 2, min.dist = 0.6, reduction = \"harmony\", verbose = FALSE) %>%\n",
    "  FindNeighbors(dims = 1:35, reduction = \"harmony\", verbose = FALSE) %>%\n",
    "  FindClusters(resolution = 0.15)"
   ]
  },
  {
   "cell_type": "code",
   "execution_count": null,
   "id": "74db7c6b-c56d-4916-b63b-0cc298bd2172",
   "metadata": {},
   "outputs": [],
   "source": [
    "options(repr.plot.width = 10, repr.plot.height = 4, repr.plot.res = 300) \n",
    "\n",
    "seurat_clusters <- DimPlot(obj.subcluster,  group.by = \"seurat_clusters\",  pt.size = 1, label = TRUE, shuffle = FALSE, label.size = 10, cols = palette.EC) + umap_theme & NoLegend()\n",
    "treatment <- DimPlot(obj.subcluster, pt.size = 1, group.by = \"treatment\", shuffle = TRUE, cols = palette.treatment) + umap_theme & NoLegend()\n",
    "sex <- DimPlot(obj.subcluster, pt.size = 1,  group.by = \"sex\", shuffle = TRUE, label.size = 10, , cols = palette.sex) + umap_theme\n",
    "batch <- DimPlot(obj.subcluster, pt.size = 1,  group.by = \"batch\", shuffle = TRUE, label.size = 10, cols = palette.treatment) + umap_theme\n",
    "\n",
    "seurat_clusters|treatment|sex|batch"
   ]
  },
  {
   "cell_type": "code",
   "execution_count": null,
   "id": "a8ade4d6-e809-4195-95bc-cb7766114ee5",
   "metadata": {},
   "outputs": [],
   "source": [
    "# Rename Idents and add cell_type_sub, we rename the subclusters to EC_0-5 \n",
    "cluster_annotations <- c(\"Cap_1\", \"Cap_2\", \"Cap_vein\", \"Art\", \"End\", \"Lym\")\n",
    "names(cluster_annotations) <- levels(obj.subcluster)\n",
    "obj.subcluster <- RenameIdents(obj.subcluster, cluster_annotations)\n",
    "obj.subcluster$cell_type_sub <- Idents(obj.subcluster)"
   ]
  },
  {
   "cell_type": "code",
   "execution_count": null,
   "id": "d9dee476-2a6e-4148-a14d-72515ef35c47",
   "metadata": {},
   "outputs": [],
   "source": [
    "# Plot and save plots\n",
    "cell_type_sub <- DimPlot(obj.subcluster, group.by = \"cell_type_sub\", pt.size = 1, label = TRUE, shuffle = F, label.size = 10, cols = palette.EC) + umap_theme & NoLegend()\n",
    "\n",
    "ggsave(paste0(\"subcluster/\", celltype, \"/Plots/\", celltype, \"_cell_type_sub.svg\"), plot = cell_type_sub, units = \"cm\", dpi = 300, width = 18, height = 15)\n",
    "ggsave(paste0(\"subcluster/\", celltype, \"/Plots/\", celltype, \"_seurat_clusters.svg\"), plot = seurat_clusters, units = \"cm\", dpi = 300, width = 18, height = 15)\n",
    "ggsave(paste0(\"subcluster/\", celltype, \"/Plots/\", celltype, \"_treatment.svg\"), plot = treatment, units = \"cm\", dpi = 300, width = 18, height = 15)\n",
    "ggsave(paste0(\"subcluster/\", celltype, \"/Plots/\", celltype, \"_sex.svg\"), plot = sex, units = \"cm\", dpi = 300, width = 18, height = 15)\n",
    "ggsave(paste0(\"subcluster/\", celltype, \"/Plots/\", celltype, \"_batch.svg\"), plot = batch, units = \"cm\", dpi = 300, width = 18, height = 15)"
   ]
  },
  {
   "cell_type": "code",
   "execution_count": null,
   "id": "c54abb07-9f85-42c0-b9a9-bdd3fe5699fe",
   "metadata": {},
   "outputs": [],
   "source": [
    "treatment <- DimPlot(obj.subcluster, pt.size = 1, group.by = \"treatment\", shuffle = TRUE, cols = palette.treatment, split.by = \"treatment\") + umap_theme & NoLegend()\n",
    "treatment\n",
    "\n",
    "ggsave(paste0(\"subcluster/\", celltype, \"/Plots/\", celltype, \"_treatment_split.svg\"), plot = treatment, units = \"cm\", dpi = 300, width = 18*3, height = 15)"
   ]
  },
  {
   "cell_type": "code",
   "execution_count": null,
   "id": "38bbcdaf-0291-4fde-a8ff-79877b8f3387",
   "metadata": {
    "scrolled": true
   },
   "outputs": [],
   "source": [
    "SaveH5Seurat(obj.subcluster, paste0(\"subcluster/\", celltype, \"/Subcluster_\", celltype))"
   ]
  },
  {
   "cell_type": "markdown",
   "id": "a7028159-b2c9-457b-a8a5-317b12152aa8",
   "metadata": {
    "tags": []
   },
   "source": [
    "## FindAllMarkers"
   ]
  },
  {
   "cell_type": "code",
   "execution_count": null,
   "id": "d05dea1c-e4b0-4863-afbe-268be08e2402",
   "metadata": {
    "scrolled": true
   },
   "outputs": [],
   "source": [
    "all.markers <- FindAllMarkers(obj.subcluster, only.pos = FALSE, test.use = \"wilcox\")\n",
    "\n",
    "write.csv(all.markers, file = paste0(\"subcluster/\", celltype, \"/all.markers_\" , celltype, \"_all.csv\"))"
   ]
  },
  {
   "cell_type": "markdown",
   "id": "c0af4488-7c0e-46ea-9780-f92f41166cd0",
   "metadata": {},
   "source": [
    "## Cellnumbers per cluster and sample"
   ]
  },
  {
   "cell_type": "code",
   "execution_count": null,
   "id": "06be7818-58b2-4866-9ddd-237949b947ab",
   "metadata": {},
   "outputs": [],
   "source": [
    "print(\"Cellnumbers per cluster and sample\")\n",
    "table <- table(obj.subcluster@meta.data$treatment, \n",
    "      obj.subcluster@meta.data$cell_type_sub)\n",
    "table\n",
    "write.csv(table, file = paste0(\"subcluster/\", celltype, \"/number_perCluster_\", celltype, \".csv\"))\n",
    "\n",
    "print(\"Cellnumbers per sample and sample\")\n",
    "table <- table(obj.subcluster@meta.data$sample_id, \n",
    "      obj.subcluster@meta.data$cell_type_sub)\n",
    "table\n",
    "write.csv(table, file = paste0(\"subcluster/\", celltype, \"/number_persample_\", celltype, \".csv\"))"
   ]
  },
  {
   "cell_type": "markdown",
   "id": "201e41a7-cb90-4223-a323-384c2ede791a",
   "metadata": {},
   "source": [
    "# DEG analysis"
   ]
  },
  {
   "cell_type": "markdown",
   "id": "cff7603c-764d-4c3a-a3b7-bd7894bbbdc1",
   "metadata": {},
   "source": [
    "## WR sum"
   ]
  },
  {
   "cell_type": "code",
   "execution_count": null,
   "id": "dde181cf-b023-4bef-8cff-f79340463f98",
   "metadata": {},
   "outputs": [],
   "source": [
    "# Perform Wilcoxon DEG analysis between CM_0 and CM_1\n",
    "deg_Cap1_vs_Cap2 <- FindMarkers(\n",
    "  obj.subcluster, \n",
    "  ident.1 = \"Cap_1\", \n",
    "  ident.2 = \"Cap_2\", \n",
    "  group.by = \"cell_type_sub\",\n",
    "  test.use = \"wilcox\"\n",
    ")"
   ]
  },
  {
   "cell_type": "code",
   "execution_count": null,
   "id": "790201f8-dff0-4026-9f20-b684e26e51c6",
   "metadata": {},
   "outputs": [],
   "source": [
    "# Save results to CSV\n",
    "write.csv(deg_Cap1_vs_Cap2, file = paste0(\"subcluster/\", celltype , \"/DEGs_Cap1_vs_Cap2.csv\"))"
   ]
  },
  {
   "cell_type": "code",
   "execution_count": null,
   "id": "7ead27cd-5cbb-4281-9bbc-984070998c05",
   "metadata": {},
   "outputs": [],
   "source": [
    "# Load the list of protein-coding genes\n",
    "protein_coding_genes <- unlist(read.csv(\"DEGs/nothreshold/protein_coding_gene_names_filtered.txt\", header = TRUE, stringsAsFactors = FALSE))\n",
    "\n",
    "# Load the DEG file for CM0 vs CM1\n",
    "deg_Cap1_vs_Cap2 <- read.csv(paste0(\"subcluster/\", celltype, \"/DEGs_Cap1_vs_Cap2.csv\"), header = TRUE, row.names = 1)\n",
    "\n",
    "# Add filtering criteria\n",
    "deg_Cap1_vs_Cap2 <- cbind(deg_Cap1_vs_Cap2, Gene_names = rownames(deg_Cap1_vs_Cap2))\n",
    "\n",
    "# Filter for protein-coding genes, remove GM... and ...Rik, and non-mt genes\n",
    "deg_Cap1_vs_Cap2_filtered <- deg_Cap1_vs_Cap2 %>%\n",
    "  filter(\n",
    "    Gene_names %in% protein_coding_genes               # Keep only protein-coding genes\n",
    "  )\n",
    "\n",
    "# Remove the Gene_names column\n",
    "deg_Cap1_vs_Cap2_filtered <- deg_Cap1_vs_Cap2_filtered[, !names(deg_Cap1_vs_Cap2_filtered) %in% c(\"Gene_names\")]\n",
    "\n",
    "# Save the filtered file\n",
    "write.csv(deg_Cap1_vs_Cap2_filtered, file = paste0(\"subcluster/\", celltype, \"/DEGs_Cap1_vs_Cap2_filtered.csv\"))"
   ]
  },
  {
   "cell_type": "markdown",
   "id": "be857b2f-98ff-4cf5-87ed-4e411b68d412",
   "metadata": {},
   "source": [
    "## pseudo-bulk PCA plot"
   ]
  },
  {
   "cell_type": "code",
   "execution_count": null,
   "id": "455dfa65-9110-4fee-8a62-6fada9ce645d",
   "metadata": {},
   "outputs": [],
   "source": [
    "# Aggregate counts by `sample_id`\n",
    "obj.subcluster$tsid <- paste0(obj.subcluster$treatment, \"_\", obj.subcluster$sample_id)\n",
    "\n",
    "cts <- AggregateExpression(\n",
    "  obj.subcluster,\n",
    "  group.by = \"tsid\",  # Only group by combined column tsid\n",
    "  assays = \"RNA\",\n",
    "  slot = \"counts\",\n",
    "  return.seurat = FALSE\n",
    ")\n",
    "\n",
    "cts <- cts$RNA  # Extract the counts matrix\n",
    "\n",
    "# Filter counts for only protein-coding genes\n",
    "cts_filtered <- cts[rownames(cts) %in% protein_coding_genes, ]\n",
    "\n",
    "# Log-transform counts (avoid log(0) issues)\n",
    "log_counts <- log1p(cts_filtered)\n",
    "\n",
    "# Remove zero-variance genes\n",
    "log_counts_filtered <- log_counts[apply(log_counts, 1, var) > 0, ]\n",
    "\n",
    "# Ensure that `tsid` is correctly defined in the metadata\n",
    "# Extract the `batch_info` corresponding to the 12 aggregated samples\n",
    "batch_info <- obj.subcluster@meta.data$batch[match(colnames(log_counts_filtered), obj.subcluster@meta.data$tsid)]\n",
    "\n",
    "# Add the batch info to the log_counts_filtered matrix as an additional row\n",
    "log_counts_filtered_with_batch <- rbind(log_counts_filtered, batch = batch_info)\n",
    "\n",
    "# Now, apply ComBat for batch effect correction using the log-transformed counts with batch information\n",
    "adjusted_counts <- ComBat(\n",
    "    dat = log_counts_filtered_with_batch[1:nrow(log_counts_filtered), ],  # Only include gene expression matrix\n",
    "    batch = log_counts_filtered_with_batch[\"batch\", ],  # Use the batch info row\n",
    "    mod = NULL,                   # Model matrix \n",
    "    par.prior = TRUE,             # Use empirical Bayes method\n",
    "    prior.plots = FALSE           # Don't plot the correction\n",
    ")\n",
    "\n",
    "# Perform PCA on the adjusted counts\n",
    "pca_result <- prcomp(t(adjusted_counts), center = TRUE, scale. = TRUE)"
   ]
  },
  {
   "cell_type": "code",
   "execution_count": null,
   "id": "f22ae5be-01a6-495c-b18c-8a6866b8d064",
   "metadata": {},
   "outputs": [],
   "source": [
    "options(repr.plot.width = 5, repr.plot.height = 4, repr.plot.res = 300)\n",
    "\n",
    "# Create a data frame for plotting\n",
    "pca_df <- data.frame(\n",
    "  PC1 = pca_result$x[, 1],  # First principal component\n",
    "  PC2 = pca_result$x[, 2],  # Second principal component\n",
    "  tsid = rownames(pca_result$x),  # Use rownames of pca_result$x for tsid\n",
    "  treatment = gsub(\"_.*\", \"\", rownames(pca_result$x))  # Extract treatment from tsid\n",
    ")\n",
    "\n",
    "# Ensure treatment is a factor with levels in the correct order\n",
    "pca_df$treatment <- factor(pca_df$treatment, levels = c(\"CTRL\", \"ALDO\", \"REC\"))\n",
    "\n",
    "# Plot the PCA\n",
    "PCA_plot <- ggplot(pca_df, aes(x = PC1, y = PC2, color = treatment, label = substr(tsid, nchar(tsid)-3, nchar(tsid)))) +\n",
    "  geom_point(size = 4, alpha = 0.8) +\n",
    "  geom_text(vjust = 2, hjust = 0.5, size = 3, color = \"black\") +  # Adjust vjust to place labels below\n",
    "  theme_minimal() +\n",
    "  labs(\n",
    "    title = paste0(\"PCA of Pseudobulk Samples for \", celltype ,\" Post-ComBat Correction\"),\n",
    "    x = paste0(\"PC1 (\", round(summary(pca_result)$importance[2, 1] * 100, 1), \"% Variance)\"),\n",
    "    y = paste0(\"PC2 (\", round(summary(pca_result)$importance[2, 2] * 100, 1), \"% Variance)\")\n",
    "  ) +\n",
    "  scale_color_manual(values = palette.treatment) +  # Correct color palette\n",
    "  theme(\n",
    "    legend.position = \"right\",\n",
    "    text = element_text(size = 12),\n",
    "    plot.title = element_text(size = 12),  # Decrease title size\n",
    "    panel.grid.minor = element_blank(),    # Remove minor gridlines only\n",
    "    panel.border = element_rect(color = \"black\", fill = NA, size = 0.5)  # Add black border around the plot\n",
    "  )\n",
    "\n",
    "PCA_plot\n",
    "ggsave(paste0(\"subcluster/\", celltype, \"/Plots/PCA_plot_pseudobulk.svg\"), plot = PCA_plot, units = \"cm\", dpi = 300, width = 15, height = 10)"
   ]
  },
  {
   "cell_type": "markdown",
   "id": "ed33a15f-79e2-4a56-9993-cd6b6b88821c",
   "metadata": {},
   "source": [
    "# hdWGCNA"
   ]
  },
  {
   "cell_type": "code",
   "execution_count": null,
   "id": "f2d28927-79ec-463b-8f75-f25a3446a7da",
   "metadata": {},
   "outputs": [],
   "source": [
    "print(\"Cellnumbers per cluster and sample\")\n",
    "table <- table(obj.subcluster@meta.data$sample_id, \n",
    "      obj.subcluster@meta.data$cell_type_sub)\n",
    "table"
   ]
  },
  {
   "cell_type": "code",
   "execution_count": null,
   "id": "1f3aaab7-f1ee-432d-b60f-ef76375fd385",
   "metadata": {
    "scrolled": true
   },
   "outputs": [],
   "source": [
    "# List with only protein-coding Genes\n",
    "protein_coding_genes <- read.csv(\"DEGs/nothreshold/protein_coding_gene_names_filtered.txt\", \n",
    "                                 header = FALSE, \n",
    "                                 stringsAsFactors = FALSE)[,1]\n",
    "\n",
    "protein_coding_genes <- protein_coding_genes[-1]"
   ]
  },
  {
   "cell_type": "code",
   "execution_count": null,
   "id": "22f8470e-9510-4e53-9149-c5dcc76119af",
   "metadata": {},
   "outputs": [],
   "source": [
    "# Filter the gene expression matrix in the Seurat object\n",
    "seurat_obj <- obj.subcluster\n",
    "seurat_obj <- subset(seurat_obj, features = protein_coding_genes)  \n",
    "\n",
    "# Now proceed with WGCNA setup\n",
    "seurat_obj <- SetupForWGCNA(\n",
    "  seurat_obj,\n",
    "  gene_select = \"fraction\",  # You can still use fraction-based selection\n",
    "  fraction = 0.05,          \n",
    "  wgcna_name = celltype\n",
    ")"
   ]
  },
  {
   "cell_type": "code",
   "execution_count": null,
   "id": "57d84072-aebb-42c8-90ce-55994411daa8",
   "metadata": {},
   "outputs": [],
   "source": [
    "# Construct metacells in each group (make sure that min_cells>k)\n",
    "seurat_obj <- MetacellsByGroups(\n",
    "  seurat_obj = seurat_obj,\n",
    "  group.by = c(\"treatment\", \"cell_type_sub\"),\n",
    "  reduction = \"harmony\", \n",
    "  assay = \"RNA\",\n",
    "  slot = \"counts\",\n",
    "  k = 12,                          \n",
    "  max_shared = 20,         \n",
    "  ident.group = \"cell_type_sub\",      \n",
    "  min_cells = 13\n",
    ")"
   ]
  },
  {
   "cell_type": "code",
   "execution_count": null,
   "id": "9be1d95a-0e8e-4b2c-b7ef-9910a6f8da5e",
   "metadata": {},
   "outputs": [],
   "source": [
    "# Normalize metacell expression matrix:\n",
    "seurat_obj <- NormalizeMetacells(seurat_obj)\n",
    "\n",
    "seurat_obj <- SetDatExpr(\n",
    "  seurat_obj,\n",
    "  group_name = unique(obj.subcluster@meta.data$cell_type_sub),  # cluster \"Cap_1\", \"Cap_2\", \"Cap_vein\", \"Art\", \"End\", \"Lym\"\n",
    "  group.by = \"cell_type_sub\",                                  # the metadata column containing the cell type info. This same column should have also been used in MetacellsByGroups\n",
    "  assay = \"RNA\",                                               # using RNA assay\n",
    "  slot = \"data\"                                                # using normalized data\n",
    ")\n",
    "\n",
    "# Test different soft powers:\n",
    "seurat_obj <- TestSoftPowers(\n",
    "  seurat_obj,\n",
    "  networkType = \"signed\")\n",
    "\n",
    "# Plot the results:\n",
    "plot_list <- PlotSoftPowers(seurat_obj)"
   ]
  },
  {
   "cell_type": "code",
   "execution_count": null,
   "id": "fc675892-5c22-4bd9-9db4-6ce472f09581",
   "metadata": {},
   "outputs": [],
   "source": [
    "options(repr.plot.width = 5, repr.plot.height = 4, repr.plot.res = 300)\n",
    "\n",
    "# assemble with patchwork\n",
    "wrap_plots(plot_list, ncol = 2)"
   ]
  },
  {
   "cell_type": "code",
   "execution_count": null,
   "id": "92636a84-16fa-4f47-8bde-c6ef643dfaca",
   "metadata": {},
   "outputs": [],
   "source": [
    "# construct co-expression network:\n",
    "seurat_obj <- ConstructNetwork(\n",
    "  seurat_obj, soft_power = 6,\n",
    "  setDatExpr = FALSE,\n",
    "  tom_name = paste0(\"LV_\", celltype), overwrite_tom = TRUE)"
   ]
  },
  {
   "cell_type": "code",
   "execution_count": null,
   "id": "3ff80381-3884-4ff4-8aa5-f278b5be7f56",
   "metadata": {},
   "outputs": [],
   "source": [
    "ls()"
   ]
  },
  {
   "cell_type": "code",
   "execution_count": null,
   "id": "3249b49f-f73b-4bc5-9ccf-1214a0f349fc",
   "metadata": {},
   "outputs": [],
   "source": [
    "# Generate palette\n",
    "palette_mod <- DiscretePalette(6, palette = \"stepped\", shuffle = TRUE)\n",
    "\n",
    "# Function to check if a color is grey (low saturation)\n",
    "is_grey <- function(color) {\n",
    "  hsv_vals <- rgb2hsv(col2rgb(color))\n",
    "  return(hsv_vals[\"s\", ] < 0.2)  # Low saturation indicates grey\n",
    "}\n",
    "\n",
    "# Filter out greys\n",
    "palette_mod <- palette_mod[!sapply(palette_mod, is_grey)]\n",
    "\n",
    "# If too many colors were removed, regenerate until enough remain\n",
    "while (length(palette_mod) < 6) {\n",
    "  new_colors <- DiscretePalette(6, palette = \"stepped\", shuffle = TRUE)\n",
    "  palette_mod <- unique(c(palette_mod, new_colors[!sapply(new_colors, is_grey)]))\n",
    "  palette_mod <- palette_mod[1:6]  # Ensure exactly 9 colors\n",
    "}\n",
    "\n",
    "# Print final colors\n",
    "print(palette_mod)"
   ]
  },
  {
   "cell_type": "code",
   "execution_count": null,
   "id": "62665de3-5327-4ccf-b1e3-63907dcb5c42",
   "metadata": {},
   "outputs": [],
   "source": [
    "# Reset the module colors\n",
    "seurat_obj <- ResetModuleColors(seurat_obj, palette_mod)"
   ]
  },
  {
   "cell_type": "code",
   "execution_count": null,
   "id": "9adb75ff-e13a-4483-9f67-10031d03fc53",
   "metadata": {},
   "outputs": [],
   "source": [
    "svg(paste0(\"subcluster/\", celltype, \"/hdWGCNA/Dendrogram.svg\"), width = 15 / 2.54, height = 10 / 2.54)  # Convert cm to inches\n",
    "PlotDendrogram(seurat_obj, main = paste0(celltype, \" hdWGCNA Dendrogram\"))\n",
    "dev.off()"
   ]
  },
  {
   "cell_type": "code",
   "execution_count": null,
   "id": "15a57703-b68c-4295-a098-b823eeaf1f2f",
   "metadata": {},
   "outputs": [],
   "source": [
    "TOM <- GetTOM(seurat_obj)\n",
    "head(TOM)"
   ]
  },
  {
   "cell_type": "code",
   "execution_count": null,
   "id": "feae5501-1e0b-455e-a8d2-87aa8581efed",
   "metadata": {
    "tags": []
   },
   "outputs": [],
   "source": [
    "# need to run ScaleData first or else harmony throws an error:\n",
    "seurat_obj <- ScaleData(seurat_obj, features = VariableFeatures(seurat_obj))\n",
    "\n",
    "# compute all MEs in the full single-cell dataset\n",
    "seurat_obj <- ModuleEigengenes(\n",
    " seurat_obj,\n",
    " group.by.vars = \"cell_type_sub\")"
   ]
  },
  {
   "cell_type": "code",
   "execution_count": null,
   "id": "b3f4a4fb-c6c8-4bc6-8759-b4e9e6f8ca36",
   "metadata": {},
   "outputs": [],
   "source": [
    "# harmonized module eigengenes:\n",
    "hMEs <- GetMEs(seurat_obj)\n",
    "\n",
    "# module eigengenes:\n",
    "MEs <- GetMEs(seurat_obj, harmonized = FALSE)"
   ]
  },
  {
   "cell_type": "code",
   "execution_count": null,
   "id": "1e6666d2-091c-4f88-a090-325ed42e99ea",
   "metadata": {},
   "outputs": [],
   "source": [
    "# compute eigengene-based connectivity (kME):\n",
    "seurat_obj <- ModuleConnectivity(\n",
    "  seurat_obj,\n",
    "  group.by = \"cell_type_sub\", group_name = c(\"Cap_1\", \"Cap_2\", \"Cap_vein\", \"Art\", \"End\", \"Lym\"))"
   ]
  },
  {
   "cell_type": "code",
   "execution_count": null,
   "id": "b3fd5611-12c5-401e-a79c-a878a98cc6f7",
   "metadata": {},
   "outputs": [],
   "source": [
    "# rename the modules\n",
    "seurat_obj <- ResetModuleNames(\n",
    "  seurat_obj,\n",
    "  new_name = paste0(celltype ,\"-M\")\n",
    ")"
   ]
  },
  {
   "cell_type": "code",
   "execution_count": null,
   "id": "b2fcf13b-b071-4025-97ac-b68cb4488a17",
   "metadata": {},
   "outputs": [],
   "source": [
    "saveRDS(seurat_obj, file = paste0(\"subcluster/\", celltype, \"/hdWGCNA/hdWGCNA_\" , celltype, \".rds\"))"
   ]
  },
  {
   "cell_type": "code",
   "execution_count": null,
   "id": "be4278d0-73a7-435c-8b02-14de150c49df",
   "metadata": {
    "scrolled": true
   },
   "outputs": [],
   "source": [
    "svg(paste0(\"subcluster/\", celltype, \"/hdWGCNA/KMEs.svg\"), width = 15 / 2.54, height = 15 / 2.54)  # Convert cm to inches\n",
    "PlotKMEs(seurat_obj, ncol = 3)\n",
    "dev.off()"
   ]
  },
  {
   "cell_type": "code",
   "execution_count": null,
   "id": "3d56dc10-3b15-4519-8efc-fbd976c6d9f4",
   "metadata": {},
   "outputs": [],
   "source": [
    "# get the module assignment table:\n",
    "modules <- GetModules(seurat_obj)\n",
    "\n",
    "# show the first 6 columns:\n",
    "head(modules[,1:8])\n",
    "write.csv(modules, file = paste0(\"subcluster/\", celltype, \"/hdWGCNA/modules_df.csv\"))"
   ]
  },
  {
   "cell_type": "code",
   "execution_count": null,
   "id": "6f603e02-40cd-487a-8e0f-750609e766d5",
   "metadata": {
    "scrolled": true,
    "tags": []
   },
   "outputs": [],
   "source": [
    "# get hub genes\n",
    "hub_df <- GetHubGenes(seurat_obj, n_hubs = 25)\n",
    "\n",
    "head(hub_df)\n",
    "write.csv(hub_df, file = paste0(\"subcluster/\", celltype, \"/hdWGCNA/hub_df.csv\"))"
   ]
  },
  {
   "cell_type": "code",
   "execution_count": null,
   "id": "61638d74-35ba-40e6-8f6a-0786af649150",
   "metadata": {},
   "outputs": [],
   "source": [
    "# make a featureplot of hMEs for each module\n",
    "plot_list <- ModuleFeaturePlot(\n",
    "  seurat_obj,\n",
    "  features = \"hMEs\", # plot the hMEs\n",
    "  order = TRUE # order so the points with highest hMEs are on top\n",
    ")\n",
    "# stitch together with patchwork\n",
    "combined_plot <- wrap_plots(plot_list, ncol = 3)\n",
    "\n",
    "ggsave(\n",
    "  filename = paste0(\"subcluster/\", celltype, \"/hdWGCNA/ModuleFeaturePlot.svg\"),\n",
    "  plot = combined_plot,  # The patchwork object\n",
    "  width = 15 / 2.54, \n",
    "  height = 15 / 2.54, \n",
    "  units = \"in\",  # Inches (ggsave doesn't use cm natively)\n",
    "  dpi = 300\n",
    ")"
   ]
  },
  {
   "cell_type": "code",
   "execution_count": null,
   "id": "98731784-9b16-4378-b736-209c7a2275a0",
   "metadata": {
    "scrolled": true
   },
   "outputs": [],
   "source": [
    "# Run module UMAP\n",
    "seurat_obj <- RunModuleUMAP(\n",
    "  seurat_obj,\n",
    "  n_hubs = 10, # number of hub genes to include for the UMAP embedding\n",
    "  n_neighbors = 15, # neighbors parameter for UMAP\n",
    "  min_dist = 0.1 # min distance between points in UMAP space\n",
    ")\n",
    "\n",
    "# get the hub gene UMAP table from the seurat object\n",
    "umap_df <- GetModuleUMAP(seurat_obj)"
   ]
  },
  {
   "cell_type": "code",
   "execution_count": null,
   "id": "01be7c54-fada-4192-8780-ad8ef56d7972",
   "metadata": {},
   "outputs": [],
   "source": [
    "# All Genes\n",
    "svg(paste0(\"subcluster/\", celltype, \"/hdWGCNA/ModuleUMAPPlot.svg\"), width = 15 / 2.54, height = 15 / 2.54)  # Convert cm to inches\n",
    "\n",
    "UMAPmodule <- ModuleUMAPPlot(\n",
    "  seurat_obj,\n",
    "  edge.alpha = 0.25,\n",
    "  sample_edges = TRUE,\n",
    "  edge_prop = 0.05, # proportion of edges to sample (20% here)\n",
    "  label_hubs = 2 ,# how many hub genes to plot per module?\n",
    "  keep_grey_edges = FALSE\n",
    ")\n",
    "\n",
    "dev.off()"
   ]
  },
  {
   "cell_type": "markdown",
   "id": "3b224c9d-1d21-4eb0-82a5-635babd24017",
   "metadata": {},
   "source": [
    "#### DMEs"
   ]
  },
  {
   "cell_type": "code",
   "execution_count": null,
   "id": "f5b3d7f9-98fe-47f8-8d33-225840633dc5",
   "metadata": {},
   "outputs": [],
   "source": [
    "group1 <- seurat_obj@meta.data %>% subset(treatment == \"CTRL\") %>% rownames\n",
    "group2 <- seurat_obj@meta.data %>% subset(treatment == \"ALDO\") %>% rownames\n",
    "group3 <- seurat_obj@meta.data %>% subset(treatment == \"REC\") %>% rownames"
   ]
  },
  {
   "cell_type": "markdown",
   "id": "256e6ce6-c8b0-439f-9ab7-e87ad979babd",
   "metadata": {},
   "source": [
    "##### ALDO vs CTRL"
   ]
  },
  {
   "cell_type": "code",
   "execution_count": null,
   "id": "9f0d77c6-dfa6-40a6-95fc-e55d9e177de0",
   "metadata": {},
   "outputs": [],
   "source": [
    "DMEs <- FindDMEs(\n",
    "  seurat_obj,\n",
    "  barcodes1 = group2,\n",
    "  barcodes2 = group1,\n",
    "  test.use = \"wilcox\",\n",
    "  wgcna_name = celltype\n",
    ")\n",
    "\n",
    "DMEs"
   ]
  },
  {
   "cell_type": "code",
   "execution_count": null,
   "id": "18e47616-9f1a-4956-ac9d-ecb54c222bb0",
   "metadata": {},
   "outputs": [],
   "source": [
    "options(repr.plot.width = 5, repr.plot.height = 5, repr.plot.res = 100)\n",
    "\n",
    "p <- PlotDMEsLollipop(\n",
    "  seurat_obj, \n",
    "  DMEs, \n",
    "  wgcna_name = celltype, \n",
    "  pvalue = \"p_val_adj\"\n",
    ")\n",
    "\n",
    "ggsave(paste0(\"subcluster/\", celltype, \"/hdWGCNA/PlotDMEsLollipop_ALDOvsCTRL.svg\"), plot = p, units = \"cm\", dpi = 300, width = 10, height = 10)"
   ]
  },
  {
   "cell_type": "code",
   "execution_count": null,
   "id": "6bddbf94-e895-40d3-879b-dde95c67a669",
   "metadata": {},
   "outputs": [],
   "source": [
    "options(repr.plot.width = 5, repr.plot.height = 5, repr.plot.res = 100)\n",
    "\n",
    "p <- PlotDMEsVolcano(\n",
    "  seurat_obj,\n",
    "  DMEs,\n",
    "  wgcna_name = celltype\n",
    ")\n",
    "\n",
    "p"
   ]
  },
  {
   "cell_type": "markdown",
   "id": "1c97ada0-8f75-4539-999a-f553b533eba5",
   "metadata": {},
   "source": [
    "##### REC vs ALDO"
   ]
  },
  {
   "cell_type": "code",
   "execution_count": null,
   "id": "b29a57db-08e6-4a54-b473-e3cd670ac156",
   "metadata": {},
   "outputs": [],
   "source": [
    "DMEs <- FindDMEs(\n",
    "  seurat_obj,\n",
    "  barcodes1 = group3,\n",
    "  barcodes2 = group2,\n",
    "  test.use = \"wilcox\",\n",
    "  wgcna_name = celltype\n",
    ")\n",
    "\n",
    "DMEs"
   ]
  },
  {
   "cell_type": "code",
   "execution_count": null,
   "id": "ef2222f4-ce05-416d-94d2-c31a1e6e3ac1",
   "metadata": {},
   "outputs": [],
   "source": [
    "options(repr.plot.width = 5, repr.plot.height = 5, repr.plot.res = 100)\n",
    "\n",
    "p <- PlotDMEsLollipop(\n",
    "  seurat_obj, \n",
    "  DMEs, \n",
    "  wgcna_name = celltype, \n",
    "  pvalue = \"p_val_adj\"\n",
    ")\n",
    "\n",
    "ggsave(paste0(\"subcluster/\", celltype, \"/hdWGCNA/PlotDMEsLollipop_RECvsALDO.svg\"), plot = p, units = \"cm\", dpi = 300, width = 10, height = 10)"
   ]
  },
  {
   "cell_type": "code",
   "execution_count": null,
   "id": "51ddb347-d955-44d8-90c0-08a323138947",
   "metadata": {},
   "outputs": [],
   "source": [
    "options(repr.plot.width = 5, repr.plot.height = 5, repr.plot.res = 100)\n",
    "\n",
    "p <- PlotDMEsVolcano(\n",
    "  seurat_obj,\n",
    "  DMEs,\n",
    "  wgcna_name = celltype\n",
    ")\n",
    "\n",
    "p"
   ]
  },
  {
   "cell_type": "code",
   "execution_count": 52,
   "id": "74dabb9e-b14d-4dc8-b004-02135bf20e5a",
   "metadata": {},
   "outputs": [
    {
     "data": {
      "text/plain": [
       "R version 4.2.2 (2022-10-31)\n",
       "Platform: x86_64-conda-linux-gnu (64-bit)\n",
       "Running under: Ubuntu 22.04.2 LTS\n",
       "\n",
       "Matrix products: default\n",
       "BLAS/LAPACK: /media/daten/dmeral/micromamba/envs/user_R/lib/libopenblasp-r0.3.26.so\n",
       "\n",
       "locale:\n",
       " [1] LC_CTYPE=en_US.UTF-8       LC_NUMERIC=C              \n",
       " [3] LC_TIME=en_US.UTF-8        LC_COLLATE=en_US.UTF-8    \n",
       " [5] LC_MONETARY=en_US.UTF-8    LC_MESSAGES=en_US.UTF-8   \n",
       " [7] LC_PAPER=en_US.UTF-8       LC_NAME=C                 \n",
       " [9] LC_ADDRESS=C               LC_TELEPHONE=C            \n",
       "[11] LC_MEASUREMENT=en_US.UTF-8 LC_IDENTIFICATION=C       \n",
       "\n",
       "attached base packages:\n",
       "[1] stats4    stats     graphics  grDevices utils     datasets  methods  \n",
       "[8] base     \n",
       "\n",
       "other attached packages:\n",
       " [1] ggforestplot_0.1.0          sva_3.46.0                 \n",
       " [3] BiocParallel_1.32.5         genefilter_1.80.3          \n",
       " [5] mgcv_1.9-1                  nlme_3.1-164               \n",
       " [7] ComplexUpset_1.3.3          UpSetR_1.4.0               \n",
       " [9] patchwork_1.3.0             hdWGCNA_0.3.01             \n",
       "[11] igraph_2.1.4                WGCNA_1.72-5               \n",
       "[13] fastcluster_1.2.6           dynamicTreeCut_1.63-1      \n",
       "[15] harmony_1.2.0               Rcpp_1.0.14                \n",
       "[17] pals_1.8                    viridis_0.6.5              \n",
       "[19] viridisLite_0.4.2           svglite_2.1.3              \n",
       "[21] Rsamtools_2.14.0            Biostrings_2.66.0          \n",
       "[23] XVector_0.38.0              EnhancedVolcano_1.16.0     \n",
       "[25] ggrepel_0.9.5               edgeR_3.40.0               \n",
       "[27] limma_3.54.2                sctransform_0.4.1          \n",
       "[29] DESeq2_1.38.3               SummarizedExperiment_1.28.0\n",
       "[31] Biobase_2.58.0              MatrixGenerics_1.10.0      \n",
       "[33] matrixStats_1.5.0           GenomicRanges_1.50.2       \n",
       "[35] GenomeInfoDb_1.34.9         IRanges_2.32.0             \n",
       "[37] S4Vectors_0.36.2            BiocGenerics_0.44.0        \n",
       "[39] SeuratDisk_0.0.0.9021       lubridate_1.9.3            \n",
       "[41] forcats_1.0.0               stringr_1.5.1              \n",
       "[43] dplyr_1.1.4                 purrr_1.0.4                \n",
       "[45] readr_2.1.5                 tidyr_1.3.1                \n",
       "[47] tibble_3.2.1                tidyverse_2.0.0            \n",
       "[49] ggplot2_3.5.2               SeuratObject_5.0.1         \n",
       "[51] Seurat_4.4.0               \n",
       "\n",
       "loaded via a namespace (and not attached):\n",
       "  [1] spatstat.explore_3.3-2 reticulate_1.35.0      tidyselect_1.2.1      \n",
       "  [4] RSQLite_2.3.4          AnnotationDbi_1.60.2   htmlwidgets_1.6.4     \n",
       "  [7] grid_4.2.2             Rtsne_0.17             ragg_1.2.4            \n",
       " [10] preprocessCore_1.60.2  codetools_0.2-19       ica_1.0-3             \n",
       " [13] pbdZMQ_0.3-11          future_1.34.0          miniUI_0.1.1.1        \n",
       " [16] tester_0.1.7           withr_3.0.2            spatstat.random_3.3-2 \n",
       " [19] colorspace_2.1-1       progressr_0.14.0       knitr_1.49            \n",
       " [22] uuid_1.2-0             rstudioapi_0.15.0      ROCR_1.0-11           \n",
       " [25] tensor_1.5             listenv_0.9.1          labeling_0.4.3        \n",
       " [28] repr_1.1.6             GenomeInfoDbData_1.2.9 polyclip_1.10-6       \n",
       " [31] bit64_4.6.0-1          farver_2.1.2           parallelly_1.42.0     \n",
       " [34] vctrs_0.6.5            generics_0.1.3         xfun_0.50             \n",
       " [37] timechange_0.3.0       doParallel_1.0.17      R6_2.6.1              \n",
       " [40] locfit_1.5-9.9         spatstat.univar_3.0-1  hdf5r_1.3.8           \n",
       " [43] bitops_1.0-9           spatstat.utils_3.1-0   cachem_1.1.0          \n",
       " [46] DelayedArray_0.24.0    promises_1.2.1         scales_1.4.0          \n",
       " [49] nnet_7.3-19            gtable_0.3.6           Cairo_1.6-0           \n",
       " [52] globals_0.16.3         goftest_1.2-3          spam_2.10-0           \n",
       " [55] rlang_1.1.6            systemfonts_1.0.5      splines_4.2.2         \n",
       " [58] lazyeval_0.2.2         impute_1.72.3          dichromat_2.0-0.1     \n",
       " [61] broom_1.0.5            checkmate_2.3.0        spatstat.geom_3.3-3   \n",
       " [64] reshape2_1.4.4         abind_1.4-8            backports_1.4.1       \n",
       " [67] httpuv_1.6.14          Hmisc_5.1-2            tools_4.2.2           \n",
       " [70] RColorBrewer_1.1-3     proxy_0.4-27           ggridges_0.5.6        \n",
       " [73] plyr_1.8.9             base64enc_0.1-3        zlibbioc_1.44.0       \n",
       " [76] RCurl_1.98-1.16        rpart_4.1.23           deldir_2.0-4          \n",
       " [79] pbapply_1.7-2          cowplot_1.1.3          zoo_1.8-12            \n",
       " [82] cluster_2.1.6          magrittr_2.0.3         data.table_1.17.2     \n",
       " [85] scattermore_1.2        lmtest_0.9-40          RANN_2.6.2            \n",
       " [88] fitdistrplus_1.2-1     hms_1.1.3              mime_0.12             \n",
       " [91] evaluate_1.0.3         xtable_1.8-4           RhpcBLASctl_0.23-42   \n",
       " [94] XML_3.99-0.14          gridExtra_2.3          compiler_4.2.2        \n",
       " [97] maps_3.4.2             KernSmooth_2.23-22     crayon_1.5.3          \n",
       "[100] htmltools_0.5.8.1      later_1.3.2            tzdb_0.5.0            \n",
       "[103] Formula_1.2-5          geneplotter_1.76.0     DBI_1.2.3             \n",
       "[106] MASS_7.3-60.0.1        Matrix_1.6-5           cli_3.6.5             \n",
       "[109] parallel_4.2.2         dotCall64_1.2          pkgconfig_2.0.3       \n",
       "[112] foreign_0.8-86         sp_2.2-0               IRdisplay_1.1         \n",
       "[115] plotly_4.10.4          spatstat.sparse_3.1-0  foreach_1.5.2         \n",
       "[118] annotate_1.76.0        digest_0.6.37          RcppAnnoy_0.0.22      \n",
       "[121] spatstat.data_3.1-2    rmarkdown_2.29         leiden_0.4.3.1        \n",
       "[124] htmlTable_2.4.2        uwot_0.1.16            shiny_1.9.1           \n",
       "[127] lifecycle_1.0.4        jsonlite_2.0.0         mapproj_1.2.11        \n",
       "[130] pillar_1.10.2          lattice_0.22-6         GO.db_3.18.0          \n",
       "[133] KEGGREST_1.38.0        fastmap_1.2.0          httr_1.4.7            \n",
       "[136] survival_3.5-8         glue_1.8.0             FNN_1.1.4.1           \n",
       "[139] iterators_1.0.14       png_0.1-8              bit_4.6.0             \n",
       "[142] stringi_1.8.4          blob_1.2.4             textshaping_0.3.6     \n",
       "[145] memoise_2.0.1          IRkernel_1.3.2         irlba_2.3.5.1         \n",
       "[148] future.apply_1.11.2   "
      ]
     },
     "metadata": {},
     "output_type": "display_data"
    }
   ],
   "source": [
    "sessionInfo()"
   ]
  }
 ],
 "metadata": {
  "kernelspec": {
   "display_name": "user_R",
   "language": "R",
   "name": "user_r"
  },
  "language_info": {
   "codemirror_mode": "r",
   "file_extension": ".r",
   "mimetype": "text/x-r-source",
   "name": "R",
   "pygments_lexer": "r",
   "version": "4.2.2"
  }
 },
 "nbformat": 4,
 "nbformat_minor": 5
}
