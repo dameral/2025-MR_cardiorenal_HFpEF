{
 "cells": [
  {
   "cell_type": "markdown",
   "id": "6de49d5e-d725-45f6-92e1-6831e18d8891",
   "metadata": {},
   "source": [
    "# Load libraries and Themes"
   ]
  },
  {
   "cell_type": "code",
   "execution_count": 4,
   "id": "35d7dba7-aec1-4e24-9702-d0eb6d41a8e3",
   "metadata": {
    "tags": []
   },
   "outputs": [],
   "source": [
    "suppressPackageStartupMessages({\n",
    "    suppressWarnings({\n",
    "        library(Seurat)\n",
    "        library(SeuratDisk)\n",
    "        library(ShinyCell)\n",
    "    })})"
   ]
  },
  {
   "cell_type": "code",
   "execution_count": 5,
   "id": "45ca9734-58b0-4757-af0e-54f362634e87",
   "metadata": {},
   "outputs": [],
   "source": [
    "setwd(\"/media/daten/dmeral/scseq_analysis/2024_LV_CTRL_ALDO_REC\")"
   ]
  },
  {
   "cell_type": "markdown",
   "id": "07052742-dfbb-47e3-ac61-9507525c4848",
   "metadata": {},
   "source": [
    "# make ShinyApp"
   ]
  },
  {
   "cell_type": "code",
   "execution_count": null,
   "id": "aba8f504-4bf2-4db8-9bd5-abde98fa7094",
   "metadata": {
    "scrolled": true
   },
   "outputs": [],
   "source": [
    "obj <- LoadH5Seurat(\"seurat_objects/obj_seu_merge_harmony_sgl_addmodule_rename_CMcomb_onlyprotcod_ccscore.h5seurat\")"
   ]
  },
  {
   "cell_type": "code",
   "execution_count": null,
   "id": "8d73b3a4-bcd2-4cf2-acb0-42c899a871fb",
   "metadata": {},
   "outputs": [],
   "source": [
    "colnames(obj.shiny@meta.data)"
   ]
  },
  {
   "cell_type": "code",
   "execution_count": null,
   "id": "ab22ed1d-140d-4259-9fa5-37dcf3a95cc1",
   "metadata": {},
   "outputs": [],
   "source": [
    "obj.shiny$CellType <- paste(obj.shiny$cell_type_CMcomb)\n",
    "obj.shiny$Treatment <- paste(obj.shiny$treatment)\n",
    "obj.shiny$Sex <- paste(obj.shiny$sex)\n",
    "obj.shiny$SampleID <- paste(obj.shiny$sample_id)"
   ]
  },
  {
   "cell_type": "code",
   "execution_count": null,
   "id": "1df79932-8adb-4900-b5af-409100746741",
   "metadata": {},
   "outputs": [],
   "source": [
    "unique(Reductions(obj.shiny))"
   ]
  },
  {
   "cell_type": "code",
   "execution_count": 10,
   "id": "174a70c8-5013-4dd4-979d-b93f641b844c",
   "metadata": {},
   "outputs": [],
   "source": [
    "# rename and remove embedding keys\n",
    "\n",
    "Key(obj.shiny[[\"umap\"]]) <- \"UMAP_\"\n",
    "Key(obj.shiny[[\"harmony\"]]) <- \"HARMONY_\"\n",
    "Key(obj.shiny[[\"pca\"]]) <- \"PCA_\""
   ]
  },
  {
   "cell_type": "code",
   "execution_count": 11,
   "id": "f822d7e2-1d9c-4553-b9c0-6c33dc0f34ba",
   "metadata": {},
   "outputs": [],
   "source": [
    "obj.shiny[[\"harmony_protein_coding\"]] <- NULL\n",
    "obj.shiny[[\"pca_protein_coding\"]] <- NULL\n",
    "obj.shiny[[\"umap_protein_coding\"]] <- NULL"
   ]
  },
  {
   "cell_type": "code",
   "execution_count": 25,
   "id": "70de47c7-8204-4ac0-807f-30c945ccb294",
   "metadata": {},
   "outputs": [],
   "source": [
    "saveRDS(obj.shiny, \"seurat_objects/obj_shiny.rds\")"
   ]
  },
  {
   "cell_type": "code",
   "execution_count": 7,
   "id": "e952a2ce-fa55-4b3f-98d8-854c9c43bc8c",
   "metadata": {},
   "outputs": [],
   "source": [
    "obj.shiny <- readRDS(\"seurat_objects/obj_shiny.rds\")"
   ]
  },
  {
   "cell_type": "code",
   "execution_count": 8,
   "id": "ce8317e3-7dac-45cd-9ee4-1bf7ba6c8477",
   "metadata": {},
   "outputs": [],
   "source": [
    "# Make a config file\n",
    "scConf <- createConfig(\n",
    "  obj = obj.shiny,                   # Your Seurat object\n",
    "  meta.to.include = c(\"CellType\", \"Treatment\", \"Sex\", \"SampleID\", \"nCount_RNA\", \"nFeature_RNA\", \"percent.mt\"),  # Metadata columns to include\n",
    "  legendCols = 4,                    # Number of columns in categorical metadata legends\n",
    "  maxLevels = 50                     # Max number of levels for categorical metadata\n",
    ")\n",
    "# makeShinyApp(obj.shiny, scConf, gene.mapping = TRUE,\n",
    "              # shiny.title = \"ShinyCell Quick Start\") "
   ]
  },
  {
   "cell_type": "code",
   "execution_count": 18,
   "id": "43b63da1-211c-49bb-85d1-f41f833429e0",
   "metadata": {},
   "outputs": [],
   "source": [
    "makeShinyApp(\n",
    "  obj = obj.shiny,                  # Seurat object or file path to the dataset\n",
    "  scConf = scConf,                  # Configuration data.table generated in Step 1\n",
    "  default.dimred = c(\"UMAP_1\", \"UMAP_2\"),\n",
    "  shiny.footnotes = \"Meral et al. 2025\",\n",
    "  gex.assay = \"RNA\",                # Assay in Seurat object to use (e.g., \"RNA\", \"integrated\")\n",
    "  gex.slot = \"data\",                # Slot in the Seurat assay to use (\"data\" is default for normalized expression)\n",
    "  shiny.title = \"Aldosterone-Based HFpEF and Recovery: snRNA-Sequencing Analysis\",  # Title for the Shiny app\n",
    "  shiny.dir = \"shinyApp_HFpEF\",       # Directory to create the app files\n",
    "  enableSubset = TRUE,              # Enable subsetting cells functionality in the app\n",
    "  defPtSiz = 1.25,                  # Default point size for single cells in plots\n",
    "  default.gene1 = \"Ryr2\",           # Primary default gene to show in feature plots\n",
    "  default.gene2 = \"Tcf21\",          # Secondary default gene for comparison\n",
    "  default.multigene = c(\n",
    "      \"Bank1\", \"Aff3\", \n",
    "      \"Ttn\", \"Ryr2\", \n",
    "      \"Top2a\", \"Mki67\", \n",
    "      \"St6galnac3\", \"Ldb2\", \n",
    "      \"Flt1\", \"Ptprb\",\n",
    "      \"Tmem108\", \"Chrm3\",\n",
    "      \"Reln\", \"Mmrn1\",\n",
    "      \"Pcdh9\", \"Bicc1\", \n",
    "      \"Slc9a9\", \"Mrc1\", \n",
    "      \"Trpc3\", \"Pdgfrb\",\n",
    "      \"Csmd1\", \"Cadm2\", \n",
    "      \"Myh11\", \"Dgkb\", \n",
    "      \"Skap1\", \"Ptprc\"))"
   ]
  },
  {
   "cell_type": "code",
   "execution_count": 28,
   "id": "997cc4a5-6360-40b4-be3b-4fa121cae0c6",
   "metadata": {},
   "outputs": [
    {
     "data": {
      "text/plain": [
       "R version 4.2.2 (2022-10-31)\n",
       "Platform: x86_64-conda-linux-gnu (64-bit)\n",
       "Running under: Ubuntu 22.04.2 LTS\n",
       "\n",
       "Matrix products: default\n",
       "BLAS/LAPACK: /media/daten/dmeral/micromamba/envs/user_R/lib/libopenblasp-r0.3.26.so\n",
       "\n",
       "locale:\n",
       " [1] LC_CTYPE=en_US.UTF-8       LC_NUMERIC=C              \n",
       " [3] LC_TIME=en_US.UTF-8        LC_COLLATE=en_US.UTF-8    \n",
       " [5] LC_MONETARY=en_US.UTF-8    LC_MESSAGES=en_US.UTF-8   \n",
       " [7] LC_PAPER=en_US.UTF-8       LC_NAME=C                 \n",
       " [9] LC_ADDRESS=C               LC_TELEPHONE=C            \n",
       "[11] LC_MEASUREMENT=en_US.UTF-8 LC_IDENTIFICATION=C       \n",
       "\n",
       "attached base packages:\n",
       "[1] grid      stats     graphics  grDevices utils     datasets  methods  \n",
       "[8] base     \n",
       "\n",
       "other attached packages:\n",
       " [1] shiny_1.9.1           ShinyCell_2.1.0       RColorBrewer_1.1-3   \n",
       " [4] readr_2.1.5           glue_1.8.0            gridExtra_2.3        \n",
       " [7] ggplot2_3.5.2         R.utils_2.13.0        R.oo_1.27.1          \n",
       "[10] R.methodsS3_1.8.2     reticulate_1.35.0     hdf5r_1.3.8          \n",
       "[13] Matrix_1.6-5          data.table_1.17.2     SeuratDisk_0.0.0.9021\n",
       "[16] SeuratObject_5.0.1    Seurat_4.4.0         \n",
       "\n",
       "loaded via a namespace (and not attached):\n",
       "  [1] Rtsne_0.17             colorspace_2.1-1       deldir_2.0-4          \n",
       "  [4] ggridges_0.5.6         IRdisplay_1.1          base64enc_0.1-3       \n",
       "  [7] dichromat_2.0-0.1      spatstat.data_3.1-2    leiden_0.4.3.1        \n",
       " [10] listenv_0.9.1          farver_2.1.2           bit64_4.6.0-1         \n",
       " [13] ggrepel_0.9.5          codetools_0.2-19       splines_4.2.2         \n",
       " [16] cachem_1.1.0           polyclip_1.10-6        IRkernel_1.3.2        \n",
       " [19] spam_2.10-0            jsonlite_2.0.0         ica_1.0-3             \n",
       " [22] cluster_2.1.6          png_0.1-8              uwot_0.1.16           \n",
       " [25] sctransform_0.4.1      spatstat.sparse_3.1-0  compiler_4.2.2        \n",
       " [28] httr_1.4.7             fastmap_1.2.0          lazyeval_0.2.2        \n",
       " [31] cli_3.6.5              later_1.3.2            htmltools_0.5.8.1     \n",
       " [34] tools_4.2.2            igraph_2.1.4           dotCall64_1.2         \n",
       " [37] gtable_0.3.6           RANN_2.6.2             reshape2_1.4.4        \n",
       " [40] dplyr_1.1.4            Rcpp_1.0.14            scattermore_1.2       \n",
       " [43] spatstat.univar_3.0-1  vctrs_0.6.5            spatstat.explore_3.3-2\n",
       " [46] nlme_3.1-164           progressr_0.14.0       lmtest_0.9-40         \n",
       " [49] spatstat.random_3.3-2  stringr_1.5.1          globals_0.16.3        \n",
       " [52] mime_0.12              miniUI_0.1.1.1         lifecycle_1.0.4       \n",
       " [55] irlba_2.3.5.1          goftest_1.2-3          future_1.34.0         \n",
       " [58] MASS_7.3-60.0.1        zoo_1.8-12             scales_1.4.0          \n",
       " [61] hms_1.1.3              promises_1.2.1         spatstat.utils_3.1-0  \n",
       " [64] parallel_4.2.2         pbapply_1.7-2          stringi_1.8.4         \n",
       " [67] repr_1.1.6             rlang_1.1.6            pkgconfig_2.0.3       \n",
       " [70] matrixStats_1.5.0      evaluate_1.0.3         lattice_0.22-6        \n",
       " [73] ROCR_1.0-11            purrr_1.0.4            tensor_1.5            \n",
       " [76] patchwork_1.3.0        htmlwidgets_1.6.4      bit_4.6.0             \n",
       " [79] cowplot_1.1.3          tidyselect_1.2.1       parallelly_1.42.0     \n",
       " [82] RcppAnnoy_0.0.22       plyr_1.8.9             magrittr_2.0.3        \n",
       " [85] R6_2.6.1               generics_0.1.3         pbdZMQ_0.3-11         \n",
       " [88] withr_3.0.2            pillar_1.10.2          fitdistrplus_1.2-1    \n",
       " [91] survival_3.5-8         abind_1.4-8            sp_2.2-0              \n",
       " [94] tibble_3.2.1           future.apply_1.11.2    crayon_1.5.3          \n",
       " [97] uuid_1.2-0             KernSmooth_2.23-22     spatstat.geom_3.3-3   \n",
       "[100] plotly_4.10.4          tzdb_0.5.0             digest_0.6.37         \n",
       "[103] xtable_1.8-4           tidyr_1.3.1            httpuv_1.6.14         \n",
       "[106] viridisLite_0.4.2     "
      ]
     },
     "metadata": {},
     "output_type": "display_data"
    }
   ],
   "source": [
    "sessionInfo()"
   ]
  }
 ],
 "metadata": {
  "kernelspec": {
   "display_name": "user_R",
   "language": "R",
   "name": "user_r"
  },
  "language_info": {
   "codemirror_mode": "r",
   "file_extension": ".r",
   "mimetype": "text/x-r-source",
   "name": "R",
   "pygments_lexer": "r",
   "version": "4.2.2"
  }
 },
 "nbformat": 4,
 "nbformat_minor": 5
}
